{
 "cells": [
  {
   "cell_type": "markdown",
   "metadata": {},
   "source": [
    "# Basic Topology\n",
    "<div style=\"text-align: right\"> Axect </div>\n",
    "*****\n",
    "\n",
    "## 1. Image\n",
    "\n",
    "* Definition\n",
    "\n",
    "    * $A,B$ : two sets, $f$ : mapping of $A$ into $B$  \n",
    "    * If $E\\subset A \\, \\rightarrow$  $f(E)$ = image of $E$ under $f$  \n",
    "    * If $E\\subset B \\, \\rightarrow$  $f^{-1}(E)$ = inverse image of $E$ under $f$  \n",
    "\n",
    "    \\* $f(f^{-1}(E)) \\neq E$\n",
    "\n",
    "## 2. Equivalence Relation\n",
    "\n",
    "* Definition\n",
    "\n",
    "$\\sim$ is equivalence relation if  \n",
    ">    1. Reflexive : $A \\sim A$  \n",
    ">    2. Symmetric : $A \\sim B \\, \\rightarrow \\, B \\sim A$  \n",
    ">    3. Transitive : $A \\sim B, \\, B\\sim C\\, \\rightarrow \\, A \\sim C$"
   ]
  },
  {
   "cell_type": "code",
   "execution_count": null,
   "metadata": {
    "collapsed": true
   },
   "outputs": [],
   "source": []
  }
 ],
 "metadata": {
  "kernelspec": {
   "display_name": "Python 3",
   "language": "python",
   "name": "python3"
  },
  "language_info": {
   "codemirror_mode": {
    "name": "ipython",
    "version": 3
   },
   "file_extension": ".py",
   "mimetype": "text/x-python",
   "name": "python",
   "nbconvert_exporter": "python",
   "pygments_lexer": "ipython3",
   "version": "3.6.0"
  }
 },
 "nbformat": 4,
 "nbformat_minor": 2
}
