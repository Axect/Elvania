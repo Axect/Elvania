{
 "cells": [
  {
   "cell_type": "markdown",
   "metadata": {},
   "source": [
    "# Time Crystal Review\n",
    "<div style=\"text-align: right\"> Axect </div> \n",
    "*****\n",
    "## 1. Classical Time Crystals\n",
    "\n",
    "* When a physical solution of a set of equations displays less symmetry than the equations them selves, we say the symmetry is spontaneously broken by that solution.\n",
    "\n",
    "> * Solution : The lowest energy solutions of a time-independent, conservative, classical dynamical system  \n",
    "\n",
    "> * If solution exhibits motion $\\rightarrow$ we will have broken time translation symmetry spontaneously."
   ]
  },
  {
   "cell_type": "code",
   "execution_count": null,
   "metadata": {
    "collapsed": true
   },
   "outputs": [],
   "source": []
  }
 ],
 "metadata": {
  "kernelspec": {
   "display_name": "Python 2",
   "language": "python",
   "name": "python2"
  },
  "language_info": {
   "codemirror_mode": {
    "name": "ipython",
    "version": 2
   },
   "file_extension": ".py",
   "mimetype": "text/x-python",
   "name": "python",
   "nbconvert_exporter": "python",
   "pygments_lexer": "ipython2",
   "version": "2.7.13"
  }
 },
 "nbformat": 4,
 "nbformat_minor": 2
}
