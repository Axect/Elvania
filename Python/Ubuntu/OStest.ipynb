{
 "cells": [
  {
   "cell_type": "code",
   "execution_count": 11,
   "metadata": {
    "collapsed": true
   },
   "outputs": [],
   "source": [
    "import os\n",
    "from subprocess import call\n",
    "from time import sleep"
   ]
  },
  {
   "cell_type": "code",
   "execution_count": 12,
   "metadata": {
    "collapsed": true
   },
   "outputs": [],
   "source": [
    "def slugify(files):\n",
    "    import string\n",
    "    valid_chars = \"-_.()%s%s\" % (string.ascii_letters, string.digits)\n",
    "    files = ''.join(c for c in files if c in valid_chars)\n",
    "    return files\n",
    "\n",
    "def Replace(files):\n",
    "    files=files.replace('(','\\(')\n",
    "    files=files.replace(')','\\)')\n",
    "    return files"
   ]
  },
  {
   "cell_type": "code",
   "execution_count": 14,
   "metadata": {
    "collapsed": false
   },
   "outputs": [
    {
     "name": "stdout",
     "output_type": "stream",
     "text": [
      "['get-pip.py', 'Jupyter Notebook Users Manual.ipynb', 'Youtube.py', 'OStest.ipynb', '.ipynb_checkpoints', '2.txt', 'PIP+upgrade.py', 'youtube_convert.py', '1.txt', 'PIP upgrade.ipynb']\n"
     ]
    }
   ],
   "source": [
    "Q = os.listdir(os.getcwd())\n",
    "print Q"
   ]
  },
  {
   "cell_type": "code",
   "execution_count": 18,
   "metadata": {
    "collapsed": false
   },
   "outputs": [
    {
     "name": "stdout",
     "output_type": "stream",
     "text": [
      "Is it music link list file? \n",
      " 2.txt\n",
      "y/n? y\n"
     ]
    }
   ],
   "source": [
    "for files in Q:\n",
    "    if files.endswith('.txt'):\n",
    "        print \"Is it music link list file? \\n %s\" % files\n",
    "        a = raw_input('y/n? ')\n",
    "        if a == 'y':\n",
    "            templist = open(files,'r')\n",
    "            break\n",
    "        elif a =='n':\n",
    "            continue"
   ]
  },
  {
   "cell_type": "code",
   "execution_count": 19,
   "metadata": {
    "collapsed": true
   },
   "outputs": [],
   "source": [
    "musiclinklist = [line.strip() for line in templist]"
   ]
  },
  {
   "cell_type": "code",
   "execution_count": 20,
   "metadata": {
    "collapsed": false
   },
   "outputs": [
    {
     "data": {
      "text/plain": [
       "['HOHOHO', 'HJIHIHI']"
      ]
     },
     "execution_count": 20,
     "metadata": {},
     "output_type": "execute_result"
    }
   ],
   "source": [
    "musiclinklist"
   ]
  },
  {
   "cell_type": "code",
   "execution_count": null,
   "metadata": {
    "collapsed": true
   },
   "outputs": [],
   "source": []
  }
 ],
 "metadata": {
  "kernelspec": {
   "display_name": "Python 2",
   "language": "python",
   "name": "python2"
  },
  "language_info": {
   "codemirror_mode": {
    "name": "ipython",
    "version": 2
   },
   "file_extension": ".py",
   "mimetype": "text/x-python",
   "name": "python",
   "nbconvert_exporter": "python",
   "pygments_lexer": "ipython2",
   "version": "2.7.12"
  }
 },
 "nbformat": 4,
 "nbformat_minor": 2
}
