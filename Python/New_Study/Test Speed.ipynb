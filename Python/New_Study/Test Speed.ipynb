{
 "cells": [
  {
   "cell_type": "markdown",
   "metadata": {},
   "source": [
    "# Test \\#1 "
   ]
  },
  {
   "cell_type": "code",
   "execution_count": 1,
   "metadata": {
    "collapsed": true
   },
   "outputs": [],
   "source": [
    "import time"
   ]
  },
  {
   "cell_type": "markdown",
   "metadata": {},
   "source": [
    "## Function "
   ]
  },
  {
   "cell_type": "code",
   "execution_count": 2,
   "metadata": {
    "collapsed": true
   },
   "outputs": [],
   "source": [
    "path = '../myfile.csv'"
   ]
  },
  {
   "cell_type": "code",
   "execution_count": 3,
   "metadata": {},
   "outputs": [],
   "source": [
    "def read_length(path):\n",
    "    r = open(path, 'r')\n",
    "    a = []\n",
    "    for line in r:\n",
    "        a.append(len(line))\n",
    "    return a"
   ]
  },
  {
   "cell_type": "markdown",
   "metadata": {},
   "source": [
    "## Iterator "
   ]
  },
  {
   "cell_type": "code",
   "execution_count": 4,
   "metadata": {
    "collapsed": true
   },
   "outputs": [],
   "source": [
    "class ReadLength(object):\n",
    "    def __init__(self, path):\n",
    "        self.path = path\n",
    "    \n",
    "    def __iter__(self):\n",
    "        with open(self.path, 'r') as r:\n",
    "            for line in r:\n",
    "                yield len(line)"
   ]
  },
  {
   "cell_type": "code",
   "execution_count": 5,
   "metadata": {},
   "outputs": [],
   "source": [
    "def count(x):\n",
    "    d = []\n",
    "    for i in x:\n",
    "        d.append(i)\n",
    "    return d"
   ]
  },
  {
   "cell_type": "markdown",
   "metadata": {},
   "source": [
    "## Generator "
   ]
  },
  {
   "cell_type": "code",
   "execution_count": 6,
   "metadata": {
    "collapsed": true
   },
   "outputs": [],
   "source": [
    "def readlength(path):\n",
    "    with open(path) as p:\n",
    "        for line in p:\n",
    "            yield len(line)"
   ]
  },
  {
   "cell_type": "markdown",
   "metadata": {},
   "source": [
    "## Function vs Iterator vs Generator"
   ]
  },
  {
   "cell_type": "code",
   "execution_count": 7,
   "metadata": {},
   "outputs": [],
   "source": [
    "import plotly.plotly as py\n",
    "import plotly.graph_objs as go"
   ]
  },
  {
   "cell_type": "code",
   "execution_count": 8,
   "metadata": {},
   "outputs": [
    {
     "name": "stdout",
     "output_type": "stream",
     "text": [
      "53200\n",
      "0.011927366256713867\n"
     ]
    }
   ],
   "source": [
    "# Function\n",
    "start_time = time.time()\n",
    "a = read_length(path)\n",
    "b = count(a)\n",
    "print(len(b))\n",
    "print(time.time() - start_time)"
   ]
  },
  {
   "cell_type": "code",
   "execution_count": 9,
   "metadata": {},
   "outputs": [
    {
     "name": "stdout",
     "output_type": "stream",
     "text": [
      "53200\n",
      "0.011675834655761719\n"
     ]
    }
   ],
   "source": [
    "# Iterator\n",
    "start_time = time.time()\n",
    "a = ReadLength(path)\n",
    "b = count(a)\n",
    "print(len(b))\n",
    "print(time.time() - start_time)"
   ]
  },
  {
   "cell_type": "code",
   "execution_count": 10,
   "metadata": {},
   "outputs": [
    {
     "name": "stdout",
     "output_type": "stream",
     "text": [
      "53200\n",
      "0.011203765869140625\n"
     ]
    }
   ],
   "source": [
    "# Generator\n",
    "start_time = time.time()\n",
    "a = readlength(path)\n",
    "b = count(a)\n",
    "print(len(b))\n",
    "print(time.time() - start_time)"
   ]
  },
  {
   "cell_type": "code",
   "execution_count": 11,
   "metadata": {
    "collapsed": true
   },
   "outputs": [],
   "source": [
    "def F(path):\n",
    "    # Function\n",
    "    start_time = time.time()\n",
    "    a = read_length(path)\n",
    "    b = count(a)\n",
    "    return (time.time() - start_time)\n",
    "\n",
    "\n",
    "def I(path):\n",
    "    # Iterator\n",
    "    start_time = time.time()\n",
    "    a = ReadLength(path)\n",
    "    b = count(a)\n",
    "    return (time.time() - start_time)\n",
    "\n",
    "\n",
    "def G(path):\n",
    "    # Generator\n",
    "    start_time = time.time()\n",
    "    a = readlength(path)\n",
    "    b = count(a)\n",
    "    return (time.time() - start_time)"
   ]
  },
  {
   "cell_type": "code",
   "execution_count": 14,
   "metadata": {},
   "outputs": [
    {
     "data": {
      "text/html": [
       "<iframe id=\"igraph\" scrolling=\"no\" style=\"border:none;\" seamless=\"seamless\" src=\"https://plot.ly/~Axect/18.embed\" height=\"525px\" width=\"100%\"></iframe>"
      ],
      "text/plain": [
       "<plotly.tools.PlotlyDisplay object>"
      ]
     },
     "execution_count": 14,
     "metadata": {},
     "output_type": "execute_result"
    }
   ],
   "source": [
    "X = [i for i in range(10)]\n",
    "A = []\n",
    "B = []\n",
    "C = []\n",
    "for i in range(10):\n",
    "    A.append(F(path))\n",
    "    B.append(I(path))\n",
    "    C.append(G(path))\n",
    "    \n",
    "trace0 = go.Scatter(\n",
    "    x = X,\n",
    "    y = A,\n",
    "    name = 'Function'\n",
    ")\n",
    "trace1 = go.Scatter(\n",
    "    x = X,\n",
    "    y = B,\n",
    "    name = 'Iterator'\n",
    ")\n",
    "trace2 = go.Scatter(\n",
    "    x = X,\n",
    "    y = C,\n",
    "    name = 'Generator'\n",
    ")\n",
    "data = [trace0, trace1, trace2]\n",
    "py.iplot(data)"
   ]
  },
  {
   "cell_type": "markdown",
   "metadata": {},
   "source": [
    "### Conclusion\n",
    "*****\n",
    "* Iterator & Generator is the most fast method"
   ]
  }
 ],
 "metadata": {
  "kernelspec": {
   "display_name": "Python 3",
   "language": "python",
   "name": "python3"
  },
  "language_info": {
   "codemirror_mode": {
    "name": "ipython",
    "version": 3
   },
   "file_extension": ".py",
   "mimetype": "text/x-python",
   "name": "python",
   "nbconvert_exporter": "python",
   "pygments_lexer": "ipython3",
   "version": "3.6.0"
  }
 },
 "nbformat": 4,
 "nbformat_minor": 2
}
