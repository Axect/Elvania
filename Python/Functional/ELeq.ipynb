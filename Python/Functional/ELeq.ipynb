{
 "cells": [
  {
   "cell_type": "markdown",
   "metadata": {},
   "source": [
    "# Euler Lagrange Equation"
   ]
  },
  {
   "cell_type": "code",
   "execution_count": 1,
   "metadata": {
    "collapsed": true
   },
   "outputs": [],
   "source": [
    "from sympy import *\n",
    "from __future__ import division"
   ]
  },
  {
   "cell_type": "code",
   "execution_count": 2,
   "metadata": {
    "collapsed": true
   },
   "outputs": [],
   "source": [
    "m, g, l , theta, k, t = symbols('m, g, l, theta, k, t')"
   ]
  },
  {
   "cell_type": "code",
   "execution_count": 3,
   "metadata": {
    "collapsed": true
   },
   "outputs": [],
   "source": [
    "def L(x): # Harmonic Oscillator\n",
    "    return 1/2 * m * (diff(x,t)) **2 - 1/2 * k * x ** 2"
   ]
  },
  {
   "cell_type": "code",
   "execution_count": 93,
   "metadata": {
    "collapsed": true
   },
   "outputs": [],
   "source": [
    "class ELeq(object):\n",
    "    \n",
    "    def __init__(self, L, n = 1):\n",
    "        self.L = L\n",
    "        t, x = symbols('t x')\n",
    "        x = x(t)\n",
    "        self.x = x\n",
    "        self.a = diff(self.L(x), diff(x,t)).doit()\n",
    "        self.b = diff(self.L(x), x).doit()\n",
    "        self.a = diff(self.a, t).doit()\n",
    "        self.eq = self.a - self.b\n",
    "        \n",
    "    def sol(self):\n",
    "        self.s = str(dsolve(self.eq, self.x))\n",
    "        self.s = self.s.replace('sqrt(-', 'i*sqrt(')\n",
    "        self.s = self.s.replace('.0', '')\n",
    "        self.s = self.s.replace('t*i', 'i*t')\n",
    "        self.s = self.s.replace('1*i', 'i')\n",
    "        return self.s"
   ]
  },
  {
   "cell_type": "code",
   "execution_count": 94,
   "metadata": {
    "collapsed": false
   },
   "outputs": [
    {
     "data": {
      "text/plain": [
       "'Eq(x(t), C1*exp(-i*t*sqrt(k/m)) + C2*exp(i*t*sqrt(k/m)))'"
      ]
     },
     "execution_count": 94,
     "metadata": {},
     "output_type": "execute_result"
    }
   ],
   "source": [
    "K = ELeq(L)\n",
    "K.sol()"
   ]
  },
  {
   "cell_type": "code",
   "execution_count": 98,
   "metadata": {
    "collapsed": true
   },
   "outputs": [],
   "source": [
    "def L2(x):\n",
    "    x, q, phi, A = symbols('x, q, phi, A')\n",
    "    phi = phi(x)\n",
    "    return 1/2*m*(diff(x,t))**2 - q*phi"
   ]
  },
  {
   "cell_type": "code",
   "execution_count": 81,
   "metadata": {
    "collapsed": false
   },
   "outputs": [],
   "source": [
    "t = Symbol('t')"
   ]
  },
  {
   "cell_type": "code",
   "execution_count": 82,
   "metadata": {
    "collapsed": true
   },
   "outputs": [],
   "source": [
    "x = Function('x')(t)"
   ]
  },
  {
   "cell_type": "code",
   "execution_count": 83,
   "metadata": {
    "collapsed": true
   },
   "outputs": [],
   "source": [
    "phi = Function('phi')(x)"
   ]
  },
  {
   "cell_type": "code",
   "execution_count": 84,
   "metadata": {
    "collapsed": false
   },
   "outputs": [
    {
     "data": {
      "text/plain": [
       "phi(x(t))"
      ]
     },
     "execution_count": 84,
     "metadata": {},
     "output_type": "execute_result"
    }
   ],
   "source": [
    "phi"
   ]
  },
  {
   "cell_type": "code",
   "execution_count": 89,
   "metadata": {
    "collapsed": false
   },
   "outputs": [],
   "source": [
    "class CFD(object):\n",
    "    \n",
    "    def __init__(self, f1, f2): # y = f1(f2(x))\n",
    "        self.f1 = f1\n",
    "        self.f2 = f2\n",
    "        \n",
    "    def __call__(self, x):\n",
    "        return (diff(self.f2,x)*diff(self.f1,self.f2)).doit()"
   ]
  },
  {
   "cell_type": "code",
   "execution_count": 90,
   "metadata": {
    "collapsed": true
   },
   "outputs": [],
   "source": [
    "T = CFD(phi, x)"
   ]
  },
  {
   "cell_type": "code",
   "execution_count": 91,
   "metadata": {
    "collapsed": false
   },
   "outputs": [
    {
     "data": {
      "text/plain": [
       "Derivative(phi(x(t)), x(t))*Derivative(x(t), t)"
      ]
     },
     "execution_count": 91,
     "metadata": {},
     "output_type": "execute_result"
    }
   ],
   "source": [
    "T(t)"
   ]
  },
  {
   "cell_type": "code",
   "execution_count": 92,
   "metadata": {
    "collapsed": false
   },
   "outputs": [
    {
     "data": {
      "text/plain": [
       "Derivative(phi(x(t)), x(t))*Derivative(x(t), t)"
      ]
     },
     "execution_count": 92,
     "metadata": {},
     "output_type": "execute_result"
    }
   ],
   "source": [
    "diff(phi,t).doit()"
   ]
  },
  {
   "cell_type": "code",
   "execution_count": 102,
   "metadata": {
    "collapsed": true
   },
   "outputs": [],
   "source": [
    "q = Symbol('q')\n",
    "f = 1/2 * m * diff(x,t) ** 2 - q * phi"
   ]
  },
  {
   "cell_type": "code",
   "execution_count": 105,
   "metadata": {
    "collapsed": false
   },
   "outputs": [],
   "source": [
    "g = diff(f,diff(x,t))"
   ]
  },
  {
   "cell_type": "code",
   "execution_count": 106,
   "metadata": {
    "collapsed": false
   },
   "outputs": [],
   "source": [
    "h = diff(f,x)"
   ]
  },
  {
   "cell_type": "code",
   "execution_count": 116,
   "metadata": {
    "collapsed": false
   },
   "outputs": [],
   "source": [
    "r = diff(g,t) - h"
   ]
  },
  {
   "cell_type": "code",
   "execution_count": 117,
   "metadata": {
    "collapsed": false
   },
   "outputs": [
    {
     "data": {
      "text/plain": [
       "1.0*m*Derivative(x(t), t, t) + q*Derivative(phi(x(t)), x(t))"
      ]
     },
     "execution_count": 117,
     "metadata": {},
     "output_type": "execute_result"
    }
   ],
   "source": [
    "r"
   ]
  },
  {
   "cell_type": "code",
   "execution_count": null,
   "metadata": {
    "collapsed": true
   },
   "outputs": [],
   "source": []
  }
 ],
 "metadata": {
  "kernelspec": {
   "display_name": "Python 2",
   "language": "python",
   "name": "python2"
  },
  "language_info": {
   "codemirror_mode": {
    "name": "ipython",
    "version": 2
   },
   "file_extension": ".py",
   "mimetype": "text/x-python",
   "name": "python",
   "nbconvert_exporter": "python",
   "pygments_lexer": "ipython2",
   "version": "2.7.12"
  }
 },
 "nbformat": 4,
 "nbformat_minor": 1
}
