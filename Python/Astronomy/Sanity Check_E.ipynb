{
 "cells": [
  {
   "cell_type": "code",
   "execution_count": 1,
   "metadata": {
    "collapsed": false
   },
   "outputs": [],
   "source": [
    "import numpy as np\n",
    "import matplotlib.pyplot as plt"
   ]
  },
  {
   "cell_type": "code",
   "execution_count": 2,
   "metadata": {
    "collapsed": false
   },
   "outputs": [],
   "source": [
    "ga = np.genfromtxt('/home/axect/Desktop/GA2/HW_1_F_group.csv',delimiter=',')\n",
    "ga2 = np.load('/home/axect/Desktop/GA2/HW_2_table.pickle')"
   ]
  },
  {
   "cell_type": "code",
   "execution_count": 3,
   "metadata": {
    "collapsed": false
   },
   "outputs": [],
   "source": [
    "ga3 = np.zeros(shape=(200,12))\n",
    "for i in range(0,len(ga2)):\n",
    "    for j in range(1,len(ga2[0])):\n",
    "        ga3[i][j] = ga2[i][j]\n",
    "classes2=['E', 'S0', 'Sa', 'Sb', 'Sc', 'Sd', 'SBa', 'SBb', 'SBc', 'SBd', 'Irr']"
   ]
  },
  {
   "cell_type": "code",
   "execution_count": 4,
   "metadata": {
    "collapsed": false
   },
   "outputs": [
    {
     "data": {
      "text/plain": [
       "array([[  0.,  10.,  10., ...,  20.,  20.,  20.],\n",
       "       [  0.,  10.,  10., ...,  20.,  10.,  10.],\n",
       "       [  0.,  32.,  31., ...,  31.,  32.,  32.],\n",
       "       ..., \n",
       "       [  0.,  42.,  42., ...,  42.,  42.,  43.],\n",
       "       [  0.,  41.,  20., ...,  41.,  41.,  41.],\n",
       "       [  0.,  33.,  32., ...,  33.,  33.,  33.]])"
      ]
     },
     "execution_count": 4,
     "metadata": {},
     "output_type": "execute_result"
    }
   ],
   "source": [
    "ga3"
   ]
  },
  {
   "cell_type": "code",
   "execution_count": 5,
   "metadata": {
    "collapsed": false
   },
   "outputs": [],
   "source": [
    "ga3 = ga3[:,1:-1]"
   ]
  },
  {
   "cell_type": "code",
   "execution_count": 6,
   "metadata": {
    "collapsed": false
   },
   "outputs": [
    {
     "data": {
      "text/plain": [
       "array([[ 10.,  10.,  20., ...,  20.,  20.,  20.],\n",
       "       [ 10.,  10.,  10., ...,  10.,  20.,  10.],\n",
       "       [ 32.,  31.,  32., ...,  32.,  31.,  32.],\n",
       "       ..., \n",
       "       [ 42.,  42.,  50., ...,  41.,  42.,  42.],\n",
       "       [ 41.,  20.,  41., ...,  41.,  41.,  41.],\n",
       "       [ 33.,  32.,  33., ...,  33.,  33.,  33.]])"
      ]
     },
     "execution_count": 6,
     "metadata": {},
     "output_type": "execute_result"
    }
   ],
   "source": [
    "ga3"
   ]
  },
  {
   "cell_type": "code",
   "execution_count": 7,
   "metadata": {
    "collapsed": false
   },
   "outputs": [
    {
     "data": {
      "text/plain": [
       "array([ 10.,  10.,  20.,  10.,  20.,  10.,  10.,  20.,  20.,  20.])"
      ]
     },
     "execution_count": 7,
     "metadata": {},
     "output_type": "execute_result"
    }
   ],
   "source": [
    "ga3[0]"
   ]
  },
  {
   "cell_type": "code",
   "execution_count": 8,
   "metadata": {
    "collapsed": false
   },
   "outputs": [],
   "source": [
    "ga3_c = np.zeros(shape=(200,1))\n",
    "for i in range(0,len(ga3_c)):\n",
    "    unique,pos = np.unique(ga3[i],return_inverse=True)\n",
    "    counts = np.bincount(pos)\n",
    "    maxpos = counts.argmax()\n",
    "    ga3_c[i] = unique[maxpos]"
   ]
  },
  {
   "cell_type": "markdown",
   "metadata": {},
   "source": [
    "# Sanity check by all data (Oh + All group data)"
   ]
  },
  {
   "cell_type": "code",
   "execution_count": 9,
   "metadata": {
    "collapsed": true
   },
   "outputs": [],
   "source": [
    "ga3_t = np.concatenate((ga3,ga3_c),axis=1)"
   ]
  },
  {
   "cell_type": "code",
   "execution_count": 10,
   "metadata": {
    "collapsed": false
   },
   "outputs": [
    {
     "data": {
      "text/plain": [
       "array([[ 10.,  10.,  20., ...,  20.,  20.,  10.],\n",
       "       [ 10.,  10.,  10., ...,  20.,  10.,  10.],\n",
       "       [ 32.,  31.,  32., ...,  31.,  32.,  31.],\n",
       "       ..., \n",
       "       [ 42.,  42.,  50., ...,  42.,  42.,  42.],\n",
       "       [ 41.,  20.,  41., ...,  41.,  41.,  41.],\n",
       "       [ 33.,  32.,  33., ...,  33.,  33.,  33.]])"
      ]
     },
     "execution_count": 10,
     "metadata": {},
     "output_type": "execute_result"
    }
   ],
   "source": [
    "ga3_t"
   ]
  },
  {
   "cell_type": "code",
   "execution_count": 11,
   "metadata": {
    "collapsed": true
   },
   "outputs": [],
   "source": [
    "ga_t = np.concatenate((ga,ga3_c),axis=1)"
   ]
  },
  {
   "cell_type": "code",
   "execution_count": 12,
   "metadata": {
    "collapsed": false
   },
   "outputs": [
    {
     "data": {
      "text/plain": [
       "array([[ nan,  10.,  10., ...,  20.,  10.,  10.],\n",
       "       [ nan,  10.,  10., ...,  10.,  10.,  10.],\n",
       "       [ nan,  41.,  31., ...,  31.,  31.,  31.],\n",
       "       ..., \n",
       "       [ nan,  43.,  41., ...,  42.,  43.,  42.],\n",
       "       [ nan,  41.,  41., ...,  41.,  41.,  41.],\n",
       "       [ nan,  33.,  42., ...,  33.,  33.,  33.]])"
      ]
     },
     "execution_count": 12,
     "metadata": {},
     "output_type": "execute_result"
    }
   ],
   "source": [
    "ga_t"
   ]
  },
  {
   "cell_type": "code",
   "execution_count": 13,
   "metadata": {
    "collapsed": true
   },
   "outputs": [],
   "source": [
    "matched_us = (ga_t[:,5]==ga_t[:,6]).sum()"
   ]
  },
  {
   "cell_type": "code",
   "execution_count": 14,
   "metadata": {
    "collapsed": false
   },
   "outputs": [
    {
     "data": {
      "text/plain": [
       "166"
      ]
     },
     "execution_count": 14,
     "metadata": {},
     "output_type": "execute_result"
    }
   ],
   "source": [
    "matched_us"
   ]
  },
  {
   "cell_type": "code",
   "execution_count": 15,
   "metadata": {
    "collapsed": false
   },
   "outputs": [
    {
     "name": "stdout",
     "output_type": "stream",
     "text": [
      "126\n",
      "122\n",
      "138\n",
      "130\n",
      "140\n",
      "115\n",
      "167\n",
      "138\n",
      "132\n",
      "141\n"
     ]
    }
   ],
   "source": [
    "for i in range(0,len(ga3_t[0])-1):\n",
    "    locals()[\"matched_\"+str(i)] = (ga3_t[:,i]==ga3_t[:,10]).sum()\n",
    "    print locals()[\"matched_\"+str(i)]"
   ]
  },
  {
   "cell_type": "code",
   "execution_count": 16,
   "metadata": {
    "collapsed": false
   },
   "outputs": [
    {
     "data": {
      "text/plain": [
       "200"
      ]
     },
     "execution_count": 16,
     "metadata": {},
     "output_type": "execute_result"
    }
   ],
   "source": [
    "(ga3_t[:,10]==ga3_c[:,0]).sum()"
   ]
  },
  {
   "cell_type": "code",
   "execution_count": 17,
   "metadata": {
    "collapsed": false
   },
   "outputs": [
    {
     "data": {
      "text/plain": [
       "167"
      ]
     },
     "execution_count": 17,
     "metadata": {},
     "output_type": "execute_result"
    }
   ],
   "source": [
    "(ga3_t[:,6]==ga3_c[:,0]).sum()"
   ]
  },
  {
   "cell_type": "code",
   "execution_count": 18,
   "metadata": {
    "collapsed": true
   },
   "outputs": [],
   "source": [
    "ga3_tempo = ga3_t[:,5]"
   ]
  },
  {
   "cell_type": "code",
   "execution_count": 19,
   "metadata": {
    "collapsed": false
   },
   "outputs": [],
   "source": [
    "ga3_tempo = ga3_tempo.reshape(200,1)"
   ]
  },
  {
   "cell_type": "code",
   "execution_count": 20,
   "metadata": {
    "collapsed": false
   },
   "outputs": [],
   "source": [
    "ga_config = np.concatenate((ga3_tempo,ga3_c),axis=1)"
   ]
  },
  {
   "cell_type": "code",
   "execution_count": 21,
   "metadata": {
    "collapsed": false
   },
   "outputs": [
    {
     "data": {
      "text/plain": [
       "200"
      ]
     },
     "execution_count": 21,
     "metadata": {},
     "output_type": "execute_result"
    }
   ],
   "source": [
    "ga_config2 = np.zeros(shape=(200,1))\n",
    "len(ga_config2)"
   ]
  },
  {
   "cell_type": "code",
   "execution_count": 22,
   "metadata": {
    "collapsed": true
   },
   "outputs": [],
   "source": [
    "classes=[10,20,31,32,33,34,41,42,43,44,50]\n",
    "classes2=['E', 'S0', 'Sa', 'Sb', 'Sc', 'Sd', 'SBa', 'SBb', 'SBc', 'SBd', 'Irr']"
   ]
  },
  {
   "cell_type": "code",
   "execution_count": 23,
   "metadata": {
    "collapsed": false
   },
   "outputs": [],
   "source": [
    "for i in range(0,len(ga_config2)):\n",
    "    ga_config2[i] = (((ga_config[:,0]==ga_config[i,0])\n",
    "                      &(ga_config[:,1]==ga_config[i,1])).sum())\n",
    "\n",
    "ga3_x = np.zeros(shape=(200,1))\n",
    "ga3_y = np.zeros(shape=(200,1))\n",
    "for i in range(0,len(ga_config2)):\n",
    "    for j in range(0,len(classes)):\n",
    "        if ga3_tempo[i] == classes[j]:\n",
    "            ga3_y[i] = j\n",
    "        if ga3_c[i] == classes[j]:\n",
    "            ga3_x[i] = j\n",
    "x=[0,1,2,3,4,5,6,7,8,9,10]\n",
    "y=[0,1,2,3,4,5,6,7,8,9,10]\n",
    "fig = plt.figure()\n",
    "fig.suptitle('Sanity check by all groups data', fontsize=14, fontweight='bold')\n",
    "\n",
    "ax=fig.add_subplot(111)\n",
    "ax.set_xlabel('All groups data')\n",
    "ax.set_ylabel('Our data')\n",
    "ax.plot(x,y,'k--')\n",
    "ax.scatter(ga3_x,ga3_y,s=ga_config2*30,facecolors='none',alpha=0.5)\n",
    "\n",
    "\n",
    "plt.xticks(x,classes2)\n",
    "plt.yticks(y,classes2)\n",
    "plt.show()"
   ]
  },
  {
   "cell_type": "markdown",
   "metadata": {
    "collapsed": false
   },
   "source": [
    "# Sanity check by Oh et al"
   ]
  },
  {
   "cell_type": "code",
   "execution_count": 24,
   "metadata": {
    "collapsed": true
   },
   "outputs": [],
   "source": [
    "ga3_oh = ga3_t[:,0].reshape(200,1)"
   ]
  },
  {
   "cell_type": "code",
   "execution_count": 25,
   "metadata": {
    "collapsed": false
   },
   "outputs": [],
   "source": [
    "Total_bar = np.zeros(shape=(11))\n",
    "for s in range(0,11):\n",
    "    Total_bar[s] = (ga3_tempo==classes[s]).sum()"
   ]
  },
  {
   "cell_type": "code",
   "execution_count": 26,
   "metadata": {
    "collapsed": false
   },
   "outputs": [
    {
     "data": {
      "text/plain": [
       "array([ 50.,  24.,  22.,  24.,  12.,   7.,   9.,  18.,  12.,   2.,  20.])"
      ]
     },
     "execution_count": 26,
     "metadata": {},
     "output_type": "execute_result"
    }
   ],
   "source": [
    "Total_bar"
   ]
  },
  {
   "cell_type": "code",
   "execution_count": 27,
   "metadata": {
    "collapsed": false
   },
   "outputs": [
    {
     "name": "stdout",
     "output_type": "stream",
     "text": [
      "10 38\n",
      "20 6\n",
      "31 3\n",
      "32 10\n",
      "33 7\n",
      "34 0\n",
      "41 3\n",
      "42 6\n",
      "43 4\n",
      "44 1\n",
      "50 5\n"
     ]
    }
   ],
   "source": [
    "for i in classes:\n",
    "    locals()[\"matched_\"+str(i)] = ((ga3_tempo==ga3_oh)&(ga3_tempo==i)).sum()\n",
    "    print i, locals()[\"matched_\"+str(i)]"
   ]
  },
  {
   "cell_type": "code",
   "execution_count": 28,
   "metadata": {
    "collapsed": true
   },
   "outputs": [],
   "source": [
    "ga2_config = np.concatenate((ga3_tempo,ga3_oh),axis=1)\n",
    "ga2_config2 = np.zeros(shape = (200,1))"
   ]
  },
  {
   "cell_type": "code",
   "execution_count": 29,
   "metadata": {
    "collapsed": false
   },
   "outputs": [],
   "source": [
    "for i in range(0,len(ga2_config)):\n",
    "    ga2_config2[i] = (((ga2_config[:,0]==ga2_config[i,0])\n",
    "                       &(ga2_config[:,1]==ga2_config[i,1])).sum())\n",
    "\n",
    "ga3_x2 = np.zeros(shape=(200,1))\n",
    "ga3_y2 = np.zeros(shape=(200,1))\n",
    "for i in range(0,len(ga2_config2)):\n",
    "    for j in range(0,len(classes)):\n",
    "        if ga3_tempo[i] == classes[j]:\n",
    "            ga3_y2[i] = j\n",
    "        if ga3_oh[i] == classes[j]:\n",
    "            ga3_x2[i] = j\n",
    "x=[0,1,2,3,4,5,6,7,8,9,10]\n",
    "y=[0,1,2,3,4,5,6,7,8,9,10]\n",
    "fig2 = plt.figure()\n",
    "fig2.suptitle('Sanity check by Oh et al', fontsize=14, fontweight='bold')\n",
    "\n",
    "ax2=fig2.add_subplot(111)\n",
    "ax2.set_xlabel('Oh et al')\n",
    "ax2.set_ylabel('Our data')\n",
    "ax2.plot(x,y,'k--')\n",
    "ax2.scatter(ga3_x2,ga3_y2,s=ga2_config2*30,facecolors='none',alpha=0.5)\n",
    "\n",
    "plt.xticks(x,classes2)\n",
    "plt.yticks(y,classes2)\n",
    "plt.show()"
   ]
  },
  {
   "cell_type": "code",
   "execution_count": 30,
   "metadata": {
    "collapsed": false
   },
   "outputs": [
    {
     "name": "stdout",
     "output_type": "stream",
     "text": [
      "38\n",
      "6\n",
      "3\n",
      "10\n",
      "7\n",
      "0\n",
      "3\n",
      "6\n",
      "4\n",
      "1\n",
      "5\n"
     ]
    }
   ],
   "source": [
    "for i in classes:\n",
    "    locals()[\"matched_us\"+str(i)] = ((ga3_tempo == i)&(i == ga3_oh)).sum()\n",
    "    print locals()[\"matched_us\"+str(i)]"
   ]
  },
  {
   "cell_type": "code",
   "execution_count": null,
   "metadata": {
    "collapsed": true
   },
   "outputs": [],
   "source": []
  }
 ],
 "metadata": {
  "kernelspec": {
   "display_name": "Python 2",
   "language": "python",
   "name": "python2"
  },
  "language_info": {
   "codemirror_mode": {
    "name": "ipython",
    "version": 2
   },
   "file_extension": ".py",
   "mimetype": "text/x-python",
   "name": "python",
   "nbconvert_exporter": "python",
   "pygments_lexer": "ipython2",
   "version": "2.7.13"
  }
 },
 "nbformat": 4,
 "nbformat_minor": 0
}
