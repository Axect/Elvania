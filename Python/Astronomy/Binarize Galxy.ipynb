{
 "cells": [
  {
   "cell_type": "code",
   "execution_count": 1,
   "metadata": {
    "collapsed": false
   },
   "outputs": [],
   "source": [
    "from cv2 import *\n",
    "import cv2\n",
    "import numpy as np\n",
    "from matplotlib import pyplot as plt\n",
    "from os import listdir\n",
    "from os.path import *\n",
    "import matplotlib.pyplot as plt\n",
    "import scipy.misc\n",
    "from PIL import *"
   ]
  },
  {
   "cell_type": "code",
   "execution_count": 2,
   "metadata": {
    "collapsed": true
   },
   "outputs": [],
   "source": [
    "classes = ['E', 'S0', 'Sa', 'Sb', 'Sc', 'Sd', 'SBa', 'SBb', 'SBc']"
   ]
  },
  {
   "cell_type": "code",
   "execution_count": 3,
   "metadata": {
    "collapsed": true
   },
   "outputs": [],
   "source": [
    "imagepath = ['/home/axect/Desktop/GA2/Train/'+c+'/' for c in classes]"
   ]
  },
  {
   "cell_type": "code",
   "execution_count": 4,
   "metadata": {
    "collapsed": false
   },
   "outputs": [],
   "source": [
    "for n in range(0,9):\n",
    "    locals()[\"individualImagePaths_\"+str(n)] = [ imagepath[n] + f for f in listdir(imagepath[n]) if isfile(join(imagepath[n],f))]\n",
    "    locals()[\"individualImagePaths_\"+str(n)] = sorted(locals()[\"individualImagePaths_\"+str(n)])"
   ]
  },
  {
   "cell_type": "code",
   "execution_count": 5,
   "metadata": {
    "collapsed": false
   },
   "outputs": [
    {
     "data": {
      "text/plain": [
       "'/home/axect/Desktop/GA2/Train/SBc/SBc_33_587736478676091339.jpeg'"
      ]
     },
     "execution_count": 5,
     "metadata": {},
     "output_type": "execute_result"
    }
   ],
   "source": [
    "locals()[\"individualImagePaths_\"+str(8)][1]"
   ]
  },
  {
   "cell_type": "code",
   "execution_count": 6,
   "metadata": {
    "collapsed": false
   },
   "outputs": [
    {
     "data": {
      "text/plain": [
       "['/home/axect/Desktop/GA2/Train/E/E0_10_587727231058903205.jpeg',\n",
       " '/home/axect/Desktop/GA2/Train/E/E1_11_587735239567474751.jpeg',\n",
       " '/home/axect/Desktop/GA2/Train/E/E1_11_587739721383805040.jpeg',\n",
       " '/home/axect/Desktop/GA2/Train/E/E1_11_587742062162280455.jpeg',\n",
       " '/home/axect/Desktop/GA2/Train/E/E1_11_588011122511970328.jpeg',\n",
       " '/home/axect/Desktop/GA2/Train/E/E2_12_587739827676250280.jpeg',\n",
       " '/home/axect/Desktop/GA2/Train/E/E2_12_588017979421556853.jpeg',\n",
       " '/home/axect/Desktop/GA2/Train/E/E3_13_587733609090711718.jpeg',\n",
       " '/home/axect/Desktop/GA2/Train/E/E3_13_588011219136807095.jpeg',\n",
       " '/home/axect/Desktop/GA2/Train/E/E4_14_587734893827457027.jpeg',\n",
       " '/home/axect/Desktop/GA2/Train/E/E4_14_587742575919890586.jpeg']"
      ]
     },
     "execution_count": 6,
     "metadata": {},
     "output_type": "execute_result"
    }
   ],
   "source": [
    "individualImagePaths_0"
   ]
  },
  {
   "cell_type": "code",
   "execution_count": 7,
   "metadata": {
    "collapsed": false
   },
   "outputs": [],
   "source": [
    "for n in range(0,9):\n",
    "    for m in range(0,len(locals()[\"individualImagePaths_\"+str(n)])):\n",
    "        locals()[\"image\"+str(n)+\"_\"+str(m)] = cv2.imread(locals()[\"individualImagePaths_\"+str(n)][m])\n",
    "        locals()[\"image\"+str(n)+\"_\"+str(m)] = cv2.GaussianBlur(locals()[\"image\"+str(n)+\"_\"+str(m)],(5,5),0)\n",
    "        \n",
    "        locals()[\"gray\"+str(n)+\"_\"+str(m)] = cv2.cvtColor(locals()[\"image\"+str(n)+\"_\"+str(m)], cv2.COLOR_BGR2GRAY)\n",
    "        scipy.misc.imsave('/home/axect/Desktop/GA2/Train/gray/'+\"gray\"+str(n)+\"_\"+str(m)+\".png\",locals()[\"gray\"+str(n)+\"_\"+str(m)])"
   ]
  },
  {
   "cell_type": "code",
   "execution_count": null,
   "metadata": {
    "collapsed": true
   },
   "outputs": [],
   "source": []
  }
 ],
 "metadata": {
  "kernelspec": {
   "display_name": "Python 2",
   "language": "python",
   "name": "python2"
  },
  "language_info": {
   "codemirror_mode": {
    "name": "ipython",
    "version": 2
   },
   "file_extension": ".py",
   "mimetype": "text/x-python",
   "name": "python",
   "nbconvert_exporter": "python",
   "pygments_lexer": "ipython2",
   "version": "2.7.10"
  }
 },
 "nbformat": 4,
 "nbformat_minor": 0
}
