{
 "cells": [
  {
   "cell_type": "markdown",
   "metadata": {},
   "source": [
    "# Import"
   ]
  },
  {
   "cell_type": "code",
   "execution_count": 1,
   "metadata": {
    "collapsed": false
   },
   "outputs": [],
   "source": [
    "import numpy as np\n",
    "import scipy as sp\n",
    "from scipy.interpolate import *\n",
    "from numpy import *\n",
    "import matplotlib.pyplot as plt\n",
    "from matplotlib.pyplot import *"
   ]
  },
  {
   "cell_type": "code",
   "execution_count": 2,
   "metadata": {
    "collapsed": false
   },
   "outputs": [],
   "source": [
    "ga = np.genfromtxt('/home/axect/Desktop/GA2/HW_1_F_group.csv',delimiter=',')\n",
    "ga2 = np.load('/home/axect/Desktop/GA2/HW_2_table.pickle')\n",
    "ga3 = np.zeros(shape=(200,12))\n",
    "for i in range(0,len(ga2)):\n",
    "    for j in range(1,len(ga2[0])):\n",
    "        ga3[i][j] = ga2[i][j]\n",
    "ga3 = ga3[:,1:]\n",
    "ga3_c = np.zeros(shape=(200,1))\n",
    "for i in range(0,len(ga3_c)):\n",
    "    unique,pos = np.unique(ga3[i],return_inverse=True)\n",
    "    counts = np.bincount(pos)\n",
    "    maxpos = counts.argmax()\n",
    "    ga3_c[i] = unique[maxpos]\n",
    "ga3_t = np.concatenate((ga3,ga3_c),axis=1)\n",
    "ga3_tempo = ga3_t[:,6].reshape(200,1)\n",
    "ga_config = np.concatenate((ga3_tempo,ga3_c),axis=1)\n",
    "ga3_oh = ga3_t[:,0].reshape(200,1)\n",
    "ga2_config = np.concatenate((ga3_tempo,ga3_oh),axis=1)\n",
    "\n",
    "classes=[10,20,31,32,33,34,41,42,43,44,50]\n",
    "classes2=['E', 'S0', 'Sa', 'Sb', 'Sc', 'Sd', 'SBa', 'SBb', 'SBc', 'SBd', 'Irr']\n",
    "classes3=['E','0','a','b','c','d','Irr']\n",
    "classes4=[-0.5,0,0.5]\n",
    "classes_group=['Oh','A','B','C','D','E','F','G','H','I','J']\n"
   ]
  },
  {
   "cell_type": "code",
   "execution_count": 3,
   "metadata": {
    "collapsed": false
   },
   "outputs": [
    {
     "data": {
      "text/plain": [
       "array([ 10.,  10.,  20.,  10.,  20.,  10.,  10.,  20.,  20.,  20.,  20.])"
      ]
     },
     "execution_count": 3,
     "metadata": {},
     "output_type": "execute_result"
    }
   ],
   "source": [
    "ga3[0]"
   ]
  },
  {
   "cell_type": "markdown",
   "metadata": {},
   "source": [
    "# Obtain Confused Index"
   ]
  },
  {
   "cell_type": "code",
   "execution_count": 4,
   "metadata": {
    "collapsed": false
   },
   "outputs": [
    {
     "name": "stderr",
     "output_type": "stream",
     "text": [
      "/home/axect/.local/lib/python2.7/site-packages/ipykernel/__main__.py:14: RuntimeWarning: invalid value encountered in greater\n",
      "/home/axect/.local/lib/python2.7/site-packages/ipykernel/__main__.py:16: RuntimeWarning: invalid value encountered in less\n"
     ]
    }
   ],
   "source": [
    "for i in classes:\n",
    "    locals()[\"b_\"+str(i)] = 0;\n",
    "    for j in classes:\n",
    "        locals()[\"a_\"+str(i)+\"_\"+str(j)] = 0;\n",
    "for i in range(0,len(ga[:,0])):\n",
    "    for k in classes:\n",
    "        if ga[i][5] == k:\n",
    "            for j in classes:\n",
    "                if j != ga[i][5]:\n",
    "                    locals()[\"a_\"+str(k)+\"_\"+str(j)] =(locals()[\"a_\"+str(k)+\"_\"+str(j)]\n",
    "                                                       + (ga[i]==j).sum())\n",
    "            if k < 40:\n",
    "                locals()[\"b_\"+str(k)] = (locals()[\"b_\"+str(k)]\n",
    "                                         + ((ga[i]>40) & (ga[i]!=50)).sum())\n",
    "            else:\n",
    "                locals()[\"b_\"+str(k)] = locals()[\"b_\"+str(k)] + (ga[i]<40).sum()\n",
    "                \n",
    "Total = np.zeros(shape=(11,11))\n",
    "Total_bar = np.zeros(shape=(11))\n",
    "CONF = np.zeros(shape=(11,11))\n",
    "CONF_bar = np.zeros(shape=(11))\n",
    "Ratio = np.zeros(shape=(11,11))\n",
    "Ratio_bar = np.zeros(shape=(11))\n",
    "for s in range(0,11):\n",
    "    Total_bar[s] = (ga3_tempo==classes[s]).sum()\n",
    "    CONF_bar[s] = locals()[\"b_\"+str(classes[s])]\n",
    "    Ratio_bar[s] = np.around(CONF_bar[s]/Total_bar[s]*100)\n",
    "    for t in range(0,11):\n",
    "        Total[s,t] = (ga[:,5]==classes[s]).sum() + (ga[:,5]==classes[t]).sum()\n",
    "        CONF[s,t] = (locals()[\"a_\"+str(classes[s])+\"_\"+str(classes[t])] \n",
    "                     + locals()[\"a_\"+str(classes[t])+\"_\"+str(classes[s])])\n",
    "        Ratio[s,t] = np.around(CONF[s,t]/Total[s,t]*100)"
   ]
  },
  {
   "cell_type": "code",
   "execution_count": 5,
   "metadata": {
    "collapsed": false
   },
   "outputs": [
    {
     "data": {
      "text/plain": [
       "array([[  0.,  43.,   1.,   0.,   1.,   0.,   2.,   0.,   0.,   0.,   1.],\n",
       "       [ 43.,   0.,  14.,   4.,   0.,   0.,   7.,   2.,   0.,   0.,   1.],\n",
       "       [  1.,  14.,   0.,  22.,  10.,   1.,  18.,   3.,   1.,   0.,   2.],\n",
       "       [  0.,   4.,  22.,   0.,  27.,   5.,   4.,  13.,   6.,   0.,   4.],\n",
       "       [  1.,   0.,  10.,  27.,   0.,   8.,   2.,   8.,   8.,   2.,   3.],\n",
       "       [  0.,   0.,   1.,   5.,   8.,   0.,   0.,   1.,   4.,   7.,   4.],\n",
       "       [  2.,   7.,  18.,   4.,   2.,   0.,   0.,  15.,   6.,   3.,   2.],\n",
       "       [  0.,   2.,   3.,  13.,   8.,   1.,  15.,   0.,  13.,   2.,   0.],\n",
       "       [  0.,   0.,   1.,   6.,   8.,   4.,   6.,  13.,   0.,   5.,   1.],\n",
       "       [  0.,   0.,   0.,   0.,   2.,   7.,   3.,   2.,   5.,   0.,   5.],\n",
       "       [  1.,   1.,   2.,   4.,   3.,   4.,   2.,   0.,   1.,   5.,   0.]])"
      ]
     },
     "execution_count": 5,
     "metadata": {},
     "output_type": "execute_result"
    }
   ],
   "source": [
    "CONF"
   ]
  },
  {
   "cell_type": "code",
   "execution_count": 6,
   "metadata": {
    "collapsed": false
   },
   "outputs": [
    {
     "data": {
      "text/plain": [
       "array([[ 90.,  68.,  68.,  70.,  64.,  53.,  62.,  64.,  56.,  50.,  50.],\n",
       "       [ 68.,  46.,  46.,  48.,  42.,  31.,  40.,  42.,  34.,  28.,  28.],\n",
       "       [ 68.,  46.,  46.,  48.,  42.,  31.,  40.,  42.,  34.,  28.,  28.],\n",
       "       [ 70.,  48.,  48.,  50.,  44.,  33.,  42.,  44.,  36.,  30.,  30.],\n",
       "       [ 64.,  42.,  42.,  44.,  38.,  27.,  36.,  38.,  30.,  24.,  24.],\n",
       "       [ 53.,  31.,  31.,  33.,  27.,  16.,  25.,  27.,  19.,  13.,  13.],\n",
       "       [ 62.,  40.,  40.,  42.,  36.,  25.,  34.,  36.,  28.,  22.,  22.],\n",
       "       [ 64.,  42.,  42.,  44.,  38.,  27.,  36.,  38.,  30.,  24.,  24.],\n",
       "       [ 56.,  34.,  34.,  36.,  30.,  19.,  28.,  30.,  22.,  16.,  16.],\n",
       "       [ 50.,  28.,  28.,  30.,  24.,  13.,  22.,  24.,  16.,  10.,  10.],\n",
       "       [ 50.,  28.,  28.,  30.,  24.,  13.,  22.,  24.,  16.,  10.,  10.]])"
      ]
     },
     "execution_count": 6,
     "metadata": {},
     "output_type": "execute_result"
    }
   ],
   "source": [
    "Total"
   ]
  },
  {
   "cell_type": "code",
   "execution_count": 7,
   "metadata": {
    "collapsed": false
   },
   "outputs": [
    {
     "data": {
      "text/plain": [
       "array([[  0.,  63.,   1.,   0.,   2.,   0.,   3.,   0.,   0.,   0.,   2.],\n",
       "       [ 63.,   0.,  30.,   8.,   0.,   0.,  18.,   5.,   0.,   0.,   4.],\n",
       "       [  1.,  30.,   0.,  46.,  24.,   3.,  45.,   7.,   3.,   0.,   7.],\n",
       "       [  0.,   8.,  46.,   0.,  61.,  15.,  10.,  30.,  17.,   0.,  13.],\n",
       "       [  2.,   0.,  24.,  61.,   0.,  30.,   6.,  21.,  27.,   8.,  12.],\n",
       "       [  0.,   0.,   3.,  15.,  30.,   0.,   0.,   4.,  21.,  54.,  31.],\n",
       "       [  3.,  18.,  45.,  10.,   6.,   0.,   0.,  42.,  21.,  14.,   9.],\n",
       "       [  0.,   5.,   7.,  30.,  21.,   4.,  42.,   0.,  43.,   8.,   0.],\n",
       "       [  0.,   0.,   3.,  17.,  27.,  21.,  21.,  43.,   0.,  31.,   6.],\n",
       "       [  0.,   0.,   0.,   0.,   8.,  54.,  14.,   8.,  31.,   0.,  50.],\n",
       "       [  2.,   4.,   7.,  13.,  12.,  31.,   9.,   0.,   6.,  50.,   0.]])"
      ]
     },
     "execution_count": 7,
     "metadata": {},
     "output_type": "execute_result"
    }
   ],
   "source": [
    "Ratio"
   ]
  },
  {
   "cell_type": "code",
   "execution_count": 8,
   "metadata": {
    "collapsed": false
   },
   "outputs": [
    {
     "data": {
      "text/plain": [
       "array([  1.,   5.,  15.,  11.,  11.,   7.,  12.,  13.,   9.,   4.,   5.])"
      ]
     },
     "execution_count": 8,
     "metadata": {},
     "output_type": "execute_result"
    }
   ],
   "source": [
    "CONF_bar"
   ]
  },
  {
   "cell_type": "code",
   "execution_count": 9,
   "metadata": {
    "collapsed": false
   },
   "outputs": [
    {
     "data": {
      "text/plain": [
       "array([ 45.,  22.,  22.,  26.,  20.,   8.,  17.,  19.,  11.,   5.,   5.])"
      ]
     },
     "execution_count": 9,
     "metadata": {},
     "output_type": "execute_result"
    }
   ],
   "source": [
    "Total_bar"
   ]
  },
  {
   "cell_type": "code",
   "execution_count": 10,
   "metadata": {
    "collapsed": false
   },
   "outputs": [
    {
     "data": {
      "text/plain": [
       "array([   2.,   23.,   68.,   42.,   55.,   88.,   71.,   68.,   82.,\n",
       "         80.,  100.])"
      ]
     },
     "execution_count": 10,
     "metadata": {},
     "output_type": "execute_result"
    }
   ],
   "source": [
    "Ratio_bar"
   ]
  },
  {
   "cell_type": "markdown",
   "metadata": {},
   "source": [
    "# Determine Distance"
   ]
  },
  {
   "cell_type": "markdown",
   "metadata": {},
   "source": [
    "## Obtain Relative Confused index"
   ]
  },
  {
   "cell_type": "code",
   "execution_count": 11,
   "metadata": {
    "collapsed": false
   },
   "outputs": [],
   "source": [
    "conf_rel = np.zeros(shape=(6,1))\n",
    "for i in range(0,len(conf_rel)):\n",
    "    if i == 0:\n",
    "        conf_rel[i] = CONF[i+1,i]\n",
    "    elif i == 1:\n",
    "        conf_rel[i] = CONF[i+1,i] + CONF[i+5,i]\n",
    "    elif i<= 4:\n",
    "        conf_rel[i] = CONF[i+1,i]+CONF[i+5,i+4]\n",
    "    else:\n",
    "        conf_rel[i] = CONF[10,9] + CONF[5,10]"
   ]
  },
  {
   "cell_type": "code",
   "execution_count": 12,
   "metadata": {
    "collapsed": false
   },
   "outputs": [],
   "source": [
    "total_rel = np.zeros(shape=(6,1))\n",
    "for i in range(0,len(total_rel)):\n",
    "    if i == 0:\n",
    "        total_rel[i] = Total[i+1,i]\n",
    "    elif i == 1:\n",
    "        total_rel[i] = Total[i+1,i] + Total[i+5,i] - Total[i,i]/2\n",
    "    elif i<= 4:\n",
    "        total_rel[i] = Total[i+1,i]+ Total[i+5,i+4]\n",
    "    else:\n",
    "        total_rel[i] = Total[10,9] + Total[5,10] - Total[10,10]/2"
   ]
  },
  {
   "cell_type": "code",
   "execution_count": 13,
   "metadata": {
    "collapsed": false
   },
   "outputs": [
    {
     "name": "stdout",
     "output_type": "stream",
     "text": [
      "[[ 43.]\n",
      " [ 21.]\n",
      " [ 37.]\n",
      " [ 40.]\n",
      " [ 13.]\n",
      " [  9.]]\n",
      "[[ 68.]\n",
      " [ 63.]\n",
      " [ 84.]\n",
      " [ 74.]\n",
      " [ 43.]\n",
      " [ 18.]]\n"
     ]
    }
   ],
   "source": [
    "print conf_rel\n",
    "print total_rel"
   ]
  },
  {
   "cell_type": "code",
   "execution_count": 14,
   "metadata": {
    "collapsed": true
   },
   "outputs": [],
   "source": [
    "ratio_rel = conf_rel/total_rel"
   ]
  },
  {
   "cell_type": "code",
   "execution_count": 15,
   "metadata": {
    "collapsed": false
   },
   "outputs": [
    {
     "data": {
      "text/plain": [
       "array([[ 0.63235294],\n",
       "       [ 0.33333333],\n",
       "       [ 0.44047619],\n",
       "       [ 0.54054054],\n",
       "       [ 0.30232558],\n",
       "       [ 0.5       ]])"
      ]
     },
     "execution_count": 15,
     "metadata": {},
     "output_type": "execute_result"
    }
   ],
   "source": [
    "ratio_rel"
   ]
  },
  {
   "cell_type": "code",
   "execution_count": 16,
   "metadata": {
    "collapsed": false
   },
   "outputs": [],
   "source": [
    "confbar_rel = np.zeros(shape=(7,1))\n",
    "for i in range(0,len(confbar_rel)):\n",
    "    if i <= 1:\n",
    "        confbar_rel[i] = CONF_bar[i]\n",
    "    elif i<=5:\n",
    "        confbar_rel[i] = CONF_bar[i] + CONF_bar[i+4]\n",
    "    else:\n",
    "        confbar_rel[i] = CONF_bar[10]"
   ]
  },
  {
   "cell_type": "code",
   "execution_count": 17,
   "metadata": {
    "collapsed": true
   },
   "outputs": [],
   "source": [
    "totalbar_rel = np.zeros(shape=(7,1))\n",
    "for i in range(0,len(totalbar_rel)):\n",
    "    if i <= 1:\n",
    "        totalbar_rel[i] = Total_bar[i]\n",
    "    elif i<=5:\n",
    "        totalbar_rel[i] = Total_bar[i] + Total_bar[i+4]\n",
    "    else:\n",
    "        totalbar_rel[i] = Total_bar[10]"
   ]
  },
  {
   "cell_type": "code",
   "execution_count": 18,
   "metadata": {
    "collapsed": false
   },
   "outputs": [
    {
     "data": {
      "text/plain": [
       "array([[  1.],\n",
       "       [  5.],\n",
       "       [ 27.],\n",
       "       [ 24.],\n",
       "       [ 20.],\n",
       "       [ 11.],\n",
       "       [  5.]])"
      ]
     },
     "execution_count": 18,
     "metadata": {},
     "output_type": "execute_result"
    }
   ],
   "source": [
    "confbar_rel"
   ]
  },
  {
   "cell_type": "code",
   "execution_count": 19,
   "metadata": {
    "collapsed": false
   },
   "outputs": [
    {
     "data": {
      "text/plain": [
       "array([[ 45.],\n",
       "       [ 22.],\n",
       "       [ 39.],\n",
       "       [ 45.],\n",
       "       [ 31.],\n",
       "       [ 13.],\n",
       "       [  5.]])"
      ]
     },
     "execution_count": 19,
     "metadata": {},
     "output_type": "execute_result"
    }
   ],
   "source": [
    "totalbar_rel"
   ]
  },
  {
   "cell_type": "code",
   "execution_count": 20,
   "metadata": {
    "collapsed": true
   },
   "outputs": [],
   "source": [
    "ratiobar_rel = confbar_rel/totalbar_rel"
   ]
  },
  {
   "cell_type": "code",
   "execution_count": 21,
   "metadata": {
    "collapsed": false
   },
   "outputs": [
    {
     "data": {
      "text/plain": [
       "array([[ 0.02222222],\n",
       "       [ 0.22727273],\n",
       "       [ 0.69230769],\n",
       "       [ 0.53333333],\n",
       "       [ 0.64516129],\n",
       "       [ 0.84615385],\n",
       "       [ 1.        ]])"
      ]
     },
     "execution_count": 21,
     "metadata": {},
     "output_type": "execute_result"
    }
   ],
   "source": [
    "ratiobar_rel"
   ]
  },
  {
   "cell_type": "code",
   "execution_count": 22,
   "metadata": {
    "collapsed": true
   },
   "outputs": [],
   "source": [
    "dist_rel = 1-ratio_rel\n",
    "distbar_rel = 1-ratiobar_rel"
   ]
  },
  {
   "cell_type": "code",
   "execution_count": 23,
   "metadata": {
    "collapsed": false
   },
   "outputs": [
    {
     "data": {
      "text/plain": [
       "array([[ 0.36764706],\n",
       "       [ 0.66666667],\n",
       "       [ 0.55952381],\n",
       "       [ 0.45945946],\n",
       "       [ 0.69767442],\n",
       "       [ 0.5       ]])"
      ]
     },
     "execution_count": 23,
     "metadata": {},
     "output_type": "execute_result"
    }
   ],
   "source": [
    "dist_rel"
   ]
  },
  {
   "cell_type": "markdown",
   "metadata": {},
   "source": [
    "## Hangyul's Data"
   ]
  },
  {
   "cell_type": "code",
   "execution_count": 24,
   "metadata": {
    "collapsed": true
   },
   "outputs": [],
   "source": [
    "conf_han = np.array([0.90762, 0.96, 0.616667,0.697368, 0.833333, 0.66667])\n",
    "distbar_rel = 1 - ratiobar_rel\n",
    "dist_rel = conf_han.reshape(6,1)"
   ]
  },
  {
   "cell_type": "code",
   "execution_count": 25,
   "metadata": {
    "collapsed": false
   },
   "outputs": [
    {
     "data": {
      "text/plain": [
       "array([[ 0.90762 ],\n",
       "       [ 0.96    ],\n",
       "       [ 0.616667],\n",
       "       [ 0.697368],\n",
       "       [ 0.833333],\n",
       "       [ 0.66667 ]])"
      ]
     },
     "execution_count": 25,
     "metadata": {},
     "output_type": "execute_result"
    }
   ],
   "source": [
    "dist_rel"
   ]
  },
  {
   "cell_type": "markdown",
   "metadata": {},
   "source": [
    "## Interpolation of distance of bar"
   ]
  },
  {
   "cell_type": "code",
   "execution_count": 26,
   "metadata": {
    "collapsed": false
   },
   "outputs": [
    {
     "name": "stderr",
     "output_type": "stream",
     "text": [
      "/home/axect/.local/lib/python2.7/site-packages/matplotlib/legend.py:633: UserWarning: Legend does not support [<matplotlib.lines.Line2D object at 0x7fa14e200590>] instances.\n",
      "A proxy artist may be used instead.\n",
      "See: http://matplotlib.org/users/legend_guide.html#using-proxy-artist\n",
      "  \"#using-proxy-artist\".format(orig_handle)\n"
     ]
    }
   ],
   "source": [
    "x=np.array([0,1,2,3,4,5,6]).squeeze()\n",
    "x_tem = np.array([0,6]).squeeze()\n",
    "distbar_tem = np.array([distbar_rel[0],distbar_rel[6]]).squeeze()\n",
    "z=np.linspace(0,6,num=101)\n",
    "y_tem=interp1d(x_tem,distbar_tem,kind = 'linear')(z) #Lagrange Interpolation of Distance of bar\n",
    "y=interp1d(x_tem,distbar_tem,kind = 'linear')(x)\n",
    "plt.figure()\n",
    "Interp_Li = plt.plot(z,y_tem, label='Linear Interpolation')\n",
    "Index_bar = plt.scatter(x,distbar_rel, label='Bar index')\n",
    "plt.legend((Interp_Li, Index_bar),('Linear Interpolation','Bar index'),scatterpoints=1)\n",
    "plt.title('Interpolation of distance of bar', fontsize=14, fontweight='bold')\n",
    "plt.xticks(x,classes3)\n",
    "plt.show()"
   ]
  },
  {
   "cell_type": "markdown",
   "metadata": {},
   "source": [
    "## Arrange Points"
   ]
  },
  {
   "cell_type": "code",
   "execution_count": 27,
   "metadata": {
    "collapsed": false
   },
   "outputs": [
    {
     "data": {
      "text/plain": [
       "array([[ 0.90762 ],\n",
       "       [ 0.96    ],\n",
       "       [ 0.616667],\n",
       "       [ 0.697368],\n",
       "       [ 0.833333],\n",
       "       [ 0.66667 ]])"
      ]
     },
     "execution_count": 27,
     "metadata": {},
     "output_type": "execute_result"
    }
   ],
   "source": [
    "dist_rel"
   ]
  },
  {
   "cell_type": "code",
   "execution_count": 28,
   "metadata": {
    "collapsed": false
   },
   "outputs": [
    {
     "data": {
      "text/plain": [
       "array([[ 0.97777778],\n",
       "       [ 0.77272727],\n",
       "       [ 0.30769231],\n",
       "       [ 0.46666667],\n",
       "       [ 0.35483871],\n",
       "       [ 0.15384615],\n",
       "       [ 0.        ]])"
      ]
     },
     "execution_count": 28,
     "metadata": {},
     "output_type": "execute_result"
    }
   ],
   "source": [
    "distbar_rel"
   ]
  },
  {
   "cell_type": "markdown",
   "metadata": {},
   "source": [
    "### Our Data"
   ]
  },
  {
   "cell_type": "code",
   "execution_count": 29,
   "metadata": {
    "collapsed": false
   },
   "outputs": [
    {
     "name": "stdout",
     "output_type": "stream",
     "text": [
      "[ 0.]\n",
      "[ 0.90762]\n",
      "[ 1.86762]\n",
      "[ 2.484287]\n",
      "[ 3.181655]\n",
      "[ 4.014988]\n",
      "[ 4.681658]\n"
     ]
    }
   ],
   "source": [
    "ga3_x = np.zeros(shape=(200,1))\n",
    "ga3_y = np.zeros(shape=(200,1))\n",
    "d=np.zeros(shape=[7,1])\n",
    "for j in range(0,len(classes3)):\n",
    "    if j==0:\n",
    "        d[j]=0\n",
    "        print d[j]\n",
    "    elif j<=5:\n",
    "        d[j]=d[j-1]+dist_rel[j-1]\n",
    "        print d[j]\n",
    "    else:\n",
    "        d[6] = d[5] + dist_rel[5]\n",
    "        print d[6]\n",
    "\n",
    "d_tem = np.array([d[0],d[6]]).squeeze()\n",
    "db_tem = distbar_tem*17/45\n",
    "\n",
    "for i in range(0,len(ga3_tempo)):\n",
    "    for j in range(0,len(classes)):\n",
    "        if j==0:\n",
    "            if ga3_tempo[i] == classes[j]:\n",
    "                ga3_x[i] = d[0]\n",
    "                ga3_y[i] = -interp1d(d_tem, db_tem)(d[0])\n",
    "        elif j<=5:\n",
    "            if ga3_tempo[i] == classes[j]:\n",
    "                ga3_x[i] = d[j]\n",
    "                ga3_y[i] = -interp1d(d_tem, db_tem)(d[j])\n",
    "        elif j<10:\n",
    "            if ga3_tempo[i] == classes[j]:\n",
    "                ga3_x[i] = d[j-4]\n",
    "                ga3_y[i] = +interp1d(d_tem, db_tem)(d[j-4])\n",
    "        else:\n",
    "            if ga3_tempo[i] == classes[j]:\n",
    "                ga3_x[i]=d[6]\n",
    "                ga3_y[i]=interp1d(d_tem, db_tem)(d[6])\n",
    "\n",
    "ga_config3 = np.zeros(shape=(200,1))\n",
    "for i in range(0,len(ga_config3)):\n",
    "    ga_config3[i] = (ga3_tempo==ga3_tempo[i]).sum()\n",
    "fig = plt.figure()\n",
    "fig.suptitle('Rearrange our points', fontsize=14, fontweight='bold')\n",
    "ax=fig.add_subplot(111)\n",
    "ax.set_xlabel('Morphology')\n",
    "ax.set_ylabel('Bar')\n",
    "ax.scatter(ga3_x,ga3_y,s=ga_config3*15,facecolor='none',edgecolor='red',alpha=0.25,label='Our data')\n",
    "ax.legend(loc='upper right',scatterpoints=1)\n",
    "plt.xticks(d.squeeze(),classes3)\n",
    "plt.axis([-0.4, 5, -1, 1])\n",
    "plt.show()"
   ]
  },
  {
   "cell_type": "markdown",
   "metadata": {},
   "source": [
    "### Oh's data"
   ]
  },
  {
   "cell_type": "code",
   "execution_count": 30,
   "metadata": {
    "collapsed": true
   },
   "outputs": [],
   "source": [
    "ga3_x2 = np.zeros(shape=(200,1))\n",
    "ga3_y2 = np.zeros(shape=(200,1))\n",
    "\n",
    "for i in range(0,len(ga3_tempo)):\n",
    "    for j in range(0,len(classes)):\n",
    "        if j==0:\n",
    "            if ga3_oh[i] == classes[j]:\n",
    "                ga3_x2[i] = d[0]\n",
    "                ga3_y2[i] = -interp1d(d_tem, db_tem)(d[0])\n",
    "        elif j<=5:\n",
    "            if ga3_oh[i] == classes[j]:\n",
    "                d[j] = d[j-1] + dist_rel[j-1]\n",
    "                ga3_x2[i] = d[j]\n",
    "                ga3_y2[i] = -interp1d(d_tem, db_tem)(d[j])\n",
    "        elif j<10:\n",
    "            if ga3_oh[i] == classes[j]:\n",
    "                ga3_x2[i] = d[j-4]\n",
    "                ga3_y2[i] = +interp1d(d_tem, db_tem)(d[j-4])\n",
    "        else:\n",
    "            if ga3_oh[i] == classes[j]:\n",
    "                d[6] = d[5] + dist_rel[5]\n",
    "                ga3_x2[i]=d[6]\n",
    "                ga3_y2[i]=interp1d(d_tem, db_tem)(d[6])\n",
    "ga2_config3 = np.zeros(shape=(200,1))\n",
    "for i in range(0,len(ga_config3)):\n",
    "    ga2_config3[i] = (ga3_oh==ga3_oh[i]).sum()"
   ]
  },
  {
   "cell_type": "code",
   "execution_count": 31,
   "metadata": {
    "collapsed": false
   },
   "outputs": [],
   "source": [
    "fig = plt.figure()\n",
    "fig.suptitle('Rearrange points', fontsize=14, fontweight='bold')\n",
    "ax=fig.add_subplot(111)\n",
    "ax.set_xlabel('Morphology')\n",
    "ax.set_ylabel('Bar')\n",
    "ax.scatter(ga3_x,ga3_y,s=ga_config3*15,facecolor='none',edgecolors='red',alpha=0.25,label='Our data')\n",
    "ax.scatter(ga3_x2,ga3_y2,s=ga2_config3*15,facecolor='none',edgecolors='blue',alpha=0.25,label='Oh et al')\n",
    "ax.legend(loc='upper right',scatterpoints=1)\n",
    "plt.xticks(d.squeeze(),classes3)\n",
    "plt.axis([-0.4, 5, -1, 1])\n",
    "plt.show()"
   ]
  },
  {
   "cell_type": "markdown",
   "metadata": {},
   "source": [
    "### All Groups data"
   ]
  },
  {
   "cell_type": "code",
   "execution_count": 32,
   "metadata": {
    "collapsed": false
   },
   "outputs": [],
   "source": [
    "for i in range(0,len(ga3[0])):\n",
    "    locals()[\"ga3_x_\"+str(i)] = np.zeros(shape=(200,1))\n",
    "    locals()[\"ga3_y_\"+str(i)] = np.zeros(shape=(200,1))\n",
    "\n",
    "for k in range(0,len(ga3[0])):\n",
    "    for i in range(0,len(ga3_tempo)):\n",
    "        for j in range(0,len(classes)):\n",
    "            if j==0:\n",
    "                if ga3[i,k] == classes[j]:\n",
    "                    locals()[\"ga3_x_\"+str(k)][i] = d[0]\n",
    "                    locals()[\"ga3_y_\"+str(k)][i] = -interp1d(d_tem, db_tem)(d[0])\n",
    "            elif j<=5:\n",
    "                if ga3[i,k] == classes[j]:\n",
    "                    d[j] = d[j-1] + dist_rel[j-1]\n",
    "                    locals()[\"ga3_x_\"+str(k)][i] = d[j]\n",
    "                    locals()[\"ga3_y_\"+str(k)][i] = -interp1d(d_tem, db_tem)(d[j])\n",
    "            elif j<10:\n",
    "                if ga3[i,k] == classes[j]:\n",
    "                    locals()[\"ga3_x_\"+str(k)][i] = d[j-4]\n",
    "                    locals()[\"ga3_y_\"+str(k)][i] = +interp1d(d_tem, db_tem)(d[j-4])\n",
    "            else:\n",
    "                if ga3[i,k] == classes[j]:\n",
    "                    d[6] = d[5] + dist_rel[5]\n",
    "                    locals()[\"ga3_x_\"+str(k)][i]=d[6]\n",
    "                    locals()[\"ga3_y_\"+str(k)][i]=interp1d(d_tem, db_tem)(d[6])\n",
    "for k in range(0,len(ga3[0])):\n",
    "    locals()[\"config_\"+str(k)] = np.zeros(shape=(200,1))\n",
    "    for i in range(0,len(ga3_tempo)):\n",
    "        locals()[\"config_\"+str(k)][i] = (ga3[:,k]==ga3[i,k]).sum()"
   ]
  },
  {
   "cell_type": "markdown",
   "metadata": {},
   "source": [
    "# Matching data"
   ]
  },
  {
   "cell_type": "markdown",
   "metadata": {},
   "source": [
    "## The number of matched data"
   ]
  },
  {
   "cell_type": "code",
   "execution_count": 33,
   "metadata": {
    "collapsed": false
   },
   "outputs": [
    {
     "name": "stdout",
     "output_type": "stream",
     "text": [
      "44\n",
      "14\n",
      "6\n",
      "12\n",
      "15\n",
      "2\n",
      "3\n",
      "6\n",
      "4\n",
      "1\n",
      "1\n"
     ]
    }
   ],
   "source": [
    "for i in classes:\n",
    "    locals()[\"matched_\"+str(i)] = ((ga3_tempo==ga3_oh)&(ga3_tempo==i)).sum()\n",
    "    print locals()[\"matched_\"+str(i)]"
   ]
  },
  {
   "cell_type": "markdown",
   "metadata": {},
   "source": [
    "## Our data to Oh et al for each types"
   ]
  },
  {
   "cell_type": "code",
   "execution_count": 34,
   "metadata": {
    "collapsed": false
   },
   "outputs": [],
   "source": [
    "ga3_set = np.concatenate((ga3_x,ga3_y),axis=1)\n",
    "ga3_set2 = np.concatenate((ga3_x2,ga3_y2),axis=1)"
   ]
  },
  {
   "cell_type": "code",
   "execution_count": 35,
   "metadata": {
    "collapsed": false
   },
   "outputs": [
    {
     "name": "stdout",
     "output_type": "stream",
     "text": [
      "0.00936712070609\n",
      "0.0369430549722\n",
      "0.0544035095412\n",
      "0.0477674257375\n",
      "0.0168856800679\n",
      "0.0232499395586\n",
      "0.0492741366912\n",
      "0.042382993582\n",
      "0.0204192940902\n",
      "0.0142845616465\n",
      "0.0294113556693\n"
     ]
    }
   ],
   "source": [
    "for j in classes:\n",
    "    locals()[\"total_\"+str(j)] = 0;\n",
    "    for i in range(0,len(ga3_x)):\n",
    "        if ga3_tempo[i,0]==j:\n",
    "            locals()[\"total_\"+str(j)] = (locals()[\"total_\"+str(j)] \n",
    "                                         + sqrt((ga3_set[i,0] - ga3_set2[i,0])**2 + (ga3_set[i,1]-ga3_set2[i,1])**2))\n",
    "    locals()[\"mean_\"+str(j)] = locals()[\"total_\"+str(j)]/200;\n",
    "    print locals()[\"mean_\"+str(j)]"
   ]
  },
  {
   "cell_type": "markdown",
   "metadata": {},
   "source": [
    "## All groups data to oh et al"
   ]
  },
  {
   "cell_type": "code",
   "execution_count": 36,
   "metadata": {
    "collapsed": false
   },
   "outputs": [
    {
     "name": "stdout",
     "output_type": "stream",
     "text": [
      "Oh 0.0\n",
      "A 0.511687081715\n",
      "B 0.3449409896\n",
      "C 0.362472323201\n",
      "D 0.347588218029\n",
      "E 0.568113984341\n",
      "F 0.344389072263\n",
      "G 0.388583085553\n",
      "H 0.421787147536\n",
      "I 0.360581448875\n",
      "J 0.269728797459\n"
     ]
    }
   ],
   "source": [
    "for k in range(0,len(ga3[0])):\n",
    "    locals()[\"ga3_set_\"+str(k)] = np.concatenate((locals()[\"ga3_x_\"+str(k)],locals()[\"ga3_y_\"+str(k)]),axis=1)\n",
    "    locals()[\"total_d_\"+str(k)] = 0\n",
    "    for i in range(0,len(ga3_x)):\n",
    "        locals()[\"total_d_\"+str(k)] = (locals()[\"total_d_\"+str(k)] + sqrt((locals()[\"ga3_set_\"+str(k)][i,0] - ga3_set2[i,0])**2\n",
    "                                                                         + (locals()[\"ga3_set_\"+str(k)][i,1] - ga3_set2[i,1])**2))\n",
    "    locals()[\"mean_d_\"+str(k)] = locals()[\"total_d_\"+str(k)]/200\n",
    "    print classes_group[k], locals()[\"mean_d_\"+str(k)]"
   ]
  },
  {
   "cell_type": "markdown",
   "metadata": {
    "collapsed": true
   },
   "source": [
    "## All groups data to Oh et al for each types"
   ]
  },
  {
   "cell_type": "code",
   "execution_count": 37,
   "metadata": {
    "collapsed": false
   },
   "outputs": [],
   "source": [
    "for k in range(0,len(classes_group)):\n",
    "    for j in classes:\n",
    "        locals()[\"total_\"+str(classes_group[k])+str(j)] = 0\n",
    "        for i in range(0,len(ga3_x)):\n",
    "            if ga3[i,k]==j:\n",
    "                locals()[\"total_\"+str(classes_group[k])+str(j)] = (locals()[\"total_\"+str(classes_group[k])+str(j)]\n",
    "                                                                   + sqrt(((locals()[\"ga3_set_\"+str(k)][i,0] - ga3_set2[i,0])**2 + (locals()[\"ga3_set_\"+str(k)][i,1]-ga3_set2[i,1])**2)))\n",
    "        locals()[\"mean_\"+str(classes_group[k])+str(j)] = locals()[\"total_\"+str(classes_group[k])+str(j)]/200"
   ]
  },
  {
   "cell_type": "code",
   "execution_count": 38,
   "metadata": {
    "collapsed": false
   },
   "outputs": [
    {
     "name": "stdout",
     "output_type": "stream",
     "text": [
      "10 Oh 0.0\n",
      "10 A 0.0514414832175\n",
      "10 B 0.01365661017\n",
      "10 C 0.0457847478262\n",
      "10 D 0.0275759342661\n",
      "10 E 0.0822523798689\n",
      "10 F 0.00936712070609\n",
      "10 G 0.00455220339002\n",
      "10 H 0.021564444795\n",
      "10 I 0.0275759342661\n",
      "10 J 0.0182088135601\n",
      "20 Oh 0.0\n",
      "20 A 0.121008972632\n",
      "20 B 0.0469537175269\n",
      "20 C 0.0182088135601\n",
      "20 D 0.0795465167102\n",
      "20 E 0.102882966435\n",
      "20 F 0.0369430549722\n",
      "20 G 0.0556772963844\n",
      "20 H 0.116199255302\n",
      "20 I 0.0621258449283\n",
      "20 J 0.0366803410462\n",
      "31 Oh 0.0\n",
      "31 A 0.105258309267\n",
      "31 B 0.0470654731253\n",
      "31 C 0.0420318403056\n",
      "31 D 0.0482176749234\n",
      "31 E 0.0794486430174\n",
      "31 F 0.0544035095412\n",
      "31 G 0.064616978606\n",
      "31 H 0.0522851494438\n",
      "31 I 0.0413242375833\n",
      "31 J 0.0258829348894\n",
      "32 Oh 0.0\n",
      "32 A 0.0585121830787\n",
      "32 B 0.0580714863653\n",
      "32 C 0.0160063847149\n",
      "32 D 0.0470202608875\n",
      "32 E 0.0449120024496\n",
      "32 F 0.0477674257375\n",
      "32 G 0.0243609293975\n",
      "32 H 0.0425000864663\n",
      "32 I 0.0439877952055\n",
      "32 J 0.0157244304943\n",
      "33 Oh 0.0\n",
      "33 A 0.0203833563792\n",
      "33 B 0.0313387129729\n",
      "33 C 0.0215668584253\n",
      "33 D 0.0116765309801\n",
      "33 E 0.0128600330262\n",
      "33 F 0.0168856800679\n",
      "33 G 0.0151742072914\n",
      "33 H 0.0152270371185\n",
      "33 I 0.035311547161\n",
      "33 J 0.0163577093375\n",
      "34 Oh 0.0\n",
      "34 A 0.0130648446491\n",
      "34 B 0.0485407552175\n",
      "34 C 0.0850441441618\n",
      "34 D 0.0379866839971\n",
      "34 E 0.0410746641785\n",
      "34 F 0.0232499395586\n",
      "34 G 0.0550150424802\n",
      "34 H 0.0200621655147\n",
      "34 I 0.0444579120956\n",
      "34 J 0.018390356005\n",
      "41 Oh 0.0\n",
      "41 A 0.0123716692356\n",
      "41 B 0.0256114771818\n",
      "41 C 0.0314630820676\n",
      "41 D 0.0264527330985\n",
      "41 E 0.0196971002716\n",
      "41 F 0.0492741366912\n",
      "41 G 0.0683383148297\n",
      "41 H 0.0473638136268\n",
      "41 I 0.0250102929605\n",
      "41 J 0.0392993938563\n",
      "42 Oh 0.0\n",
      "42 A 0.0455987156727\n",
      "42 B 0.0310138761726\n",
      "42 C 0.0337162688653\n",
      "42 D 0.0569073814552\n",
      "42 E 0.0406492683331\n",
      "42 F 0.042382993582\n",
      "42 G 0.0425057983638\n",
      "42 H 0.0478661235495\n",
      "42 I 0.0344189735156\n",
      "42 J 0.0493178945778\n",
      "43 Oh 0.0\n",
      "43 A 0.0174883815566\n",
      "43 B 0.02748826715\n",
      "43 C 0.0200145350878\n",
      "43 D 0.0122045017104\n",
      "43 E 0.0288272731526\n",
      "43 F 0.0204192940902\n",
      "43 G 0.0167132839953\n",
      "43 H 0.0469423146175\n",
      "43 I 0.0244808788429\n",
      "43 J 0.0213208419157\n",
      "44 Oh 0.0\n",
      "44 A 0.0187574543527\n",
      "44 B 0.00417961405391\n",
      "44 C 0.00820329285263\n",
      "44 D 0.0\n",
      "44 E 0.000526002487385\n",
      "44 F 0.0142845616465\n",
      "44 G 0.0272643218513\n",
      "44 H 0.00425343374931\n",
      "44 I 0.0\n",
      "44 J 0.0210227584237\n",
      "50 Oh 0.0\n",
      "50 A 0.0478017116744\n",
      "50 B 0.0110209996643\n",
      "50 C 0.0404323553337\n",
      "50 D 0.0\n",
      "50 E 0.114983651121\n",
      "50 F 0.0294113556693\n",
      "50 G 0.0143647089634\n",
      "50 H 0.00752332335298\n",
      "50 I 0.0218880323164\n",
      "50 J 0.00752332335298\n"
     ]
    }
   ],
   "source": [
    "for j in classes:\n",
    "    for k in range(0,len(classes_group)):\n",
    "        print j, classes_group[k], locals()[\"mean_\"+str(classes_group[k])+str(j)]"
   ]
  },
  {
   "cell_type": "code",
   "execution_count": null,
   "metadata": {
    "collapsed": true
   },
   "outputs": [],
   "source": []
  }
 ],
 "metadata": {
  "kernelspec": {
   "display_name": "Python 2",
   "language": "python",
   "name": "python2"
  },
  "language_info": {
   "codemirror_mode": {
    "name": "ipython",
    "version": 2
   },
   "file_extension": ".py",
   "mimetype": "text/x-python",
   "name": "python",
   "nbconvert_exporter": "python",
   "pygments_lexer": "ipython2",
   "version": "2.7.13"
  }
 },
 "nbformat": 4,
 "nbformat_minor": 0
}
