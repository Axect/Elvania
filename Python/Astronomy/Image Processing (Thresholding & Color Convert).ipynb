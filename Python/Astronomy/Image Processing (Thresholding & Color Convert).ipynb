{
 "cells": [
  {
   "cell_type": "markdown",
   "metadata": {},
   "source": [
    "# Using Open CV"
   ]
  },
  {
   "cell_type": "code",
   "execution_count": 1,
   "metadata": {
    "collapsed": false
   },
   "outputs": [],
   "source": [
    "from cv2 import *\n",
    "import cv2\n",
    "import numpy as np\n",
    "from matplotlib import pyplot as plt\n",
    "from os import listdir\n",
    "from os.path import *\n",
    "import os\n",
    "import matplotlib.pyplot as plt\n",
    "from matplotlib.image import imsave\n",
    "from PIL import *"
   ]
  },
  {
   "cell_type": "code",
   "execution_count": 2,
   "metadata": {
    "collapsed": true
   },
   "outputs": [],
   "source": [
    "classes=['E','S0','Sa','Sb','Sc','Sd','SBa','SBb','SBc']"
   ]
  },
  {
   "cell_type": "markdown",
   "metadata": {},
   "source": [
    "# Making Image Path"
   ]
  },
  {
   "cell_type": "code",
   "execution_count": 3,
   "metadata": {
    "collapsed": false
   },
   "outputs": [],
   "source": [
    "imagepath = ['/home/axect/Desktop/GA2/Train/'+c+'/' for c in classes]\n",
    "imagepath2 = '/home/axect/Desktop/GA2/image/'"
   ]
  },
  {
   "cell_type": "code",
   "execution_count": 4,
   "metadata": {
    "collapsed": false
   },
   "outputs": [],
   "source": [
    "for n in range(0,9):\n",
    "    locals()[\"individualImagePaths_\"+str(n)] = [ imagepath[n] + f for f in listdir(imagepath[n]) if isfile(join(imagepath[n],f))]\n",
    "    locals()[\"individualImagePaths_\"+str(n)] = sorted(locals()[\"individualImagePaths_\"+str(n)])"
   ]
  },
  {
   "cell_type": "code",
   "execution_count": 7,
   "metadata": {
    "collapsed": false
   },
   "outputs": [],
   "source": [
    "IndividualImagePaths=[imagepath2 + f for f in listdir(imagepath2) if isfile(join(imagepath2,f))]\n",
    "IndividualImagePaths=sorted(IndividualImagePaths)"
   ]
  },
  {
   "cell_type": "code",
   "execution_count": 9,
   "metadata": {
    "collapsed": false
   },
   "outputs": [
    {
     "data": {
      "text/plain": [
       "'/home/axect/Desktop/GA2/image/1001_588017991237435745.jpeg'"
      ]
     },
     "execution_count": 9,
     "metadata": {},
     "output_type": "execute_result"
    }
   ],
   "source": [
    "IndividualImagePaths[0]"
   ]
  },
  {
   "cell_type": "markdown",
   "metadata": {},
   "source": [
    "# Test Processing"
   ]
  },
  {
   "cell_type": "code",
   "execution_count": 10,
   "metadata": {
    "collapsed": false
   },
   "outputs": [],
   "source": [
    "img = cv2.imread(individualImagePaths_7[0])\n",
    "ret,thr = cv2.threshold(img,40,255,cv2.THRESH_TOZERO)\n",
    "img1 = cv2.cvtColor(img,cv2.COLOR_BGR2GRAY)\n",
    "dst = cv2.cvtColor(thr,cv2.COLOR_BGR2GRAY)\n",
    "\n",
    "fig = plt.figure()\n",
    "plt.subplot(121),plt.imshow(img1)\n",
    "plt.subplot(122),plt.imshow(dst)\n",
    "plt.show()\n",
    "fig.savefig('Hi.png', dpi=fig.dpi)"
   ]
  },
  {
   "cell_type": "markdown",
   "metadata": {},
   "source": [
    "# Processing for Training"
   ]
  },
  {
   "cell_type": "code",
   "execution_count": 11,
   "metadata": {
    "collapsed": false
   },
   "outputs": [
    {
     "name": "stderr",
     "output_type": "stream",
     "text": [
      "/home/axect/.local/lib/python2.7/site-packages/matplotlib/pyplot.py:516: RuntimeWarning: More than 20 figures have been opened. Figures created through the pyplot interface (`matplotlib.pyplot.figure`) are retained until explicitly closed and may consume too much memory. (To control this warning, see the rcParam `figure.max_open_warning`).\n",
      "  max_open_warning, RuntimeWarning)\n"
     ]
    }
   ],
   "source": [
    "for n in range(0,9):\n",
    "    for m in range(0,len(locals()[\"individualImagePaths_\"+str(n)])):\n",
    "        locals()[\"image\"+str(n)+\"_\"+str(m)] = cv2.imread(locals()[\"individualImagePaths_\"+str(n)][m])\n",
    "        ret,locals()[\"Thr\"+str(n)+\"_\"+str(m)] = cv2.threshold(locals()[\"image\"+str(n)+\"_\"+str(m)],40,255,cv2.THRESH_TOZERO)\n",
    "        locals()[\"gray\"+str(n)+\"_\"+str(m)] = cv2.cvtColor(locals()[\"Thr\"+str(n)+\"_\"+str(m)], cv2.COLOR_BGR2GRAY)\n",
    "        fig = plt.figure()\n",
    "        plt.imshow(locals()[\"gray\"+str(n)+\"_\"+str(m)])\n",
    "        if n==0:\n",
    "            imsave('/home/axect/Desktop/GA2/Train/gray/E/'+\"E\"+str(n)+\"_\"+str(m)+\".png\",locals()[\"gray\"+str(n)+\"_\"+str(m)], dpi=fig.dpi)\n",
    "        if n==1:\n",
    "            imsave('/home/axect/Desktop/GA2/Train/gray/S0/'+\"S0\"+str(n)+\"_\"+str(m)+\".png\",locals()[\"gray\"+str(n)+\"_\"+str(m)], dpi=fig.dpi)\n",
    "        if n==2:\n",
    "            imsave('/home/axect/Desktop/GA2/Train/gray/Sa/'+\"Sa\"+str(n)+\"_\"+str(m)+\".png\",locals()[\"gray\"+str(n)+\"_\"+str(m)], dpi=fig.dpi)\n",
    "        if n==3:\n",
    "            imsave('/home/axect/Desktop/GA2/Train/gray/Sb/'+\"Sb\"+str(n)+\"_\"+str(m)+\".png\",locals()[\"gray\"+str(n)+\"_\"+str(m)], dpi=fig.dpi)\n",
    "        if n==4:\n",
    "            imsave('/home/axect/Desktop/GA2/Train/gray/Sc/'+\"Sc\"+str(n)+\"_\"+str(m)+\".png\",locals()[\"gray\"+str(n)+\"_\"+str(m)], dpi=fig.dpi)\n",
    "        if n==5:\n",
    "            imsave('/home/axect/Desktop/GA2/Train/gray/Sd/'+\"Sd\"+str(n)+\"_\"+str(m)+\".png\",locals()[\"gray\"+str(n)+\"_\"+str(m)], dpi=fig.dpi)\n",
    "        if n==6:\n",
    "            imsave('/home/axect/Desktop/GA2/Train/gray/SBa/'+\"SBa\"+str(n)+\"_\"+str(m)+\".png\",locals()[\"gray\"+str(n)+\"_\"+str(m)], dpi=fig.dpi)\n",
    "        if n==7:\n",
    "            imsave('/home/axect/Desktop/GA2/Train/gray/SBb/'+\"SBb\"+str(n)+\"_\"+str(m)+\".png\",locals()[\"gray\"+str(n)+\"_\"+str(m)], dpi=fig.dpi)\n",
    "        if n==8:\n",
    "            imsave('/home/axect/Desktop/GA2/Train/gray/SBc/'+\"SBc\"+str(n)+\"_\"+str(m)+\".png\",locals()[\"gray\"+str(n)+\"_\"+str(m)], dpi=fig.dpi)"
   ]
  },
  {
   "cell_type": "markdown",
   "metadata": {},
   "source": [
    "# Processing Data"
   ]
  },
  {
   "cell_type": "code",
   "execution_count": 13,
   "metadata": {
    "collapsed": true
   },
   "outputs": [],
   "source": [
    "for i in range(0,len(locals()[\"IndividualImagePaths\"])):\n",
    "    locals()[\"Image\"+\"_\"+str(i)]=cv2.imread(IndividualImagePaths[i])\n",
    "    ret,locals()[\"Thre\"+\"_\"+str(i)]=cv2.threshold(locals()[\"Image\"+\"_\"+str(i)],40,255,cv2.THRESH_TOZERO)\n",
    "    locals()[\"Gray\"+\"_\"+str(i)]=cv2.cvtColor(locals()[\"Thre\"+\"_\"+str(i)],cv2.COLOR_BGR2GRAY)\n",
    "    fig2 = plt.figure()\n",
    "    plt.imshow(locals()[\"Gray\"+\"_\"+str(i)])\n",
    "    imsave('/home/axect/Desktop/GA2/Iimage/'+\"Conv\"+str(i+1)+\".png\",locals()[\"Gray\"+\"_\"+str(i)], dpi=fig2.dpi)"
   ]
  },
  {
   "cell_type": "code",
   "execution_count": null,
   "metadata": {
    "collapsed": true
   },
   "outputs": [],
   "source": []
  }
 ],
 "metadata": {
  "kernelspec": {
   "display_name": "Python 2",
   "language": "python",
   "name": "python2"
  },
  "language_info": {
   "codemirror_mode": {
    "name": "ipython",
    "version": 2
   },
   "file_extension": ".py",
   "mimetype": "text/x-python",
   "name": "python",
   "nbconvert_exporter": "python",
   "pygments_lexer": "ipython2",
   "version": "2.7.10"
  }
 },
 "nbformat": 4,
 "nbformat_minor": 0
}
