{
 "cells": [
  {
   "cell_type": "code",
   "execution_count": 1,
   "metadata": {
    "collapsed": false
   },
   "outputs": [],
   "source": [
    "import numpy as np\n",
    "import matplotlib.pyplot as plt"
   ]
  },
  {
   "cell_type": "code",
   "execution_count": 2,
   "metadata": {
    "collapsed": false
   },
   "outputs": [],
   "source": [
    "ga = np.genfromtxt('/home/axect/Desktop/GA2/HW_1_F_group.csv',delimiter=',')\n",
    "ga2 = np.load('/home/axect/Desktop/GA2/HW_2_table.pickle')"
   ]
  },
  {
   "cell_type": "code",
   "execution_count": 3,
   "metadata": {
    "collapsed": false
   },
   "outputs": [],
   "source": [
    "ga3 = np.zeros(shape=(200,12))\n",
    "for i in range(0,len(ga2)):\n",
    "    for j in range(1,len(ga2[0])):\n",
    "        ga3[i][j] = ga2[i][j]"
   ]
  },
  {
   "cell_type": "code",
   "execution_count": 4,
   "metadata": {
    "collapsed": false
   },
   "outputs": [
    {
     "data": {
      "text/plain": [
       "array([[ nan,  10.,  10., ...,  20.,  10.,  10.],\n",
       "       [ nan,  10.,  10., ...,  10.,  10.,  10.],\n",
       "       [ nan,  41.,  31., ...,  31.,  31.,  31.],\n",
       "       ..., \n",
       "       [ nan,  43.,  41., ...,  42.,  43.,  42.],\n",
       "       [ nan,  41.,  41., ...,  41.,  41.,  41.],\n",
       "       [ nan,  33.,  42., ...,  33.,  33.,  33.]])"
      ]
     },
     "execution_count": 4,
     "metadata": {},
     "output_type": "execute_result"
    }
   ],
   "source": [
    "ga"
   ]
  },
  {
   "cell_type": "code",
   "execution_count": 5,
   "metadata": {
    "collapsed": false
   },
   "outputs": [],
   "source": [
    "ga0=ga[:,6]"
   ]
  },
  {
   "cell_type": "code",
   "execution_count": 6,
   "metadata": {
    "collapsed": false
   },
   "outputs": [
    {
     "data": {
      "text/plain": [
       "array([[  0.,  10.,  10., ...,  20.,  20.,  20.],\n",
       "       [  0.,  10.,  10., ...,  20.,  10.,  10.],\n",
       "       [  0.,  32.,  31., ...,  31.,  32.,  32.],\n",
       "       ..., \n",
       "       [  0.,  42.,  42., ...,  42.,  42.,  43.],\n",
       "       [  0.,  41.,  20., ...,  41.,  41.,  41.],\n",
       "       [  0.,  33.,  32., ...,  33.,  33.,  33.]])"
      ]
     },
     "execution_count": 6,
     "metadata": {},
     "output_type": "execute_result"
    }
   ],
   "source": [
    "ga3"
   ]
  },
  {
   "cell_type": "code",
   "execution_count": 7,
   "metadata": {
    "collapsed": false
   },
   "outputs": [],
   "source": [
    "ga3 = ga3[:,1:-1]"
   ]
  },
  {
   "cell_type": "code",
   "execution_count": 8,
   "metadata": {
    "collapsed": false
   },
   "outputs": [
    {
     "data": {
      "text/plain": [
       "array([[ 10.,  10.,  20., ...,  20.,  20.,  20.],\n",
       "       [ 10.,  10.,  10., ...,  10.,  20.,  10.],\n",
       "       [ 32.,  31.,  32., ...,  32.,  31.,  32.],\n",
       "       ..., \n",
       "       [ 42.,  42.,  50., ...,  41.,  42.,  42.],\n",
       "       [ 41.,  20.,  41., ...,  41.,  41.,  41.],\n",
       "       [ 33.,  32.,  33., ...,  33.,  33.,  33.]])"
      ]
     },
     "execution_count": 8,
     "metadata": {},
     "output_type": "execute_result"
    }
   ],
   "source": [
    "ga3"
   ]
  },
  {
   "cell_type": "code",
   "execution_count": 9,
   "metadata": {
    "collapsed": false
   },
   "outputs": [
    {
     "data": {
      "text/plain": [
       "array([ 10.,  10.,  20.,  10.,  20.,  10.,  10.,  20.,  20.,  20.])"
      ]
     },
     "execution_count": 9,
     "metadata": {},
     "output_type": "execute_result"
    }
   ],
   "source": [
    "ga3[0]"
   ]
  },
  {
   "cell_type": "code",
   "execution_count": 10,
   "metadata": {
    "collapsed": false
   },
   "outputs": [],
   "source": [
    "ga3_c = np.zeros(shape=(200,1))\n",
    "for i in range(0,len(ga3_c)):\n",
    "    unique,pos = np.unique(ga3[i],return_inverse=True)\n",
    "    counts = np.bincount(pos)\n",
    "    maxpos = counts.argmax()\n",
    "    ga3_c[i] = unique[maxpos]"
   ]
  },
  {
   "cell_type": "markdown",
   "metadata": {},
   "source": [
    "# Sanity check by all data (Oh + All group data)"
   ]
  },
  {
   "cell_type": "code",
   "execution_count": 11,
   "metadata": {
    "collapsed": true
   },
   "outputs": [],
   "source": [
    "ga3_t = np.concatenate((ga3,ga3_c),axis=1)"
   ]
  },
  {
   "cell_type": "code",
   "execution_count": 12,
   "metadata": {
    "collapsed": false
   },
   "outputs": [
    {
     "data": {
      "text/plain": [
       "array([[ 10.,  10.,  20., ...,  20.,  20.,  10.],\n",
       "       [ 10.,  10.,  10., ...,  20.,  10.,  10.],\n",
       "       [ 32.,  31.,  32., ...,  31.,  32.,  31.],\n",
       "       ..., \n",
       "       [ 42.,  42.,  50., ...,  42.,  42.,  42.],\n",
       "       [ 41.,  20.,  41., ...,  41.,  41.,  41.],\n",
       "       [ 33.,  32.,  33., ...,  33.,  33.,  33.]])"
      ]
     },
     "execution_count": 12,
     "metadata": {},
     "output_type": "execute_result"
    }
   ],
   "source": [
    "ga3_t"
   ]
  },
  {
   "cell_type": "code",
   "execution_count": 13,
   "metadata": {
    "collapsed": true
   },
   "outputs": [],
   "source": [
    "ga_t = np.concatenate((ga,ga3_c),axis=1)"
   ]
  },
  {
   "cell_type": "code",
   "execution_count": 14,
   "metadata": {
    "collapsed": false
   },
   "outputs": [
    {
     "data": {
      "text/plain": [
       "array([[ nan,  10.,  10., ...,  10.,  10.,  10.],\n",
       "       [ nan,  10.,  10., ...,  10.,  10.,  10.],\n",
       "       [ nan,  41.,  31., ...,  31.,  31.,  31.],\n",
       "       ..., \n",
       "       [ nan,  43.,  41., ...,  43.,  42.,  42.],\n",
       "       [ nan,  41.,  41., ...,  41.,  41.,  41.],\n",
       "       [ nan,  33.,  42., ...,  33.,  33.,  33.]])"
      ]
     },
     "execution_count": 14,
     "metadata": {},
     "output_type": "execute_result"
    }
   ],
   "source": [
    "ga_t"
   ]
  },
  {
   "cell_type": "code",
   "execution_count": 15,
   "metadata": {
    "collapsed": false
   },
   "outputs": [
    {
     "data": {
      "text/plain": [
       "array([ nan,  10.,  10.,  20.,  20.,  10.,  10.,  10.])"
      ]
     },
     "execution_count": 15,
     "metadata": {},
     "output_type": "execute_result"
    }
   ],
   "source": [
    "ga_t[0]"
   ]
  },
  {
   "cell_type": "code",
   "execution_count": 16,
   "metadata": {
    "collapsed": true
   },
   "outputs": [],
   "source": [
    "matched_us = (ga_t[:,5]==ga_t[:,7]).sum()\n",
    "matched_ma = (ga_t[:,6]==ga_t[:,7]).sum()"
   ]
  },
  {
   "cell_type": "code",
   "execution_count": 17,
   "metadata": {
    "collapsed": false
   },
   "outputs": [
    {
     "name": "stdout",
     "output_type": "stream",
     "text": [
      "166\n",
      "142\n"
     ]
    }
   ],
   "source": [
    "print(matched_us); print(matched_ma)"
   ]
  },
  {
   "cell_type": "code",
   "execution_count": 18,
   "metadata": {
    "collapsed": false
   },
   "outputs": [
    {
     "name": "stdout",
     "output_type": "stream",
     "text": [
      "126\n",
      "122\n",
      "138\n",
      "130\n",
      "140\n",
      "115\n",
      "167\n",
      "138\n",
      "132\n",
      "141\n"
     ]
    }
   ],
   "source": [
    "for i in range(0,len(ga3_t[0])-1):\n",
    "    locals()[\"matched_\"+str(i)] = (ga3_t[:,i]==ga3_t[:,10]).sum()\n",
    "    print locals()[\"matched_\"+str(i)]"
   ]
  },
  {
   "cell_type": "code",
   "execution_count": 19,
   "metadata": {
    "collapsed": false
   },
   "outputs": [
    {
     "data": {
      "text/plain": [
       "200"
      ]
     },
     "execution_count": 19,
     "metadata": {},
     "output_type": "execute_result"
    }
   ],
   "source": [
    "(ga3_t[:,10]==ga3_c[:,0]).sum()"
   ]
  },
  {
   "cell_type": "code",
   "execution_count": 20,
   "metadata": {
    "collapsed": false
   },
   "outputs": [
    {
     "data": {
      "text/plain": [
       "167"
      ]
     },
     "execution_count": 20,
     "metadata": {},
     "output_type": "execute_result"
    }
   ],
   "source": [
    "(ga3_t[:,6]==ga3_c[:,0]).sum()"
   ]
  },
  {
   "cell_type": "code",
   "execution_count": 21,
   "metadata": {
    "collapsed": true
   },
   "outputs": [],
   "source": [
    "ga3_tempo = ga3_t[:,6]"
   ]
  },
  {
   "cell_type": "code",
   "execution_count": 22,
   "metadata": {
    "collapsed": false
   },
   "outputs": [],
   "source": [
    "ga3_tempo = ga3_tempo.reshape(200,1)"
   ]
  },
  {
   "cell_type": "code",
   "execution_count": 23,
   "metadata": {
    "collapsed": false
   },
   "outputs": [],
   "source": [
    "ga_config = np.concatenate((ga3_tempo,ga3_c),axis=1)"
   ]
  },
  {
   "cell_type": "code",
   "execution_count": 24,
   "metadata": {
    "collapsed": false
   },
   "outputs": [
    {
     "data": {
      "text/plain": [
       "200"
      ]
     },
     "execution_count": 24,
     "metadata": {},
     "output_type": "execute_result"
    }
   ],
   "source": [
    "ga_config2 = np.zeros(shape=(200,1))\n",
    "len(ga_config2)"
   ]
  },
  {
   "cell_type": "code",
   "execution_count": 25,
   "metadata": {
    "collapsed": true
   },
   "outputs": [],
   "source": [
    "classes=[10,20,31,32,33,34,41,42,43,44,50]\n",
    "classes2=['E', 'S0', 'Sa', 'Sb', 'Sc', 'Sd', 'SBa', 'SBb', 'SBc', 'SBd', 'Irr']"
   ]
  },
  {
   "cell_type": "code",
   "execution_count": 26,
   "metadata": {
    "collapsed": false
   },
   "outputs": [],
   "source": [
    "for i in range(0,len(ga_config2)):\n",
    "    ga_config2[i] = (((ga_config[:,0]==ga_config[i,0])\n",
    "                      &(ga_config[:,1]==ga_config[i,1])).sum())\n",
    "\n",
    "ga3_x = np.zeros(shape=(200,1))\n",
    "ga3_y = np.zeros(shape=(200,1))\n",
    "for i in range(0,len(ga_config2)):\n",
    "    for j in range(0,len(classes)):\n",
    "        if ga3_tempo[i] == classes[j]:\n",
    "            ga3_y[i] = j\n",
    "        if ga3_c[i] == classes[j]:\n",
    "            ga3_x[i] = j\n",
    "x=[0,1,2,3,4,5,6,7,8,9,10]\n",
    "y=[0,1,2,3,4,5,6,7,8,9,10]\n",
    "fig = plt.figure()\n",
    "fig.suptitle('Sanity check by all groups data', fontsize=14, fontweight='bold')\n",
    "\n",
    "ax=fig.add_subplot(111)\n",
    "ax.set_xlabel('All groups data')\n",
    "ax.set_ylabel('Our data')\n",
    "ax.plot(x,y,'k--')\n",
    "ax.scatter(ga3_x,ga3_y,s=ga_config2*30,facecolors='none',alpha=0.5)\n",
    "\n",
    "percentage2=ga_config2/2\n",
    "percentage2=np.reshape(percentage2,200)\n",
    "percentage2=percentage2.astype(int)\n",
    "\n",
    "for i, txt in enumerate(percentage2):\n",
    "    if percentage2[i]>5:\n",
    "        ax.annotate('{}%'.format(txt),(ga3_x[i],ga3_y[i]),  ha='center',va='center',size=8)\n",
    "\n",
    "plt.xticks(x,classes2)\n",
    "plt.yticks(y,classes2)\n",
    "plt.show()"
   ]
  },
  {
   "cell_type": "markdown",
   "metadata": {},
   "source": [
    "# Sanity Check Image Processing (All Groups)"
   ]
  },
  {
   "cell_type": "code",
   "execution_count": 27,
   "metadata": {
    "collapsed": true
   },
   "outputs": [],
   "source": [
    "ga0_tempo = ga_t[:,6]\n",
    "ga0_tempo = ga0_tempo.reshape(200,1)\n",
    "ga0_config = np.concatenate((ga0_tempo,ga3_c),axis=1)"
   ]
  },
  {
   "cell_type": "code",
   "execution_count": 28,
   "metadata": {
    "collapsed": true
   },
   "outputs": [],
   "source": [
    "ga0_config2=np.zeros(shape=(200,1))"
   ]
  },
  {
   "cell_type": "code",
   "execution_count": 29,
   "metadata": {
    "collapsed": false
   },
   "outputs": [],
   "source": [
    "for i in range(0,len(ga0_config2)):\n",
    "    ga0_config2[i] = (((ga0_config[:,0]==ga0_config[i,0])\n",
    "                      &(ga0_config[:,1]==ga0_config[i,1])).sum())\n",
    "\n",
    "ga0_x = np.zeros(shape=(200,1))\n",
    "ga0_y = np.zeros(shape=(200,1))\n",
    "for i in range(0,len(ga0_config2)):\n",
    "    for j in range(0,len(classes)):\n",
    "        if ga0_tempo[i] == classes[j]:\n",
    "            ga0_y[i] = j\n",
    "        if ga3_c[i] == classes[j]:\n",
    "            ga0_x[i] = j\n",
    "x=[0,1,2,3,4,5,6,7,8,9,10]\n",
    "y=[0,1,2,3,4,5,6,7,8,9,10]\n",
    "fig = plt.figure()\n",
    "fig.suptitle('Sanity check Image Processing vs all groups data', fontsize=14, fontweight='bold')\n",
    "\n",
    "ax=fig.add_subplot(111)\n",
    "ax.set_xlabel('All groups data')\n",
    "ax.set_ylabel('Our data')\n",
    "ax.plot(x,y,'k--')\n",
    "ax.scatter(ga0_x,ga0_y,s=ga0_config2*30,facecolors='none',alpha=0.5)\n",
    "\n",
    "percentage0=ga0_config2/2\n",
    "percentage0=np.reshape(percentage0,200)\n",
    "percentage0=percentage0.astype(int)\n",
    "\n",
    "for i, txt in enumerate(percentage0):\n",
    "    if percentage0[i]>5:\n",
    "        ax.annotate('{}%'.format(txt),(ga0_x[i],ga0_y[i]),  ha='center',va='center',size=8)\n",
    "\n",
    "plt.xticks(x,classes2)\n",
    "plt.yticks(y,classes2)\n",
    "plt.show()"
   ]
  },
  {
   "cell_type": "markdown",
   "metadata": {
    "collapsed": false
   },
   "source": [
    "# Sanity check by Oh et al"
   ]
  },
  {
   "cell_type": "code",
   "execution_count": 30,
   "metadata": {
    "collapsed": true
   },
   "outputs": [],
   "source": [
    "ga3_oh = ga3_t[:,0].reshape(200,1)"
   ]
  },
  {
   "cell_type": "code",
   "execution_count": 31,
   "metadata": {
    "collapsed": false
   },
   "outputs": [
    {
     "name": "stdout",
     "output_type": "stream",
     "text": [
      "108\n",
      "156\n"
     ]
    }
   ],
   "source": [
    "matched2_us = (ga3_tempo==ga3_oh).sum()\n",
    "matched2_ma = (ga0_tempo==ga3_oh).sum()\n",
    "print matched2_us; print matched2_ma"
   ]
  },
  {
   "cell_type": "code",
   "execution_count": 32,
   "metadata": {
    "collapsed": true
   },
   "outputs": [],
   "source": [
    "ga2_config = np.concatenate((ga3_tempo,ga3_oh),axis=1)\n",
    "ga2_config2 = np.zeros(shape = (200,1))"
   ]
  },
  {
   "cell_type": "code",
   "execution_count": 33,
   "metadata": {
    "collapsed": true
   },
   "outputs": [],
   "source": [
    "for i in range(0,len(ga2_config)):\n",
    "    ga2_config2[i] = (((ga2_config[:,0]==ga2_config[i,0])\n",
    "                       &(ga2_config[:,1]==ga2_config[i,1])).sum())\n",
    "\n",
    "ga3_x2 = np.zeros(shape=(200,1))\n",
    "ga3_y2 = np.zeros(shape=(200,1))\n",
    "for i in range(0,len(ga2_config2)):\n",
    "    for j in range(0,len(classes)):\n",
    "        if ga3_tempo[i] == classes[j]:\n",
    "            ga3_y2[i] = j\n",
    "        if ga3_oh[i] == classes[j]:\n",
    "            ga3_x2[i] = j\n",
    "x=[0,1,2,3,4,5,6,7,8,9,10]\n",
    "y=[0,1,2,3,4,5,6,7,8,9,10]\n",
    "fig2 = plt.figure()\n",
    "fig2.suptitle('Sanity check by Oh et al', fontsize=14, fontweight='bold')\n",
    "\n",
    "ax2=fig2.add_subplot(111)\n",
    "ax2.set_xlabel('Oh et al')\n",
    "ax2.set_ylabel('Our data')\n",
    "ax2.plot(x,y,'k--')\n",
    "ax2.scatter(ga3_x2,ga3_y2,s=ga2_config2*30,facecolors='none',alpha=0.5)\n",
    "\n",
    "percentage2=ga2_config2/2\n",
    "percentage2=np.reshape(percentage2,200)\n",
    "percentage2=percentage2.astype(int)\n",
    "\n",
    "for i, txt in enumerate(percentage2):\n",
    "    if percentage2[i]>3:\n",
    "        ax2.annotate('{}%'.format(txt),(ga3_x2[i],ga3_y2[i]),  ha='center',va='center',size=8)\n",
    "\n",
    "plt.xticks(x,classes2)\n",
    "plt.yticks(y,classes2)\n",
    "plt.show()"
   ]
  },
  {
   "cell_type": "code",
   "execution_count": 34,
   "metadata": {
    "collapsed": false
   },
   "outputs": [
    {
     "name": "stdout",
     "output_type": "stream",
     "text": [
      "44\n",
      "14\n",
      "6\n",
      "12\n",
      "15\n",
      "2\n",
      "3\n",
      "6\n",
      "4\n",
      "1\n",
      "1\n"
     ]
    }
   ],
   "source": [
    "for i in classes:\n",
    "    locals()[\"matched_us\"+str(i)] = ((ga3_tempo == i)&(i == ga3_oh)).sum()\n",
    "    print locals()[\"matched_us\"+str(i)]"
   ]
  },
  {
   "cell_type": "markdown",
   "metadata": {
    "collapsed": true
   },
   "source": [
    "# Sanity Check Image Processing (Oh et al)"
   ]
  },
  {
   "cell_type": "code",
   "execution_count": 35,
   "metadata": {
    "collapsed": true
   },
   "outputs": [],
   "source": [
    "ga1_config = np.concatenate((ga0_tempo,ga3_oh),axis=1)\n",
    "ga1_config2 = np.zeros(shape = (200,1))"
   ]
  },
  {
   "cell_type": "code",
   "execution_count": 36,
   "metadata": {
    "collapsed": true
   },
   "outputs": [],
   "source": [
    "for i in range(0,len(ga1_config)):\n",
    "    ga1_config2[i] = (((ga1_config[:,0]==ga1_config[i,0])\n",
    "                       &(ga1_config[:,1]==ga1_config[i,1])).sum())\n",
    "\n",
    "ga0_x2 = np.zeros(shape=(200,1))\n",
    "ga0_y2 = np.zeros(shape=(200,1))\n",
    "for i in range(0,len(ga1_config2)):\n",
    "    for j in range(0,len(classes)):\n",
    "        if ga0_tempo[i] == classes[j]:\n",
    "            ga0_y2[i] = j\n",
    "        if ga3_oh[i] == classes[j]:\n",
    "            ga0_x2[i] = j\n",
    "x=[0,1,2,3,4,5,6,7,8,9,10]\n",
    "y=[0,1,2,3,4,5,6,7,8,9,10]\n",
    "fig2 = plt.figure()\n",
    "fig2.suptitle('Sanity check Image Processing vs Oh et al', fontsize=14, fontweight='bold')\n",
    "\n",
    "ax2=fig2.add_subplot(111)\n",
    "ax2.set_xlabel('Oh et al')\n",
    "ax2.set_ylabel('Our data')\n",
    "ax2.plot(x,y,'k--')\n",
    "ax2.scatter(ga0_x2,ga0_y2,s=ga1_config2*30,facecolors='none',alpha=0.5)\n",
    "\n",
    "percentage2=ga1_config2/2\n",
    "percentage2=np.reshape(percentage2,200)\n",
    "percentage2=percentage2.astype(int)\n",
    "\n",
    "for i, txt in enumerate(percentage2):\n",
    "    if percentage2[i]>3:\n",
    "        ax2.annotate('{}%'.format(txt),(ga0_x2[i],ga0_y2[i]),  ha='center',va='center',size=8)\n",
    "\n",
    "plt.xticks(x,classes2)\n",
    "plt.yticks(y,classes2)\n",
    "plt.show()"
   ]
  },
  {
   "cell_type": "code",
   "execution_count": null,
   "metadata": {
    "collapsed": true
   },
   "outputs": [],
   "source": []
  }
 ],
 "metadata": {
  "kernelspec": {
   "display_name": "Python 2",
   "language": "python",
   "name": "python2"
  },
  "language_info": {
   "codemirror_mode": {
    "name": "ipython",
    "version": 2
   },
   "file_extension": ".py",
   "mimetype": "text/x-python",
   "name": "python",
   "nbconvert_exporter": "python",
   "pygments_lexer": "ipython2",
   "version": "2.7.10"
  }
 },
 "nbformat": 4,
 "nbformat_minor": 0
}
