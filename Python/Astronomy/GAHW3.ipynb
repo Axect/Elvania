{
 "cells": [
  {
   "cell_type": "markdown",
   "metadata": {},
   "source": [
    "# Import"
   ]
  },
  {
   "cell_type": "code",
   "execution_count": 1,
   "metadata": {
    "collapsed": false
   },
   "outputs": [],
   "source": [
    "import numpy as np\n",
    "import matplotlib.pyplot as plt\n",
    "import csv"
   ]
  },
  {
   "cell_type": "code",
   "execution_count": 2,
   "metadata": {
    "collapsed": false
   },
   "outputs": [],
   "source": [
    "hw3 = np.genfromtxt('/home/axect/Desktop/GA2/GandUHW3_2_tomasyun.csv',delimiter=',')\n",
    "mag = np.genfromtxt('/home/axect/Desktop/GA2/GandUHW3_2_yam.csv',delimiter=',')\n",
    "hw3 = hw3[1:,:]\n",
    "mag = mag[1:,:]"
   ]
  },
  {
   "cell_type": "code",
   "execution_count": 3,
   "metadata": {
    "collapsed": false
   },
   "outputs": [],
   "source": [
    "model_g = hw3[:,6]\n",
    "model_r = hw3[:,8]\n",
    "ext_g = hw3[:,10]\n",
    "ext_r = hw3[:,11]\n",
    "isoA_r = hw3[:,13]\n",
    "isoB_r = hw3[:,15]\n",
    "M = mag[:,4]"
   ]
  },
  {
   "cell_type": "code",
   "execution_count": 4,
   "metadata": {
    "collapsed": false
   },
   "outputs": [],
   "source": [
    "g_r = model_g - ext_g - (model_r - ext_r)"
   ]
  },
  {
   "cell_type": "code",
   "execution_count": 10,
   "metadata": {
    "collapsed": true
   },
   "outputs": [],
   "source": [
    "m_r = model_r - ext_r"
   ]
  },
  {
   "cell_type": "code",
   "execution_count": 5,
   "metadata": {
    "collapsed": false
   },
   "outputs": [],
   "source": [
    "L = 10**(0.4*(4.67-M))"
   ]
  },
  {
   "cell_type": "code",
   "execution_count": 6,
   "metadata": {
    "collapsed": false
   },
   "outputs": [
    {
     "data": {
      "text/plain": [
       "55194"
      ]
     },
     "execution_count": 6,
     "metadata": {},
     "output_type": "execute_result"
    }
   ],
   "source": [
    "len(g_r)"
   ]
  },
  {
   "cell_type": "code",
   "execution_count": 7,
   "metadata": {
    "collapsed": false
   },
   "outputs": [],
   "source": [
    "mass = L*10**(-0.306+1.097*g_r)"
   ]
  },
  {
   "cell_type": "code",
   "execution_count": 8,
   "metadata": {
    "collapsed": false
   },
   "outputs": [],
   "source": [
    "elliticity = 1-isoB_r/isoA_r"
   ]
  },
  {
   "cell_type": "code",
   "execution_count": 9,
   "metadata": {
    "collapsed": false
   },
   "outputs": [],
   "source": [
    "g_r = g_r.reshape(55194,1)\n",
    "L = L.reshape(55194,1)\n",
    "mass = mass.reshape(55194,1)\n",
    "elliticity = elliticity.reshape(55194,1)\n",
    "\n",
    "data = np.concatenate((g_r,L,mass,elliticity),axis=1)\n",
    "\n",
    "myfile = open('/home/axect/Desktop/GA2/GandUHW3_2_axect.csv','wb')\n",
    "wr = csv.writer(myfile,quoting=csv.QUOTE_ALL)\n",
    "for i in range(0,len(data)):\n",
    "    wr.writerow(data[i])"
   ]
  },
  {
   "cell_type": "code",
   "execution_count": null,
   "metadata": {
    "collapsed": true
   },
   "outputs": [],
   "source": []
  }
 ],
 "metadata": {
  "kernelspec": {
   "display_name": "Python 2",
   "language": "python",
   "name": "python2"
  },
  "language_info": {
   "codemirror_mode": {
    "name": "ipython",
    "version": 2
   },
   "file_extension": ".py",
   "mimetype": "text/x-python",
   "name": "python",
   "nbconvert_exporter": "python",
   "pygments_lexer": "ipython2",
   "version": "2.7.10"
  }
 },
 "nbformat": 4,
 "nbformat_minor": 0
}
