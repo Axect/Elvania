{
 "cells": [
  {
   "cell_type": "code",
   "execution_count": 1,
   "metadata": {
    "collapsed": true
   },
   "outputs": [],
   "source": [
    "from numpy import *\n",
    "import fitsio\n",
    "import csv"
   ]
  },
  {
   "cell_type": "code",
   "execution_count": 3,
   "metadata": {
    "collapsed": true
   },
   "outputs": [],
   "source": [
    "filename = \"/home/axect/Downloads/OSSY_absorption.fits\"\n",
    "filename2 = \"/home/axect/Downloads/OSSY_quality_assessment_continuum.fits\"\n",
    "filename3 = \"/home/axect/Downloads/asu.fit\"\n",
    "h = fitsio.read_header(filename, ext=1)\n",
    "h2= fitsio.read_header(filename2, ext=1)\n",
    "h3 = fitsio.read_header(filename3, ext=1)"
   ]
  },
  {
   "cell_type": "code",
   "execution_count": 5,
   "metadata": {
    "collapsed": false
   },
   "outputs": [],
   "source": [
    "n_entries = h[\"NAXIS2\"]\n",
    "n_entries2 = h2[\"NAXIS2\"]\n",
    "n_entries3 = h3[\"NAXIS2\"]"
   ]
  },
  {
   "cell_type": "code",
   "execution_count": 11,
   "metadata": {
    "collapsed": false
   },
   "outputs": [
    {
     "data": {
      "text/plain": [
       "10233"
      ]
     },
     "execution_count": 11,
     "metadata": {},
     "output_type": "execute_result"
    }
   ],
   "source": [
    "n_entries3"
   ]
  },
  {
   "cell_type": "code",
   "execution_count": 12,
   "metadata": {
    "collapsed": true
   },
   "outputs": [],
   "source": [
    "fits = fitsio.FITS(filename)\n",
    "fits2 = fitsio.FITS(filename2)\n",
    "fits3 = fitsio.FITS(filename3)"
   ]
  },
  {
   "cell_type": "code",
   "execution_count": 13,
   "metadata": {
    "collapsed": false
   },
   "outputs": [],
   "source": [
    "entry = zeros(shape=(n_entries,1))\n",
    "entry2 = zeros(shape=(n_entries2,1))\n",
    "entry3 = zeros(shape=(n_entries3,1))\n",
    "for i in range(0,n_entries):\n",
    "    entry[i] = fits[1][i]\n",
    "for i in range(0,n_entries2):\n",
    "    entry2[i] = fits2[1][i]\n",
    "for i in range(0,n_entries3):\n",
    "    entry3[i] = fits3[1][i]"
   ]
  },
  {
   "cell_type": "code",
   "execution_count": 14,
   "metadata": {
    "collapsed": false
   },
   "outputs": [],
   "source": [
    "myfile = open('/home/axect/Downloads/OSSY_absorption.csv','wb')\n",
    "wr = csv.writer(myfile,quoting=csv.QUOTE_ALL)\n",
    "for i in range(0,len(entry)):\n",
    "    wr.writerow(entry[i])\n",
    "myfile2 = open('/home/axect/Downloads/OSSY_quality_assessment_continuum.csv','wb')\n",
    "wr2 = csv.writer(myfile2,quoting=csv.QUOTE_ALL)\n",
    "for i in range(0,len(entry2)):\n",
    "    wr2.writerow(entry2[i])\n",
    "myfile3 = open('/home/axect/Downloads/asu.csv','wb')\n",
    "wr3 = csv.writer(myfile3,quoting=csv.QUOTE_ALL)\n",
    "for i in range(0,len(entry3)):\n",
    "    wr3.writerow(entry3[i])"
   ]
  },
  {
   "cell_type": "code",
   "execution_count": null,
   "metadata": {
    "collapsed": true
   },
   "outputs": [],
   "source": []
  }
 ],
 "metadata": {
  "kernelspec": {
   "display_name": "Python 2",
   "language": "python",
   "name": "python2"
  },
  "language_info": {
   "codemirror_mode": {
    "name": "ipython",
    "version": 2
   },
   "file_extension": ".py",
   "mimetype": "text/x-python",
   "name": "python",
   "nbconvert_exporter": "python",
   "pygments_lexer": "ipython2",
   "version": "2.7.10"
  }
 },
 "nbformat": 4,
 "nbformat_minor": 0
}
