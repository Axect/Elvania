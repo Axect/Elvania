{
 "cells": [
  {
   "cell_type": "code",
   "execution_count": 1,
   "metadata": {
    "collapsed": false
   },
   "outputs": [
    {
     "name": "stderr",
     "output_type": "stream",
     "text": [
      "/home/axect/.local/lib/python2.7/site-packages/sklearn/lda.py:4: DeprecationWarning: lda.LDA has been moved to discriminant_analysis.LinearDiscriminantAnalysis in 0.17 and will be removed in 0.19\n",
      "  \"in 0.17 and will be removed in 0.19\", DeprecationWarning)\n",
      "/home/axect/.local/lib/python2.7/site-packages/sklearn/qda.py:4: DeprecationWarning: qda.QDA has been moved to discriminant_analysis.QuadraticDiscriminantAnalysis in 0.17 and will be removed in 0.19.\n",
      "  \"in 0.17 and will be removed in 0.19.\", DeprecationWarning)\n"
     ]
    }
   ],
   "source": [
    "import numpy as np\n",
    "import cv2\n",
    "import os\n",
    "from matplotlib import pyplot as plt\n",
    "from os import listdir\n",
    "from os.path import *\n",
    "from sklearn import *"
   ]
  },
  {
   "cell_type": "code",
   "execution_count": 2,
   "metadata": {
    "collapsed": true
   },
   "outputs": [],
   "source": [
    "digits = datasets.load_digits()"
   ]
  },
  {
   "cell_type": "code",
   "execution_count": 3,
   "metadata": {
    "collapsed": true
   },
   "outputs": [],
   "source": [
    "classes = ['E', 'S0', 'Sa', 'Sb', 'Sc', 'Sd', 'SBa', 'SBc']"
   ]
  },
  {
   "cell_type": "code",
   "execution_count": 4,
   "metadata": {
    "collapsed": true
   },
   "outputs": [],
   "source": [
    "imageFolderpath = ['/home/axect/Desktop/GA2/Train/'+c+'/' for c in classes]"
   ]
  },
  {
   "cell_type": "code",
   "execution_count": 19,
   "metadata": {
    "collapsed": false
   },
   "outputs": [],
   "source": [
    "individualImagePaths = [ imageFolderpath[0] + f for f in listdir(imageFolderpath[0]) if isfile(join(imageFolderpath[0],f))]\n",
    "individualImagePaths = sorted(individualImagePaths)"
   ]
  },
  {
   "cell_type": "code",
   "execution_count": 20,
   "metadata": {
    "collapsed": false
   },
   "outputs": [
    {
     "data": {
      "text/plain": [
       "['/home/axect/Desktop/GA2/Train/E/E0_10_587727231058903205.jpeg',\n",
       " '/home/axect/Desktop/GA2/Train/E/E1_11_587735239567474751.jpeg',\n",
       " '/home/axect/Desktop/GA2/Train/E/E1_11_587739721383805040.jpeg',\n",
       " '/home/axect/Desktop/GA2/Train/E/E1_11_587742062162280455.jpeg',\n",
       " '/home/axect/Desktop/GA2/Train/E/E1_11_588011122511970328.jpeg',\n",
       " '/home/axect/Desktop/GA2/Train/E/E2_12_587739827676250280.jpeg',\n",
       " '/home/axect/Desktop/GA2/Train/E/E2_12_588017979421556853.jpeg',\n",
       " '/home/axect/Desktop/GA2/Train/E/E3_13_587733609090711718.jpeg',\n",
       " '/home/axect/Desktop/GA2/Train/E/E3_13_588011219136807095.jpeg',\n",
       " '/home/axect/Desktop/GA2/Train/E/E4_14_587734893827457027.jpeg',\n",
       " '/home/axect/Desktop/GA2/Train/E/E4_14_587742575919890586.jpeg']"
      ]
     },
     "execution_count": 20,
     "metadata": {},
     "output_type": "execute_result"
    }
   ],
   "source": [
    "individualImagePaths"
   ]
  },
  {
   "cell_type": "code",
   "execution_count": null,
   "metadata": {
    "collapsed": true
   },
   "outputs": [],
   "source": []
  }
 ],
 "metadata": {
  "kernelspec": {
   "display_name": "Python 2",
   "language": "python",
   "name": "python2"
  },
  "language_info": {
   "codemirror_mode": {
    "name": "ipython",
    "version": 2
   },
   "file_extension": ".py",
   "mimetype": "text/x-python",
   "name": "python",
   "nbconvert_exporter": "python",
   "pygments_lexer": "ipython2",
   "version": "2.7.10"
  }
 },
 "nbformat": 4,
 "nbformat_minor": 0
}
