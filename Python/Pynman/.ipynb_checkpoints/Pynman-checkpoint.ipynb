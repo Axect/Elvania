{
 "cells": [
  {
   "cell_type": "markdown",
   "metadata": {},
   "source": [
    "# Pynman"
   ]
  },
  {
   "cell_type": "markdown",
   "metadata": {},
   "source": [
    "* Generate Feynman Diagram using feynmf package"
   ]
  },
  {
   "cell_type": "markdown",
   "metadata": {},
   "source": [
    "## Make tex file "
   ]
  },
  {
   "cell_type": "code",
   "execution_count": null,
   "metadata": {
    "collapsed": true
   },
   "outputs": [],
   "source": [
    "%%writefile Pynman.py\n",
    "\n",
    "# -*- coding: utf-8 -*-\n",
    "\n",
    "from os import listdir\n",
    "\n",
    "\n",
    "class Writer(object):\n",
    "    def __init__(self, filename):\n",
    "        self.file = filename\n",
    "        self.dir = listdir('../Pynman/')\n",
    "        if bool(set(l) & set(t)):\n",
    "            self.txt_read = open(self.file, 'r')\n",
    "            self.list = [line.strip() for line in self.txt_read]\n",
    "        else:\n",
    "            self.list = []\n",
    "        \n",
    "    \n",
    "class Lines(object):\n",
    "    def dash(self, ufo, v1, v2):\n",
    "        v = '{' + v1 + ',' + v2 + '}'\n",
    "        cmd = ['\\\\fmf{dashes, label=$' + particle + '$}' + v for particle in ufo]\n",
    "        return cmd\n",
    "    \n",
    "    def \n",
    "\n",
    "    \n",
    "class Physics(object):\n",
    "    def scalar(self, key):\n",
    "        ufo = ['H, Z^0']\n",
    "        return ufo\n",
    "    \n",
    "    def vector(self, key):\n",
    "        ufo = ['\\\\gamma']\n",
    "        return ufo\n",
    "        \n",
    "    def fermion(self, key):\n",
    "        ufo1 = ['e^-', '\\\\mu^-', '\\\\tau^-', 'u', 'd', 's']\n",
    "        ufo2 = ['e^+', '\\\\mu^+', '\\\\tau^+', '\\\\bar{u}', '\\\\bar{d}', '\\\\bar{s}']\n",
    "        if key == 1:\n",
    "            return ufo1\n",
    "        elif key == 2:\n",
    "            return ufo2  "
   ]
  },
  {
   "cell_type": "code",
   "execution_count": null,
   "metadata": {
    "collapsed": true
   },
   "outputs": [],
   "source": []
  }
 ],
 "metadata": {
  "celltoolbar": "Raw Cell Format",
  "kernelspec": {
   "display_name": "Python 2",
   "language": "python",
   "name": "python2"
  },
  "language_info": {
   "codemirror_mode": {
    "name": "ipython",
    "version": 2
   },
   "file_extension": ".py",
   "mimetype": "text/x-python",
   "name": "python",
   "nbconvert_exporter": "python",
   "pygments_lexer": "ipython2",
   "version": "2.7.13"
  }
 },
 "nbformat": 4,
 "nbformat_minor": 2
}
