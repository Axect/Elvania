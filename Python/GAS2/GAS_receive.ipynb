{
 "cells": [
  {
   "cell_type": "markdown",
   "metadata": {},
   "source": [
    "# Import text "
   ]
  },
  {
   "cell_type": "code",
   "execution_count": 1,
   "metadata": {
    "collapsed": true
   },
   "outputs": [],
   "source": [
    "from subprocess import call"
   ]
  },
  {
   "cell_type": "code",
   "execution_count": 40,
   "metadata": {
    "collapsed": false
   },
   "outputs": [],
   "source": [
    "def text_importer(path):\n",
    "    txt = open(path, 'r')\n",
    "    copy = [line.strip() for line in txt]\n",
    "    topy = [line.split(',') for line in copy]\n",
    "    xopy = []\n",
    "    cupy = []\n",
    "    for List in topy:\n",
    "        for word in List:\n",
    "            cupy.append(word.strip())\n",
    "        xopy.append(cupy)\n",
    "        cupy = []   \n",
    "    dopy_1 = {} \n",
    "    for List in xopy:\n",
    "        dopy_1[List[0]] = List[1:]\n",
    "    for i, key in enumerate(dopy_1):\n",
    "        locals()['bopy_' + str(i)] = {}\n",
    "        value = dopy_1[key]\n",
    "        for word in value:\n",
    "            k = word.split(':')\n",
    "            for j, new in enumerate(k):\n",
    "                t = new.strip()\n",
    "                k[j] = t\n",
    "            sw = k[1].split(';')\n",
    "            for j, new in enumerate(sw):\n",
    "                s = new.strip()\n",
    "                sw[j] = s\n",
    "            sw_tuple = (float(sw[0]), float(sw[1]))\n",
    "            locals()['bopy_' + str(i)][k[0]] = sw_tuple\n",
    "        dopy_1[key] = locals()['bopy_' + str(i)]\n",
    "    return dopy_1"
   ]
  },
  {
   "cell_type": "code",
   "execution_count": 41,
   "metadata": {
    "collapsed": false
   },
   "outputs": [],
   "source": [
    "a = text_importer('sample.txt')"
   ]
  },
  {
   "cell_type": "code",
   "execution_count": 42,
   "metadata": {
    "collapsed": false
   },
   "outputs": [
    {
     "data": {
      "text/plain": [
       "{'F_1': {'eng': (80.0, 2.0), 'lit': (90.0, 3.0), 'math': (90.0, 4.0)},\n",
       " 'F_2': {'eng': (90.0, 3.0), 'lit': (90.0, 3.0), 'math': (100.0, 5.0)},\n",
       " 'S_1': {'eng': (70.0, 2.0),\n",
       "  'lit': (80.0, 3.0),\n",
       "  'math': (85.0, 5.0),\n",
       "  'sci': (100.0, 4.0)}}"
      ]
     },
     "execution_count": 42,
     "metadata": {},
     "output_type": "execute_result"
    }
   ],
   "source": [
    "a"
   ]
  },
  {
   "cell_type": "code",
   "execution_count": 20,
   "metadata": {
    "collapsed": false
   },
   "outputs": [
    {
     "data": {
      "text/plain": [
       "['lit : 90; 3', 'math : 90; 4', 'eng : 80; 2']"
      ]
     },
     "execution_count": 20,
     "metadata": {},
     "output_type": "execute_result"
    }
   ],
   "source": [
    "a['F_1']"
   ]
  },
  {
   "cell_type": "code",
   "execution_count": 21,
   "metadata": {
    "collapsed": true
   },
   "outputs": [],
   "source": [
    "b = a['F_1']"
   ]
  },
  {
   "cell_type": "code",
   "execution_count": 27,
   "metadata": {
    "collapsed": false
   },
   "outputs": [
    {
     "name": "stdout",
     "output_type": "stream",
     "text": [
      "{'lit': '90; 3', 'math': '90; 4', 'eng': '80; 2'}\n"
     ]
    }
   ],
   "source": [
    "c = {}\n",
    "for word in b:\n",
    "    k = word.split(':')\n",
    "    for j, new in enumerate(k):\n",
    "        t = new.strip()\n",
    "        k[j] = t\n",
    "    c[k[0]] = k[1]\n",
    "print(c)"
   ]
  },
  {
   "cell_type": "code",
   "execution_count": null,
   "metadata": {
    "collapsed": true
   },
   "outputs": [],
   "source": []
  }
 ],
 "metadata": {
  "kernelspec": {
   "display_name": "Python 3",
   "language": "python",
   "name": "python3"
  },
  "language_info": {
   "codemirror_mode": {
    "name": "ipython",
    "version": 3
   },
   "file_extension": ".py",
   "mimetype": "text/x-python",
   "name": "python",
   "nbconvert_exporter": "python",
   "pygments_lexer": "ipython3",
   "version": "3.6.0"
  }
 },
 "nbformat": 4,
 "nbformat_minor": 2
}
