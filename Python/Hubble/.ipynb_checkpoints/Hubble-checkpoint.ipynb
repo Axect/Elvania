{
 "cells": [
  {
   "cell_type": "markdown",
   "metadata": {},
   "source": [
    "# Hubble Graph"
   ]
  },
  {
   "cell_type": "markdown",
   "metadata": {},
   "source": [
    "## Import csv"
   ]
  },
  {
   "cell_type": "code",
   "execution_count": 1,
   "metadata": {
    "collapsed": false
   },
   "outputs": [],
   "source": [
    "Temp_data = open('all.csv', 'r')\n",
    "a = [line.strip() for line in Temp_data]\n",
    "b = [word.split(',') for word in a]"
   ]
  },
  {
   "cell_type": "code",
   "execution_count": 2,
   "metadata": {
    "collapsed": false
   },
   "outputs": [],
   "source": [
    "H0 = [b[i][0] for i in range(len(b))]\n",
    "Ep = [b[i][1] for i in range(len(b))]\n",
    "En = [b[i][2] for i in range(len(b))]\n",
    "year = [b[i][3] for i in range(len(b))]\n",
    "H0_old, Ep_old, En_old, year_old = H0, Ep, En, year"
   ]
  },
  {
   "cell_type": "code",
   "execution_count": 3,
   "metadata": {
    "collapsed": false
   },
   "outputs": [],
   "source": [
    "# Correction\n",
    "classes = (H0, Ep, En, year)\n",
    "for column in classes:\n",
    "    del(column[0])\n",
    "    l = len(column)\n",
    "    for i in range(l):\n",
    "        column[i] = float(column[i])"
   ]
  },
  {
   "cell_type": "code",
   "execution_count": 4,
   "metadata": {
    "collapsed": false
   },
   "outputs": [],
   "source": [
    "En = [- element for element in En]"
   ]
  },
  {
   "cell_type": "markdown",
   "metadata": {},
   "source": [
    "## Graph"
   ]
  },
  {
   "cell_type": "code",
   "execution_count": 5,
   "metadata": {
    "collapsed": true
   },
   "outputs": [],
   "source": [
    "import plotly.plotly as py\n",
    "import plotly.graph_objs as go"
   ]
  },
  {
   "cell_type": "code",
   "execution_count": 6,
   "metadata": {
    "collapsed": false
   },
   "outputs": [],
   "source": [
    "data = [\n",
    "    go.Scatter(\n",
    "        x = year,\n",
    "        y = H0,\n",
    "        marker=dict(\n",
    "            symbol=\"square-open-dot\",\n",
    "            color=\"rgb(148, 103, 189)\",\n",
    "            size = 8\n",
    "        ),\n",
    "        mode = 'markers',\n",
    "        error_y=dict(\n",
    "            type='data',\n",
    "            symmetric=False,\n",
    "            array=Ep,\n",
    "            arrayminus=En,\n",
    "            visible=True\n",
    "        )\n",
    "    )\n",
    "]\n",
    "layout = go.Layout(\n",
    "    title='Hubble Constant with Error bar',\n",
    "    xaxis=dict(\n",
    "        title='Year'\n",
    "    ),\n",
    "    yaxis=dict(\n",
    "        title='Hubble Constant'\n",
    "    )\n",
    ")\n",
    "fig = go.Figure(data=data, layout=layout)"
   ]
  },
  {
   "cell_type": "code",
   "execution_count": 7,
   "metadata": {
    "collapsed": false
   },
   "outputs": [
    {
     "data": {
      "text/html": [
       "<iframe id=\"igraph\" scrolling=\"no\" style=\"border:none;\" seamless=\"seamless\" src=\"https://plot.ly/~Axect/6.embed\" height=\"525px\" width=\"100%\"></iframe>"
      ],
      "text/plain": [
       "<plotly.tools.PlotlyDisplay object>"
      ]
     },
     "execution_count": 7,
     "metadata": {},
     "output_type": "execute_result"
    }
   ],
   "source": [
    "py.iplot(fig, filename='Hubble')"
   ]
  },
  {
   "cell_type": "markdown",
   "metadata": {
    "collapsed": false
   },
   "source": [
    "## Graph2"
   ]
  },
  {
   "cell_type": "code",
   "execution_count": 8,
   "metadata": {
    "collapsed": false
   },
   "outputs": [],
   "source": [
    "# Pick\n",
    "for i in range(len(year)):\n",
    "    if year[i] > 1970:\n",
    "        cutoff = i\n",
    "        break"
   ]
  },
  {
   "cell_type": "code",
   "execution_count": 9,
   "metadata": {
    "collapsed": true
   },
   "outputs": [],
   "source": [
    "# Correction\n",
    "classes = (H0, Ep, En, year)\n",
    "for column in classes:\n",
    "    del column[0:cutoff]"
   ]
  },
  {
   "cell_type": "code",
   "execution_count": 10,
   "metadata": {
    "collapsed": false
   },
   "outputs": [],
   "source": [
    "data = [\n",
    "    go.Scatter(\n",
    "        x = year,\n",
    "        y = H0,\n",
    "        marker=dict(\n",
    "            symbol=\"square-open-dot\",\n",
    "            color=\"rgb(148, 103, 189)\",\n",
    "            size = 8\n",
    "        ),\n",
    "        mode = 'markers',\n",
    "        error_y=dict(\n",
    "            type='data',\n",
    "            symmetric=False,\n",
    "            array=Ep,\n",
    "            arrayminus=En,\n",
    "            visible=True\n",
    "        )\n",
    "    )\n",
    "]\n",
    "layout = go.Layout(\n",
    "    title='Hubble Constant with Error bar',\n",
    "    xaxis=dict(\n",
    "        title='Year'\n",
    "    ),\n",
    "    yaxis=dict(\n",
    "        title='Hubble Constant'\n",
    "    )\n",
    ")\n",
    "fig = go.Figure(data=data, layout=layout)"
   ]
  },
  {
   "cell_type": "code",
   "execution_count": 11,
   "metadata": {
    "collapsed": false
   },
   "outputs": [
    {
     "data": {
      "text/html": [
       "<iframe id=\"igraph\" scrolling=\"no\" style=\"border:none;\" seamless=\"seamless\" src=\"https://plot.ly/~Axect/8.embed\" height=\"525px\" width=\"100%\"></iframe>"
      ],
      "text/plain": [
       "<plotly.tools.PlotlyDisplay object>"
      ]
     },
     "execution_count": 11,
     "metadata": {},
     "output_type": "execute_result"
    }
   ],
   "source": [
    "py.iplot(fig, filename='Hubble2')"
   ]
  },
  {
   "cell_type": "markdown",
   "metadata": {},
   "source": [
    "## Graph3 "
   ]
  },
  {
   "cell_type": "code",
   "execution_count": 12,
   "metadata": {
    "collapsed": false
   },
   "outputs": [],
   "source": [
    "#Pick\n",
    "for i in range(len(year)):\n",
    "    if year[i] > 1995:\n",
    "        cutin = i\n",
    "        break"
   ]
  },
  {
   "cell_type": "code",
   "execution_count": 13,
   "metadata": {
    "collapsed": false
   },
   "outputs": [],
   "source": [
    "#Correction\n",
    "classes = (H0, Ep, En, year)\n",
    "for column in classes:\n",
    "    del column[0:cutin]"
   ]
  },
  {
   "cell_type": "code",
   "execution_count": 14,
   "metadata": {
    "collapsed": true
   },
   "outputs": [],
   "source": [
    "#Pick2\n",
    "for j in range(len(year)):\n",
    "    if year[j] > 2005:\n",
    "        cutoff = j\n",
    "        break"
   ]
  },
  {
   "cell_type": "code",
   "execution_count": 15,
   "metadata": {
    "collapsed": true
   },
   "outputs": [],
   "source": [
    "#Correction2\n",
    "classes = (H0, Ep, En, year)\n",
    "for column in classes:\n",
    "    del column[j:]"
   ]
  },
  {
   "cell_type": "code",
   "execution_count": 16,
   "metadata": {
    "collapsed": false
   },
   "outputs": [
    {
     "data": {
      "text/html": [
       "<iframe id=\"igraph\" scrolling=\"no\" style=\"border:none;\" seamless=\"seamless\" src=\"https://plot.ly/~Axect/10.embed\" height=\"525px\" width=\"100%\"></iframe>"
      ],
      "text/plain": [
       "<plotly.tools.PlotlyDisplay object>"
      ]
     },
     "execution_count": 16,
     "metadata": {},
     "output_type": "execute_result"
    }
   ],
   "source": [
    "data = [\n",
    "    go.Scatter(\n",
    "        x = year,\n",
    "        y = H0,\n",
    "        marker=dict(\n",
    "            symbol=\"square-open-dot\",\n",
    "            color=\"rgb(148, 103, 189)\",\n",
    "            size = 8\n",
    "        ),\n",
    "        mode = 'markers',\n",
    "        error_y=dict(\n",
    "            type='data',\n",
    "            symmetric=False,\n",
    "            array=Ep,\n",
    "            arrayminus=En,\n",
    "            visible=True\n",
    "        )\n",
    "    )\n",
    "]\n",
    "layout = go.Layout(\n",
    "    title='Hubble Constant with Error bar',\n",
    "    xaxis=dict(\n",
    "        title='Year'\n",
    "    ),\n",
    "    yaxis=dict(\n",
    "        title='Hubble Constant'\n",
    "    )\n",
    ")\n",
    "fig = go.Figure(data=data, layout=layout)\n",
    "\n",
    "py.iplot(fig, filename='Hubble3')"
   ]
  }
 ],
 "metadata": {
  "kernelspec": {
   "display_name": "Python 2",
   "language": "python",
   "name": "python2"
  },
  "language_info": {
   "codemirror_mode": {
    "name": "ipython",
    "version": 2
   },
   "file_extension": ".py",
   "mimetype": "text/x-python",
   "name": "python",
   "nbconvert_exporter": "python",
   "pygments_lexer": "ipython2",
   "version": "2.7.13"
  }
 },
 "nbformat": 4,
 "nbformat_minor": 2
}
