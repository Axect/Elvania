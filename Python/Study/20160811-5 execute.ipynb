{
 "cells": [
  {
   "cell_type": "markdown",
   "metadata": {},
   "source": [
    "# 2016 08 11 Study"
   ]
  },
  {
   "cell_type": "markdown",
   "metadata": {},
   "source": [
    "## More and More"
   ]
  },
  {
   "cell_type": "code",
   "execution_count": 2,
   "metadata": {
    "collapsed": false
   },
   "outputs": [
    {
     "name": "stdout",
     "output_type": "stream",
     "text": [
      "Socialst.txt에서 Rakhan.txt로 복사합니다.\n",
      "입력 파일은 38바이트입니다.\n",
      "출력 파일이 존재하나요? False\n",
      "준비되었습니다. 계속하려면 리턴 키를, 취소하려면 CTRL-C를 누르세요.\n",
      "\n",
      "좋습니다. 모두 완료되었습니다.\n"
     ]
    }
   ],
   "source": [
    "%run 20160811-5.py Socialst.txt Rakhan.txt"
   ]
  },
  {
   "cell_type": "code",
   "execution_count": 3,
   "metadata": {
    "collapsed": false
   },
   "outputs": [
    {
     "name": "stdout",
     "output_type": "stream",
     "text": [
      "Hello, I'm Mong*2\n",
      "I love Todi\n",
      "Forever\n",
      "\n"
     ]
    }
   ],
   "source": [
    "print open('Rakhan.txt','r').read()"
   ]
  }
 ],
 "metadata": {
  "kernelspec": {
   "display_name": "Python 2",
   "language": "python",
   "name": "python2"
  },
  "language_info": {
   "codemirror_mode": {
    "name": "ipython",
    "version": 2
   },
   "file_extension": ".py",
   "mimetype": "text/x-python",
   "name": "python",
   "nbconvert_exporter": "python",
   "pygments_lexer": "ipython2",
   "version": "2.7.10"
  }
 },
 "nbformat": 4,
 "nbformat_minor": 0
}
