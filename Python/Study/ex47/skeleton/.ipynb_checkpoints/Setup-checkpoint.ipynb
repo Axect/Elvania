{
 "cells": [
  {
   "cell_type": "code",
   "execution_count": 1,
   "metadata": {
    "collapsed": false
   },
   "outputs": [
    {
     "name": "stdout",
     "output_type": "stream",
     "text": [
      "Writing setup.py\n"
     ]
    }
   ],
   "source": [
    "%%writefile setup.py\n",
    "\n",
    "# -*- coding: utf-8 -*-\n",
    "\n",
    "try:\n",
    "    from setuptools import setup\n",
    "except ImportError:\n",
    "    from distutils.core import setup\n",
    "    \n",
    "config = {\n",
    "    'description': '내 프로젝트',\n",
    "    'author': '내 이름',\n",
    "    'url': '프로젝트 URL.',\n",
    "    'download_url': '내려받을 수 있는 곳',\n",
    "    'author_email': '내 이메일.',\n",
    "    'version': '0.1',\n",
    "    'install_requires': ['nose'],\n",
    "    'packages': ['NAME'],\n",
    "    'scripts': [],\n",
    "    'name': '프로젝트 이름'\n",
    "}\n",
    "\n",
    "setup(**config)"
   ]
  }
 ],
 "metadata": {
  "kernelspec": {
   "display_name": "Python 2",
   "language": "python",
   "name": "python2"
  },
  "language_info": {
   "codemirror_mode": {
    "name": "ipython",
    "version": 2
   },
   "file_extension": ".py",
   "mimetype": "text/x-python",
   "name": "python",
   "nbconvert_exporter": "python",
   "pygments_lexer": "ipython2",
   "version": "2.7.10"
  }
 },
 "nbformat": 4,
 "nbformat_minor": 0
}
