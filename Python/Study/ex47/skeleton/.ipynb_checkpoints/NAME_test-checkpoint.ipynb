{
 "cells": [
  {
   "cell_type": "code",
   "execution_count": 1,
   "metadata": {
    "collapsed": false
   },
   "outputs": [
    {
     "name": "stdout",
     "output_type": "stream",
     "text": [
      "Writing NAME_test.py\n"
     ]
    }
   ],
   "source": [
    "%%writefile NAME_test.py\n",
    "\n",
    "# -*- coding: utf-8 -*-\n",
    "\n",
    "from nose.tools import *\n",
    "import NAME\n",
    "\n",
    "def setup():\n",
    "    print \"SETUP!\"\n",
    "    \n",
    "def teardown():\n",
    "    print \"TEAR DOWN!\"\n",
    "    \n",
    "def test_basic():\n",
    "    print \"실행!\""
   ]
  },
  {
   "cell_type": "code",
   "execution_count": null,
   "metadata": {
    "collapsed": true
   },
   "outputs": [],
   "source": []
  }
 ],
 "metadata": {
  "kernelspec": {
   "display_name": "Python 2",
   "language": "python",
   "name": "python2"
  },
  "language_info": {
   "codemirror_mode": {
    "name": "ipython",
    "version": 2
   },
   "file_extension": ".py",
   "mimetype": "text/x-python",
   "name": "python",
   "nbconvert_exporter": "python",
   "pygments_lexer": "ipython2",
   "version": "2.7.10"
  }
 },
 "nbformat": 4,
 "nbformat_minor": 0
}
