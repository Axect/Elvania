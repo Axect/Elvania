{
 "cells": [
  {
   "cell_type": "code",
   "execution_count": 1,
   "metadata": {
    "collapsed": false
   },
   "outputs": [
    {
     "name": "stdout",
     "output_type": "stream",
     "text": [
      "Writing NAME_test.py\n"
     ]
    }
   ],
   "source": [
    "%%writefile ex47_test.py\n",
    "\n",
    "# -*- coding: utf-8 -*-\n",
    "\n",
    "from nose.tools import *\n",
    "from ex47.game import Room\n",
    "\n",
    "def test_room():\n",
    "    gold = Room(\"GoldRoom\", \n",
    "                \"\"\"이 방에는 주워 담을 수 있는 금이 있습니다. 북쪽에는 문이 있습니다.\"\"\")\n",
    "    assert_equal(gold.name, \"GoldRoom\")\n",
    "    assert_equal(gold.paths, {})\n",
    "    \n",
    "def test_room_paths():\n",
    "    center = Room(\"Center\", \"가운데의 테스트 방.\")\n",
    "    north = Room(\"North\", \"북쪽의 테스트 방.\")\n",
    "    south = Room(\"South\", \"남쪽의 테스트 방.\")\n",
    "    \n",
    "    center.add_paths({'north': north, 'south': south})\n",
    "    assert_equal(center.go('north'), north)\n",
    "    assert_equal(center.go('south'), south)\n",
    "    \n",
    "def test_map():\n",
    "    start = Room(\"Start\", \"서쪽(west)이나 구멍 아래\")"
   ]
  },
  {
   "cell_type": "code",
   "execution_count": null,
   "metadata": {
    "collapsed": true
   },
   "outputs": [],
   "source": []
  }
 ],
 "metadata": {
  "kernelspec": {
   "display_name": "Python 2",
   "language": "python",
   "name": "python2"
  },
  "language_info": {
   "codemirror_mode": {
    "name": "ipython",
    "version": 2
   },
   "file_extension": ".py",
   "mimetype": "text/x-python",
   "name": "python",
   "nbconvert_exporter": "python",
   "pygments_lexer": "ipython2",
   "version": "2.7.10"
  }
 },
 "nbformat": 4,
 "nbformat_minor": 0
}
