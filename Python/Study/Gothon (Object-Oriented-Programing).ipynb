{
 "cells": [
  {
   "cell_type": "markdown",
   "metadata": {},
   "source": [
    "# 페르칼 25번 행성에서 온 고던족 "
   ]
  },
  {
   "cell_type": "markdown",
   "metadata": {},
   "source": [
    "## Basic Composition"
   ]
  },
  {
   "cell_type": "markdown",
   "metadata": {},
   "source": [
    "* Death: 사망. 플레이어가 죽는 순간이 재미있어야 합니다.\n",
    "* CentralCorridor: 중앙 복도. 시작 지점이고 이미 고던인이 서 있습니다.\n",
    "* Laser Weapon Armory: 레이저 무기고.\n",
    "* The Bridge: 다리. 고던인이 나오는 다른 전투 장면입니다. 영웅이 폭탄을 설치합니다.\n",
    "* Escape Pod: 구명정. 영웅이 탈출하는 곳입니다."
   ]
  },
  {
   "cell_type": "markdown",
   "metadata": {},
   "source": [
    "* Alien, Player, Ship, Maze, Room, Scene, Gothon, Escape Pod, Planet, Map, Engine, Death, Central Corridor, Laser Weapon Armory, The Bridge"
   ]
  },
  {
   "cell_type": "markdown",
   "metadata": {},
   "source": [
    "## Structure"
   ]
  },
  {
   "cell_type": "markdown",
   "metadata": {},
   "source": [
    "* Map: 지도\n",
    "* Engine: 엔진\n",
    "* Scene: 장면\n",
    "    * Death\n",
    "    * Central Corridor\n",
    "    * Laser Weapon Armory\n",
    "    * The Bridge\n",
    "    * Escape Pod"
   ]
  },
  {
   "cell_type": "markdown",
   "metadata": {},
   "source": [
    "## Action"
   ]
  },
  {
   "cell_type": "markdown",
   "metadata": {},
   "source": [
    "* Map\n",
    "    - next_scene\n",
    "    - opening_scene\n",
    "* Engine\n",
    "    - play\n",
    "* Scene\n",
    "    - enter"
   ]
  },
  {
   "cell_type": "markdown",
   "metadata": {},
   "source": [
    "## Write py File"
   ]
  },
  {
   "cell_type": "code",
   "execution_count": 1,
   "metadata": {
    "collapsed": false
   },
   "outputs": [
    {
     "name": "stdout",
     "output_type": "stream",
     "text": [
      "Writing Gothon.py\n"
     ]
    }
   ],
   "source": [
    "%%writefile Gothon.py\n",
    "\n",
    "class Scene(object):\n",
    "    \n",
    "    def enter(self):\n",
    "        pass\n",
    "    \n",
    "class Engine(object):\n",
    "    \n",
    "    def __init__(self, scene_map):\n",
    "        pass\n",
    "    \n",
    "    def play(self):\n",
    "        pass\n",
    "    \n",
    "class Death(Scene):\n",
    "    \n",
    "    def enter(self):\n",
    "        pass\n",
    "    \n",
    "class CentralCorridor(Scene):\n",
    "    \n",
    "    def enter(self):\n",
    "        pass\n",
    "    \n",
    "class LaserWeaponArmory(Scene):\n",
    "    \n",
    "    def enter(self):\n",
    "        pass\n",
    "    \n",
    "class TheBridge(Scene):\n",
    "    \n",
    "    def enter(self):\n",
    "        pass\n",
    "    \n",
    "class EscapePod(Scene):\n",
    "    \n",
    "    def enter(self):\n",
    "        pass\n",
    "    \n",
    "class Map(object):\n",
    "    \n",
    "    def __init__(self, start_scene):\n",
    "        pass\n",
    "    \n",
    "    def next_scene(self, scene_name):\n",
    "        pass\n",
    "    \n",
    "    def opening_scene(self):\n",
    "        pass"
   ]
  },
  {
   "cell_type": "code",
   "execution_count": 2,
   "metadata": {
    "collapsed": true
   },
   "outputs": [],
   "source": [
    "from Gothon import *"
   ]
  },
  {
   "cell_type": "code",
   "execution_count": 3,
   "metadata": {
    "collapsed": true
   },
   "outputs": [],
   "source": [
    "a_map = Map('central_corridor')\n",
    "a_game = Engine(a_map)\n",
    "a_game.play()"
   ]
  },
  {
   "cell_type": "code",
   "execution_count": null,
   "metadata": {
    "collapsed": true
   },
   "outputs": [],
   "source": []
  }
 ],
 "metadata": {
  "kernelspec": {
   "display_name": "Python 2",
   "language": "python",
   "name": "python2"
  },
  "language_info": {
   "codemirror_mode": {
    "name": "ipython",
    "version": 2
   },
   "file_extension": ".py",
   "mimetype": "text/x-python",
   "name": "python",
   "nbconvert_exporter": "python",
   "pygments_lexer": "ipython2",
   "version": "2.7.10"
  }
 },
 "nbformat": 4,
 "nbformat_minor": 0
}
