{
 "cells": [
  {
   "cell_type": "markdown",
   "metadata": {},
   "source": [
    "# 2016 08 11 Study"
   ]
  },
  {
   "cell_type": "markdown",
   "metadata": {},
   "source": [
    "## Read and Write"
   ]
  },
  {
   "cell_type": "code",
   "execution_count": 1,
   "metadata": {
    "collapsed": true
   },
   "outputs": [],
   "source": [
    "# -*- coding: utf-8 -*-"
   ]
  },
  {
   "cell_type": "code",
   "execution_count": 12,
   "metadata": {
    "collapsed": true
   },
   "outputs": [],
   "source": [
    "from sys import argv\n",
    "import numpy as np"
   ]
  },
  {
   "cell_type": "code",
   "execution_count": null,
   "metadata": {
    "collapsed": true
   },
   "outputs": [],
   "source": [
    "script, filename = argv\n",
    "\n",
    "print \"%r 파일을 지우려 합니다.\" % filename\n",
    "print \"취소하려면 CTRL-C(^C)를 누르세요.\"\n",
    "print \"진행하려면 리턴을 누르세요.\"\n",
    "\n",
    "raw_input(\"?\")\n",
    "\n",
    "print \"파일 여는 중...\"\n",
    "target = open(filename, 'w')\n",
    "\n",
    "print \"파일 내용을 지웁니다. 안녕히!\"\n",
    "target.truncate()\n",
    "\n",
    "print \"이제 세 줄에 들어갈 내용을 묻겠습니다.\"\n",
    "for i in range(0,3):\n",
    "    locals()['line'+str(i+1)] = raw_input(str(i)+'> ')\n",
    "\n",
    "print \"이 내용을 파일에 씁니다.\"\n",
    "\n",
    "for i in range(0,3):\n",
    "    target.write(locals()['line'+str(i+1)])\n",
    "    target.write('\\n')\n",
    "\n",
    "print \"마지막으로 닫습니다.\"\n",
    "target.close()"
   ]
  }
 ],
 "metadata": {
  "kernelspec": {
   "display_name": "Python 2",
   "language": "python",
   "name": "python2"
  },
  "language_info": {
   "codemirror_mode": {
    "name": "ipython",
    "version": 2
   },
   "file_extension": ".py",
   "mimetype": "text/x-python",
   "name": "python",
   "nbconvert_exporter": "python",
   "pygments_lexer": "ipython2",
   "version": "2.7.10"
  }
 },
 "nbformat": 4,
 "nbformat_minor": 0
}
