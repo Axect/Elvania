{
 "cells": [
  {
   "cell_type": "markdown",
   "metadata": {},
   "source": [
    "# 2016 08 11 Study"
   ]
  },
  {
   "cell_type": "markdown",
   "metadata": {},
   "source": [
    "## Function & Variable"
   ]
  },
  {
   "cell_type": "code",
   "execution_count": 1,
   "metadata": {
    "collapsed": true
   },
   "outputs": [],
   "source": [
    "def cheese_and_crackers(cheese_count, boxes_of_crackers):\n",
    "    print \"치즈가 %d개 있어요!\" % cheese_count\n",
    "    print \"크래커가 %d상자 있어요!\" % boxes_of_crackers\n",
    "    print \"파티 벌이기에 충분하네요!\"\n",
    "    print \"담요 한 장 가져오세요.\\n\""
   ]
  },
  {
   "cell_type": "code",
   "execution_count": 3,
   "metadata": {
    "collapsed": false
   },
   "outputs": [
    {
     "name": "stdout",
     "output_type": "stream",
     "text": [
      "함수에 그냥 숫자를 직접 줄 수 있습니다.\n",
      "치즈가 20개 있어요!\n",
      "크래커가 10상자 있어요!\n",
      "파티 벌이기에 충분하네요!\n",
      "담요 한 장 가져오세요.\n",
      "\n"
     ]
    }
   ],
   "source": [
    "print \"함수에 그냥 숫자를 직접 줄 수 있습니다.\"\n",
    "cheese_and_crackers(20,10)"
   ]
  },
  {
   "cell_type": "code",
   "execution_count": 4,
   "metadata": {
    "collapsed": false
   },
   "outputs": [
    {
     "name": "stdout",
     "output_type": "stream",
     "text": [
      "스크립트의 변수를 쓸 수도 있고요.\n",
      "치즈가 10개 있어요!\n",
      "크래커가 50상자 있어요!\n",
      "파티 벌이기에 충분하네요!\n",
      "담요 한 장 가져오세요.\n",
      "\n"
     ]
    }
   ],
   "source": [
    "print \"스크립트의 변수를 쓸 수도 있고요.\"\n",
    "amount_of_cheese = 10\n",
    "amount_of_crackers = 50\n",
    "\n",
    "cheese_and_crackers(amount_of_cheese,amount_of_crackers)"
   ]
  },
  {
   "cell_type": "code",
   "execution_count": 5,
   "metadata": {
    "collapsed": false
   },
   "outputs": [
    {
     "name": "stdout",
     "output_type": "stream",
     "text": [
      "안에서 계산을 해도 됩니다.\n",
      "치즈가 100개 있어요!\n",
      "크래커가 2상자 있어요!\n",
      "파티 벌이기에 충분하네요!\n",
      "담요 한 장 가져오세요.\n",
      "\n"
     ]
    }
   ],
   "source": [
    "print \"안에서 계산을 해도 됩니다.\"\n",
    "cheese_and_crackers(10*amount_of_cheese, amount_of_crackers%6)"
   ]
  }
 ],
 "metadata": {
  "kernelspec": {
   "display_name": "Python 2",
   "language": "python",
   "name": "python2"
  },
  "language_info": {
   "codemirror_mode": {
    "name": "ipython",
    "version": 2
   },
   "file_extension": ".py",
   "mimetype": "text/x-python",
   "name": "python",
   "nbconvert_exporter": "python",
   "pygments_lexer": "ipython2",
   "version": "2.7.10"
  }
 },
 "nbformat": 4,
 "nbformat_minor": 0
}
