{
 "cells": [
  {
   "cell_type": "markdown",
   "metadata": {},
   "source": [
    "# 2016 08 11 Study"
   ]
  },
  {
   "cell_type": "markdown",
   "metadata": {},
   "source": [
    "## More and More"
   ]
  },
  {
   "cell_type": "code",
   "execution_count": 1,
   "metadata": {
    "collapsed": true
   },
   "outputs": [],
   "source": [
    "from sys import argv\n",
    "from os.path import exists"
   ]
  },
  {
   "cell_type": "code",
   "execution_count": null,
   "metadata": {
    "collapsed": true
   },
   "outputs": [],
   "source": [
    "script, from_file, to_file = argv\n",
    "\n",
    "print \"%s에서 %s로 복사합니다.\" % (from_file, to_file)\n",
    "\n",
    "# 이 두 줄은 한 줄로도 쓸 수 있습니다. 어떻게 할까요?\n",
    "in_file = open(from_file)\n",
    "indata = in_file.read()\n",
    "\n",
    "print \"입력 파일은 %d바이트입니다.\" % len(indata)\n",
    "\n",
    "print \"출력 파일이 존재하나요? %r\" % exists(to_file)\n",
    "print \"준비되었습니다. 계속하려면 리턴 키를, 취소하려면 CTRL-C를 누르세요.\"\n",
    "raw_input()\n",
    "\n",
    "out_file = open(to_file,'w')\n",
    "out_file.write(indata)\n",
    "\n",
    "print \"좋습니다. 모두 완료되었습니다.\"\n",
    "\n",
    "out_file.close()\n",
    "in_file.close()"
   ]
  }
 ],
 "metadata": {
  "kernelspec": {
   "display_name": "Python 2",
   "language": "python",
   "name": "python2"
  },
  "language_info": {
   "codemirror_mode": {
    "name": "ipython",
    "version": 2
   },
   "file_extension": ".py",
   "mimetype": "text/x-python",
   "name": "python",
   "nbconvert_exporter": "python",
   "pygments_lexer": "ipython2",
   "version": "2.7.10"
  }
 },
 "nbformat": 4,
 "nbformat_minor": 0
}
