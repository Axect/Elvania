{
 "cells": [
  {
   "cell_type": "markdown",
   "metadata": {},
   "source": [
    "# 2016 08 16 Study"
   ]
  },
  {
   "cell_type": "markdown",
   "metadata": {},
   "source": [
    "## If Loop "
   ]
  },
  {
   "cell_type": "code",
   "execution_count": 1,
   "metadata": {
    "collapsed": true
   },
   "outputs": [],
   "source": [
    "people = 20\n",
    "cats = 30\n",
    "dogs = 15"
   ]
  },
  {
   "cell_type": "code",
   "execution_count": 3,
   "metadata": {
    "collapsed": false
   },
   "outputs": [],
   "source": [
    "from random import *"
   ]
  },
  {
   "cell_type": "code",
   "execution_count": 6,
   "metadata": {
    "collapsed": true
   },
   "outputs": [],
   "source": [
    "cats = cats * randrange(1,5)\n",
    "people = people * randrange(1,7)\n",
    "dogs = dogs * randrange(1,6)"
   ]
  },
  {
   "cell_type": "code",
   "execution_count": 7,
   "metadata": {
    "collapsed": false
   },
   "outputs": [
    {
     "name": "stdout",
     "output_type": "stream",
     "text": [
      "집사가 적절하군요! 세상은 평화롭습니다!\n"
     ]
    }
   ],
   "source": [
    "if people < cats:\n",
    "    print \"고양이가 너무 많아요! 세상은 멸망합니다!\"\n",
    "elif people > cats:\n",
    "    print \"고양이가 많지 않아요! 세상은 지속됩니다!\"\n",
    "else:\n",
    "    print \"집사가 적절하군요! 세상은 평화롭습니다!\""
   ]
  },
  {
   "cell_type": "code",
   "execution_count": 8,
   "metadata": {
    "collapsed": true
   },
   "outputs": [],
   "source": [
    "dogs += 5"
   ]
  },
  {
   "cell_type": "code",
   "execution_count": 10,
   "metadata": {
    "collapsed": false
   },
   "outputs": [
    {
     "name": "stdout",
     "output_type": "stream",
     "text": [
      "180 180 305\n"
     ]
    }
   ],
   "source": [
    "print people, cats, dogs"
   ]
  },
  {
   "cell_type": "markdown",
   "metadata": {},
   "source": [
    "## Determine"
   ]
  },
  {
   "cell_type": "code",
   "execution_count": 11,
   "metadata": {
    "collapsed": false
   },
   "outputs": [
    {
     "name": "stdout",
     "output_type": "stream",
     "text": [
      "문이 두 개 있는 어두운 방에 들어왔습니다. 1번과 2번 중 어느 방으로 들어갈까요?\n",
      ">2\n",
      "당신은 크툴루 눈동자의 끝없는 심연을 쳐다봅니다.\n",
      "1. 블루베리.\n",
      "2. 노란 재킷 빨래집게.\n",
      "3. 권총이 울부짖는 가락 이해하기.\n",
      ">4\n",
      "광기가 당신의 눈을 썩어 문드러진 시궁창으로 만듭니다. 잘했어요!\n"
     ]
    }
   ],
   "source": [
    "print \"문이 두 개 있는 어두운 방에 들어왔습니다. 1번과 2번 중 어느 방으로 들어갈까요?\"\n",
    "prompt = '>'\n",
    "\n",
    "door = raw_input(prompt)\n",
    "\n",
    "if door == \"1\":\n",
    "    print \"거대 곰이 치즈 케이크를 먹고 있습니다. 무엇을 할까요?\"\n",
    "    print \"1. 케이크를 뺏는다.\"\n",
    "    print \"2. 곰에게 소리를 지른다.\"\n",
    "    \n",
    "    bear = raw_input(prompt)\n",
    "    \n",
    "    if bear == \"1\":\n",
    "        print \"곰이 당신의 머리를 먹어치웁니다. 잘했어요!\"\n",
    "    elif bear == \"2.\":\n",
    "        print \"곰이 당신의 다리를 먹어치웁니다. 잘했어요!\"\n",
    "    else:\n",
    "        print \"음, %s 행동을 하는 것이 더 나았나 보네요. 곰이 도망갑니다.\" % bear\n",
    "\n",
    "elif door == \"2\":\n",
    "    print \"당신은 크툴루 눈동자의 끝없는 심연을 쳐다봅니다.\"\n",
    "    print \"1. 블루베리.\"\n",
    "    print \"2. 노란 재킷 빨래집게.\"\n",
    "    print \"3. 권총이 울부짖는 가락 이해하기.\"\n",
    "    \n",
    "    insanity = raw_input(prompt)\n",
    "    \n",
    "    if insanity == \"1\" or insanity == \"2\":\n",
    "        print \"당신의 육체는 젤리푸딩의 마음의 힘으로 살아남습니다. 잘했어요!\"\n",
    "    else:\n",
    "        print \"광기가 당신의 눈을 썩어 문드러진 시궁창으로 만듭니다. 잘했어요!\"\n",
    "\n",
    "else:\n",
    "    print \"비틀거리다 발을 헛디뎌 칼날로 떨어져 죽습니다. 잘했어요!\""
   ]
  },
  {
   "cell_type": "markdown",
   "metadata": {},
   "source": [
    "## Basic For loop + append "
   ]
  },
  {
   "cell_type": "code",
   "execution_count": 15,
   "metadata": {
    "collapsed": false
   },
   "outputs": [
    {
     "name": "stdout",
     "output_type": "stream",
     "text": [
      "list에 0 숫자를 더합니다.\n",
      "list에 1 숫자를 더합니다.\n",
      "list에 2 숫자를 더합니다.\n",
      "list에 3 숫자를 더합니다.\n",
      "list에 4 숫자를 더합니다.\n",
      "list에 5 숫자를 더합니다.\n",
      "원소는 0\n",
      "원소는 1\n",
      "원소는 2\n",
      "원소는 3\n",
      "원소는 4\n",
      "원소는 5\n"
     ]
    }
   ],
   "source": [
    "elements = []\n",
    "\n",
    "for i in range(0,6):\n",
    "    print \"list에 %d 숫자를 더합니다.\" % i\n",
    "    elements.append(i)\n",
    "\n",
    "for i in elements:\n",
    "    print \"원소는 %d\" % i"
   ]
  },
  {
   "cell_type": "markdown",
   "metadata": {},
   "source": [
    "### Practice "
   ]
  },
  {
   "cell_type": "code",
   "execution_count": 1,
   "metadata": {
    "collapsed": false
   },
   "outputs": [],
   "source": [
    "Matrix = [[1,2,3],[4,5,6],[7,8,9]]\n",
    "elements = []\n",
    "\n",
    "for i in range(0,3):\n",
    "    for j in range(0,len(Matrix[i])):\n",
    "        k = Matrix[i][j]\n",
    "        elements.append(k)"
   ]
  },
  {
   "cell_type": "code",
   "execution_count": 2,
   "metadata": {
    "collapsed": false
   },
   "outputs": [
    {
     "data": {
      "text/plain": [
       "[1, 2, 3, 4, 5, 6, 7, 8, 9]"
      ]
     },
     "execution_count": 2,
     "metadata": {},
     "output_type": "execute_result"
    }
   ],
   "source": [
    "elements"
   ]
  },
  {
   "cell_type": "code",
   "execution_count": 3,
   "metadata": {
    "collapsed": true
   },
   "outputs": [],
   "source": [
    "Matrix = [[1,2,3],[4,5,6],[7,8,9]]\n",
    "elements = []\n",
    "\n",
    "for i in Matrix:\n",
    "    for j in i:\n",
    "        elements.append(j)"
   ]
  },
  {
   "cell_type": "code",
   "execution_count": 4,
   "metadata": {
    "collapsed": false
   },
   "outputs": [
    {
     "data": {
      "text/plain": [
       "[1, 2, 3, 4, 5, 6, 7, 8, 9]"
      ]
     },
     "execution_count": 4,
     "metadata": {},
     "output_type": "execute_result"
    }
   ],
   "source": [
    "elements"
   ]
  },
  {
   "cell_type": "markdown",
   "metadata": {},
   "source": [
    "## Loop & Function"
   ]
  },
  {
   "cell_type": "code",
   "execution_count": 57,
   "metadata": {
    "collapsed": false
   },
   "outputs": [
    {
     "name": "stdout",
     "output_type": "stream",
     "text": [
      "Overwriting game_basic.py\n"
     ]
    }
   ],
   "source": [
    "%%writefile game_basic.py\n",
    "\n",
    "# -*- coding: utf-8 -*-\n",
    "\n",
    "from sys import exit\n",
    "\n",
    "def gold_room():\n",
    "    print \"황금으로 가득 찬 방입니다. 얼마나 가져갈까요?\"\n",
    "    \n",
    "    next = raw_input('>')\n",
    "    if int(next) >= 0:\n",
    "        how_much = int(next)\n",
    "    else:\n",
    "        dead(\"인간이여, 숫자 쓰는 법부터 배우세요.\")\n",
    "    \n",
    "    if how_much < 50:\n",
    "        print \"좋아, 욕심부리지 않는군요. 당신이 이겼습니다!\"\n",
    "        exit(0)\n",
    "    else:\n",
    "        dead(\"욕심쟁이 얼간이 같으니!\")\n",
    "\n",
    "def bear_room():\n",
    "    print \"\"\"\n",
    "    여기에는 곰이 한 마리 있습니다.\n",
    "    곰은 꿀을 잔뜩 들고 있습니다.\n",
    "    뚱뚱한 곰은 다른 쪽 문 앞에 있습니다.\n",
    "    어떻게 곰을 움직이겠습니까?\n",
    "    \"\"\"\n",
    "    \n",
    "    bear_moved = False\n",
    "    \n",
    "    while True:\n",
    "        next = raw_input(\">\")\n",
    "        \n",
    "        if next == \"꿀 뺏기\":\n",
    "            dead(\"곰이 당신을 쳐다보더니 목이 떨어져라 따귀를 날립니다.\")\n",
    "        elif next == \"곰 놀리기\" and not bear_moved:\n",
    "            print \"곰이 문에서 비켜섰습니다. 이제 나갈 수 있습니다.\"\n",
    "            bear_moved = True\n",
    "        elif next == \"곰 놀리기\" and bear_moved:\n",
    "            dead(\"곰이 머리 끝까지 열받아 당신의 다리를 씹어먹습니다.\")\n",
    "        elif next == \"문 열기\" and bear_moved:\n",
    "            gold_room()\n",
    "        else:\n",
    "            print \"무슨 말인지 모르겠네요.\"\n",
    "\n",
    "def Todi_room():\n",
    "    print \"\"\"\n",
    "    여기에는 토디 한 마리가 있습니다.\n",
    "    토디는 아주 귀엽습니다.\n",
    "    볼은 뽀똥하고 코는 귀여우며 팔은 뽀똥합니다.\n",
    "    어디를 만지시겠습니까?\n",
    "    \"\"\"\n",
    "    Todi_touched = False\n",
    "    Todi_lock = True\n",
    "    \n",
    "    while True:\n",
    "        next = raw_input(\">\")\n",
    "        \n",
    "        if next == \"코\" and not Todi_touched:\n",
    "            print \"토디가 깜짝 놀랍니다.\"\n",
    "            Todi_touched = True\n",
    "        elif next == \"코\" and Todi_touched and Todi_lock:\n",
    "            print \"토디가 좋아합니다.\"\n",
    "            Todi_lock = False\n",
    "        elif next == \"코\" and not Todi_lock:\n",
    "            print \"토디가 짜증냅니다.\"\n",
    "            dead(\"토디가 토라졌습니다. 꾸!\")\n",
    "        elif next == \"볼\" and not Todi_lock:\n",
    "            print \"토디 잠금해제에 성공했습니다! 추카추카!\"\n",
    "            exit(0)\n",
    "        elif next == \"볼\" and Todi_lock:\n",
    "            print \"토디가 좋아하지만 원하는 것이 아닙니다.\"\n",
    "        elif next == \"팔\":\n",
    "            print \"토디가 분노합니다!\"\n",
    "            dead(\"꾸꾸꾸꾸꾸!\")\n",
    "        else:\n",
    "            print \"좋은 말 할때, 만지라는 데를 만지십시오.\"\n",
    "\n",
    "def dead(why):\n",
    "    print why, \"Wasted\"\n",
    "    exit(0)\n",
    "\n",
    "def start():\n",
    "    print \"어두운 방에 있습니다.\"\n",
    "    print \"오른쪽과 왼쪽에는 문이 있습니다.\"\n",
    "    print \"어느 쪽을 고를까요?\"\n",
    "    \n",
    "    next = raw_input(\">\")\n",
    "    \n",
    "    if next == \"왼쪽\":\n",
    "        bear_room()\n",
    "    elif next == \"오른쪽\":\n",
    "        Todi_room()\n",
    "    else:\n",
    "        dead(\"문 주위에서 맴돌기만 하다 굶어 죽었습니다.\")\n",
    "        \n",
    "#start()"
   ]
  },
  {
   "cell_type": "code",
   "execution_count": 53,
   "metadata": {
    "collapsed": false
   },
   "outputs": [
    {
     "name": "stdout",
     "output_type": "stream",
     "text": [
      "어두운 방에 있습니다.\n",
      "오른쪽과 왼쪽에는 문이 있습니다.\n",
      "어느 쪽을 고를까요?\n",
      ">오른쪽\n",
      "\n",
      "    여기에는 토디 한 마리가 있습니다.\n",
      "    토디는 아주 귀엽습니다.\n",
      "    볼은 뽀똥하고 코는 귀여우며 팔은 뽀똥합니다.\n",
      "    어디를 만지시겠습니까?\n",
      "    \n",
      ">코\n",
      "토디가 깜짝 놀랍니다.\n",
      ">코\n",
      "토디가 좋아합니다.\n",
      ">코\n",
      "토디가 짜증냅니다.\n",
      "토디가 토라졌습니다. 꾸! Wasted\n"
     ]
    }
   ],
   "source": [
    "%run game_basic.py"
   ]
  },
  {
   "cell_type": "code",
   "execution_count": 58,
   "metadata": {
    "collapsed": false
   },
   "outputs": [],
   "source": [
    "import game_basic"
   ]
  },
  {
   "cell_type": "markdown",
   "metadata": {},
   "source": [
    "## List & Join"
   ]
  },
  {
   "cell_type": "code",
   "execution_count": 64,
   "metadata": {
    "collapsed": false
   },
   "outputs": [
    {
     "name": "stdout",
     "output_type": "stream",
     "text": [
      "잠깐 아직 목록에 10개가 들어 있지 않으니 한 번 고쳐봅시다.\n",
      "추가:  Boy\n",
      "이제 7 항목이 있습니다.\n",
      "추가:  Girl\n",
      "이제 8 항목이 있습니다.\n",
      "추가:  Banana\n",
      "이제 9 항목이 있습니다.\n",
      "추가:  Corn\n",
      "이제 10 항목이 있습니다.\n",
      "한 번 볼까요!  ['Apples', 'Oranges', 'Crows', 'Telephone', 'Light', 'Sugar', 'Boy', 'Girl', 'Banana', 'Corn']\n",
      "이걸로 무언가 해 봅시다.\n",
      "Oranges\n",
      "Corn\n",
      "Corn\n",
      "Apples Oranges Crows Telephone Light Sugar Boy Girl Banana\n",
      "Telephone#Light\n"
     ]
    }
   ],
   "source": [
    "ten_things = \"Apples Oranges Crows Telephone Light Sugar\"\n",
    "\n",
    "print \"잠깐 아직 목록에 10개가 들어 있지 않으니 한 번 고쳐봅시다.\"\n",
    "\n",
    "stuff = ten_things.split(' ')\n",
    "more_stuff = [\"Day\", \"Night\", \"Song\", \"Frisbee\", \"Corn\", \"Banana\", \"Girl\", \"Boy\"]\n",
    "\n",
    "while len(stuff) != 10:\n",
    "    next_one = more_stuff.pop()\n",
    "    print \"추가: \", next_one\n",
    "    stuff.append(next_one)\n",
    "    print \"이제 %d 항목이 있습니다.\" % len(stuff)\n",
    "\n",
    "print \"한 번 볼까요! \", stuff\n",
    "\n",
    "print \"이걸로 무언가 해 봅시다.\"\n",
    "\n",
    "print stuff[1]\n",
    "print stuff[-1]\n",
    "print stuff.pop()\n",
    "print ' '.join(stuff)\n",
    "print '#'.join(stuff[3:5]) # It is same that range(3,5) (= except 5, 3~4)"
   ]
  },
  {
   "cell_type": "code",
   "execution_count": 65,
   "metadata": {
    "collapsed": false
   },
   "outputs": [
    {
     "name": "stdout",
     "output_type": "stream",
     "text": [
      "Apples&Oranges&Crows&Telephone&Light&Sugar&Boy&Girl&Banana\n"
     ]
    }
   ],
   "source": [
    "print '&'.join(stuff)"
   ]
  },
  {
   "cell_type": "code",
   "execution_count": null,
   "metadata": {
    "collapsed": true
   },
   "outputs": [],
   "source": []
  }
 ],
 "metadata": {
  "kernelspec": {
   "display_name": "Python 2",
   "language": "python",
   "name": "python2"
  },
  "language_info": {
   "codemirror_mode": {
    "name": "ipython",
    "version": 2
   },
   "file_extension": ".py",
   "mimetype": "text/x-python",
   "name": "python",
   "nbconvert_exporter": "python",
   "pygments_lexer": "ipython2",
   "version": "2.7.10"
  }
 },
 "nbformat": 4,
 "nbformat_minor": 0
}
