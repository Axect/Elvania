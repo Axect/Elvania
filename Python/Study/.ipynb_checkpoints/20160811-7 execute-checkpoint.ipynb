{
 "cells": [
  {
   "cell_type": "markdown",
   "metadata": {},
   "source": [
    "# Execute 20160811-7.py"
   ]
  },
  {
   "cell_type": "code",
   "execution_count": 2,
   "metadata": {
    "collapsed": false
   },
   "outputs": [
    {
     "name": "stdout",
     "output_type": "stream",
     "text": [
      "파일 전체를 출력해 봅시다.\n",
      "\n",
      "Hello, I'm Mong*2\n",
      "I love Todi\n",
      "Forever\n",
      "\n",
      "이번에는 테이프처럼 되감아 봅시다.\n",
      "세 줄을 출력해 봅시다.\n",
      "1 Hello, I'm Mong*2\n",
      "\n",
      "2 I love Todi\n",
      "\n",
      "3 Forever\n",
      "\n"
     ]
    }
   ],
   "source": [
    "%run 20160811-7.py Socialst.txt"
   ]
  }
 ],
 "metadata": {
  "kernelspec": {
   "display_name": "Python 2",
   "language": "python",
   "name": "python2"
  },
  "language_info": {
   "codemirror_mode": {
    "name": "ipython",
    "version": 2
   },
   "file_extension": ".py",
   "mimetype": "text/x-python",
   "name": "python",
   "nbconvert_exporter": "python",
   "pygments_lexer": "ipython2",
   "version": "2.7.10"
  }
 },
 "nbformat": 4,
 "nbformat_minor": 0
}
