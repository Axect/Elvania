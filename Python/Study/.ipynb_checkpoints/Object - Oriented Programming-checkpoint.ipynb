{
 "cells": [
  {
   "cell_type": "markdown",
   "metadata": {},
   "source": [
    "# Class"
   ]
  },
  {
   "cell_type": "markdown",
   "metadata": {},
   "source": [
    "* class X(Y): - X 클래스라는 Y의 일종(X is-a Y)을 만든다.\n",
    "* class X(object): def __init__(self,J) - X 클래스는 self 와 J 매개변수를 받는 __init__을 가졌다.\n",
    "* class X(object): def M(self, J) - Same\n",
    "* foo = X() - foo변수를 X클래스의 인스턴스 하나로 정한다.\n",
    "* foo.M(J) - foo변수에서 M함수를 받아 self, J 매개변수를 넣어 호출한다.\n",
    "* foo.K = Q - foo변수에서 K속성을 받아 Q값으로 정한다"
   ]
  },
  {
   "cell_type": "code",
   "execution_count": 4,
   "metadata": {
    "collapsed": false
   },
   "outputs": [
    {
     "name": "stdout",
     "output_type": "stream",
     "text": [
      "Overwriting oop_test.py\n"
     ]
    }
   ],
   "source": [
    "%%writefile oop_test.py\n",
    "\n",
    "# -*- coding: utf-8 -*-\n",
    "\n",
    "import random\n",
    "from urllib import urlopen\n",
    "import sys\n",
    "\n",
    "WORD_URL = \"http://learncodethehardway.org/words.txt\"\n",
    "\n",
    "WORDS = []\n",
    "\n",
    "PHRASES = {\n",
    "    \"class %%%(%%%):\":\n",
    "        \"%%% 클래스라는 %%%의 일종을 만든다.\", # is-a\n",
    "    \"class %%%(object):\\n\\tdef __init__(self, ***)\":\n",
    "        \"%%% 클래스는 self와 *** 매개변수를 받는 __init__을 가졌다.\", # has-a\n",
    "    \"class %%%(object):\\n\\tdef ***(self, @@@)\":\n",
    "        \"%%% 클래스는 self와 @@@ 매개변수를 받는 이름이 ***인 함수를 가졌다.\", # has-a\n",
    "    \"*** = %%%()\":\n",
    "        \"*** 변수를 %%% 클래스의 인스턴스 하나로 정한다.\",\n",
    "    \"***.***(@@@)\":\n",
    "        \"*** 변수에서 *** 함수를 받아 self, @@@ 매개변수를 넣어 호출한다.\",\n",
    "    \"***.*** = '***'\":\n",
    "        \"*** 변수에서 *** 속성을 받아 *** 값으로 정한다.\",\n",
    "}\n",
    "\n",
    "if len(sys.argv) == 2 and sys.argv[1] == \"한국어\":\n",
    "    PHRASE_FIRST = True\n",
    "else:\n",
    "    PHRASE_FIRST = False\n",
    "\n",
    "for word in urlopen(WORD_URL).readlines():\n",
    "    WORDS.append(word.strip())\n",
    "\n",
    "def convert(snippet, phrase):\n",
    "    class_names = [w.capitalize() for w in random.sample(WORDS, snippet.count(\"%%%\"))]\n",
    "    other_names = random.sample(WORDS, snippet.count(\"***\"))\n",
    "    results = []\n",
    "    param_names = []\n",
    "    \n",
    "    for i in range(0, snippet.count(\"@@@\")):\n",
    "        param_count = random.randint(1,3)\n",
    "        param_names.append(', '.join(random.sample(WORDS, param_count)))\n",
    "        \n",
    "    for sentence in snippet, phrase:\n",
    "        result = sentence[:]\n",
    "        \n",
    "        for word in class_names:\n",
    "            result = result.replace(\"%%%\", word, 1)\n",
    "            \n",
    "        for word in other_names:\n",
    "            result = result.replace(\"***\", word, 1)\n",
    "        \n",
    "        for word in param_names:\n",
    "            result = result.replace(\"@@@\", word, 1)\n",
    "        \n",
    "        results.append(result)\n",
    "    \n",
    "    return results\n",
    "\n",
    "try:\n",
    "    while True:\n",
    "        snippets = PHRASES.keys()\n",
    "        random.shuffle(snippets)\n",
    "        \n",
    "        for snippet in snippets:\n",
    "            phrase = PHRASES[snippet]\n",
    "            question, answer = convert(snippet, phrase)\n",
    "            if PHRASE_FIRST:\n",
    "                question, answer = answer, question\n",
    "            \n",
    "            print question\n",
    "            \n",
    "            raw_input(\">\")\n",
    "            print \"답: %s\\n\\n\" % answer\n",
    "\n",
    "except EOFError:\n",
    "    print \"\\nBye\"            "
   ]
  },
  {
   "cell_type": "markdown",
   "metadata": {},
   "source": [
    "## Class & Object"
   ]
  },
  {
   "cell_type": "code",
   "execution_count": 7,
   "metadata": {
    "collapsed": false
   },
   "outputs": [],
   "source": [
    "## is-a (Animal은 Object의 일종이다.)\n",
    "class Animal(object):\n",
    "    pass\n",
    "\n",
    "## is-a\n",
    "class Dog(Animal):\n",
    "    \n",
    "    def __init__(self, name):\n",
    "        ## has-a\n",
    "        self.name = name\n",
    "\n",
    "## is-a\n",
    "class Cat(Animal):\n",
    "    \n",
    "    def __init__(self, name):\n",
    "        ## has-a\n",
    "        self.name = name\n",
    "\n",
    "## is-a\n",
    "class Person(object):\n",
    "    \n",
    "    def __init__(self, name):\n",
    "        ## has-a\n",
    "        self.name = name\n",
    "        \n",
    "        ## has-a\n",
    "        self.pet = None\n",
    "\n",
    "## is-a\n",
    "class Employee(Person):\n",
    "    \n",
    "    def __init__(self, name, salary):\n",
    "        ## has-a\n",
    "        super(Employee, self).__init__(name)\n",
    "        ## has-a\n",
    "        self.salary = salary\n",
    "    \n",
    "## is-a\n",
    "class Fish(object):\n",
    "    pass\n",
    "\n",
    "## is-a\n",
    "class Salmon(Fish):\n",
    "    pass\n",
    "\n",
    "## is-a\n",
    "class Halibut(Fish):\n",
    "    pass\n",
    "\n",
    "## is-a\n",
    "rover = Dog('Rover')\n",
    "\n",
    "## is-a\n",
    "satan = Cat('Satan')\n",
    "\n",
    "## is-a\n",
    "mary = Person(\"Mary\")\n",
    "\n",
    "## has-a\n",
    "mary.pet = satan\n",
    "\n",
    "## is-a\n",
    "frank = Employee(\"Frank\", 120000)\n",
    "\n",
    "## has-a\n",
    "frank.pet = rover\n",
    "\n",
    "## is-a\n",
    "flipper = Fish()\n",
    "\n",
    "## is-a\n",
    "crouse = Salmon()\n",
    "\n",
    "## is-a\n",
    "harry = Halibut()"
   ]
  },
  {
   "cell_type": "code",
   "execution_count": 15,
   "metadata": {
    "collapsed": false
   },
   "outputs": [
    {
     "data": {
      "text/plain": [
       "'Frank'"
      ]
     },
     "execution_count": 15,
     "metadata": {},
     "output_type": "execute_result"
    }
   ],
   "source": [
    "frank.name"
   ]
  }
 ],
 "metadata": {
  "kernelspec": {
   "display_name": "Python 2",
   "language": "python",
   "name": "python2"
  },
  "language_info": {
   "codemirror_mode": {
    "name": "ipython",
    "version": 2
   },
   "file_extension": ".py",
   "mimetype": "text/x-python",
   "name": "python",
   "nbconvert_exporter": "python",
   "pygments_lexer": "ipython2",
   "version": "2.7.10"
  }
 },
 "nbformat": 4,
 "nbformat_minor": 0
}
