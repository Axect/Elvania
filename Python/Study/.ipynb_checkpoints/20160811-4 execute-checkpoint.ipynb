{
 "cells": [
  {
   "cell_type": "markdown",
   "metadata": {},
   "source": [
    "# 2016 08 11 Study"
   ]
  },
  {
   "cell_type": "markdown",
   "metadata": {},
   "source": [
    "## Read and Write"
   ]
  },
  {
   "cell_type": "code",
   "execution_count": 3,
   "metadata": {
    "collapsed": false
   },
   "outputs": [
    {
     "name": "stdout",
     "output_type": "stream",
     "text": [
      "'Socialst.txt' 파일을 지우려 합니다.\n",
      "취소하려면 CTRL-C(^C)를 누르세요.\n",
      "진행하려면 리턴을 누르세요.\n",
      "?\n",
      "파일 여는 중...\n",
      "파일 내용을 지웁니다. 안녕히!\n",
      "이제 세 줄에 들어갈 내용을 묻겠습니다.\n",
      "0> Hello, I'm Mong*2\n",
      "1> I love Todi\n",
      "2> Forever\n",
      "이 내용을 파일에 씁니다.\n",
      "마지막으로 닫습니다.\n"
     ]
    }
   ],
   "source": [
    "%run 20160811-4.py Socialst.txt"
   ]
  },
  {
   "cell_type": "code",
   "execution_count": 4,
   "metadata": {
    "collapsed": false
   },
   "outputs": [
    {
     "name": "stdout",
     "output_type": "stream",
     "text": [
      "Hello, I'm Mong*2\n",
      "I love Todi\n",
      "Forever\n",
      "\n"
     ]
    }
   ],
   "source": [
    "txt = open('Socialst.txt','r')\n",
    "print txt.read()"
   ]
  },
  {
   "cell_type": "code",
   "execution_count": null,
   "metadata": {
    "collapsed": true
   },
   "outputs": [],
   "source": []
  }
 ],
 "metadata": {
  "kernelspec": {
   "display_name": "Python 2",
   "language": "python",
   "name": "python2"
  },
  "language_info": {
   "codemirror_mode": {
    "name": "ipython",
    "version": 2
   },
   "file_extension": ".py",
   "mimetype": "text/x-python",
   "name": "python",
   "nbconvert_exporter": "python",
   "pygments_lexer": "ipython2",
   "version": "2.7.10"
  }
 },
 "nbformat": 4,
 "nbformat_minor": 0
}
