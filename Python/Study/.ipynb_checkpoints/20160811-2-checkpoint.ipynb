{
 "cells": [
  {
   "cell_type": "markdown",
   "metadata": {},
   "source": [
    "# 2016 08 11 Study"
   ]
  },
  {
   "cell_type": "markdown",
   "metadata": {},
   "source": [
    "## Prompt"
   ]
  },
  {
   "cell_type": "code",
   "execution_count": 2,
   "metadata": {
    "collapsed": true
   },
   "outputs": [],
   "source": [
    "# -*- coding: utf-8 -*-\n",
    "\n",
    "from sys import argv"
   ]
  },
  {
   "cell_type": "code",
   "execution_count": null,
   "metadata": {
    "collapsed": true
   },
   "outputs": [],
   "source": [
    "script, user_name = argv\n",
    "prompt = '> '\n",
    "\n",
    "print \"안녕 %s, 나는 %s 스크립트야.\" % (user_name, script)\n",
    "print \"몇 가지 질문을 할게.\"\n",
    "print \"%s, 나를 좋아해?\" % user_name\n",
    "likes = raw_input(prompt)\n",
    "\n",
    "print \"%s, 어디에 살아?\" % user_name\n",
    "lives = raw_input(prompt)\n",
    "\n",
    "print \"무슨 종류의 컴퓨터를 갖고 있어?\"\n",
    "computer = raw_input(prompt)\n",
    "\n",
    "print \"\"\"\n",
    "좋아, 나를 좋아하냐는 질문에는 '%s'.\n",
    "'%s'에 살아. 어딘지는 모르겠지만.\n",
    "그리고 '%s' 컴퓨터를 가졌어. 멋져.\n",
    "\"\"\" % (likes, lives, computer)"
   ]
  }
 ],
 "metadata": {
  "kernelspec": {
   "display_name": "Python 2",
   "language": "python",
   "name": "python2"
  },
  "language_info": {
   "codemirror_mode": {
    "name": "ipython",
    "version": 2
   },
   "file_extension": ".py",
   "mimetype": "text/x-python",
   "name": "python",
   "nbconvert_exporter": "python",
   "pygments_lexer": "ipython2",
   "version": "2.7.10"
  }
 },
 "nbformat": 4,
 "nbformat_minor": 0
}
