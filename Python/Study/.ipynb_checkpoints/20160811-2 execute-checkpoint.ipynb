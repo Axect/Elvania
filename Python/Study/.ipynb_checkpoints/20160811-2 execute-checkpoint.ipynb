{
 "cells": [
  {
   "cell_type": "markdown",
   "metadata": {},
   "source": [
    "# 2016 08 11 Study"
   ]
  },
  {
   "cell_type": "markdown",
   "metadata": {},
   "source": [
    "## Prompt"
   ]
  },
  {
   "cell_type": "markdown",
   "metadata": {},
   "source": [
    "It is only execute file. Let's see 20160811-2.ipynb"
   ]
  },
  {
   "cell_type": "code",
   "execution_count": 3,
   "metadata": {
    "collapsed": false
   },
   "outputs": [
    {
     "name": "stdout",
     "output_type": "stream",
     "text": [
      "안녕 Axect, 나는 20160811-2.py 스크립트야.\n",
      "몇 가지 질문을 할게.\n",
      "Axect, 나를 좋아해?\n",
      "> Yes\n",
      "Axect, 어디에 살아?\n",
      "> 김포\n",
      "무슨 종류의 컴퓨터를 갖고 있어?\n",
      "> ASUS\n",
      "\n",
      "좋아, 나를 좋아하냐는 질문에는 'Yes'.\n",
      "'김포'에 살아. 어딘지는 모르겠지만.\n",
      "그리고 'ASUS' 컴퓨터를 가졌어. 멋져.\n",
      "\n"
     ]
    }
   ],
   "source": [
    "%run 20160811-2.py Axect"
   ]
  }
 ],
 "metadata": {
  "kernelspec": {
   "display_name": "Python 2",
   "language": "python",
   "name": "python2"
  },
  "language_info": {
   "codemirror_mode": {
    "name": "ipython",
    "version": 2
   },
   "file_extension": ".py",
   "mimetype": "text/x-python",
   "name": "python",
   "nbconvert_exporter": "python",
   "pygments_lexer": "ipython2",
   "version": "2.7.10"
  }
 },
 "nbformat": 4,
 "nbformat_minor": 0
}
