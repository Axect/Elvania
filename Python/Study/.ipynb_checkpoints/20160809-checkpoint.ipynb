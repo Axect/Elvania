{
 "cells": [
  {
   "cell_type": "markdown",
   "metadata": {},
   "source": [
    "# 2016 08 09 Study"
   ]
  },
  {
   "cell_type": "markdown",
   "metadata": {},
   "source": [
    "## Format String"
   ]
  },
  {
   "cell_type": "code",
   "execution_count": 1,
   "metadata": {
    "collapsed": false
   },
   "outputs": [],
   "source": [
    "# -*- coding: utf-8 -*-"
   ]
  },
  {
   "cell_type": "code",
   "execution_count": 2,
   "metadata": {
    "collapsed": false
   },
   "outputs": [
    {
     "name": "stdout",
     "output_type": "stream",
     "text": [
      "Axect에 대해 이야기해 보죠.\n",
      "키는 180 cm이고요.\n",
      "몸무게는 80 kg이에요.\n",
      "사실 아주 많이 나가는 건 아니죠 (?!)\n",
      "눈은 갈색이고 머리는 흑색이에요.\n",
      "이는 보통 하양이고요 커피를 먹으며 달라져요.\n",
      "23, 180, 80를 모두 더하면 283랍니다.\n"
     ]
    }
   ],
   "source": [
    "Information = {\n",
    "    'name' : 'Axect',\n",
    "    'age' : 23,\n",
    "    'height' : 180,\n",
    "    'weight' : 80,\n",
    "    'eyes' : '갈색',\n",
    "    'teeth' : '하양',\n",
    "    'hair' : '흑색'\n",
    "    }\n",
    "\n",
    "a = Information['age']\n",
    "h = Information['height']\n",
    "w = Information['weight']\n",
    "\n",
    "print \"%s에 대해 이야기해 보죠.\" % Information['name']\n",
    "print \"키는 %d cm이고요.\" % Information['height']\n",
    "print \"몸무게는 %d kg이에요.\" % Information['weight']\n",
    "print \"사실 아주 많이 나가는 건 아니죠 (?!)\"\n",
    "print \"눈은 %s이고 머리는 %s이에요.\" % (Information['eyes'], Information['hair'])\n",
    "print \"이는 보통 %s이고요 커피를 먹으며 달라져요.\" % Information['teeth']\n",
    "\n",
    "print \"%d, %d, %d를 모두 더하면 %d랍니다.\" % (a,h,w,a+h+w)"
   ]
  },
  {
   "cell_type": "code",
   "execution_count": 3,
   "metadata": {
    "collapsed": false
   },
   "outputs": [
    {
     "name": "stdout",
     "output_type": "stream",
     "text": [
      "마리에겐 꼬마 양이 있지.\n",
      "양털은 눈처럼 새하얗네.\n",
      "그리고 마리가 가는 곳마다.\n",
      "..........\n",
      "맛있는\n",
      "치즈버거\n",
      "맛있는 치즈버거\n"
     ]
    }
   ],
   "source": [
    "print \"마리에겐 꼬마 양이 있지.\"\n",
    "print \"양털은 %s처럼 새하얗네.\" % '눈'\n",
    "print \"그리고 마리가 가는 곳마다.\"\n",
    "print \".\" * 10\n",
    "\n",
    "end1 = '맛'\n",
    "end2 = '있'\n",
    "end3 = '는'\n",
    "end4 = '치'\n",
    "end5 = '즈'\n",
    "end6 = '버'\n",
    "end7 = '거'\n",
    "\n",
    "print end1 + end2 + end3\n",
    "print end4 + end5 + end6 + end7\n",
    "\n",
    "print end1 + end2 + end3, # Comma is Important!\n",
    "print end4 + end5 + end6 + end7"
   ]
  },
  {
   "cell_type": "code",
   "execution_count": 4,
   "metadata": {
    "collapsed": false
   },
   "outputs": [
    {
     "name": "stdout",
     "output_type": "stream",
     "text": [
      "1 2 3 4\n",
      "하나 둘 셋 넷\n",
      "True False True False\n",
      "True False True False\n",
      "%s %s %s %s %s %s %s %s %s %s %s %s %s %s %s %s\n",
      "I had this thing That you could type up right But it didn't sing. So I said goodnight.\n",
      "'I had this thing' 'That you could type up right' \"But it didn't sing.\" 'So I said goodnight.'\n"
     ]
    }
   ],
   "source": [
    "Something = \"%s %s %s %s\"\n",
    "\n",
    "print Something % (1,2,3,4)\n",
    "print Something % ('하나', '둘', '셋', '넷')\n",
    "print Something % (True, False, True, False) # These words \n",
    "print Something % ('True', 'False', 'True', 'False')\n",
    "print Something % (Something, Something, Something, Something)\n",
    "print Something % (\n",
    "    \"I had this thing\",\n",
    "    \"That you could type up right\",\n",
    "    \"But it didn't sing.\",\n",
    "    \"So I said goodnight.\"\n",
    ")\n",
    "\n",
    "Something2 = \"%r %r %r %r\"\n",
    "\n",
    "print Something2 % (\n",
    "    \"I had this thing\",\n",
    "    \"That you could type up right\",\n",
    "    \"But it didn't sing.\",\n",
    "    \"So I said goodnight.\"\n",
    ")"
   ]
  },
  {
   "cell_type": "code",
   "execution_count": 5,
   "metadata": {
    "collapsed": false
   },
   "outputs": [
    {
     "name": "stdout",
     "output_type": "stream",
     "text": [
      "\n",
      "여기 무언가가 있어요.\n",
      "세 개의 큰 따옴표 안에요.\n",
      "쓰고 싶은 만큼 쓸 수 있어요.\n",
      "4줄이든, 5줄이든, 6줄이든 원하는 만큼.\n",
      "\n"
     ]
    }
   ],
   "source": [
    "print \"\"\"\n",
    "여기 무언가가 있어요.\n",
    "세 개의 큰 따옴표 안에요.\n",
    "쓰고 싶은 만큼 쓸 수 있어요.\n",
    "4줄이든, 5줄이든, 6줄이든 원하는 만큼.\n",
    "\"\"\""
   ]
  },
  {
   "cell_type": "code",
   "execution_count": 6,
   "metadata": {
    "collapsed": false
   },
   "outputs": [
    {
     "name": "stdout",
     "output_type": "stream",
     "text": [
      "\n",
      "할 일 목록:\n",
      "\t* 고양이 밥\n",
      "\t* 물고기\n",
      "\t* 개박하\n",
      "\t* 오리새\n",
      "\n"
     ]
    }
   ],
   "source": [
    "fat_cat = \"\"\"\n",
    "할 일 목록:\n",
    "\\t* 고양이 밥\n",
    "\\t* 물고기\n",
    "\\t* 개박하\\n\\t* 오리새\n",
    "\"\"\"\n",
    "\n",
    "print fat_cat"
   ]
  },
  {
   "cell_type": "code",
   "execution_count": 11,
   "metadata": {
    "collapsed": false
   },
   "outputs": [
    {
     "name": "stdout",
     "output_type": "stream",
     "text": [
      "제 오래 달리기 기록은 6'2\"입니다.\n",
      "제 오래 달리기 기록은 6'2\"입니다.\n"
     ]
    }
   ],
   "source": [
    "print \"제 오래 달리기 기록은 6'2\\\"입니다.\"\n",
    "print '제 오래 달리기 기록은 6\\'2\"입니다.'"
   ]
  },
  {
   "cell_type": "code",
   "execution_count": 13,
   "metadata": {
    "collapsed": false
   },
   "outputs": [
    {
     "name": "stdout",
     "output_type": "stream",
     "text": [
      "몇 살이죠?23\n",
      " 키는 얼마죠?180\n",
      " 몸무게는 얼마죠?80\n",
      " 네, 나이는 '23'살, 키는 '180', 몸무게는 '80'이네요.\n",
      "뜬금없지만, 태양의 각지름은 '32\\'10\"' 정도입니다.\n",
      "'32\\'10\"'\n"
     ]
    }
   ],
   "source": [
    "print \"몇 살이죠?\",\n",
    "age = raw_input()\n",
    "print \"키는 얼마죠?\",\n",
    "height = raw_input()\n",
    "print \"몸무게는 얼마죠?\",\n",
    "weight = raw_input()\n",
    "\n",
    "print \"네, 나이는 %r살, 키는 %r, 몸무게는 %r이네요.\" % (age,height,weight)\n",
    "print \"뜬금없지만, 태양의 각지름은 %r 정도입니다.\" % '''32'10\"'''"
   ]
  },
  {
   "cell_type": "code",
   "execution_count": 14,
   "metadata": {
    "collapsed": false
   },
   "outputs": [
    {
     "name": "stdout",
     "output_type": "stream",
     "text": [
      "32'10\"\n"
     ]
    }
   ],
   "source": [
    "print \"%s\" % '''32\\'10\"'''"
   ]
  },
  {
   "cell_type": "code",
   "execution_count": null,
   "metadata": {
    "collapsed": true
   },
   "outputs": [],
   "source": []
  }
 ],
 "metadata": {
  "kernelspec": {
   "display_name": "Python 2",
   "language": "python",
   "name": "python2"
  },
  "language_info": {
   "codemirror_mode": {
    "name": "ipython",
    "version": 2
   },
   "file_extension": ".py",
   "mimetype": "text/x-python",
   "name": "python",
   "nbconvert_exporter": "python",
   "pygments_lexer": "ipython2",
   "version": "2.7.10"
  }
 },
 "nbformat": 4,
 "nbformat_minor": 0
}
