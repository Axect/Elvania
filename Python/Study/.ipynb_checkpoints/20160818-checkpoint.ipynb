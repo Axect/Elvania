{
 "cells": [
  {
   "cell_type": "markdown",
   "metadata": {},
   "source": [
    "# 2016 08 18 Study"
   ]
  },
  {
   "cell_type": "markdown",
   "metadata": {},
   "source": [
    "## Inheritance & Composition"
   ]
  },
  {
   "cell_type": "markdown",
   "metadata": {},
   "source": [
    "* 자식이 묵시적으로 부모의 동작을 한다.\n",
    "* 자식이 부모의 동작을 덮어쓴다.\n",
    "* 자식이 부모의 동작을 대체한다."
   ]
  },
  {
   "cell_type": "markdown",
   "metadata": {},
   "source": [
    "### Implicit"
   ]
  },
  {
   "cell_type": "code",
   "execution_count": 5,
   "metadata": {
    "collapsed": true
   },
   "outputs": [],
   "source": [
    "class Parent(object):\n",
    "    \n",
    "    def implicit(self):\n",
    "        print \"부모 implicit()\"\n",
    "\n",
    "\n",
    "class Child(Parent):\n",
    "    pass"
   ]
  },
  {
   "cell_type": "code",
   "execution_count": 6,
   "metadata": {
    "collapsed": true
   },
   "outputs": [],
   "source": [
    "dad = Parent()\n",
    "son = Child()"
   ]
  },
  {
   "cell_type": "code",
   "execution_count": 7,
   "metadata": {
    "collapsed": false
   },
   "outputs": [
    {
     "name": "stdout",
     "output_type": "stream",
     "text": [
      "부모 implicit()\n",
      "부모 implicit()\n"
     ]
    }
   ],
   "source": [
    "dad.implicit()\n",
    "son.implicit()"
   ]
  },
  {
   "cell_type": "markdown",
   "metadata": {},
   "source": [
    "** Practice **"
   ]
  },
  {
   "cell_type": "code",
   "execution_count": 9,
   "metadata": {
    "collapsed": false
   },
   "outputs": [],
   "source": [
    "class Scene(object):\n",
    "\n",
    "    def enter(self):\n",
    "        print \"방에 들어갑니다.\"\n",
    "\n",
    "class Home(Scene):\n",
    "    pass\n",
    "\n",
    "class Subway(Scene):\n",
    "    pass"
   ]
  },
  {
   "cell_type": "code",
   "execution_count": 12,
   "metadata": {
    "collapsed": false
   },
   "outputs": [],
   "source": [
    "Todi = Home()\n",
    "Mong = Subway()"
   ]
  },
  {
   "cell_type": "code",
   "execution_count": 13,
   "metadata": {
    "collapsed": false
   },
   "outputs": [
    {
     "name": "stdout",
     "output_type": "stream",
     "text": [
      "방에 들어갑니다.\n",
      "방에 들어갑니다.\n"
     ]
    }
   ],
   "source": [
    "Todi.enter()\n",
    "Mong.enter()"
   ]
  },
  {
   "cell_type": "markdown",
   "metadata": {},
   "source": [
    "### Override"
   ]
  },
  {
   "cell_type": "code",
   "execution_count": 14,
   "metadata": {
    "collapsed": true
   },
   "outputs": [],
   "source": [
    "class Parent(object):\n",
    "    \n",
    "    def override(self):\n",
    "        print \"부모 override()\"\n",
    "\n",
    "class Child(Parent):\n",
    "    \n",
    "    def override(self):\n",
    "        print \"자식 override()\""
   ]
  },
  {
   "cell_type": "code",
   "execution_count": 15,
   "metadata": {
    "collapsed": true
   },
   "outputs": [],
   "source": [
    "dad = Parent()\n",
    "son = Child()"
   ]
  },
  {
   "cell_type": "code",
   "execution_count": 16,
   "metadata": {
    "collapsed": false
   },
   "outputs": [
    {
     "name": "stdout",
     "output_type": "stream",
     "text": [
      "부모 override()\n",
      "자식 override()\n"
     ]
    }
   ],
   "source": [
    "dad.override()\n",
    "son.override()"
   ]
  },
  {
   "cell_type": "markdown",
   "metadata": {},
   "source": [
    "### Altered"
   ]
  },
  {
   "cell_type": "code",
   "execution_count": 17,
   "metadata": {
    "collapsed": true
   },
   "outputs": [],
   "source": [
    "class Parent(object):\n",
    "    \n",
    "    def altered(self):\n",
    "        print \"부모 altered()\"\n",
    "        \n",
    "        \n",
    "class Child(Parent):\n",
    "    \n",
    "    def altered(self):\n",
    "        print \"자식, 부모 altered() 호출 전\"\n",
    "        super(Child, self).altered()\n",
    "        print \"자식, 부모 altered() 호출 후\""
   ]
  },
  {
   "cell_type": "code",
   "execution_count": 18,
   "metadata": {
    "collapsed": true
   },
   "outputs": [],
   "source": [
    "dad = Parent()\n",
    "son = Child()"
   ]
  },
  {
   "cell_type": "code",
   "execution_count": 19,
   "metadata": {
    "collapsed": false
   },
   "outputs": [
    {
     "name": "stdout",
     "output_type": "stream",
     "text": [
      "부모 altered()\n",
      "자식, 부모 altered() 호출 전\n",
      "부모 altered()\n",
      "자식, 부모 altered() 호출 후\n"
     ]
    }
   ],
   "source": [
    "dad.altered()\n",
    "son.altered()"
   ]
  },
  {
   "cell_type": "markdown",
   "metadata": {},
   "source": [
    "** Practice **"
   ]
  },
  {
   "cell_type": "code",
   "execution_count": 29,
   "metadata": {
    "collapsed": true
   },
   "outputs": [],
   "source": [
    "class Scene(object):\n",
    "    \n",
    "    def enter(self):\n",
    "        print \"아장 아장\"\n",
    "        \n",
    "        \n",
    "class Home(Scene):\n",
    "    \n",
    "    def enter(self):\n",
    "        print \"집에 들어갑니다.\"\n",
    "        super(Home, self).enter()\n",
    "                "
   ]
  },
  {
   "cell_type": "code",
   "execution_count": 30,
   "metadata": {
    "collapsed": true
   },
   "outputs": [],
   "source": [
    "Todi = Home()"
   ]
  },
  {
   "cell_type": "code",
   "execution_count": 32,
   "metadata": {
    "collapsed": false
   },
   "outputs": [
    {
     "name": "stdout",
     "output_type": "stream",
     "text": [
      "집에 들어갑니다.\n",
      "아장 아장\n"
     ]
    }
   ],
   "source": [
    "Todi.enter()"
   ]
  },
  {
   "cell_type": "code",
   "execution_count": 6,
   "metadata": {
    "collapsed": true
   },
   "outputs": [],
   "source": [
    "class Action(object):\n",
    "    \n",
    "    act_list = ['Mirror', 'Phone', 'TV', 'Todi'] # 모든 행위 목록.\n",
    "    \n",
    "    def __init__(self):\n",
    "        # 역시나 이것도 각 방마다 Override해야함.\n",
    "        self.act_list = Action.act_list\n",
    "        \n",
    "    def Show_act(self):\n",
    "        print \"이 방에서 할 수 있는 것은\"\n",
    "        print self.act_list\n",
    "\n",
    "class Room(Action):\n",
    "\n",
    "    door_list = ['Aroom', 'Broom'] # 일단은 모든 방 목록.\n",
    "    \n",
    "    def __init__(self):\n",
    "        # 여기서는 모든방이지만 각각의 방에서 Override할 예정.\n",
    "        # class의 variable은 클래스를 instance화 시키지 않아도 사용가능!\n",
    "        super(Room, self).__init__() # Action에서 __init__을 호출함 = Actionlist 받아옴.\n",
    "        self.door_list = Room.door_list \n",
    "        \n",
    "    \n",
    "    def Show_room(self):\n",
    "        print \"이동할 수 있는 방은\"\n",
    "        print self.door_list # 어디로 갈 수 있는지 보여줌.\n",
    "        \n",
    "class Aroom(Room):\n",
    "    \n",
    "    door_list = ['Broom']\n",
    "    act_list = ['Mirror', 'Phone']\n",
    "    def __init__(self):\n",
    "        self.act_list = Aroom.act_list\n",
    "        self.door_list = Aroom.door_list # Room의 init을 Override함."
   ]
  },
  {
   "cell_type": "code",
   "execution_count": 7,
   "metadata": {
    "collapsed": true
   },
   "outputs": [],
   "source": [
    "a = Aroom()"
   ]
  },
  {
   "cell_type": "code",
   "execution_count": 9,
   "metadata": {
    "collapsed": false
   },
   "outputs": [
    {
     "name": "stdout",
     "output_type": "stream",
     "text": [
      "이 방에서 할 수 있는 것은\n",
      "['Mirror', 'Phone']\n",
      "이동할 수 있는 방은\n",
      "['Broom']\n"
     ]
    }
   ],
   "source": [
    "a.Show_act()\n",
    "a.Show_room()"
   ]
  },
  {
   "cell_type": "markdown",
   "metadata": {},
   "source": [
    "## Composition"
   ]
  },
  {
   "cell_type": "code",
   "execution_count": 33,
   "metadata": {
    "collapsed": true
   },
   "outputs": [],
   "source": [
    "class Other(object):\n",
    "    \n",
    "    def override(self):\n",
    "        print \"다른 override()\"\n",
    "        \n",
    "    def implicit(self):\n",
    "        print \"다른 implicit()\"\n",
    "        \n",
    "    def altered(self):\n",
    "        print \"다른 alterd()\"\n",
    "        \n",
    "class Child(object):\n",
    "    \n",
    "    def __init__(self):\n",
    "        self.other = Other()\n",
    "        \n",
    "    def implicit(self):\n",
    "        self.other.implicit()\n",
    "        \n",
    "    def override(self):\n",
    "        self.other.override()\n",
    "        \n",
    "    def altered(self):\n",
    "        self.other.altered()"
   ]
  },
  {
   "cell_type": "code",
   "execution_count": 34,
   "metadata": {
    "collapsed": true
   },
   "outputs": [],
   "source": [
    "son = Child()"
   ]
  },
  {
   "cell_type": "code",
   "execution_count": 35,
   "metadata": {
    "collapsed": false
   },
   "outputs": [
    {
     "name": "stdout",
     "output_type": "stream",
     "text": [
      "다른 implicit()\n",
      "다른 override()\n",
      "다른 alterd()\n"
     ]
    }
   ],
   "source": [
    "son.implicit()\n",
    "son.override()\n",
    "son.altered()"
   ]
  }
 ],
 "metadata": {
  "kernelspec": {
   "display_name": "Python 2",
   "language": "python",
   "name": "python2"
  },
  "language_info": {
   "codemirror_mode": {
    "name": "ipython",
    "version": 2
   },
   "file_extension": ".py",
   "mimetype": "text/x-python",
   "name": "python",
   "nbconvert_exporter": "python",
   "pygments_lexer": "ipython2",
   "version": "2.7.10"
  }
 },
 "nbformat": 4,
 "nbformat_minor": 0
}
