{
 "cells": [
  {
   "cell_type": "markdown",
   "metadata": {},
   "source": [
    "# 3 Room Game"
   ]
  },
  {
   "cell_type": "markdown",
   "metadata": {},
   "source": [
    "## Test (동등한 관계의 방)"
   ]
  },
  {
   "cell_type": "code",
   "execution_count": 1,
   "metadata": {
    "collapsed": false
   },
   "outputs": [
    {
     "name": "stdout",
     "output_type": "stream",
     "text": [
      "Overwriting Three_room.py\n"
     ]
    }
   ],
   "source": [
    "# %%writefile Three_room.py\n",
    "\n",
    "# -*- coding: utf-8 -*-\n",
    "\n",
    "import random\n",
    "\n",
    "class Room(object):\n",
    "\n",
    "    door_list = ['Aroom', 'Broom', 'Croom'] # 일단은 모든 방 목록.\n",
    "    \n",
    "    def __init__(self):\n",
    "        # 여기서는 모든방이지만 각각의 방에서 Override할 예정.\n",
    "        # class의 variable은 클래스를 instance화 시키지 않아도 사용가능!\n",
    "        self.door_list = Room.door_list \n",
    "        \n",
    "    \n",
    "    def enter(self):\n",
    "        print self.door_list # 어디로 갈 수 있는지 보여줌.\n",
    "            \n",
    "    def move(self):\n",
    "        self.door = raw_input('>') # 일단, 텍스트로 움직일 방을 받음.\n",
    "        \n",
    "        if self.door in self.door_list:\n",
    "            # 텍스트로 받은 방을 Map의 사전으로 방 객체를 호출 (이미 인스턴스화)\n",
    "            self.next_door = Map.room_dict[self.door] \n",
    "            \n",
    "            print \"%s으로 이동하였습니다.\" % self.door\n",
    "            return self.next_door\n",
    "        else:\n",
    "            print \"이동하지 않았습니다.\"\n",
    "            return Map.room_dict[self.door]\n",
    "\n",
    "class Engine(object):\n",
    "    \n",
    "    def shuffle(self, x): # self는 클래스의 기본 인스턴스, x는 리스트\n",
    "        self.x = list(x) # 즉, self.x란 Engine.x를 의미함.\n",
    "        random.shuffle(self.x)\n",
    "        return self.x\n",
    "\n",
    "    def init_point(self): # 시작위치를 랜덤으로 지정할것임.\n",
    "        self.door_list = Room.door_list\n",
    "        # Engine 내에 함수가 있기에 self.shuffle을 사용해야함.(self는 기본 인스턴스)\n",
    "        self.shuffle_list = self.shuffle(self.door_list)\n",
    "        return self.shuffle_list[0]\n",
    "        \n",
    "        \n",
    "class Aroom(Room):\n",
    "    \n",
    "    door_list = ['Broom']\n",
    "    def __init__(self):\n",
    "        self.door_list = Aroom.door_list # Room의 init을 Override함.\n",
    "\n",
    "class Broom(Room):\n",
    "    \n",
    "    door_list = ['Aroom', 'Croom']\n",
    "    def __init__(self):\n",
    "        self.door_list = Broom.door_list # Room의 init을 Override함.\n",
    "\n",
    "class Croom(Room):\n",
    "    \n",
    "    door_list = ['Broom']\n",
    "    def __init__(self):\n",
    "        self.door_list = Croom.door_list # Room의 init을 Override함.\n",
    "\n",
    "class Map(object):\n",
    "    # Room class들을 인스턴스화시키고 사전에 저장.\n",
    "    a = Aroom()\n",
    "    b = Broom()\n",
    "    c = Croom()\n",
    "    \n",
    "    # 텍스트로 받을 input을 객체로 변경시켜주기 위한 사전.\n",
    "    room_dict = {\n",
    "        'Aroom': a,\n",
    "        'Broom': b,\n",
    "        'Croom': c\n",
    "    }"
   ]
  },
  {
   "cell_type": "code",
   "execution_count": 2,
   "metadata": {
    "collapsed": false
   },
   "outputs": [
    {
     "name": "stdout",
     "output_type": "stream",
     "text": [
      "시작 위치를 지정합니다.\n",
      "시작 위치는\n",
      "Aroom 입니다.\n",
      "Aroom 로 들어갑니다.\n",
      "움직일 수 있는 방은 다음과 같습니다.\n",
      "['Broom']\n",
      "이동하시겠습니까? Y or N\n",
      ">Y\n",
      "어디로 움직이시겠습니까?\n",
      ">Broom\n",
      "Broom으로 이동하였습니다.\n",
      "움직일 수 있는 방은 다음과 같습니다.\n",
      "['Aroom', 'Croom']\n",
      "이동하시겠습니까? Y or N\n",
      ">N\n",
      "편안히 쉬십시오.\n",
      "현재 위치는\n",
      "['Aroom', 'Croom']\n",
      "이동하시겠습니까? Y or N\n",
      ">Y\n",
      "어디로 움직이시겠습니까?\n",
      ">Croom\n",
      "Croom으로 이동하였습니다.\n",
      "움직일 수 있는 방은 다음과 같습니다.\n",
      "['Broom']\n",
      "이동하시겠습니까? Y or N\n",
      ">N\n",
      "편안히 쉬십시오.\n",
      "현재 위치는\n",
      "['Broom']\n",
      "이동하시겠습니까? Y or N\n",
      ">N\n",
      "편안히 쉬십시오.\n",
      "현재 위치는\n",
      "['Broom']\n"
     ]
    }
   ],
   "source": [
    "from Three_room import *\n",
    "from time import sleep\n",
    "\n",
    "def start():\n",
    "    print \"시작 위치를 지정합니다.\"\n",
    "    E = Engine()\n",
    "    init_point = E.init_point()\n",
    "    print \"시작 위치는\"\n",
    "    print \"%s 입니다.\" % init_point\n",
    "    print \"%s 로 들어갑니다.\" % init_point\n",
    "    # first point 는 A,B,C 클래스 중의 하나를 객체화 시킨 객체.\n",
    "    first_point = Map.room_dict[init_point] \n",
    "    print \"움직일 수 있는 방은 다음과 같습니다.\"    \n",
    "    first_point.enter() # 고로 enter를 상속받았음.\n",
    "    \n",
    "    for i in range(0,5):\n",
    "        print \"이동하시겠습니까? Y or N\"\n",
    "        OK = raw_input('>')\n",
    "        \n",
    "        if OK == 'Y':\n",
    "            print \"어디로 움직이시겠습니까?\"\n",
    "            # move도 상속되었기에 역시 가능. move의 반환값이 A~C의 \n",
    "            # 객체이므로 또 지정 가능.\n",
    "            first_point = first_point.move() \n",
    "            print \"움직일 수 있는 방은 다음과 같습니다.\"   \n",
    "            first_point.enter() # 같은 이유로 enter도 상속됨.\n",
    "        elif OK == 'N':\n",
    "            print \"편안히 쉬십시오.\"\n",
    "            sleep(3)\n",
    "            print \"현재 위치는\"\n",
    "            first_point.enter()\n",
    "        else:\n",
    "            print \"Error\"\n",
    "            break\n",
    "\n",
    "start()"
   ]
  }
 ],
 "metadata": {
  "kernelspec": {
   "display_name": "Python 2",
   "language": "python",
   "name": "python2"
  },
  "language_info": {
   "codemirror_mode": {
    "name": "ipython",
    "version": 2
   },
   "file_extension": ".py",
   "mimetype": "text/x-python",
   "name": "python",
   "nbconvert_exporter": "python",
   "pygments_lexer": "ipython2",
   "version": "2.7.10"
  }
 },
 "nbformat": 4,
 "nbformat_minor": 0
}
