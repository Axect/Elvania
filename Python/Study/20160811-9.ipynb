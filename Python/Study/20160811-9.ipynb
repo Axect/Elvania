{
 "cells": [
  {
   "cell_type": "markdown",
   "metadata": {},
   "source": [
    "# 2016 08 11 Study "
   ]
  },
  {
   "cell_type": "markdown",
   "metadata": {},
   "source": [
    "## Py file in Jupyter! & Create Module"
   ]
  },
  {
   "cell_type": "code",
   "execution_count": 1,
   "metadata": {
    "collapsed": false
   },
   "outputs": [
    {
     "name": "stdout",
     "output_type": "stream",
     "text": [
      "Overwriting words.py\n"
     ]
    }
   ],
   "source": [
    "%%writefile words.py\n",
    "\n",
    "# -*- coding: utf-8 -*-\n",
    "def break_words(stuff):\n",
    "    \"\"\"이 함수는 문자열을 단어로 쪼개 줍니다.\"\"\"\n",
    "    words = stuff.split(' ')\n",
    "    return words\n",
    "\n",
    "def sort_words(words):\n",
    "    \"\"\"단어를 정렬합니다.\"\"\"\n",
    "    return sorted(words)\n",
    "\n",
    "def print_first_word(words):\n",
    "    \"\"\"첫 단어를 꺼내서 출력합니다.\"\"\"\n",
    "    word = words.pop(0)\n",
    "    print word\n",
    "    \n",
    "def print_last_word(words):\n",
    "    \"\"\"마지막 단어를 꺼내서 출력합니다.\"\"\"\n",
    "    word = words.pop(-1)\n",
    "    print word\n",
    "    \n",
    "def sort_sentence(sentence):\n",
    "    \"\"\"한 문장을 통째로 받아 단어를 정렬해서 반환합니다.\"\"\"\n",
    "    words = break_words(sentence)\n",
    "    return sort_words(words)\n",
    "\n",
    "def print_first_and_last(sentence):\n",
    "    \"\"\"문장의 처음과 마지막 단어를 출력합니다.\"\"\"\n",
    "    words = break_words(sentence)\n",
    "    print_first_word(words)\n",
    "    print_last_word(words)\n",
    "    \n",
    "def print_first_and_last_sorted(sentence):\n",
    "    \"\"\"단어를 정렬하고 처음과 마지막 단어를 출력합니다.\"\"\"\n",
    "    words = sort_sentence(sentence)\n",
    "    print_first_word(words)\n",
    "    print_last_word(words)"
   ]
  },
  {
   "cell_type": "markdown",
   "metadata": {},
   "source": [
    "## Import"
   ]
  },
  {
   "cell_type": "code",
   "execution_count": 2,
   "metadata": {
    "collapsed": false
   },
   "outputs": [],
   "source": [
    "import words as wd"
   ]
  },
  {
   "cell_type": "code",
   "execution_count": 3,
   "metadata": {
    "collapsed": false
   },
   "outputs": [
    {
     "data": {
      "text/plain": [
       "['All', 'good', 'things', 'come', 'to', 'those', 'who', 'wait.']"
      ]
     },
     "execution_count": 3,
     "metadata": {},
     "output_type": "execute_result"
    }
   ],
   "source": [
    "sentence = \"All good things come to those who wait.\"\n",
    "words = wd.break_words(sentence)\n",
    "words"
   ]
  },
  {
   "cell_type": "code",
   "execution_count": 4,
   "metadata": {
    "collapsed": false
   },
   "outputs": [
    {
     "data": {
      "text/plain": [
       "['All', 'come', 'good', 'things', 'those', 'to', 'wait.', 'who']"
      ]
     },
     "execution_count": 4,
     "metadata": {},
     "output_type": "execute_result"
    }
   ],
   "source": [
    "sorted_words = wd.sort_words(words)\n",
    "sorted_words"
   ]
  },
  {
   "cell_type": "code",
   "execution_count": 5,
   "metadata": {
    "collapsed": false
   },
   "outputs": [
    {
     "name": "stdout",
     "output_type": "stream",
     "text": [
      "All\n",
      "who\n"
     ]
    }
   ],
   "source": [
    "wd.print_first_word(sorted_words)\n",
    "wd.print_last_word(sorted_words)"
   ]
  },
  {
   "cell_type": "code",
   "execution_count": 6,
   "metadata": {
    "collapsed": false
   },
   "outputs": [
    {
     "data": {
      "text/plain": [
       "['All', 'come', 'good', 'things', 'those', 'to', 'wait.', 'who']"
      ]
     },
     "execution_count": 6,
     "metadata": {},
     "output_type": "execute_result"
    }
   ],
   "source": [
    "sorted_words = wd.sort_sentence(sentence)\n",
    "sorted_words"
   ]
  },
  {
   "cell_type": "code",
   "execution_count": 7,
   "metadata": {
    "collapsed": false
   },
   "outputs": [
    {
     "name": "stdout",
     "output_type": "stream",
     "text": [
      "All\n",
      "wait.\n",
      "All\n",
      "who\n"
     ]
    }
   ],
   "source": [
    "wd.print_first_and_last(sentence)\n",
    "wd.print_first_and_last_sorted(sentence)"
   ]
  },
  {
   "cell_type": "code",
   "execution_count": 8,
   "metadata": {
    "collapsed": false
   },
   "outputs": [
    {
     "name": "stdout",
     "output_type": "stream",
     "text": [
      "Help on module words:\n",
      "\n",
      "NAME\n",
      "    words - # -*- coding: utf-8 -*-\n",
      "\n",
      "FILE\n",
      "    /home/axect/Python/Study/words.py\n",
      "\n",
      "FUNCTIONS\n",
      "    break_words(stuff)\n",
      "        이 함수는 문자열을 단어로 쪼개 줍니다.\n",
      "    \n",
      "    print_first_and_last(sentence)\n",
      "        문장의 처음과 마지막 단어를 출력합니다.\n",
      "    \n",
      "    print_first_and_last_sorted(sentence)\n",
      "        단어를 정렬하고 처음과 마지막 단어를 출력합니다.\n",
      "    \n",
      "    print_first_word(words)\n",
      "        첫 단어를 꺼내서 출력합니다.\n",
      "    \n",
      "    print_last_word(words)\n",
      "        마지막 단어를 꺼내서 출력합니다.\n",
      "    \n",
      "    sort_sentence(sentence)\n",
      "        한 문장을 통째로 받아 단어를 정렬해서 반환합니다.\n",
      "    \n",
      "    sort_words(words)\n",
      "        단어를 정렬합니다.\n",
      "\n",
      "\n"
     ]
    }
   ],
   "source": [
    "help(wd)"
   ]
  },
  {
   "cell_type": "code",
   "execution_count": null,
   "metadata": {
    "collapsed": true
   },
   "outputs": [],
   "source": []
  }
 ],
 "metadata": {
  "kernelspec": {
   "display_name": "Python 2",
   "language": "python",
   "name": "python2"
  },
  "language_info": {
   "codemirror_mode": {
    "name": "ipython",
    "version": 2
   },
   "file_extension": ".py",
   "mimetype": "text/x-python",
   "name": "python",
   "nbconvert_exporter": "python",
   "pygments_lexer": "ipython2",
   "version": "2.7.13"
  }
 },
 "nbformat": 4,
 "nbformat_minor": 0
}
