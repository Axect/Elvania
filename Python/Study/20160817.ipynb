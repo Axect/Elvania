{
 "cells": [
  {
   "cell_type": "markdown",
   "metadata": {},
   "source": [
    "# 2016 08 17 Study"
   ]
  },
  {
   "cell_type": "markdown",
   "metadata": {},
   "source": [
    "## Dictionary"
   ]
  },
  {
   "cell_type": "markdown",
   "metadata": {},
   "source": [
    "* stuff which is at below is **dict** object."
   ]
  },
  {
   "cell_type": "code",
   "execution_count": 5,
   "metadata": {
    "collapsed": true
   },
   "outputs": [],
   "source": [
    "stuff = {'name': 'Axect', 'age': 23, 'height': 2**(2*2*2)-2**(2+2+2)-2*2*(2+2**(2-2))}"
   ]
  },
  {
   "cell_type": "code",
   "execution_count": 2,
   "metadata": {
    "collapsed": false
   },
   "outputs": [
    {
     "name": "stdout",
     "output_type": "stream",
     "text": [
      "Axect\n"
     ]
    }
   ],
   "source": [
    "print stuff['name']"
   ]
  },
  {
   "cell_type": "code",
   "execution_count": 3,
   "metadata": {
    "collapsed": false
   },
   "outputs": [
    {
     "name": "stdout",
     "output_type": "stream",
     "text": [
      "23\n"
     ]
    }
   ],
   "source": [
    "print stuff['age']"
   ]
  },
  {
   "cell_type": "code",
   "execution_count": 6,
   "metadata": {
    "collapsed": false
   },
   "outputs": [
    {
     "name": "stdout",
     "output_type": "stream",
     "text": [
      "180\n"
     ]
    }
   ],
   "source": [
    "print stuff['height']"
   ]
  },
  {
   "cell_type": "code",
   "execution_count": 7,
   "metadata": {
    "collapsed": true
   },
   "outputs": [],
   "source": [
    "stuff['city'] = \"Gimpo\"\n",
    "stuff[1] = \"Wow\"\n",
    "stuff[2] = \"Neato\""
   ]
  },
  {
   "cell_type": "code",
   "execution_count": 8,
   "metadata": {
    "collapsed": false
   },
   "outputs": [
    {
     "name": "stdout",
     "output_type": "stream",
     "text": [
      "{'city': 'Gimpo', 2: 'Neato', 'name': 'Axect', 1: 'Wow', 'age': 23, 'height': 180}\n"
     ]
    }
   ],
   "source": [
    "print stuff"
   ]
  },
  {
   "cell_type": "code",
   "execution_count": 12,
   "metadata": {
    "collapsed": false
   },
   "outputs": [],
   "source": [
    "del stuff[1], stuff[2]"
   ]
  },
  {
   "cell_type": "code",
   "execution_count": 13,
   "metadata": {
    "collapsed": false
   },
   "outputs": [
    {
     "name": "stdout",
     "output_type": "stream",
     "text": [
      "{'city': 'Gimpo', 'name': 'Axect', 'age': 23, 'height': 180}\n"
     ]
    }
   ],
   "source": [
    "print stuff"
   ]
  },
  {
   "cell_type": "code",
   "execution_count": 1,
   "metadata": {
    "collapsed": false
   },
   "outputs": [
    {
     "name": "stdout",
     "output_type": "stream",
     "text": [
      "----------\n",
      "경기도에는 김포\n",
      "충청북도에는 충주\n",
      "----------\n",
      "강원도의 약자는 강원\n",
      "경상북도의 약자는 경북\n",
      "----------\n",
      "경기도의 줄임말은 경기입니다.\n",
      "강원도의 줄임말은 강원입니다.\n",
      "충청북도의 줄임말은 충북입니다.\n",
      "경상북도의 줄임말은 경북입니다.\n",
      "전라남도의 줄임말은 전남입니다.\n",
      "----------\n",
      "경기에는 김포시가 있습니다.\n",
      "충북에는 충주시가 있습니다.\n",
      "경북에는 대구시가 있습니다.\n",
      "강원에는 원주시가 있습니다.\n",
      "전남에는 광주시가 있습니다.\n",
      "----------\n",
      "경기도의 줄임말은 경기이고 김포시가 있습니다.\n",
      "강원도의 줄임말은 강원이고 원주시가 있습니다.\n",
      "충청북도의 줄임말은 충북이고 충주시가 있습니다.\n",
      "경상북도의 줄임말은 경북이고 대구시가 있습니다.\n",
      "전라남도의 줄임말은 전남이고 광주시가 있습니다.\n",
      "----------\n",
      "제주도는 없습니다.\n",
      "'제주'의 시는 없습니다.\n"
     ]
    }
   ],
   "source": [
    "states = {\n",
    "    '충청북도': '충북',\n",
    "    '경상북도': '경북',\n",
    "    '전라남도': '전남',\n",
    "    '경기도': '경기',\n",
    "    '강원도': '강원'\n",
    "}\n",
    "\n",
    "cities = {\n",
    "    '전남': '광주',\n",
    "    '강원': '원주',\n",
    "    '경북': '대구'\n",
    "}\n",
    "\n",
    "cities['경기'] = '김포'\n",
    "cities['충북'] = '충주'\n",
    "\n",
    "def separate_line():\n",
    "    print '-' * 10\n",
    "\n",
    "separate_line()\n",
    "print \"경기도에는\", cities[states['경기도']]\n",
    "print \"충청북도에는\", cities[states['충청북도']]\n",
    "\n",
    "separate_line()\n",
    "print \"강원도의 약자는\", states[\"강원도\"]\n",
    "print \"경상북도의 약자는\", states['경상북도']\n",
    "\n",
    "separate_line()\n",
    "for state, abbrev in states.items():\n",
    "    print \"%s의 줄임말은 %s입니다.\" % (state, abbrev)\n",
    "\n",
    "separate_line()\n",
    "for abbrev, city in cities.items():\n",
    "    print \"%s에는 %s시가 있습니다.\" % (abbrev, city)\n",
    "\n",
    "separate_line()\n",
    "for state, abbrev in states.items():\n",
    "    print \"%s의 줄임말은 %s이고 %s시가 있습니다.\" % (state, abbrev, cities[abbrev])\n",
    "\n",
    "separate_line()\n",
    "state = states.get('제주도', None)\n",
    "\n",
    "if not state:\n",
    "    print \"제주도는 없습니다.\"\n",
    "\n",
    "city = cities.get('제주', '없습니다.')\n",
    "print \"'제주'의 시는 %s\" % city"
   ]
  },
  {
   "cell_type": "code",
   "execution_count": 7,
   "metadata": {
    "collapsed": false
   },
   "outputs": [
    {
     "name": "stdout",
     "output_type": "stream",
     "text": [
      "경기도\n",
      "강원도\n",
      "충청북도\n",
      "경상북도\n",
      "전라남도\n"
     ]
    }
   ],
   "source": [
    "for state, abbrev in states.items():\n",
    "    print state"
   ]
  },
  {
   "cell_type": "markdown",
   "metadata": {},
   "source": [
    "## Module - Basic"
   ]
  },
  {
   "cell_type": "code",
   "execution_count": 17,
   "metadata": {
    "collapsed": true
   },
   "outputs": [],
   "source": [
    "mystuff = {'사과': \"나는 사과다!\"}"
   ]
  },
  {
   "cell_type": "code",
   "execution_count": 18,
   "metadata": {
    "collapsed": false
   },
   "outputs": [
    {
     "name": "stdout",
     "output_type": "stream",
     "text": [
      "Writing mystuff.py\n"
     ]
    }
   ],
   "source": [
    "%%writefile mystuff.py\n",
    "\n",
    "# -*- coding: utf-8 -*-\n",
    "\n",
    "def apple():\n",
    "    print \"나는 사과다!\"\n",
    "tangerine = \"꿈의 살아 있는 거울상\""
   ]
  },
  {
   "cell_type": "code",
   "execution_count": 19,
   "metadata": {
    "collapsed": true
   },
   "outputs": [],
   "source": [
    "import mystuff"
   ]
  },
  {
   "cell_type": "code",
   "execution_count": 22,
   "metadata": {
    "collapsed": false
   },
   "outputs": [
    {
     "name": "stdout",
     "output_type": "stream",
     "text": [
      "나는 사과다!\n",
      "꿈의 살아 있는 거울상\n"
     ]
    }
   ],
   "source": [
    "mystuff.apple() # Get apple from module\n",
    "print mystuff.tangerine # It's same, but only variable"
   ]
  },
  {
   "cell_type": "markdown",
   "metadata": {},
   "source": [
    "## Class - Basic"
   ]
  },
  {
   "cell_type": "code",
   "execution_count": 23,
   "metadata": {
    "collapsed": true
   },
   "outputs": [],
   "source": [
    "class Mystuff(object):\n",
    "    \n",
    "    def __init__(self):\n",
    "        self.tangerine = \"그리고 이제는 일천년이 지났지\"\n",
    "    \n",
    "    def apple(self):\n",
    "        print \"나는 클래식 사과다!\""
   ]
  },
  {
   "cell_type": "markdown",
   "metadata": {},
   "source": [
    "* Instantiate"
   ]
  },
  {
   "cell_type": "code",
   "execution_count": 25,
   "metadata": {
    "collapsed": false
   },
   "outputs": [
    {
     "name": "stdout",
     "output_type": "stream",
     "text": [
      "나는 클래식 사과다!\n",
      "그리고 이제는 일천년이 지났지\n"
     ]
    }
   ],
   "source": [
    "thing = Mystuff() # Instantiate, (not call)\n",
    "thing.apple()\n",
    "print thing.tangerine"
   ]
  },
  {
   "cell_type": "markdown",
   "metadata": {},
   "source": [
    "## Class"
   ]
  },
  {
   "cell_type": "code",
   "execution_count": 26,
   "metadata": {
    "collapsed": true
   },
   "outputs": [],
   "source": [
    "class Song(object):\n",
    "    \n",
    "    def __init__(self, lyrics):\n",
    "        self.lyrics = lyrics # self means instance\n",
    "        \n",
    "    def sing_me_a_song(self):\n",
    "        for line in self.lyrics:\n",
    "            print line"
   ]
  },
  {
   "cell_type": "code",
   "execution_count": 28,
   "metadata": {
    "collapsed": false
   },
   "outputs": [],
   "source": [
    "happy_bday = Song([\"생일 축하합니다\",\n",
    "                  \"고소 당하기는 싫으니까\",\n",
    "                  \"여기서 이만 할게요\"])\n",
    "bulls_on_parade = Song([\"조개로 가득 찬 주머니 차고\",\n",
    "                       \"가족 주위에 모여든 그들\"])"
   ]
  },
  {
   "cell_type": "code",
   "execution_count": 29,
   "metadata": {
    "collapsed": false
   },
   "outputs": [
    {
     "name": "stdout",
     "output_type": "stream",
     "text": [
      "생일 축하합니다\n",
      "고소 당하기는 싫으니까\n",
      "여기서 이만 할게요\n",
      "조개로 가득 찬 주머니 차고\n",
      "가족 주위에 모여든 그들\n"
     ]
    }
   ],
   "source": [
    "happy_bday.sing_me_a_song()\n",
    "bulls_on_parade.sing_me_a_song()"
   ]
  },
  {
   "cell_type": "markdown",
   "metadata": {},
   "source": [
    "* class X(Y): - X 클래스라는 Y의 일종(X is-a Y)을 만든다.\n",
    "* class X(object): def __init__(self,J) - X 클래스는 self 와 J 매개변수를 받는 __init__을 가졌다.\n",
    "* class X(object): def M(self, J) - Same\n",
    "* foo = X() - foo변수를 X클래스의 인스턴스 하나로 정한다.\n",
    "* foo.M(J) - foo변수에서 M함수를 받아 self, J 매개변수를 넣어 호출한다.\n",
    "* foo.K = Q - foo변수에서 K속성을 받아 Q값으로 정한다"
   ]
  },
  {
   "cell_type": "code",
   "execution_count": null,
   "metadata": {
    "collapsed": true
   },
   "outputs": [],
   "source": []
  }
 ],
 "metadata": {
  "kernelspec": {
   "display_name": "Python 2",
   "language": "python",
   "name": "python2"
  },
  "language_info": {
   "codemirror_mode": {
    "name": "ipython",
    "version": 2
   },
   "file_extension": ".py",
   "mimetype": "text/x-python",
   "name": "python",
   "nbconvert_exporter": "python",
   "pygments_lexer": "ipython2",
   "version": "2.7.10"
  }
 },
 "nbformat": 4,
 "nbformat_minor": 0
}
