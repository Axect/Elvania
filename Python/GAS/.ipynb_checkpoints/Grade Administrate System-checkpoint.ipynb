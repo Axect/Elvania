{
 "cells": [
  {
   "cell_type": "markdown",
   "metadata": {},
   "source": [
    "# Grade Administrate System for HighSchool "
   ]
  },
  {
   "cell_type": "markdown",
   "metadata": {},
   "source": [
    "## Structure\n",
    "*****\n",
    "* Grade = NamedTuple\n",
    "* weight_input = Except ValueError\n",
    "* Subject\n",
    "> * init : create list\n",
    "> * report_grade(score, weight) : self.\\_grades = Grade(score, weight) + Auto index\n",
    "\n",
    "* Year\n",
    "> * init : create dict\n",
    "> * subject(name) : key = year, value = subject / if not subject -> Subject()\n",
    "\n",
    "* Univ\n",
    "> * init : create dict & input weight\n",
    "> * \n",
    "\n",
    "*********\n",
    "* text_importer\n",
    "> 형식에 맞게 텍스트를 가공한다.\n",
    "\n",
    "* auto_writer\n",
    "> 가져온 텍스트를 클래스에 집어넣는다."
   ]
  },
  {
   "cell_type": "markdown",
   "metadata": {},
   "source": [
    "## Import Data "
   ]
  },
  {
   "cell_type": "code",
   "execution_count": 2,
   "metadata": {
    "collapsed": false
   },
   "outputs": [],
   "source": [
    "from collections import namedtuple\n",
    "from collections import defaultdict\n",
    "from time import sleep"
   ]
  },
  {
   "cell_type": "code",
   "execution_count": null,
   "metadata": {
    "collapsed": false
   },
   "outputs": [],
   "source": [
    "%%writefile GAS.py\n",
    "#-*- coding: utf-8 -*-\n",
    "from collections import namedtuple\n",
    "from collections import defaultdict\n",
    "Grade = namedtuple('Grades',('score', 'weight'))\n",
    "\n",
    "\n",
    "def fake():\n",
    "    pass\n",
    "\n",
    "class Subject(object):\n",
    "    def __init__(self):\n",
    "        self._grade = []\n",
    "        self.count = 0\n",
    "        \n",
    "    def Gen(self):\n",
    "        self.count += 1\n",
    "        return self.count\n",
    "    \n",
    "    def Clear(self):\n",
    "        self.count = 0\n",
    "    \n",
    "    def report_grade(self, score, weight):\n",
    "        index = (self.Gen(),) # Auto index tuple\n",
    "        tuples = Grade(score, weight) + index\n",
    "        self._grade.append(tuples)\n",
    "        \n",
    "    def grade_recorder(self):\n",
    "        total, total_weight = 0, 0\n",
    "        for score, weight, _ in self._grade:\n",
    "            total += score * weight\n",
    "            total_weight += weight\n",
    "        return [total / total_weight, total_weight]\n",
    "    \n",
    "    def Test(self):\n",
    "        self.grade = self._grade\n",
    "        print(self.grade)\n",
    "        \n",
    "\n",
    "class Year(object):\n",
    "    def __init__(self):\n",
    "        self._subjects = {}\n",
    "    \n",
    "    def subject(self, name):\n",
    "        if name not in self._subjects:\n",
    "            print('Insert %s is complete!' % name)\n",
    "            self._subjects[name] = Subject() # All values in self._subjects are Subject class!\n",
    "        return self._subjects[name]\n",
    "    \n",
    "    def average_grade(self):\n",
    "        Fscore, Ftotal_weight = 0, 0\n",
    "        for subject in self._subjects.values():\n",
    "            Fscore += subject.grade_recorder()[0] * subject.grade_recorder()[1]\n",
    "            Ftotal_weight += subject.grade_recorder()[1]\n",
    "        return Fscore / Ftotal_weight\n",
    "    \n",
    "    \n",
    "def weight_input(weight):\n",
    "    if len(weight) == 3:\n",
    "        return weight\n",
    "    else:\n",
    "        raise ValueError()\n",
    "\n",
    "        \n",
    "class UniV(object):\n",
    "    def __init__(self):\n",
    "        self._years = {}\n",
    "        \n",
    "    def year(self, level):\n",
    "        if level not in self._years:\n",
    "            print('Insert %s is complete!' % level)\n",
    "            self._years[level] = Year() # All values in self._years are Year class!\n",
    "        return self._years[level]\n",
    "    \n",
    "    def average_grade(self, weight):\n",
    "        total = 0\n",
    "        for i, year in enumerate(self._years.values()):\n",
    "            total += year.average_grade() * weight[i]\n",
    "        return total / sum(weight)"
   ]
  },
  {
   "cell_type": "code",
   "execution_count": null,
   "metadata": {
    "collapsed": false
   },
   "outputs": [],
   "source": [
    "%%writefile Tool.py\n",
    "# -*- coding: utf-8 -*-\n",
    "from GAS import *\n",
    "def text_importer(path):\n",
    "    txt = open(path, 'r')\n",
    "    copy = [line.strip() for line in txt]\n",
    "    topy = [line.split(',') for line in copy]\n",
    "    xopy = []\n",
    "    cupy = []\n",
    "    for List in topy:\n",
    "        for word in List:\n",
    "            cupy.append(word.strip())\n",
    "        xopy.append(cupy)\n",
    "        cupy = []   \n",
    "    dopy_1 = {} \n",
    "    for List in xopy:\n",
    "        dopy_1[List[0]] = List[1:]\n",
    "    for i, key in enumerate(dopy_1):\n",
    "        locals()['bopy_' + str(i)] = {}\n",
    "        value = dopy_1[key]\n",
    "        for word in value:\n",
    "            k = word.split(':')\n",
    "            for j, new in enumerate(k):\n",
    "                t = new.strip()\n",
    "                k[j] = t\n",
    "            sw = k[1].split(';')\n",
    "            for j, new in enumerate(sw):\n",
    "                s = new.strip()\n",
    "                sw[j] = s\n",
    "            sw_tuple = (float(sw[0]), float(sw[1]))\n",
    "            locals()['bopy_' + str(i)][k[0]] = sw_tuple\n",
    "        dopy_1[key] = locals()['bopy_' + str(i)]\n",
    "    return dopy_1\n",
    "\n",
    "\n",
    "def auto_grader(dic):\n",
    "    arxiv = UniV()\n",
    "    for i, semester in enumerate(dic):\n",
    "        locals()['sem_' + str(i)] = arxiv.year(semester)\n",
    "        dic2 = dic[semester]\n",
    "        for j, sub in enumerate(dic2):\n",
    "            locals()['sub_' + str(j)] = locals()['sem_' + str(i)].subject(sub)\n",
    "            dic3 = dic2[sub]\n",
    "            score, weight = dic3[0], dic3[1]\n",
    "            locals()['sub_' + str(j)].report_grade(score, weight)\n",
    "    return arxiv"
   ]
  },
  {
   "cell_type": "code",
   "execution_count": 20,
   "metadata": {
    "collapsed": false
   },
   "outputs": [
    {
     "name": "stdout",
     "output_type": "stream",
     "text": [
      "Insert F is complete!\n",
      "Insert lit is complete!\n",
      "Insert math is complete!\n",
      "Insert eng is complete!\n",
      "Insert sci is complete!\n",
      "Insert S is complete!\n",
      "Insert lit is complete!\n",
      "Insert math is complete!\n",
      "Insert eng is complete!\n",
      "Insert sci is complete!\n",
      "Insert T is complete!\n",
      "Insert lit is complete!\n",
      "Insert math is complete!\n",
      "Insert eng is complete!\n",
      "Insert sci is complete!\n"
     ]
    }
   ],
   "source": [
    "a = text_importer('sample.txt')\n",
    "arxiv = auto_grader(a)"
   ]
  },
  {
   "cell_type": "code",
   "execution_count": 21,
   "metadata": {
    "collapsed": false
   },
   "outputs": [
    {
     "data": {
      "text/plain": [
       "2.466666666666667"
      ]
     },
     "execution_count": 21,
     "metadata": {},
     "output_type": "execute_result"
    }
   ],
   "source": [
    "arxiv.average_grade([3, 3, 4])"
   ]
  },
  {
   "cell_type": "markdown",
   "metadata": {},
   "source": [
    "#### Class Practice"
   ]
  },
  {
   "cell_type": "code",
   "execution_count": 97,
   "metadata": {
    "collapsed": false
   },
   "outputs": [],
   "source": [
    "a = UniV()"
   ]
  },
  {
   "cell_type": "code",
   "execution_count": 98,
   "metadata": {
    "collapsed": false
   },
   "outputs": [
    {
     "name": "stdout",
     "output_type": "stream",
     "text": [
      "Insert 1st is complete!\n"
     ]
    }
   ],
   "source": [
    "first = a.year('1st')"
   ]
  },
  {
   "cell_type": "code",
   "execution_count": 99,
   "metadata": {
    "collapsed": false
   },
   "outputs": [
    {
     "name": "stdout",
     "output_type": "stream",
     "text": [
      "Insert math is complete!\n"
     ]
    }
   ],
   "source": [
    "m = first.subject('math')"
   ]
  },
  {
   "cell_type": "code",
   "execution_count": 100,
   "metadata": {
    "collapsed": true
   },
   "outputs": [],
   "source": [
    "m.report_grade(90, 0.4)\n",
    "m.report_grade(100, 0.4)"
   ]
  },
  {
   "cell_type": "code",
   "execution_count": 101,
   "metadata": {
    "collapsed": false
   },
   "outputs": [
    {
     "name": "stdout",
     "output_type": "stream",
     "text": [
      "Insert science is complete!\n"
     ]
    }
   ],
   "source": [
    "s = first.subject('science')"
   ]
  },
  {
   "cell_type": "code",
   "execution_count": 102,
   "metadata": {
    "collapsed": true
   },
   "outputs": [],
   "source": [
    "s.report_grade(80, 0.2)"
   ]
  },
  {
   "cell_type": "code",
   "execution_count": 103,
   "metadata": {
    "collapsed": false
   },
   "outputs": [
    {
     "name": "stdout",
     "output_type": "stream",
     "text": [
      "Insert 2nd is complete!\n"
     ]
    }
   ],
   "source": [
    "second = a.year('2nd')"
   ]
  },
  {
   "cell_type": "code",
   "execution_count": 104,
   "metadata": {
    "collapsed": false
   },
   "outputs": [
    {
     "name": "stdout",
     "output_type": "stream",
     "text": [
      "Insert math is complete!\n"
     ]
    }
   ],
   "source": [
    "m2 = second.subject('math')"
   ]
  },
  {
   "cell_type": "code",
   "execution_count": 105,
   "metadata": {
    "collapsed": true
   },
   "outputs": [],
   "source": [
    "m2.report_grade(70, 0.2)\n",
    "m2.report_grade(40, 0.2)"
   ]
  },
  {
   "cell_type": "code",
   "execution_count": 106,
   "metadata": {
    "collapsed": false
   },
   "outputs": [
    {
     "name": "stdout",
     "output_type": "stream",
     "text": [
      "Insert 3rd is complete!\n"
     ]
    }
   ],
   "source": [
    "third = a.year('3rd')"
   ]
  },
  {
   "cell_type": "code",
   "execution_count": 107,
   "metadata": {
    "collapsed": false
   },
   "outputs": [
    {
     "name": "stdout",
     "output_type": "stream",
     "text": [
      "Insert science is complete!\n"
     ]
    }
   ],
   "source": [
    "s3 = third.subject('science')"
   ]
  },
  {
   "cell_type": "code",
   "execution_count": 108,
   "metadata": {
    "collapsed": true
   },
   "outputs": [],
   "source": [
    "s3.report_grade(60, 0.5)"
   ]
  },
  {
   "cell_type": "code",
   "execution_count": 109,
   "metadata": {
    "collapsed": false
   },
   "outputs": [
    {
     "data": {
      "text/plain": [
       "68.1"
      ]
     },
     "execution_count": 109,
     "metadata": {},
     "output_type": "execute_result"
    }
   ],
   "source": [
    "a.average_grade([3, 3, 4])"
   ]
  },
  {
   "cell_type": "code",
   "execution_count": 110,
   "metadata": {
    "collapsed": false
   },
   "outputs": [
    {
     "name": "stdout",
     "output_type": "stream",
     "text": [
      "[95.0, 0.8] [80.0, 0.2] 92.0\n"
     ]
    }
   ],
   "source": [
    "print(m.grade_recorder(), s.grade_recorder(), first.average_grade())"
   ]
  },
  {
   "cell_type": "code",
   "execution_count": 111,
   "metadata": {
    "collapsed": false
   },
   "outputs": [
    {
     "name": "stdout",
     "output_type": "stream",
     "text": [
      "[55.0, 0.4] 55.0\n"
     ]
    }
   ],
   "source": [
    "print(m2.grade_recorder(), second.average_grade())"
   ]
  },
  {
   "cell_type": "code",
   "execution_count": 112,
   "metadata": {
    "collapsed": false
   },
   "outputs": [
    {
     "name": "stdout",
     "output_type": "stream",
     "text": [
      "[60.0, 0.5] 60.0\n"
     ]
    }
   ],
   "source": [
    "print(s3.grade_recorder(), third.average_grade())"
   ]
  },
  {
   "cell_type": "code",
   "execution_count": 113,
   "metadata": {
    "collapsed": false
   },
   "outputs": [
    {
     "data": {
      "text/plain": [
       "68.1"
      ]
     },
     "execution_count": 113,
     "metadata": {},
     "output_type": "execute_result"
    }
   ],
   "source": [
    "(92 * 3 + 55 * 3 + 60 * 4) / 10"
   ]
  },
  {
   "cell_type": "code",
   "execution_count": null,
   "metadata": {
    "collapsed": true
   },
   "outputs": [],
   "source": []
  }
 ],
 "metadata": {
  "kernelspec": {
   "display_name": "Python 3",
   "language": "python",
   "name": "python3"
  },
  "language_info": {
   "codemirror_mode": {
    "name": "ipython",
    "version": 3
   },
   "file_extension": ".py",
   "mimetype": "text/x-python",
   "name": "python",
   "nbconvert_exporter": "python",
   "pygments_lexer": "ipython3",
   "version": "3.6.0"
  }
 },
 "nbformat": 4,
 "nbformat_minor": 2
}
