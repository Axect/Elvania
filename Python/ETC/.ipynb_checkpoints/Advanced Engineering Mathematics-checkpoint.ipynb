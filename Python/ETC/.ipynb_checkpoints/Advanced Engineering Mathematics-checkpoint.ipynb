{
 "cells": [
  {
   "cell_type": "markdown",
   "metadata": {},
   "source": [
    "# Discrete Fourier Transform"
   ]
  },
  {
   "cell_type": "code",
   "execution_count": 1,
   "metadata": {},
   "outputs": [],
   "source": [
    "from __future__ import division\n",
    "from cmath import *"
   ]
  },
  {
   "cell_type": "code",
   "execution_count": 2,
   "metadata": {
    "collapsed": true
   },
   "outputs": [],
   "source": [
    "def DFT(f):\n",
    "    l = len(f)\n",
    "    def S(w,l):\n",
    "        s = []\n",
    "        for j in range(0,l):\n",
    "            s.append(w ** j)\n",
    "        return s\n",
    "    w = []\n",
    "    for i in range(0,l):\n",
    "        w.append((exp(-2j*pi/l)) ** i)\n",
    "        locals()['s'+str(i)] = 0\n",
    "    for k in range(0,l):\n",
    "        for j in range(0,l):\n",
    "            locals()['s'+str(k)] += S(w[k],l)[j] * f[j]\n",
    "        print locals()['s'+str(k)]"
   ]
  },
  {
   "cell_type": "code",
   "execution_count": 3,
   "metadata": {},
   "outputs": [
    {
     "name": "stdout",
     "output_type": "stream",
     "text": [
      "(14+0j)\n",
      "(-4+8j)\n",
      "(-6-2.44929359829e-15j)\n",
      "(-4-8j)\n"
     ]
    }
   ],
   "source": [
    "DFT([0,1,4,9])"
   ]
  },
  {
   "cell_type": "code",
   "execution_count": 4,
   "metadata": {},
   "outputs": [
    {
     "name": "stdout",
     "output_type": "stream",
     "text": [
      "(10+0j)\n",
      "(-2+2j)\n",
      "(-2-9.79717439318e-16j)\n",
      "(-2-2j)\n"
     ]
    }
   ],
   "source": [
    "DFT([1,2,3,4])"
   ]
  },
  {
   "cell_type": "code",
   "execution_count": 5,
   "metadata": {},
   "outputs": [
    {
     "name": "stdout",
     "output_type": "stream",
     "text": [
      "(10+0j)\n",
      "(2-2j)\n",
      "(2-2.44929359829e-16j)\n",
      "(2+2j)\n"
     ]
    }
   ],
   "source": [
    "DFT([4,3,2,1])"
   ]
  }
 ],
 "metadata": {
  "kernelspec": {
   "display_name": "Python 3",
   "language": "python",
   "name": "python3"
  },
  "language_info": {
   "codemirror_mode": {
    "name": "ipython",
    "version": 3
   },
   "file_extension": ".py",
   "mimetype": "text/x-python",
   "name": "python",
   "nbconvert_exporter": "python",
   "pygments_lexer": "ipython3",
   "version": "3.6.0"
  }
 },
 "nbformat": 4,
 "nbformat_minor": 1
}
