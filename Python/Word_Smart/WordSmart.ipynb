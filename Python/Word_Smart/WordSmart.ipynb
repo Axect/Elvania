{
 "cells": [
  {
   "cell_type": "markdown",
   "metadata": {},
   "source": [
    "# Make Word Smart"
   ]
  },
  {
   "cell_type": "markdown",
   "metadata": {},
   "source": [
    "## From csv to List"
   ]
  },
  {
   "cell_type": "code",
   "execution_count": 1,
   "metadata": {
    "collapsed": true
   },
   "outputs": [],
   "source": [
    "import csv"
   ]
  },
  {
   "cell_type": "code",
   "execution_count": 2,
   "metadata": {
    "collapsed": false
   },
   "outputs": [
    {
     "name": "stdout",
     "output_type": "stream",
     "text": [
      "909\n"
     ]
    }
   ],
   "source": [
    "with open('WordSmart1.csv', 'rb') as csvfile:\n",
    "    reader = csv.reader(csvfile, delimiter=',')\n",
    "    s = 0\n",
    "    for row in reader: # This can be only once.\n",
    "        s += 1\n",
    "    print s"
   ]
  },
  {
   "cell_type": "code",
   "execution_count": 3,
   "metadata": {
    "collapsed": false
   },
   "outputs": [],
   "source": [
    "with open('WordSmart1.csv', 'rb') as csvfile: # Thus, one more load.\n",
    "    reader = csv.reader(csvfile, delimiter=',')\n",
    "    A = [0 for i in range(s)]\n",
    "    B = [0 for i in range(s)]\n",
    "    t = 0\n",
    "    for row in reader:\n",
    "        A[t] = row[0]\n",
    "        B[t] = row[1]\n",
    "        t += 1"
   ]
  },
  {
   "cell_type": "code",
   "execution_count": 4,
   "metadata": {
    "collapsed": true
   },
   "outputs": [],
   "source": [
    "for i in range(len(A)):\n",
    "    if '#' in A[i]: # So Great!\n",
    "        A[i] = 0\n",
    "        B[i] = 0"
   ]
  },
  {
   "cell_type": "code",
   "execution_count": 5,
   "metadata": {
    "collapsed": true
   },
   "outputs": [],
   "source": [
    "while 0 in A:\n",
    "    A.remove(0)\n",
    "while 0 in B:\n",
    "    B.remove(0)"
   ]
  },
  {
   "cell_type": "markdown",
   "metadata": {},
   "source": [
    "Complete!\n",
    "-------------------------------------------------------------__"
   ]
  },
  {
   "cell_type": "markdown",
   "metadata": {},
   "source": [
    "## Extract Words "
   ]
  },
  {
   "cell_type": "code",
   "execution_count": 6,
   "metadata": {
    "collapsed": false
   },
   "outputs": [],
   "source": [
    "Text1 = open('words.txt', 'w')\n",
    "for word in A:\n",
    "    Text1.write(word+'\\n')\n",
    "Text1.close()\n",
    "Text2 = open('mean.txt', 'w')\n",
    "for word in B:\n",
    "    Text2.write(word+'\\n')\n",
    "Text2.close()"
   ]
  },
  {
   "cell_type": "code",
   "execution_count": 7,
   "metadata": {
    "collapsed": true
   },
   "outputs": [],
   "source": [
    "from __future__ import division"
   ]
  },
  {
   "cell_type": "code",
   "execution_count": 8,
   "metadata": {
    "collapsed": true
   },
   "outputs": [],
   "source": [
    "l = len(A)\n",
    "d = l/50\n",
    "r = int(round(d))\n",
    "k = l - 50 * r"
   ]
  },
  {
   "cell_type": "code",
   "execution_count": 9,
   "metadata": {
    "collapsed": true
   },
   "outputs": [],
   "source": [
    "for i in range(r):\n",
    "    locals()['C'+str(i)] = A[50 * i : 50 * (i + 1)]\n",
    "locals()['C'+str(r)] = A[50 * r : 50 * r + k]\n",
    "for j in range(r):\n",
    "    locals()['D'+str(j)] = B[50 * j : 50 * (j + 1)]\n",
    "locals()['D'+str(r)] = B[50 * r : 50 * r + k]"
   ]
  },
  {
   "cell_type": "code",
   "execution_count": 10,
   "metadata": {
    "collapsed": true
   },
   "outputs": [],
   "source": [
    "from subprocess import call"
   ]
  },
  {
   "cell_type": "code",
   "execution_count": 11,
   "metadata": {
    "collapsed": true
   },
   "outputs": [],
   "source": [
    "call('mkdir Words', shell = True);"
   ]
  },
  {
   "cell_type": "code",
   "execution_count": 12,
   "metadata": {
    "collapsed": false
   },
   "outputs": [],
   "source": [
    "for i in range(r + 1):\n",
    "    temp1 = open('Words/words'+str(i)+'.txt', 'w')\n",
    "    temp2 = open('Words/means'+str(i)+'.txt', 'w')\n",
    "    for word in locals()['C'+str(i)]:\n",
    "        temp1.write(word+'\\n')\n",
    "    temp1.close()\n",
    "    for mean in locals()['D'+str(i)]:\n",
    "        temp2.write(mean+'\\n')\n",
    "    temp2.close()"
   ]
  },
  {
   "cell_type": "markdown",
   "metadata": {},
   "source": [
    "Complete!\n",
    "**********************"
   ]
  },
  {
   "cell_type": "markdown",
   "metadata": {},
   "source": [
    "## Make LaTeX Template "
   ]
  },
  {
   "cell_type": "code",
   "execution_count": 13,
   "metadata": {
    "collapsed": false
   },
   "outputs": [],
   "source": [
    "call('mkdir LaTeX', shell = True);"
   ]
  },
  {
   "cell_type": "code",
   "execution_count": 14,
   "metadata": {
    "collapsed": false
   },
   "outputs": [],
   "source": [
    "for i in range(r + 1):\n",
    "    temp = open('LaTeX/tex_word'+str(i)+'.txt', 'w')\n",
    "    temp.write('\\\\section*{'+str(i+1)+'}\\n\\n'\n",
    "              + '\\\\begin{multicols}{2}\\n\\n')\n",
    "    l = len(locals()['C'+str(i)])\n",
    "    for j in range(l):\n",
    "        w = locals()['C'+str(i)][j]\n",
    "        m = locals()['D'+str(i)][j]\n",
    "        temp.write('\\\\noindent\\entry{'+ w +'}'+'{' + m + '}\\n\\n\\VS')\n",
    "    temp.write('\\\\end{multicols}\\n\\n \\\\newpage')\n",
    "    temp.close()"
   ]
  },
  {
   "cell_type": "markdown",
   "metadata": {},
   "source": [
    "Complete!\n",
    "******"
   ]
  }
 ],
 "metadata": {
  "kernelspec": {
   "display_name": "Python 2",
   "language": "python",
   "name": "python2"
  },
  "language_info": {
   "codemirror_mode": {
    "name": "ipython",
    "version": 2
   },
   "file_extension": ".py",
   "mimetype": "text/x-python",
   "name": "python",
   "nbconvert_exporter": "python",
   "pygments_lexer": "ipython2",
   "version": "2.7.13"
  }
 },
 "nbformat": 4,
 "nbformat_minor": 2
}
