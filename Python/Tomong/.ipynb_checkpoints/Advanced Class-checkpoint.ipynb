{
 "cells": [
  {
   "cell_type": "markdown",
   "metadata": {},
   "source": [
    "# Polynomial"
   ]
  },
  {
   "cell_type": "code",
   "execution_count": 1,
   "metadata": {
    "collapsed": true
   },
   "outputs": [],
   "source": [
    "class Polynomial:\n",
    "    \n",
    "    def __init__(self,a):\n",
    "        self.a = a\n",
    "        self.l = len(self.a)\n",
    "    \n",
    "    def __call__(self,x):\n",
    "        self.s = 0\n",
    "        for i in range(0, self.l):\n",
    "            self.s += self.a[i] * x ** (self.l - i - 1)\n",
    "        return self.s\n",
    "    \n",
    "    def __len__(self):\n",
    "        return self.l\n",
    "    \n",
    "    def __add__(self, other):\n",
    "        if self.l > other.l:\n",
    "            C = self.a[:]\n",
    "            for i in range(1, other.l+1):\n",
    "                C[- i] += other.a[- i]\n",
    "        else:\n",
    "            C = other.a[:]\n",
    "            for i in range(1, self.l+1 ):\n",
    "                C[-i] += self.a[-i]\n",
    "        return Polynomial(C)\n",
    "    \n",
    "    def __sub__(self, other):\n",
    "        if self.l > other.l:\n",
    "            C = self.a[:]\n",
    "            for i in range(1, other.l+1):\n",
    "                C[- i] -= other.a[- i]\n",
    "        else:\n",
    "            C = other.a[:]\n",
    "            for i in range(1, self.l+1 ):\n",
    "                C[-i] -= self.a[-i]\n",
    "            for j in range(0, len(C)):\n",
    "                C[j] = -1 * C[j]\n",
    "        return Polynomial(C)\n",
    "    \n",
    "    def __str__(self):\n",
    "        self.st = ''\n",
    "        self.st = '%g*x^%d' % (self.a[0], self.l - 1)\n",
    "        for i in range(1, self.l):\n",
    "            if self.a[i] != 0:\n",
    "                self.st += ' + %g*x^%d' % (self.a[i], self.l - i - 1)\n",
    "        #Fix layout\n",
    "        self.st = self.st.replace('+ -', '- ')\n",
    "        self.st = self.st.replace('x^0', '1')\n",
    "        self.st = self.st.replace('1*', '')\n",
    "        self.st = self.st.replace('*1','')\n",
    "        self.st = self.st.replace('x^1', 'x')\n",
    "        return self.st\n",
    "    \n",
    "    def differentiate(self):\n",
    "        D = self.a[:]\n",
    "        for i in range(0,self.l - 1):\n",
    "            D[i+1] = (self.l - i - 1) * self.a[i]\n",
    "        self.a = D[:]\n",
    "        del self.a[0]\n",
    "        self.l = len(self.a)\n",
    "    \n",
    "    def derivative(self):\n",
    "        self.prime = Polynomial(self.a[:])\n",
    "        self.prime.differentiate()\n",
    "        return self.prime"
   ]
  },
  {
   "cell_type": "code",
   "execution_count": 2,
   "metadata": {
    "collapsed": false
   },
   "outputs": [
    {
     "name": "stdout",
     "output_type": "stream",
     "text": [
      "x^4 + 2*x^3 + 3*x^2 + 4*x + 5\n",
      "5\n"
     ]
    }
   ],
   "source": [
    "f = Polynomial([1, 2, 3, 4, 5])\n",
    "print f\n",
    "print len(f)"
   ]
  },
  {
   "cell_type": "code",
   "execution_count": 3,
   "metadata": {
    "collapsed": false
   },
   "outputs": [
    {
     "name": "stdout",
     "output_type": "stream",
     "text": [
      "2*x^2 + 3*x + 4\n",
      "3\n"
     ]
    }
   ],
   "source": [
    "g = Polynomial([2, 3, 4])\n",
    "print g\n",
    "print len(g)"
   ]
  },
  {
   "cell_type": "code",
   "execution_count": 4,
   "metadata": {
    "collapsed": false
   },
   "outputs": [
    {
     "name": "stdout",
     "output_type": "stream",
     "text": [
      "x^4 + 2*x^3 + 5*x^2 + 7*x + 9\n"
     ]
    }
   ],
   "source": [
    "h = f + g\n",
    "print h"
   ]
  },
  {
   "cell_type": "code",
   "execution_count": 5,
   "metadata": {
    "collapsed": false
   },
   "outputs": [
    {
     "name": "stdout",
     "output_type": "stream",
     "text": [
      "x^4 + 2*x^3 + 5*x^2 + 7*x + 9\n"
     ]
    }
   ],
   "source": [
    "h = g + f\n",
    "print h"
   ]
  },
  {
   "cell_type": "code",
   "execution_count": 6,
   "metadata": {
    "collapsed": false
   },
   "outputs": [
    {
     "name": "stdout",
     "output_type": "stream",
     "text": [
      "4*x^3 + 6*x^2 + 10*x + 7\n"
     ]
    }
   ],
   "source": [
    "r = h.derivative()\n",
    "print r"
   ]
  },
  {
   "cell_type": "code",
   "execution_count": 7,
   "metadata": {
    "collapsed": false
   },
   "outputs": [
    {
     "data": {
      "text/plain": [
       "27"
      ]
     },
     "execution_count": 7,
     "metadata": {},
     "output_type": "execute_result"
    }
   ],
   "source": [
    "r(1)"
   ]
  },
  {
   "cell_type": "code",
   "execution_count": 8,
   "metadata": {
    "collapsed": false
   },
   "outputs": [
    {
     "name": "stdout",
     "output_type": "stream",
     "text": [
      "x^4 + 2*x^3 + x^2 + x + 1\n"
     ]
    }
   ],
   "source": [
    "j = f - g\n",
    "print j"
   ]
  },
  {
   "cell_type": "code",
   "execution_count": 9,
   "metadata": {
    "collapsed": false
   },
   "outputs": [
    {
     "name": "stdout",
     "output_type": "stream",
     "text": [
      "-x^4 - 2*x^3 - x^2 - x - 1\n"
     ]
    }
   ],
   "source": [
    "j = g - f\n",
    "print j"
   ]
  },
  {
   "cell_type": "code",
   "execution_count": 10,
   "metadata": {
    "collapsed": true
   },
   "outputs": [],
   "source": [
    "class Derivative(object):\n",
    "    \n",
    "    def __init__(self, f, h=1E-6):\n",
    "        self.f = f\n",
    "        self.h = h\n",
    "    \n",
    "    def __call__(self, x):\n",
    "        return (self.f(x + self.h) - self.f(x)) / self.h"
   ]
  },
  {
   "cell_type": "code",
   "execution_count": 22,
   "metadata": {
    "collapsed": true
   },
   "outputs": [],
   "source": [
    "q = Derivative(h)"
   ]
  },
  {
   "cell_type": "code",
   "execution_count": 23,
   "metadata": {
    "collapsed": false
   },
   "outputs": [
    {
     "data": {
      "text/plain": [
       "27.000016999068066"
      ]
     },
     "execution_count": 23,
     "metadata": {},
     "output_type": "execute_result"
    }
   ],
   "source": [
    "q(1)"
   ]
  },
  {
   "cell_type": "code",
   "execution_count": 24,
   "metadata": {
    "collapsed": false
   },
   "outputs": [
    {
     "data": {
      "text/plain": [
       "27"
      ]
     },
     "execution_count": 24,
     "metadata": {},
     "output_type": "execute_result"
    }
   ],
   "source": [
    "r(1)"
   ]
  },
  {
   "cell_type": "code",
   "execution_count": null,
   "metadata": {
    "collapsed": true
   },
   "outputs": [],
   "source": []
  }
 ],
 "metadata": {
  "kernelspec": {
   "display_name": "Python 2",
   "language": "python",
   "name": "python2"
  },
  "language_info": {
   "codemirror_mode": {
    "name": "ipython",
    "version": 2
   },
   "file_extension": ".py",
   "mimetype": "text/x-python",
   "name": "python",
   "nbconvert_exporter": "python",
   "pygments_lexer": "ipython2",
   "version": "2.7.10"
  }
 },
 "nbformat": 4,
 "nbformat_minor": 1
}
