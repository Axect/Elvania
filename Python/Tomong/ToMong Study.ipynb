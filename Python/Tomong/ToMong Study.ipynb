{
 "cells": [
  {
   "cell_type": "markdown",
   "metadata": {},
   "source": [
    "# 1. Python Basic "
   ]
  },
  {
   "cell_type": "markdown",
   "metadata": {},
   "source": [
    "## 1.1. Print "
   ]
  },
  {
   "cell_type": "markdown",
   "metadata": {},
   "source": [
    "* %s = String\n",
    "* %d = Integer\n",
    "* %r = Represent (자료 그대로 출력)\n",
    "* %f = Float (소수점)"
   ]
  },
  {
   "cell_type": "code",
   "execution_count": 1,
   "metadata": {},
   "outputs": [
    {
     "name": "stdout",
     "output_type": "stream",
     "text": [
      "뀨?\n",
      "'\\xeb\\x80\\xa8?'\n"
     ]
    }
   ],
   "source": [
    "print '%s' % '뀨?'\n",
    "print '%r' % '뀨?'"
   ]
  },
  {
   "cell_type": "code",
   "execution_count": 2,
   "metadata": {},
   "outputs": [
    {
     "name": "stdout",
     "output_type": "stream",
     "text": [
      "1 4 9 16.00\n"
     ]
    }
   ],
   "source": [
    "print '%d %d %d %.2f' % (1 ** 2, 2 ** 2, 3 ** 2, 4 ** 2)"
   ]
  },
  {
   "cell_type": "markdown",
   "metadata": {},
   "source": [
    "### * 연속출력 "
   ]
  },
  {
   "cell_type": "code",
   "execution_count": 3,
   "metadata": {},
   "outputs": [
    {
     "name": "stdout",
     "output_type": "stream",
     "text": [
      "안녕, 나는 토디 볼이라구 행\n",
      "보올 보올\n"
     ]
    }
   ],
   "source": [
    "print \"안녕, 나는 토디 볼이라구 행\"\n",
    "print \"보올 보올\""
   ]
  },
  {
   "cell_type": "code",
   "execution_count": 4,
   "metadata": {},
   "outputs": [
    {
     "name": "stdout",
     "output_type": "stream",
     "text": [
      "안녕, 나는 토디 볼이라구 행 보올 보올\n"
     ]
    }
   ],
   "source": [
    "print \"안녕, 나는 토디 볼이라구 행\",\n",
    "print \"보올 보올\""
   ]
  },
  {
   "cell_type": "markdown",
   "metadata": {},
   "source": [
    "### * 이런 것도 가능합니다. "
   ]
  },
  {
   "cell_type": "code",
   "execution_count": 5,
   "metadata": {},
   "outputs": [
    {
     "name": "stdout",
     "output_type": "stream",
     "text": [
      "안녕 나는 토디 볼 보올 보올\n",
      "%s %s %s %s %s %s %s %s %s %s %s %s %s %s %s %s\n"
     ]
    }
   ],
   "source": [
    "p = \"%s %s %s %s\"\n",
    "\n",
    "print p % ('안녕', '나는', '토디 볼', '보올 보올')\n",
    "print p % (p, p, p, p)"
   ]
  },
  {
   "cell_type": "markdown",
   "metadata": {},
   "source": [
    "### * For Convenience"
   ]
  },
  {
   "cell_type": "code",
   "execution_count": 6,
   "metadata": {},
   "outputs": [
    {
     "name": "stdout",
     "output_type": "stream",
     "text": [
      "\n",
      "할 일 목록:\n",
      "\t* 토디 볼 터치\n",
      "\t* 토디 볼 물기\n",
      "\t* 토디 볼 뽀뽀\n",
      "\t* 토디 볼 쓰담\n",
      "\n"
     ]
    }
   ],
   "source": [
    "print \"\"\"\n",
    "할 일 목록:\n",
    "\\t* 토디 볼 터치\n",
    "\\t* 토디 볼 물기\n",
    "\\t* 토디 볼 뽀뽀\\n\\t* 토디 볼 쓰담\n",
    "\"\"\""
   ]
  },
  {
   "cell_type": "markdown",
   "metadata": {},
   "source": [
    "### * Escape "
   ]
  },
  {
   "cell_type": "code",
   "execution_count": 7,
   "metadata": {},
   "outputs": [
    {
     "name": "stdout",
     "output_type": "stream",
     "text": [
      "제 오래 달리기 기록은 6'2\"입니다.\n",
      "제 오래 달리기 기록은 6'2\"입니다.\n"
     ]
    }
   ],
   "source": [
    "print \"제 오래 달리기 기록은 6'2\\\"입니다.\"\n",
    "print '제 오래 달리기 기록은 6\\'2\"입니다.'"
   ]
  },
  {
   "cell_type": "markdown",
   "metadata": {},
   "source": [
    "## 1.2. Input"
   ]
  },
  {
   "cell_type": "markdown",
   "metadata": {},
   "source": [
    "### 1.2.1. Raw_Input"
   ]
  },
  {
   "cell_type": "code",
   "execution_count": 8,
   "metadata": {},
   "outputs": [
    {
     "name": "stdout",
     "output_type": "stream",
     "text": [
      "누구시죠?\n",
      "'토디'\n",
      "반갑습니다 '토디'님.\n"
     ]
    }
   ],
   "source": [
    "print \"누구시죠?\"\n",
    "who = raw_input() # 작은따옴표를 쓰고 써야함!\n",
    "print \"반갑습니다 %s님.\" % who # win10에서는 한글이 안뜨는 듯..ㅜㅠ"
   ]
  },
  {
   "cell_type": "code",
   "execution_count": 9,
   "metadata": {},
   "outputs": [
    {
     "name": "stdout",
     "output_type": "stream",
     "text": [
      "누구시죠? 토디\n",
      "반갑습니다 토디님.\n"
     ]
    }
   ],
   "source": [
    "who = raw_input(\"누구시죠? \") # 이렇게 하면 따옴표 자체가 들어갔기에 굳이 따옴표형태로 치지 않아도 됩니다.\n",
    "print \"반갑습니다 %s님.\" % who"
   ]
  },
  {
   "cell_type": "markdown",
   "metadata": {},
   "source": [
    "### * Prompt "
   ]
  },
  {
   "cell_type": "code",
   "execution_count": 10,
   "metadata": {},
   "outputs": [
    {
     "name": "stdout",
     "output_type": "stream",
     "text": [
      "이름이 뭐에요?\n",
      "> 토디\n",
      "전화번호 뭐에요?\n",
      "> 01038305517\n",
      "토디님의 전화번호는 01038305517입니다.\n"
     ]
    }
   ],
   "source": [
    "prompt = '> '\n",
    "print \"이름이 뭐에요?\"\n",
    "who = raw_input(prompt)\n",
    "print \"전화번호 뭐에요?\"\n",
    "phone_num = raw_input(prompt)\n",
    "print \"%s님의 전화번호는 %s입니다.\" % (who, phone_num) # 왜 %d가 아니라 %s 일까요?"
   ]
  },
  {
   "cell_type": "markdown",
   "metadata": {},
   "source": [
    "### 1.2.2. Argv"
   ]
  },
  {
   "cell_type": "code",
   "execution_count": 11,
   "metadata": {},
   "outputs": [
    {
     "name": "stdout",
     "output_type": "stream",
     "text": [
      "Overwriting tomong.py\n"
     ]
    }
   ],
   "source": [
    "%%writefile tomong.py\n",
    "\n",
    "# -*- coding: utf-8 -*-\n",
    "\n",
    "from sys import argv\n",
    "\n",
    "script, user_name = argv\n",
    "prompt = '> '\n",
    "\n",
    "print \"안녕 %s, 나는 %s 스크립트야.\" % (user_name, script)\n",
    "print \"몇 가지 질문을 할게.\"\n",
    "print \"%s, 나를 좋아해?\" % user_name\n",
    "likes = raw_input(prompt)\n",
    "\n",
    "print \"%s, 어디에 살아?\" % user_name\n",
    "lives = raw_input(prompt)\n",
    "\n",
    "print \"무슨 종류의 컴퓨터를 갖고 있어?\"\n",
    "computer = raw_input(prompt)\n",
    "\n",
    "print \"\"\"\n",
    "좋아, 나를 좋아하냐는 질문에는 '%s'.\n",
    "'%s'에 살아. 어딘지는 모르겠지만.\n",
    "그리고 '%s' 컴퓨터를 가졌어. 멋져.\n",
    "\"\"\" % (likes, lives, computer)"
   ]
  },
  {
   "cell_type": "code",
   "execution_count": 12,
   "metadata": {},
   "outputs": [
    {
     "name": "stdout",
     "output_type": "stream",
     "text": [
      "안녕 토디, 나는 tomong.py 스크립트야.\n",
      "몇 가지 질문을 할게.\n",
      "토디, 나를 좋아해?\n",
      "> 응\n",
      "토디, 어디에 살아?\n",
      "> 몽몽이 마음속\n",
      "무슨 종류의 컴퓨터를 갖고 있어?\n",
      "> 엠에뜨아잉\n",
      "\n",
      "좋아, 나를 좋아하냐는 질문에는 '응'.\n",
      "'몽몽이 마음속'에 살아. 어딘지는 모르겠지만.\n",
      "그리고 '엠에뜨아잉' 컴퓨터를 가졌어. 멋져.\n",
      "\n"
     ]
    }
   ],
   "source": [
    "%run tomong.py 토디"
   ]
  },
  {
   "cell_type": "markdown",
   "metadata": {},
   "source": [
    "## 1.3. Write & Read"
   ]
  },
  {
   "cell_type": "code",
   "execution_count": 13,
   "metadata": {
    "collapsed": true
   },
   "outputs": [],
   "source": [
    "txt = open('totodi.txt', 'w') # totodi.txt를 열고 (없으면 만들고) write 가능상태로 만듭니다.\n",
    "txt.write('Hello')\n",
    "txt.close() # close는 꼭 해야합니다!"
   ]
  },
  {
   "cell_type": "code",
   "execution_count": 14,
   "metadata": {},
   "outputs": [
    {
     "name": "stdout",
     "output_type": "stream",
     "text": [
      "Overwriting write_test.py\n"
     ]
    }
   ],
   "source": [
    "%%writefile write_test.py\n",
    "\n",
    "# -*- coding: utf-8 -*-\n",
    "\n",
    "from sys import argv\n",
    "\n",
    "script, filename = argv\n",
    "\n",
    "print \"%r 파일을 지우려 합니다.\" % filename\n",
    "print \"취소하려면 CTRL-C(^C)를 누르세요.\"\n",
    "print \"진행하려면 리턴을 누르세요.\"\n",
    "\n",
    "raw_input(\"?\")\n",
    "\n",
    "print \"파일 여는 중...\"\n",
    "target = open(filename, 'w')\n",
    "\n",
    "print \"파일 내용을 지웁니다. 안녕히!\"\n",
    "target.truncate() # 삭제입니다.\n",
    "\n",
    "print \"이제 세 줄에 들어갈 내용을 묻겠습니다.\"\n",
    "line1 = raw_input('> ')\n",
    "line2 = raw_input('> ')\n",
    "line3 = raw_input('> ')\n",
    "\n",
    "print \"이 내용을 파일에 씁니다.\"\n",
    "\n",
    "for i in range(0,3): # 파이썬은 index가 0부터 시작. 즉, 0부터 3미만까지 하라는 소리. 콜론과 들여쓰기는 필수입니다.\n",
    "    target.write(locals()['line'+str(i+1)]) # 이건 몽몽이의 비밀병기!\n",
    "    target.write('\\n') # 줄 띄우기!\n",
    "\n",
    "print \"마지막으로 닫습니다.\"\n",
    "target.close() # Close 하지 않으면 저장이 안됩니다."
   ]
  },
  {
   "cell_type": "code",
   "execution_count": 15,
   "metadata": {},
   "outputs": [
    {
     "name": "stdout",
     "output_type": "stream",
     "text": [
      "'totodi.txt' 파일을 지우려 합니다.\n",
      "취소하려면 CTRL-C(^C)를 누르세요.\n",
      "진행하려면 리턴을 누르세요.\n",
      "?\n",
      "파일 여는 중...\n",
      "파일 내용을 지웁니다. 안녕히!\n",
      "이제 세 줄에 들어갈 내용을 묻겠습니다.\n",
      "> Hi I'm Todi\n",
      "> I love mong mong\n",
      "> forever\n",
      "이 내용을 파일에 씁니다.\n",
      "마지막으로 닫습니다.\n"
     ]
    }
   ],
   "source": [
    "%run write_test.py totodi.txt"
   ]
  },
  {
   "cell_type": "code",
   "execution_count": 16,
   "metadata": {},
   "outputs": [
    {
     "name": "stdout",
     "output_type": "stream",
     "text": [
      "Hi I'm Todi\n",
      "I love mong mong\n",
      "forever\n",
      "\n"
     ]
    }
   ],
   "source": [
    "txt = open('totodi.txt','r')\n",
    "print txt.read()"
   ]
  },
  {
   "cell_type": "markdown",
   "metadata": {},
   "source": [
    "** 사실 좀 더 많은 write, read 가 있지만 구글링이 모든 걸 해결해줄겁니다. **\n",
    "* ---------- *"
   ]
  },
  {
   "cell_type": "markdown",
   "metadata": {},
   "source": [
    "# 2. Python Computing"
   ]
  },
  {
   "cell_type": "markdown",
   "metadata": {},
   "source": [
    "## 2.1. 여러가지 자료형."
   ]
  },
  {
   "cell_type": "markdown",
   "metadata": {},
   "source": [
    "### 2.1.1. List "
   ]
  },
  {
   "cell_type": "markdown",
   "metadata": {},
   "source": [
    "** 리스트는 순서가 있는 자료형으로 대괄호를 이용합니다. **"
   ]
  },
  {
   "cell_type": "code",
   "execution_count": 17,
   "metadata": {},
   "outputs": [
    {
     "name": "stdout",
     "output_type": "stream",
     "text": [
      "<type 'list'>\n",
      "4\n"
     ]
    }
   ],
   "source": [
    "todi_food = ['빵', '아메리카노', '하두', '찌끼']\n",
    "print type(todi_food)\n",
    "print len(todi_food)"
   ]
  },
  {
   "cell_type": "code",
   "execution_count": 18,
   "metadata": {},
   "outputs": [
    {
     "name": "stdout",
     "output_type": "stream",
     "text": [
      "아메리카노\n"
     ]
    }
   ],
   "source": [
    "print todi_food[1]"
   ]
  },
  {
   "cell_type": "code",
   "execution_count": 19,
   "metadata": {},
   "outputs": [
    {
     "name": "stdout",
     "output_type": "stream",
     "text": [
      "['\\xec\\x95\\x84\\xeb\\xa9\\x94\\xeb\\xa6\\xac\\xec\\xb9\\xb4\\xeb\\x85\\xb8', '\\xed\\x8c\\x9f\\xed\\x83\\x80\\xec\\x9d\\xb4', '\\xed\\x95\\x98\\xeb\\x91\\x90', '\\xec\\xb0\\x8c\\xeb\\x81\\xbc', '\\xec\\x88\\x9c\\xeb\\x8c\\x80']\n",
      "5\n"
     ]
    }
   ],
   "source": [
    "todi_food.append('순대') # 뒤에 붙입니다.\n",
    "todi_food.insert(2, '팟타이') # index 2 즉, 3번째에 팟타이를 넣습니다.\n",
    "del todi_food[0] # 첫번째를 지웁니다. 빵은 이제 빠빵\n",
    "\n",
    "print todi_food[:]\n",
    "print len(todi_food)"
   ]
  },
  {
   "cell_type": "code",
   "execution_count": 20,
   "metadata": {},
   "outputs": [
    {
     "name": "stdout",
     "output_type": "stream",
     "text": [
      "아메리카노\n",
      "팟타이\n",
      "하두\n",
      "찌끼\n",
      "순대\n"
     ]
    }
   ],
   "source": [
    "for i in range(0,len(todi_food)): # 이렇게 하면 순서에 따라 todi_food의 원소가 하나씩 나옵니다.\n",
    "    print todi_food[i]"
   ]
  },
  {
   "cell_type": "code",
   "execution_count": 21,
   "metadata": {},
   "outputs": [
    {
     "name": "stdout",
     "output_type": "stream",
     "text": [
      "아메리카노\n",
      "팟타이\n",
      "하두\n",
      "찌끼\n",
      "순대\n"
     ]
    }
   ],
   "source": [
    "for food in todi_food: # 이렇게 하면 todi_food안의 원소를 직접 불러옵니다.\n",
    "    print food"
   ]
  },
  {
   "cell_type": "code",
   "execution_count": 22,
   "metadata": {
    "collapsed": true
   },
   "outputs": [],
   "source": [
    "def show_todi(list): # 귀찮으니 아예 함수로 만듭시다.\n",
    "    for element in list:\n",
    "        print element"
   ]
  },
  {
   "cell_type": "code",
   "execution_count": 23,
   "metadata": {
    "collapsed": true
   },
   "outputs": [],
   "source": [
    "todi_food.sort() # 두둥!"
   ]
  },
  {
   "cell_type": "code",
   "execution_count": 24,
   "metadata": {},
   "outputs": [
    {
     "name": "stdout",
     "output_type": "stream",
     "text": [
      "순대\n",
      "아메리카노\n",
      "찌끼\n",
      "팟타이\n",
      "하두\n"
     ]
    }
   ],
   "source": [
    "show_todi(todi_food)"
   ]
  },
  {
   "cell_type": "code",
   "execution_count": 25,
   "metadata": {},
   "outputs": [
    {
     "name": "stdout",
     "output_type": "stream",
     "text": [
      "하두\n"
     ]
    }
   ],
   "source": [
    "print todi_food[-1] # 거꾸로도 갈 수 있습니다."
   ]
  },
  {
   "cell_type": "code",
   "execution_count": 26,
   "metadata": {},
   "outputs": [
    {
     "name": "stdout",
     "output_type": "stream",
     "text": [
      "하두\n",
      "팟타이\n",
      "찌끼\n",
      "아메리카노\n",
      "순대\n"
     ]
    }
   ],
   "source": [
    "for i in range(0,len(todi_food)): # 이렇게 말이죠!\n",
    "    print todi_food[-i-1]"
   ]
  },
  {
   "cell_type": "markdown",
   "metadata": {},
   "source": [
    "** 혹은 이렇게 거꾸로 만들어 버릴 수도 있습니다. **"
   ]
  },
  {
   "cell_type": "code",
   "execution_count": 27,
   "metadata": {
    "collapsed": true
   },
   "outputs": [],
   "source": [
    "todi_food.reverse()"
   ]
  },
  {
   "cell_type": "code",
   "execution_count": 28,
   "metadata": {},
   "outputs": [
    {
     "name": "stdout",
     "output_type": "stream",
     "text": [
      "하두\n",
      "팟타이\n",
      "찌끼\n",
      "아메리카노\n",
      "순대\n"
     ]
    }
   ],
   "source": [
    "show_todi(todi_food)"
   ]
  },
  {
   "cell_type": "markdown",
   "metadata": {},
   "source": [
    "** 좀 더 심화적인 것으로 가보죠. 아래 코드를 해석해보세요~**"
   ]
  },
  {
   "cell_type": "code",
   "execution_count": 29,
   "metadata": {
    "collapsed": true
   },
   "outputs": [],
   "source": [
    "a = []\n",
    "\n",
    "for i in range(1, 11):\n",
    "    a.append(i)\n",
    "\n",
    "b = [3*x for x in a if x % 2 == 0] # 이런식으로도 쓸 수 있긴한데 사실 안씁니다."
   ]
  },
  {
   "cell_type": "code",
   "execution_count": 30,
   "metadata": {},
   "outputs": [
    {
     "name": "stdout",
     "output_type": "stream",
     "text": [
      "[6, 12, 18, 24, 30]\n"
     ]
    }
   ],
   "source": [
    "print b"
   ]
  },
  {
   "cell_type": "markdown",
   "metadata": {},
   "source": [
    "** 아, list 끼리는 붙일 수 있습니다. **"
   ]
  },
  {
   "cell_type": "code",
   "execution_count": 31,
   "metadata": {},
   "outputs": [
    {
     "name": "stdout",
     "output_type": "stream",
     "text": [
      "[1, 2, 3, 4]\n"
     ]
    }
   ],
   "source": [
    "c = [1, 2]\n",
    "d = [3, 4]\n",
    "print c+d"
   ]
  },
  {
   "cell_type": "markdown",
   "metadata": {},
   "source": [
    "### 2.1.2. Tuples"
   ]
  },
  {
   "cell_type": "code",
   "execution_count": 32,
   "metadata": {},
   "outputs": [
    {
     "name": "stdout",
     "output_type": "stream",
     "text": [
      "<type 'tuple'>\n",
      "(1, 2, 3)\n"
     ]
    }
   ],
   "source": [
    "a = (1, 2, 3)\n",
    "print type(a)\n",
    "print a"
   ]
  },
  {
   "cell_type": "code",
   "execution_count": 33,
   "metadata": {},
   "outputs": [
    {
     "name": "stdout",
     "output_type": "stream",
     "text": [
      "[1, 5, 3]\n"
     ]
    },
    {
     "ename": "TypeError",
     "evalue": "'tuple' object does not support item assignment",
     "output_type": "error",
     "traceback": [
      "\u001b[0;31m---------------------------------------------------------------------------\u001b[0m",
      "\u001b[0;31mTypeError\u001b[0m                                 Traceback (most recent call last)",
      "\u001b[0;32m<ipython-input-33-a9df5c19c628>\u001b[0m in \u001b[0;36m<module>\u001b[0;34m()\u001b[0m\n\u001b[1;32m      4\u001b[0m \u001b[0;34m\u001b[0m\u001b[0m\n\u001b[1;32m      5\u001b[0m \u001b[0ma\u001b[0m \u001b[0;34m=\u001b[0m \u001b[0;34m(\u001b[0m\u001b[0;36m1\u001b[0m\u001b[0;34m,\u001b[0m \u001b[0;36m2\u001b[0m\u001b[0;34m,\u001b[0m \u001b[0;36m3\u001b[0m\u001b[0;34m)\u001b[0m\u001b[0;34m\u001b[0m\u001b[0m\n\u001b[0;32m----> 6\u001b[0;31m \u001b[0ma\u001b[0m\u001b[0;34m[\u001b[0m\u001b[0;36m1\u001b[0m\u001b[0;34m]\u001b[0m \u001b[0;34m=\u001b[0m \u001b[0;36m5\u001b[0m \u001b[0;31m# Tuple can't replace elment 즉, 에러가 뜹니다.\u001b[0m\u001b[0;34m\u001b[0m\u001b[0m\n\u001b[0m",
      "\u001b[0;31mTypeError\u001b[0m: 'tuple' object does not support item assignment"
     ]
    }
   ],
   "source": [
    "a = [1, 2, 3]\n",
    "a[1] = 5 # list can replace element\n",
    "print a\n",
    "\n",
    "a = (1, 2, 3)\n",
    "a[1] = 5 # Tuple can't replace elment 즉, 에러가 뜹니다."
   ]
  },
  {
   "cell_type": "markdown",
   "metadata": {},
   "source": [
    "** P.S. 원소를 못바꾸는 것이 단점 같아 보이지만, 반대로 생각해보면 객체를 패킹하는데 유용할 것입니다. **"
   ]
  },
  {
   "cell_type": "code",
   "execution_count": 34,
   "metadata": {},
   "outputs": [
    {
     "name": "stdout",
     "output_type": "stream",
     "text": [
      "<type 'int'>\n",
      "<type 'tuple'>\n"
     ]
    }
   ],
   "source": [
    "a = (1)\n",
    "print type(a)\n",
    "# 파이썬은 동적인 언어입니다.\n",
    "a = (1,)\n",
    "print type(a)"
   ]
  },
  {
   "cell_type": "code",
   "execution_count": 35,
   "metadata": {},
   "outputs": [
    {
     "name": "stdout",
     "output_type": "stream",
     "text": [
      "2\n",
      "hello\n"
     ]
    }
   ],
   "source": [
    "a = (2, 3, 'hello')\n",
    "(x, y, z) = a\n",
    "print x\n",
    "print z"
   ]
  },
  {
   "cell_type": "code",
   "execution_count": 36,
   "metadata": {},
   "outputs": [
    {
     "name": "stdout",
     "output_type": "stream",
     "text": [
      "<type 'tuple'>\n",
      "35\n"
     ]
    }
   ],
   "source": [
    "a = 'alpha', 35, 'sigma'\n",
    "print type(a)\n",
    "p, r, q = a\n",
    "print r"
   ]
  },
  {
   "cell_type": "markdown",
   "metadata": {},
   "source": [
    "### 2.1.3. Dictionary"
   ]
  },
  {
   "cell_type": "code",
   "execution_count": 37,
   "metadata": {},
   "outputs": [
    {
     "name": "stdout",
     "output_type": "stream",
     "text": [
      "<type 'dict'>\n",
      "하두\n"
     ]
    }
   ],
   "source": [
    "food_of_todi = {'신촌': '하두', '신천': '부웅빠방', '김포': '바르미'}\n",
    "\n",
    "print type(food_of_todi)\n",
    "print food_of_todi['신촌']"
   ]
  },
  {
   "cell_type": "code",
   "execution_count": 38,
   "metadata": {},
   "outputs": [
    {
     "name": "stdout",
     "output_type": "stream",
     "text": [
      "해돋이\n"
     ]
    }
   ],
   "source": [
    "food_of_todi = {'신촌': {'하두': '해돋이', '찌끼': '칠칠'}, '신천': '부웅빠방'}\n",
    "\n",
    "print food_of_todi['신촌']['하두']"
   ]
  },
  {
   "cell_type": "code",
   "execution_count": 39,
   "metadata": {},
   "outputs": [
    {
     "name": "stdout",
     "output_type": "stream",
     "text": [
      "하두\n"
     ]
    }
   ],
   "source": [
    "# -*- coding: utf-8 -*-\n",
    "food_of_todi = dict(Sinchon = '하두', Sincheon = '부웅빠방') # 이렇게도 쓸 수 있습니다. 근데 한글은 안돼요 ㅜㅠ\n",
    "\n",
    "print food_of_todi['Sinchon']"
   ]
  },
  {
   "cell_type": "markdown",
   "metadata": {},
   "source": [
    "* ** Quiz: 두 칸 위에 있는 food_of_todi 를 dict 로 구현해보세요. **"
   ]
  },
  {
   "cell_type": "code",
   "execution_count": 42,
   "metadata": {},
   "outputs": [
    {
     "name": "stdout",
     "output_type": "stream",
     "text": [
      "[{'Jjikki': '\\xec\\xb9\\xa0\\xec\\xb9\\xa0', 'Hadu': '\\xed\\x95\\xb4\\xeb\\x8f\\x8b\\xec\\x9d\\xb4'}, '\\xeb\\xb6\\x80\\xec\\x9b\\x85\\xeb\\xb9\\xa0\\xeb\\xb0\\xa9']\n"
     ]
    }
   ],
   "source": [
    "food_of_todi = dict(Sinchon = dict(Hadu = '해돋이', Jjikki = '칠칠'), Sincheon = '부웅빠방')\n",
    "\n",
    "print food_of_todi.values()"
   ]
  },
  {
   "cell_type": "code",
   "execution_count": 43,
   "metadata": {},
   "outputs": [
    {
     "name": "stdout",
     "output_type": "stream",
     "text": [
      "['h2', 'k']\n",
      "[3, 'v']\n"
     ]
    }
   ],
   "source": [
    "a = dict(k = 'v', h2 = 3)\n",
    "\n",
    "print a.keys()\n",
    "print a.values()"
   ]
  },
  {
   "cell_type": "code",
   "execution_count": 44,
   "metadata": {},
   "outputs": [
    {
     "name": "stdout",
     "output_type": "stream",
     "text": [
      "[('h2', 3), ('n1', 'new'), ('k', 'v'), ('n3', 'newest'), ('n2', 'newer')]\n"
     ]
    }
   ],
   "source": [
    "a.update({'n1': 'new'})\n",
    "a.update(dict(n2 = 'newer'))\n",
    "a['n3'] = 'newest'\n",
    "\n",
    "print a.items()"
   ]
  },
  {
   "cell_type": "markdown",
   "metadata": {},
   "source": [
    "** Dict는 List로 바꾸기 쉽습니다. **"
   ]
  },
  {
   "cell_type": "code",
   "execution_count": 45,
   "metadata": {},
   "outputs": [
    {
     "name": "stdout",
     "output_type": "stream",
     "text": [
      "['h2', 'k', 'n1', 'n2', 'n3']\n"
     ]
    }
   ],
   "source": [
    "a = list(a)\n",
    "a.sort()\n",
    "print a"
   ]
  },
  {
   "cell_type": "markdown",
   "metadata": {},
   "source": [
    "### 2.1.4. Set "
   ]
  },
  {
   "cell_type": "code",
   "execution_count": 46,
   "metadata": {},
   "outputs": [
    {
     "name": "stdout",
     "output_type": "stream",
     "text": [
      "set([1, 2, 3, 4, 5])\n",
      "set([1, 2, 3, 4, 5])\n"
     ]
    }
   ],
   "source": [
    "s = set([1,2,3,4,5,5,5,5])\n",
    "print s\n",
    "s = set((1,2,3,4,5))\n",
    "print s"
   ]
  },
  {
   "cell_type": "markdown",
   "metadata": {},
   "source": [
    "* ** 그 Set이 맞습니다. **"
   ]
  },
  {
   "cell_type": "markdown",
   "metadata": {},
   "source": [
    "* **Set은 순서가 없으므로 append 대신 add 사용.**"
   ]
  },
  {
   "cell_type": "code",
   "execution_count": null,
   "metadata": {},
   "outputs": [],
   "source": [
    "s = set()\n",
    "s.add(2)\n",
    "s.add(3)\n",
    "s.add(1)\n",
    "print s"
   ]
  },
  {
   "cell_type": "code",
   "execution_count": 47,
   "metadata": {},
   "outputs": [
    {
     "name": "stdout",
     "output_type": "stream",
     "text": [
      "set([1, 2, 3, 4])\n",
      "set([2, 3])\n",
      "set([1])\n"
     ]
    }
   ],
   "source": [
    "a = set([1,2,3])\n",
    "b = set([2,3,4])\n",
    "c = set([2,3])\n",
    "print a.union(b)\n",
    "print a.intersection(b)\n",
    "print a.difference(b)"
   ]
  },
  {
   "cell_type": "code",
   "execution_count": 48,
   "metadata": {},
   "outputs": [
    {
     "name": "stdout",
     "output_type": "stream",
     "text": [
      "c is a subset of a\n"
     ]
    }
   ],
   "source": [
    "if len(c) == len(a.intersection(c)): # if 도 간단하죠? ==, >=, <=, != 만 잘 쓰시면 됩니다.\n",
    "    print \"c is a subset of a\"\n",
    "else:\n",
    "    print \"c is not a subset of a\""
   ]
  },
  {
   "cell_type": "markdown",
   "metadata": {},
   "source": [
    "* **Quiz: 부분집합을 결정하는 함수를 짜보세요. (아래 코드는 함수의 예시입니다.)**"
   ]
  },
  {
   "cell_type": "code",
   "execution_count": 49,
   "metadata": {},
   "outputs": [
    {
     "name": "stdout",
     "output_type": "stream",
     "text": [
      "Wonderful\n"
     ]
    }
   ],
   "source": [
    "def TODI(beauty):\n",
    "    print beauty\n",
    "    \n",
    "TODI('Wonderful')"
   ]
  },
  {
   "cell_type": "code",
   "execution_count": 54,
   "metadata": {
    "collapsed": true
   },
   "outputs": [],
   "source": [
    "def Subset(A,B):\n",
    "    if len(A) == len(A.intersection(B)):\n",
    "        if len(B) == len(B.intersection(A)):\n",
    "            print \"%s은 %s와 같습니다.\" % (A, B)\n",
    "        else:\n",
    "            print \"%s은 %s의 부분집합입니다.\" % (A, B)\n",
    "    elif len(B) == len(B.intersection(A)):\n",
    "        print \"%s은 %s의 부분집합입니다.\" % (B, A)"
   ]
  },
  {
   "cell_type": "code",
   "execution_count": 55,
   "metadata": {},
   "outputs": [
    {
     "name": "stdout",
     "output_type": "stream",
     "text": [
      "set([2, 3])은 set([1, 2, 3])의 부분집합입니다.\n"
     ]
    }
   ],
   "source": [
    "Subset(a,c)"
   ]
  },
  {
   "cell_type": "markdown",
   "metadata": {
    "collapsed": true
   },
   "source": [
    "## 2.2. Logic Sentence"
   ]
  },
  {
   "cell_type": "markdown",
   "metadata": {},
   "source": [
    "### 2.2.1. If"
   ]
  },
  {
   "cell_type": "code",
   "execution_count": 59,
   "metadata": {
    "collapsed": true
   },
   "outputs": [],
   "source": [
    "people = 20\n",
    "cats = 30\n",
    "dogs = 15\n",
    "\n",
    "from random import randrange\n",
    "\n",
    "cats = cats * randrange(1,5)\n",
    "people = people * randrange(1,7)\n",
    "dogs = dogs * randrange(1,6)"
   ]
  },
  {
   "cell_type": "code",
   "execution_count": 60,
   "metadata": {},
   "outputs": [
    {
     "name": "stdout",
     "output_type": "stream",
     "text": [
      "고양이가 많지 않아요! 세상은 지속됩니다!\n"
     ]
    }
   ],
   "source": [
    "if people < cats:\n",
    "    print \"고양이가 너무 많아요! 세상은 멸망합니다!\"\n",
    "elif people > cats:\n",
    "    print \"고양이가 많지 않아요! 세상은 지속됩니다!\"\n",
    "else:\n",
    "    print \"집사가 적절하군요! 세상은 평화롭습니다!\""
   ]
  },
  {
   "cell_type": "code",
   "execution_count": 61,
   "metadata": {},
   "outputs": [
    {
     "name": "stdout",
     "output_type": "stream",
     "text": [
      "100 90 50\n"
     ]
    }
   ],
   "source": [
    "dogs += 5\n",
    "\n",
    "print people, cats, dogs"
   ]
  },
  {
   "cell_type": "markdown",
   "metadata": {},
   "source": [
    "** Determine **"
   ]
  },
  {
   "cell_type": "code",
   "execution_count": 66,
   "metadata": {},
   "outputs": [
    {
     "name": "stdout",
     "output_type": "stream",
     "text": [
      "문이 두 개 있는 어두운 방에 들어왔습니다. 1번과 2번 중 어느 방으로 들어갈까요?\n",
      ">1\n",
      "거대 곰이 치즈 케이크를 먹고 있습니다. 무엇을 할까요?\n",
      "1. 케이크를 뺏는다.\n",
      "2. 곰에게 소리를 지른다.\n",
      ">1\n",
      "곰이 당신의 머리를 먹어치웁니다. 잘했어요!\n"
     ]
    }
   ],
   "source": [
    "print \"문이 두 개 있는 어두운 방에 들어왔습니다. 1번과 2번 중 어느 방으로 들어갈까요?\"\n",
    "prompt = '>'\n",
    "\n",
    "door = raw_input(prompt)\n",
    "\n",
    "if door == \"1\":\n",
    "    print \"거대 곰이 치즈 케이크를 먹고 있습니다. 무엇을 할까요?\"\n",
    "    print \"1. 케이크를 뺏는다.\"\n",
    "    print \"2. 곰에게 소리를 지른다.\"\n",
    "    \n",
    "    bear = raw_input(prompt)\n",
    "    \n",
    "    if bear == \"1\":\n",
    "        print \"곰이 당신의 머리를 먹어치웁니다. 잘했어요!\"\n",
    "    elif bear == \"2\":\n",
    "        print \"곰이 당신의 다리를 먹어치웁니다. 잘했어요!\"\n",
    "    else:\n",
    "        print \"음, %s 행동을 하는 것이 더 나았나 보네요. 곰이 도망갑니다.\" % bear\n",
    "\n",
    "elif door == \"2\":\n",
    "    print \"당신은 크툴루 눈동자의 끝없는 심연을 쳐다봅니다.\"\n",
    "    print \"1. 블루베리.\"\n",
    "    print \"2. 노란 재킷 빨래집게.\"\n",
    "    print \"3. 권총이 울부짖는 가락 이해하기.\"\n",
    "    \n",
    "    insanity = raw_input(prompt)\n",
    "    \n",
    "    if insanity == \"1\" or insanity == \"2\":\n",
    "        print \"당신의 육체는 젤리푸딩의 마음의 힘으로 살아남습니다. 잘했어요!\"\n",
    "    else:\n",
    "        print \"광기가 당신의 눈을 썩어 문드러진 시궁창으로 만듭니다. 잘했어요!\"\n",
    "\n",
    "else:\n",
    "    print \"비틀거리다 발을 헛디뎌 칼날로 떨어져 죽습니다. 잘했어요!\""
   ]
  },
  {
   "cell_type": "markdown",
   "metadata": {},
   "source": [
    "## 2.2.2. For Loop"
   ]
  },
  {
   "cell_type": "markdown",
   "metadata": {},
   "source": [
    "** Basic For loop & append **"
   ]
  },
  {
   "cell_type": "code",
   "execution_count": 67,
   "metadata": {},
   "outputs": [
    {
     "name": "stdout",
     "output_type": "stream",
     "text": [
      "list에 0 숫자를 더합니다.\n",
      "list에 1 숫자를 더합니다.\n",
      "list에 2 숫자를 더합니다.\n",
      "list에 3 숫자를 더합니다.\n",
      "list에 4 숫자를 더합니다.\n",
      "list에 5 숫자를 더합니다.\n",
      "원소는 0\n",
      "원소는 1\n",
      "원소는 2\n",
      "원소는 3\n",
      "원소는 4\n",
      "원소는 5\n"
     ]
    }
   ],
   "source": [
    "elements = []\n",
    "\n",
    "for i in range(0,6):\n",
    "    print \"list에 %d 숫자를 더합니다.\" % i\n",
    "    elements.append(i)\n",
    "\n",
    "for i in elements:\n",
    "    print \"원소는 %d\" % i"
   ]
  },
  {
   "cell_type": "markdown",
   "metadata": {},
   "source": [
    "** Practice with Matrix **"
   ]
  },
  {
   "cell_type": "code",
   "execution_count": 65,
   "metadata": {},
   "outputs": [
    {
     "name": "stdout",
     "output_type": "stream",
     "text": [
      "2\n"
     ]
    },
    {
     "data": {
      "text/plain": [
       "[1, 2, 3, 4, 5, 6, 7, 8, 9]"
      ]
     },
     "execution_count": 65,
     "metadata": {},
     "output_type": "execute_result"
    }
   ],
   "source": [
    "Matrix = [[1,2,3],[4,5,6],[7,8,9]]# 이러면 3X3 Matrix가 됩니다.\n",
    "print Matrix[0][1]\n",
    "elements = []\n",
    "\n",
    "for i in range(0,3):\n",
    "    for j in range(0,len(Matrix[i])):\n",
    "        k = Matrix[i][j]\n",
    "        elements.append(k)\n",
    "elements[:]"
   ]
  },
  {
   "cell_type": "markdown",
   "metadata": {},
   "source": [
    "#### Loop & Function"
   ]
  },
  {
   "cell_type": "code",
   "execution_count": 68,
   "metadata": {},
   "outputs": [
    {
     "name": "stdout",
     "output_type": "stream",
     "text": [
      "Overwriting game_basic.py\n"
     ]
    }
   ],
   "source": [
    "%%writefile game_basic.py\n",
    "\n",
    "# -*- coding: utf-8 -*-\n",
    "\n",
    "from sys import exit # 게임을 끝내려면 필수입니다.\n",
    "\n",
    "def gold_room():\n",
    "    print \"황금으로 가득 찬 방입니다. 얼마나 가져갈까요?\"\n",
    "    \n",
    "    next = raw_input('>')\n",
    "    if int(next) >= 0:\n",
    "        how_much = int(next)\n",
    "    else:\n",
    "        dead(\"인간이여, 숫자 쓰는 법부터 배우세요.\") # dead는 지금은 없지만 밑에서 만들어주면 됩니다.\n",
    "    \n",
    "    if how_much < 50:\n",
    "        print \"좋아, 욕심부리지 않는군요. 당신이 이겼습니다!\"\n",
    "        exit(0)\n",
    "    else:\n",
    "        dead(\"욕심쟁이 얼간이 같으니!\")\n",
    "\n",
    "def bear_room():\n",
    "    print \"\"\"\n",
    "    여기에는 곰이 한 마리 있습니다.\n",
    "    곰은 꿀을 잔뜩 들고 있습니다.\n",
    "    뚱뚱한 곰은 다른 쪽 문 앞에 있습니다.\n",
    "    어떻게 곰을 움직이겠습니까?\n",
    "    \"\"\"\n",
    "    \n",
    "    bear_moved = False # Boolean 논리를 사용할 것입니다.\n",
    "    \n",
    "    while True: # True라면 (에러가 아니라면) 계속 무한루프를 돕니다.\n",
    "        next = raw_input(\">\")\n",
    "        \n",
    "        if next == \"꿀 뺏기\":\n",
    "            dead(\"곰이 당신을 쳐다보더니 목이 떨어져라 따귀를 날립니다.\")\n",
    "        elif next == \"곰 놀리기\" and not bear_moved: # not bear_moved는 False를 지칭합니다.\n",
    "            print \"곰이 문에서 비켜섰습니다. 이제 나갈 수 있습니다.\"\n",
    "            bear_moved = True\n",
    "        elif next == \"곰 놀리기\" and bear_moved: # True를 지칭합니다.\n",
    "            dead(\"곰이 머리 끝까지 열받아 당신의 다리를 씹어먹습니다.\")\n",
    "        elif next == \"문 열기\" and bear_moved:\n",
    "            gold_room()\n",
    "        else:\n",
    "            print \"무슨 말인지 모르겠네요.\"\n",
    "\n",
    "def Todi_room(): # 꺄항!\n",
    "    print \"\"\"\n",
    "    여기에는 토디 한 마리가 있습니다.\n",
    "    토디는 아주 귀엽습니다.\n",
    "    볼은 뽀똥하고 코는 귀여우며 팔은 뽀똥합니다.\n",
    "    어디를 만지시겠습니까?\n",
    "    \"\"\"\n",
    "    Todi_touched = False # 아직 안 만졌습니다.\n",
    "    Todi_lock = True # 잠겨있습니다.\n",
    "    \n",
    "    while True:\n",
    "        next = raw_input(\">\")\n",
    "        \n",
    "        if next == \"코\" and not Todi_touched: # 토디를 만지지 않았을 때 코를 만졌습니다.\n",
    "            print \"토디가 깜짝 놀랍니다.\"\n",
    "            Todi_touched = True\n",
    "        elif next == \"코\" and Todi_touched and Todi_lock: # 토디를 만지긴 했는데 잠겨 있을 때입니다.\n",
    "            print \"토디가 좋아합니다.\"\n",
    "            Todi_lock = False\n",
    "        elif next == \"코\" and not Todi_lock: # 잠금풀린 토디는 코를 만지면 화냅니다.\n",
    "            print \"토디가 짜증냅니다.\"\n",
    "            dead(\"토디가 토라졌습니다. 꾸!\")\n",
    "        elif next == \"볼\" and not Todi_lock: # 잠금풀린 토디에게 볼을 만져주면 매우 좋아합니다.\n",
    "            print \"토디 잠금해제에 성공했습니다! 추카추카!\"\n",
    "            exit(0)\n",
    "        elif next == \"볼\" and Todi_lock: # 잠금상태의 토디는 볼을 원하지 않습니다.\n",
    "            print \"토디가 좋아하지만 원하는 것이 아닙니다.\"\n",
    "        elif next == \"팔\": # 팔은 항상 조심해야 합니다.\n",
    "            print \"토디가 분노합니다!\" \n",
    "            dead(\"꾸꾸꾸꾸꾸!\")\n",
    "        else:\n",
    "            print \"좋은 말 할때, 만지라는 데를 만지십시오.\" # 그러십시오.\n",
    "\n",
    "def dead(why):\n",
    "    print why, \"Wasted\"\n",
    "    exit(0)\n",
    "\n",
    "def start(): # 게임은 시작해야 합니다.\n",
    "    print \"어두운 방에 있습니다.\"\n",
    "    print \"오른쪽과 왼쪽에는 문이 있습니다.\"\n",
    "    print \"어느 쪽을 고를까요?\"\n",
    "    \n",
    "    next = raw_input(\">\")\n",
    "    \n",
    "    if next == \"왼쪽\":\n",
    "        bear_room()\n",
    "    elif next == \"오른쪽\":\n",
    "        Todi_room()\n",
    "    else:\n",
    "        dead(\"문 주위에서 맴돌기만 하다 굶어 죽었습니다.\")"
   ]
  },
  {
   "cell_type": "markdown",
   "metadata": {},
   "source": [
    "* ** 위와 같은 def 나 class 들만 모아놓은 py파일을 module이라고 부릅니다. **"
   ]
  },
  {
   "cell_type": "code",
   "execution_count": 69,
   "metadata": {
    "collapsed": true
   },
   "outputs": [],
   "source": [
    "import game_basic # import 할 때는 py를 붙이지 않습니다."
   ]
  },
  {
   "cell_type": "code",
   "execution_count": 70,
   "metadata": {},
   "outputs": [
    {
     "name": "stdout",
     "output_type": "stream",
     "text": [
      "어두운 방에 있습니다.\n",
      "오른쪽과 왼쪽에는 문이 있습니다.\n",
      "어느 쪽을 고를까요?\n",
      ">오른쪽\n",
      "\n",
      "    여기에는 토디 한 마리가 있습니다.\n",
      "    토디는 아주 귀엽습니다.\n",
      "    볼은 뽀똥하고 코는 귀여우며 팔은 뽀똥합니다.\n",
      "    어디를 만지시겠습니까?\n",
      "    \n",
      ">볼\n",
      "토디가 좋아하지만 원하는 것이 아닙니다.\n",
      ">볼\n",
      "토디가 좋아하지만 원하는 것이 아닙니다.\n",
      ">코\n",
      "토디가 깜짝 놀랍니다.\n",
      ">코\n",
      "토디가 좋아합니다.\n",
      ">볼\n",
      "토디 잠금해제에 성공했습니다! 추카추카!\n"
     ]
    },
    {
     "ename": "SystemExit",
     "evalue": "0",
     "output_type": "error",
     "traceback": [
      "An exception has occurred, use %tb to see the full traceback.\n",
      "\u001b[0;31mSystemExit\u001b[0m\u001b[0;31m:\u001b[0m 0\n"
     ]
    },
    {
     "name": "stderr",
     "output_type": "stream",
     "text": [
      "/home/axect/.local/lib/python2.7/site-packages/IPython/core/interactiveshell.py:2889: UserWarning: To exit: use 'exit', 'quit', or Ctrl-D.\n",
      "  warn(\"To exit: use 'exit', 'quit', or Ctrl-D.\", stacklevel=1)\n"
     ]
    }
   ],
   "source": [
    "game_basic.start()"
   ]
  },
  {
   "cell_type": "markdown",
   "metadata": {},
   "source": [
    "## 2.3. Class"
   ]
  },
  {
   "cell_type": "markdown",
   "metadata": {},
   "source": [
    "### 2.3.1.Class intro"
   ]
  },
  {
   "cell_type": "markdown",
   "metadata": {},
   "source": [
    "* class X(Y): - X 클래스라는 Y의 일종(X is-a Y)을 만든다.\n",
    "* class X(object): def \\__init\\__(self,J) - X 클래스는 self 와 J 매개변수를 받는 \\__init\\__을 가졌다.\n",
    "* class X(object): def M(self, J) - Same\n",
    "* foo = X() - foo변수를 X클래스의 인스턴스 하나로 정한다.\n",
    "* foo.M(J) - foo변수에서 M함수를 받아 self, J 매개변수를 넣어 호출한다.\n",
    "* foo.K = Q - foo변수에서 K속성을 받아 Q값으로 정한다"
   ]
  },
  {
   "cell_type": "code",
   "execution_count": null,
   "metadata": {
    "collapsed": true
   },
   "outputs": [],
   "source": [
    "class KyungHee(object):\n",
    "    \n",
    "    def __init__(self, ewha): # __init__은 클래스를 호출할 때 무조건 먼저 시행되는 함수입니다.\n",
    "        self.ewha = ewha\n",
    "        print \"경희야 %s?\" % self.ewha\n",
    "        \n",
    "    def Boss(self):\n",
    "        print \"학교의 주인은 누구입니까?\"\n",
    "        prompt = '> '\n",
    "        owner = raw_input(prompt)\n",
    "        owners = ['나무', '돌', '바람']\n",
    "        owners2 = ['총장']\n",
    "        \n",
    "        if owner in owners:\n",
    "            print \"정답입니다! 깨어있는 학생이군요!\"\n",
    "        elif owner in owners2:\n",
    "            print \"완벽한 학생이군요! 상으로 미래라이프대학 입학권을 줘야겠네요.\"\n",
    "        else:\n",
    "            print \"삐삐 틀렸습니다.\""
   ]
  },
  {
   "cell_type": "code",
   "execution_count": null,
   "metadata": {},
   "outputs": [],
   "source": [
    "E = KyungHee('Hi') # instance를 만들어줘야 class를 사용할 수 있습니다."
   ]
  },
  {
   "cell_type": "code",
   "execution_count": null,
   "metadata": {},
   "outputs": [],
   "source": [
    "E.Boss() # E는 KyungHee의 객체이므로 Boss라는 def를 갖고있습니다."
   ]
  },
  {
   "cell_type": "code",
   "execution_count": null,
   "metadata": {
    "collapsed": true
   },
   "outputs": [],
   "source": [
    "class Complex(object):\n",
    "    \n",
    "    def __init__(self, a, b):\n",
    "        self.a = a\n",
    "        self.b = b\n",
    "    \n",
    "    def value(self): # 크기를 정해봅시다.\n",
    "        return (self.a ** 2 + self.b ** 2) ** 0.5\n",
    "    \n",
    "    def real(self): # 실수부분입니다.\n",
    "        return self.a\n",
    "    \n",
    "    def imaginary(self): # 허수부분입니다.\n",
    "        return self.b\n",
    "    \n",
    "    def __add__(self, other): # __add__ 는 덧셈을 설정할 때 씁니다.\n",
    "        c, d = self.a + other.a, self.b + other.b # 실수는 실수끼리, 허수는 허수끼리\n",
    "        return Complex(c, d) # Complex로 돌려줘야겠죠.\n",
    "    \n",
    "    def __str__(self): # __str__ 는 print를 했을 때 출력되는 값을 설정합니다.\n",
    "        return '%d + %di' % (self.a, self.b)"
   ]
  },
  {
   "cell_type": "code",
   "execution_count": null,
   "metadata": {
    "collapsed": true
   },
   "outputs": [],
   "source": [
    "x = Complex(1,2)\n",
    "y = Complex(3,-1)"
   ]
  },
  {
   "cell_type": "code",
   "execution_count": null,
   "metadata": {},
   "outputs": [],
   "source": [
    "print x"
   ]
  },
  {
   "cell_type": "code",
   "execution_count": null,
   "metadata": {},
   "outputs": [],
   "source": [
    "print x.real(), x.imaginary()"
   ]
  },
  {
   "cell_type": "code",
   "execution_count": null,
   "metadata": {},
   "outputs": [],
   "source": [
    "x.value()"
   ]
  },
  {
   "cell_type": "code",
   "execution_count": null,
   "metadata": {},
   "outputs": [],
   "source": [
    "z = x + y\n",
    "print z\n",
    "print z.value()"
   ]
  },
  {
   "cell_type": "markdown",
   "metadata": {},
   "source": [
    "* ** Quiz: \\__sub\\__도 만들어보세요 **"
   ]
  },
  {
   "cell_type": "code",
   "execution_count": null,
   "metadata": {
    "collapsed": true
   },
   "outputs": [],
   "source": []
  },
  {
   "cell_type": "markdown",
   "metadata": {},
   "source": [
    "### 2.3.2. Inheritance"
   ]
  },
  {
   "cell_type": "markdown",
   "metadata": {},
   "source": [
    "* 자식이 묵시적으로 부모의 동작을 한다. - implicit\n",
    "* 자식이 부모의 동작을 덮어쓴다. - override\n",
    "* 자식이 부모의 동작을 대체한다. - altered"
   ]
  },
  {
   "cell_type": "markdown",
   "metadata": {},
   "source": [
    "#### Implicit"
   ]
  },
  {
   "cell_type": "code",
   "execution_count": null,
   "metadata": {
    "collapsed": true
   },
   "outputs": [],
   "source": [
    "class Parent(object):\n",
    "    \n",
    "    def implicit(self):\n",
    "        print \"부모 implicit()\"\n",
    "\n",
    "\n",
    "class Child(Parent): # Child는 아무것도 가지지 않았습니다만..\n",
    "    \n",
    "    pass"
   ]
  },
  {
   "cell_type": "code",
   "execution_count": null,
   "metadata": {
    "collapsed": true
   },
   "outputs": [],
   "source": [
    "dad = Parent()\n",
    "son = Child()"
   ]
  },
  {
   "cell_type": "code",
   "execution_count": null,
   "metadata": {},
   "outputs": [],
   "source": [
    "dad.implicit()\n",
    "son.implicit() # son도 implicit을 상속받았네요!"
   ]
  },
  {
   "cell_type": "code",
   "execution_count": null,
   "metadata": {
    "collapsed": true
   },
   "outputs": [],
   "source": [
    "class Place(object):\n",
    "\n",
    "    def enter(self):\n",
    "        print \"장소에 들어갑니다.\"\n",
    "\n",
    "class Home(Place):\n",
    "    pass\n",
    "\n",
    "class Subway(Place):\n",
    "    pass"
   ]
  },
  {
   "cell_type": "code",
   "execution_count": null,
   "metadata": {
    "collapsed": true
   },
   "outputs": [],
   "source": [
    "Todi = Home()\n",
    "Mong = Subway()"
   ]
  },
  {
   "cell_type": "code",
   "execution_count": null,
   "metadata": {},
   "outputs": [],
   "source": [
    "Todi.enter()\n",
    "Mong.enter()"
   ]
  },
  {
   "cell_type": "markdown",
   "metadata": {},
   "source": [
    "#### Override"
   ]
  },
  {
   "cell_type": "code",
   "execution_count": null,
   "metadata": {
    "collapsed": true
   },
   "outputs": [],
   "source": [
    "class Parent(object):\n",
    "    \n",
    "    def override(self):\n",
    "        print \"부모 override()\"\n",
    "\n",
    "class Child(Parent):\n",
    "    \n",
    "    def override(self):\n",
    "        print \"자식 override()\""
   ]
  },
  {
   "cell_type": "code",
   "execution_count": null,
   "metadata": {
    "collapsed": true
   },
   "outputs": [],
   "source": [
    "dad = Parent()\n",
    "son = Child()"
   ]
  },
  {
   "cell_type": "code",
   "execution_count": null,
   "metadata": {},
   "outputs": [],
   "source": [
    "dad.override()\n",
    "son.override()"
   ]
  },
  {
   "cell_type": "markdown",
   "metadata": {},
   "source": [
    "#### Altered "
   ]
  },
  {
   "cell_type": "code",
   "execution_count": null,
   "metadata": {
    "collapsed": true
   },
   "outputs": [],
   "source": [
    "class Parent(object):\n",
    "    \n",
    "    def altered(self):\n",
    "        print \"부모 altered()\"\n",
    "        \n",
    "        \n",
    "class Child(Parent):\n",
    "    \n",
    "    def altered(self):\n",
    "        print \"자식, 부모 altered() 호출 전\"\n",
    "        super(Child, self).altered()\n",
    "        print \"자식, 부모 altered() 호출 후\""
   ]
  },
  {
   "cell_type": "code",
   "execution_count": null,
   "metadata": {
    "collapsed": true
   },
   "outputs": [],
   "source": [
    "dad = Parent()\n",
    "son = Child()"
   ]
  },
  {
   "cell_type": "code",
   "execution_count": null,
   "metadata": {},
   "outputs": [],
   "source": [
    "dad.altered()"
   ]
  },
  {
   "cell_type": "code",
   "execution_count": null,
   "metadata": {},
   "outputs": [],
   "source": [
    "son.altered()"
   ]
  },
  {
   "cell_type": "code",
   "execution_count": null,
   "metadata": {
    "collapsed": true
   },
   "outputs": [],
   "source": [
    "class Scene(object):\n",
    "    \n",
    "    def enter(self):\n",
    "        print \"아장 아장\"\n",
    "        \n",
    "        \n",
    "class Home(Scene):\n",
    "    \n",
    "    def enter(self):\n",
    "        print \"집에 들어갑니다.\"\n",
    "        super(Home, self).enter()"
   ]
  },
  {
   "cell_type": "code",
   "execution_count": null,
   "metadata": {
    "collapsed": true
   },
   "outputs": [],
   "source": [
    "Todi = Home()"
   ]
  },
  {
   "cell_type": "code",
   "execution_count": null,
   "metadata": {},
   "outputs": [],
   "source": [
    "Todi.enter()"
   ]
  },
  {
   "cell_type": "markdown",
   "metadata": {},
   "source": [
    "### 2.3.3. Composition"
   ]
  },
  {
   "cell_type": "code",
   "execution_count": null,
   "metadata": {
    "collapsed": true
   },
   "outputs": [],
   "source": [
    "class Other(object):\n",
    "    \n",
    "    def override(self):\n",
    "        print \"다른 override()\"\n",
    "        \n",
    "    def implicit(self):\n",
    "        print \"다른 implicit()\"\n",
    "        \n",
    "    def altered(self):\n",
    "        print \"다른 alterd()\"\n",
    "        \n",
    "class Child(object):\n",
    "    \n",
    "    def __init__(self):\n",
    "        self.other = Other() # self.other은 Other class의 객체가 됩니다.\n",
    "        \n",
    "    def implicit(self):\n",
    "        self.other.implicit()\n",
    "        \n",
    "    def override(self):\n",
    "        self.other.override()\n",
    "        \n",
    "    def altered(self):\n",
    "        self.other.altered()"
   ]
  },
  {
   "cell_type": "code",
   "execution_count": null,
   "metadata": {
    "collapsed": true
   },
   "outputs": [],
   "source": [
    "daughter = Child()"
   ]
  },
  {
   "cell_type": "code",
   "execution_count": null,
   "metadata": {},
   "outputs": [],
   "source": [
    "daughter.implicit()\n",
    "daughter.override()\n",
    "daughter.altered()"
   ]
  },
  {
   "cell_type": "markdown",
   "metadata": {},
   "source": [
    "### 2.3.4. 종합예제 (3Room Game made by 몽몽) "
   ]
  },
  {
   "cell_type": "markdown",
   "metadata": {},
   "source": [
    "* 방을 움직여 다니는 게임을 만들 예정입니다. 방의 순서는 A - B - C 로 이어진 곳으로만 갈 수 있습니다.\n",
    "* 즉, A는 B로만, B는 A,C모두, C는 B로만 갈 수 있습니다."
   ]
  },
  {
   "cell_type": "code",
   "execution_count": null,
   "metadata": {},
   "outputs": [],
   "source": [
    "%%writefile Three_room.py\n",
    "\n",
    "# -*- coding: utf-8 -*-\n",
    "\n",
    "import random\n",
    "\n",
    "class Room(object): # 일단 가장 큰 단위를 만듭니다. 나중에 상속시켜서 쓸 것입니다.\n",
    "\n",
    "    door_list = ['Aroom', 'Broom', 'Croom'] # 일단은 모든 방 목록. 방마다 움직일 수 있는 방 목록으로 변경할 것입니다.\n",
    "    \n",
    "    def __init__(self):\n",
    "        # 여기서는 모든방이지만 각각의 방에서 Override할 예정.\n",
    "        # class의 variable은 클래스를 instance화 시키지 않아도 사용가능!\n",
    "        self.door_list = Room.door_list\n",
    "        \n",
    "    \n",
    "    def enter(self):\n",
    "        print self.door_list # 어디로 갈 수 있는지 보여줌.\n",
    "            \n",
    "    def move(self):\n",
    "        self.door = raw_input('>') # 일단, 텍스트로 움직일 방을 받음.\n",
    "        \n",
    "        if self.door in self.door_list:\n",
    "            # 텍스트로 받은 방을 Map의 사전으로 방 객체를 호출 (이미 인스턴스화)\n",
    "            self.next_door = Map.room_dict[self.door] \n",
    "            \n",
    "            print \"%s으로 이동하였습니다.\" % self.door\n",
    "            return self.next_door\n",
    "        else:\n",
    "            print \"이동하지 않았습니다.\"\n",
    "            return Map.room_dict[self.door] # 이거 에러임!\n",
    "\n",
    "class Engine(object):\n",
    "    \n",
    "    def shuffle(self, x): # self는 클래스의 기본 인스턴스, x는 리스트\n",
    "        self.x = list(x) # 즉, self.x란 Engine.x를 의미함.\n",
    "        random.shuffle(self.x) # 셔플셔플!\n",
    "        return self.x\n",
    "\n",
    "    def init_point(self): # 시작위치를 랜덤으로 지정할것임.\n",
    "        self.door_list = Room.door_list # 모든 방 목록.\n",
    "        # Engine 내에 함수가 있기에 self.shuffle을 사용해야함.(self는 기본 인스턴스)\n",
    "        self.shuffle_list = self.shuffle(self.door_list)\n",
    "        return self.shuffle_list[0] # 즉, 반환값은 텍스트입니다. (Map은 텍스트를 Class로 바꾸어줍니다.)\n",
    "        \n",
    "        \n",
    "class Aroom(Room):\n",
    "    \n",
    "    door_list = ['Broom']\n",
    "    def __init__(self):\n",
    "        self.door_list = Aroom.door_list # Room의 init을 Override함.\n",
    "\n",
    "class Broom(Room):\n",
    "    \n",
    "    door_list = ['Aroom', 'Croom']\n",
    "    def __init__(self):\n",
    "        self.door_list = Broom.door_list # Room의 init을 Override함.\n",
    "\n",
    "class Croom(Room):\n",
    "    \n",
    "    door_list = ['Broom']\n",
    "    def __init__(self):\n",
    "        self.door_list = Croom.door_list # Room의 init을 Override함.\n",
    "\n",
    "class Map(object):\n",
    "    # Room class들을 인스턴스화시키고 사전에 저장.\n",
    "    a = Aroom()\n",
    "    b = Broom()\n",
    "    c = Croom()\n",
    "    \n",
    "    # 텍스트로 받을 input을 객체로 변경시켜주기 위한 사전.\n",
    "    room_dict = {\n",
    "        'Aroom': a,\n",
    "        'Broom': b,\n",
    "        'Croom': c\n",
    "    }"
   ]
  },
  {
   "cell_type": "code",
   "execution_count": null,
   "metadata": {
    "scrolled": true
   },
   "outputs": [],
   "source": [
    "from Three_room import *\n",
    "from time import sleep\n",
    "\n",
    "def start():\n",
    "    print \"시작 위치를 지정합니다.\"\n",
    "    E = Engine()\n",
    "    init_point = E.init_point()\n",
    "    print \"시작 위치는\"\n",
    "    print \"%s 입니다.\" % init_point\n",
    "    print \"%s 로 들어갑니다.\" % init_point\n",
    "    # first point 는 A,B,C 클래스 중의 하나를 객체화 시킨 객체.\n",
    "    first_point = Map.room_dict[init_point] # 텍스트를 클래스로, 클래스를 객체로!\n",
    "    print \"움직일 수 있는 방은 다음과 같습니다.\"    \n",
    "    first_point.enter() # 고로 enter를 상속받았음.\n",
    "    \n",
    "    for i in range(0,5):\n",
    "        print \"이동하시겠습니까? Y or N\"\n",
    "        OK = raw_input('>')\n",
    "        \n",
    "        if OK == 'Y':\n",
    "            print \"어디로 움직이시겠습니까?\"\n",
    "            # move도 상속되었기에 역시 가능. move의 반환값이 A~C의 \n",
    "            # 객체이므로 또 지정 가능.\n",
    "            first_point = first_point.move() \n",
    "            print \"움직일 수 있는 방은 다음과 같습니다.\"   \n",
    "            first_point.enter() # 같은 이유로 enter도 상속됨.\n",
    "        elif OK == 'N':\n",
    "            print \"편안히 쉬십시오.\"\n",
    "            sleep(3)\n",
    "            print \"현재 움직일 수 있는 방은\"\n",
    "            first_point.enter()\n",
    "        else:\n",
    "            print \"Error\"\n",
    "            break\n",
    "    \n",
    "start()"
   ]
  },
  {
   "cell_type": "markdown",
   "metadata": {},
   "source": [
    "* ** Quiz: 몽몽게임을 만들어주세요. 상상은 자유입니다. **"
   ]
  },
  {
   "cell_type": "markdown",
   "metadata": {},
   "source": [
    "### 2.3.5. Class의 중요성 &  \\__call\\__ "
   ]
  },
  {
   "cell_type": "code",
   "execution_count": null,
   "metadata": {
    "collapsed": true
   },
   "outputs": [],
   "source": [
    "def diff(f, x, h = 1E-5):\n",
    "    return (f(x + h) - f(x)) / h"
   ]
  },
  {
   "cell_type": "code",
   "execution_count": null,
   "metadata": {
    "collapsed": true
   },
   "outputs": [],
   "source": [
    "def h(t):\n",
    "    return t ** 4 + 4 * t\n",
    "\n",
    "dh = diff(h, 0.1)"
   ]
  },
  {
   "cell_type": "code",
   "execution_count": null,
   "metadata": {},
   "outputs": [],
   "source": [
    "dh"
   ]
  },
  {
   "cell_type": "code",
   "execution_count": null,
   "metadata": {
    "collapsed": true
   },
   "outputs": [],
   "source": [
    "from math import sin, pi\n",
    "x = 2 * pi\n",
    "dsin = diff(sin, x, h=1E-6)"
   ]
  },
  {
   "cell_type": "code",
   "execution_count": null,
   "metadata": {},
   "outputs": [],
   "source": [
    "dsin"
   ]
  },
  {
   "cell_type": "markdown",
   "metadata": {},
   "source": [
    "But, how can we use Derivative?"
   ]
  },
  {
   "cell_type": "markdown",
   "metadata": {},
   "source": [
    "** - Call **"
   ]
  },
  {
   "cell_type": "code",
   "execution_count": null,
   "metadata": {
    "collapsed": true
   },
   "outputs": [],
   "source": [
    "class Z:\n",
    "    \n",
    "    def __init__(self, v0):\n",
    "        self.v0 = v0\n",
    "        self.g = 9.81\n",
    "    \n",
    "    def __call__(self, t):\n",
    "        return self.v0 * t - 0.5 * self.g * t **2"
   ]
  },
  {
   "cell_type": "code",
   "execution_count": null,
   "metadata": {
    "collapsed": true
   },
   "outputs": [],
   "source": [
    "y = Z(v0=3) # y는 Z의 객체가 되었는데 call로 인하여 y가 t를 변수로 받는 함수가 됨.\n",
    "dy = diff(y, x=0)"
   ]
  },
  {
   "cell_type": "code",
   "execution_count": null,
   "metadata": {},
   "outputs": [],
   "source": [
    "print dy"
   ]
  },
  {
   "cell_type": "markdown",
   "metadata": {},
   "source": [
    "** - Derivative **"
   ]
  },
  {
   "cell_type": "code",
   "execution_count": null,
   "metadata": {
    "collapsed": true
   },
   "outputs": [],
   "source": [
    "class Derivative(object):\n",
    "    \n",
    "    def __init__(self, f, h = 1E-5): # Only input function!\n",
    "        self.f = f\n",
    "        self.h = float(h)\n",
    "    \n",
    "    def __call__(self, x): # Let's call\n",
    "        f, h = self.f, self.h\n",
    "        return (f(x+h) - f(x)) / h"
   ]
  },
  {
   "cell_type": "code",
   "execution_count": null,
   "metadata": {},
   "outputs": [],
   "source": [
    "def f(x):\n",
    "    return x ** 3 + 2 * x"
   ]
  },
  {
   "cell_type": "code",
   "execution_count": null,
   "metadata": {},
   "outputs": [],
   "source": [
    "dy = diff(f,0) # only defined at 1 point\n",
    "dy"
   ]
  },
  {
   "cell_type": "code",
   "execution_count": null,
   "metadata": {},
   "outputs": [],
   "source": [
    "g = Derivative(f)\n",
    "g"
   ]
  },
  {
   "cell_type": "code",
   "execution_count": null,
   "metadata": {},
   "outputs": [],
   "source": [
    "print g(0), g(1), g(2) # It is function!"
   ]
  },
  {
   "cell_type": "markdown",
   "metadata": {},
   "source": [
    "* ** Quiz: Linearize(접선함수)코드를 작성하세요. Derivative에서 상속과 합성을 이용하면 더 좋습니다. **"
   ]
  },
  {
   "cell_type": "code",
   "execution_count": null,
   "metadata": {
    "collapsed": true
   },
   "outputs": [],
   "source": []
  },
  {
   "cell_type": "markdown",
   "metadata": {},
   "source": [
    "* ** Quiz: Quadratic Function (이차함수) 클래스를 작성하세요. 포함해야 할 것은 다음과 같습니다. **\n",
    "> * 변수는 3개로 받으세요. 이차항의 계수, 일차항의 계수, 상수항 이렇게 받을 겁니다.\n",
    "> * \\__call\\__, \\__str\\__ 을 모두 사용하세요. \\__str\\__을 사용할 때는 최대한 예쁘게 만드세요.\n",
    "> * 판별식 함수를 만드세요.\n",
    "> * 근의 공식을 사용하여 근을 계산할 수 있는 함수를 만드세요. (판별식이 0보다 작을때도 에러 나지 않게요.)"
   ]
  },
  {
   "cell_type": "code",
   "execution_count": null,
   "metadata": {
    "collapsed": true
   },
   "outputs": [],
   "source": []
  },
  {
   "cell_type": "markdown",
   "metadata": {},
   "source": [
    "* ** Quiz: Polynomial Function (다항함수) 클래스를 작성하세요. 포함해야 할 것은 다음과 같습니다. **\n",
    "> * 변수는 List로 받을 겁니다. 파이썬은 동적 인터프리터 언어니 딱히 받는 input의 타입을 결정할 필요는 없습니다.\n",
    "> * \\__call\\__, \\__str\\__, \\__len\\__, \\__add\\__, \\__sub\\__ 을 모두 포함하세요.\n",
    "> * 다항함수의 미분공식은 간단합니다. differentiate 함수도 만드세요."
   ]
  },
  {
   "cell_type": "code",
   "execution_count": null,
   "metadata": {
    "collapsed": true
   },
   "outputs": [],
   "source": []
  }
 ],
 "metadata": {
  "kernelspec": {
   "display_name": "Python 3",
   "language": "python",
   "name": "python3"
  },
  "language_info": {
   "codemirror_mode": {
    "name": "ipython",
    "version": 3
   },
   "file_extension": ".py",
   "mimetype": "text/x-python",
   "name": "python",
   "nbconvert_exporter": "python",
   "pygments_lexer": "ipython3",
   "version": "3.6.0"
  }
 },
 "nbformat": 4,
 "nbformat_minor": 1
}
