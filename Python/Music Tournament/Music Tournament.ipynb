{
 "cells": [
  {
   "cell_type": "markdown",
   "metadata": {},
   "source": [
    "# Music Tournament"
   ]
  },
  {
   "cell_type": "markdown",
   "metadata": {},
   "source": [
    "## Import & Set file paths"
   ]
  },
  {
   "cell_type": "code",
   "execution_count": 16,
   "metadata": {
    "collapsed": false
   },
   "outputs": [],
   "source": [
    "import numpy as np\n",
    "import fnmatch\n",
    "import os\n",
    "from __future__ import print_function\n",
    "import random\n",
    "from glob import glob\n",
    "import math as m\n",
    "from shutil import copyfile\n",
    "from ipywidgets import widgets\n",
    "from ipywidgets import interact, interactive, fixed\n",
    "from matplotlib import pyplot as plt\n",
    "from os import listdir\n",
    "from os.path import *"
   ]
  },
  {
   "cell_type": "code",
   "execution_count": 17,
   "metadata": {
    "collapsed": true
   },
   "outputs": [],
   "source": [
    "MusicFolderpath = ['/home/axect/Music/']"
   ]
  },
  {
   "cell_type": "code",
   "execution_count": 18,
   "metadata": {
    "collapsed": false
   },
   "outputs": [
    {
     "name": "stdout",
     "output_type": "stream",
     "text": [
      "1504\n"
     ]
    }
   ],
   "source": [
    "MusicFolderPaths = [ MusicFolderpath[0] + f +'/' for f in listdir(MusicFolderpath[0]) if isdir(join(MusicFolderpath[0],f))]\n",
    "MLength=0\n",
    "for i in range(0,len(MusicFolderPaths)):\n",
    "    locals()[\"M\"+str(i)] = glob(join(MusicFolderPaths[i],'*.mp3')) \n",
    "    MLength = MLength + len(locals()[\"M\"+str(i)])\n",
    "print(MLength)"
   ]
  },
  {
   "cell_type": "code",
   "execution_count": null,
   "metadata": {
    "collapsed": true
   },
   "outputs": [],
   "source": [
    "PhoneFolderPaths = [ PhoneFolderpath[0] + f + '/' for f in listdir(PhoneFolderpath[0]) if isdir(join(PhoneFolderpath[0],f))]\n",
    "PLength=0\n",
    "for i in range(0,len(PhoneFolderPaths)):\n",
    "    locals()[\"M\"+str(i)] = glob(join(PhoneFolderPaths[i],'*.mp3')) \n",
    "    PLength = PLength + len(locals()[\"M\"+str(i)])"
   ]
  },
  {
   "cell_type": "code",
   "execution_count": 5,
   "metadata": {
    "collapsed": false
   },
   "outputs": [],
   "source": [
    "text_file = open(\"Musiclist.txt\",\"w\")\n",
    "for i in range(0,len(MusicFolderPaths)):\n",
    "    for files in listdir(MusicFolderPaths[i]):\n",
    "        if files.endswith('.mp3'):\n",
    "            text_file.write(\"%s`\" % files)\n",
    "        elif files.endswith('.MP3'):\n",
    "            text_file.write(\"%s`\" % files)\n",
    "text_file.close()\n",
    "\n",
    "text_file = open(\"Musiclist(Visible).txt\",\"w\")\n",
    "for i in range(0,len(MusicFolderPaths)):\n",
    "    for files in listdir(MusicFolderPaths[i]):\n",
    "        if files.endswith('.mp3'):\n",
    "            text_file.write(\"%s\\n\" % files)\n",
    "text_file.close()"
   ]
  },
  {
   "cell_type": "code",
   "execution_count": 6,
   "metadata": {
    "collapsed": false
   },
   "outputs": [],
   "source": [
    "Templist = open(\"Musiclist(Visible).txt\",'r')\n",
    "Musiclist = [line.strip() for line in Templist]"
   ]
  },
  {
   "cell_type": "code",
   "execution_count": 7,
   "metadata": {
    "collapsed": false
   },
   "outputs": [
    {
     "data": {
      "text/plain": [
       "1504"
      ]
     },
     "execution_count": 7,
     "metadata": {},
     "output_type": "execute_result"
    }
   ],
   "source": [
    "len(Musiclist)"
   ]
  },
  {
   "cell_type": "code",
   "execution_count": 8,
   "metadata": {
    "collapsed": false
   },
   "outputs": [
    {
     "data": {
      "text/plain": [
       "'Septette for the Dead Princess (Violin).mp3'"
      ]
     },
     "execution_count": 8,
     "metadata": {},
     "output_type": "execute_result"
    }
   ],
   "source": [
    "Musiclist[1]"
   ]
  },
  {
   "cell_type": "markdown",
   "metadata": {},
   "source": [
    "## Shuffle"
   ]
  },
  {
   "cell_type": "code",
   "execution_count": 4,
   "metadata": {
    "collapsed": true
   },
   "outputs": [],
   "source": [
    "def shuffle(x):\n",
    "    x = list(x)\n",
    "    random.shuffle(x)\n",
    "    return x"
   ]
  },
  {
   "cell_type": "code",
   "execution_count": 10,
   "metadata": {
    "collapsed": false
   },
   "outputs": [
    {
     "data": {
      "text/plain": [
       "1504"
      ]
     },
     "execution_count": 10,
     "metadata": {},
     "output_type": "execute_result"
    }
   ],
   "source": [
    "ShuffleMusic = shuffle(Musiclist)\n",
    "TLength = len(ShuffleMusic)\n",
    "TLength"
   ]
  },
  {
   "cell_type": "code",
   "execution_count": 11,
   "metadata": {
    "collapsed": false
   },
   "outputs": [
    {
     "data": {
      "text/plain": [
       "1504"
      ]
     },
     "execution_count": 11,
     "metadata": {},
     "output_type": "execute_result"
    }
   ],
   "source": [
    "len(Musiclist)"
   ]
  },
  {
   "cell_type": "markdown",
   "metadata": {},
   "source": [
    "## Tournament-1"
   ]
  },
  {
   "cell_type": "code",
   "execution_count": 12,
   "metadata": {
    "collapsed": false
   },
   "outputs": [
    {
     "data": {
      "text/plain": [
       "11"
      ]
     },
     "execution_count": 12,
     "metadata": {},
     "output_type": "execute_result"
    }
   ],
   "source": [
    "for n in range(0,100):\n",
    "    if 2**n > TLength:\n",
    "        KLength = n\n",
    "        break\n",
    "KLength"
   ]
  },
  {
   "cell_type": "code",
   "execution_count": 13,
   "metadata": {
    "collapsed": true
   },
   "outputs": [],
   "source": [
    "RLength = int(m.floor(TLength/2))"
   ]
  },
  {
   "cell_type": "code",
   "execution_count": null,
   "metadata": {
    "collapsed": false,
    "scrolled": true
   },
   "outputs": [
    {
     "name": "stdout",
     "output_type": "stream",
     "text": [
      "0Choose one: 1.Linkin Park_The Summoning.mp3   vs   2.My Chemical Romance-09-Mama-The Black Parade (Deluxe Ver.)-320.mp32\n",
      "1Choose one: 1.Linkin Park_Until It's Gone.mp3   vs   2.The Rock Diamond-03-Are You Happy-Dice In The Pandora`s Box-128.mp31\n",
      "2Choose one: 1.Pentatonix_Papaoutai (Feat. Lindsey Stirling).mp3   vs   2.불꽃심장 (Shinjou Hanabi)_빛과 바다와 사랑과.mp31\n",
      "3Choose one: 1.앰프 (Amp)_위대한 탈출.mp3   vs   2.자전거 탄 풍경_너에게 난, 나에게 넌.mp31\n"
     ]
    }
   ],
   "source": [
    "Templist = open(\"Musiclist(Visible).txt\",'r')\n",
    "Musiclist = [line.strip() for line in Templist]\n",
    "ShuffleMusic = shuffle(Musiclist)\n",
    "TLength = len(ShuffleMusic)\n",
    "RLength = int(m.floor(TLength/2))\n",
    "for k in range(0,KLength):\n",
    "    Text = open(\"MusicTournament-\"+str(k)+\".txt\",\"w\")\n",
    "    for i in range(0,RLength+1):\n",
    "        if TLength % 2 == 0 :\n",
    "            if i<RLength:\n",
    "                x = ShuffleMusic[2*i]\n",
    "                y = ShuffleMusic[2*i+1]\n",
    "                while True:\n",
    "                    c = input(str(i)+\"Choose one: \" + \"1.\" + x + \"   vs   \" + \"2.\" + y)\n",
    "                    if c not in (1,2,3,4):\n",
    "                        print(\"Please input 1 or 2.\")\n",
    "                        continue\n",
    "                    else:\n",
    "                        break\n",
    "                if c == 1:\n",
    "                    Text.write(x+\"\\n\")\n",
    "                elif c == 2:\n",
    "                    Text.write(y+\"\\n\")\n",
    "                elif c == 3:\n",
    "                    Text.write(x+\"\\n\")\n",
    "                    Text.write(y+\"\\n\")\n",
    "                else:\n",
    "                    print(\"Skip\")\n",
    "        else :\n",
    "            if i<RLength:\n",
    "                x = ShuffleMusic[2*i]\n",
    "                y = ShuffleMusic[2*i+1]\n",
    "                while True:\n",
    "                    c = input(str(i)+\"Choose one: \" + \"1.\" + x + \"   vs   \" + \"2.\" + y)\n",
    "                    if c not in (1,2):\n",
    "                        print(\"Please input 1 or 2.\")\n",
    "                        continue\n",
    "                    else:\n",
    "                        break\n",
    "                if c == 1:\n",
    "                    Text.write(x+\"\\n\")\n",
    "                elif c == 2:\n",
    "                    Text.write(y+\"\\n\")\n",
    "                elif c == 3:\n",
    "                    Text.write(x+\"\\n\")\n",
    "                    Text.write(y+\"\\n\")\n",
    "                else:\n",
    "                    print(\"Skip\")\n",
    "            else:\n",
    "                Text.write(ShuffleMusic[2*RLength])\n",
    "    Text.close()\n",
    "    print(\"Saved Completely!\")\n",
    "    Templist = open(\"MusicTournament-\"+str(k)+\".txt\",'r')\n",
    "    Musiclist = [line.strip() for line in Templist]\n",
    "    ShuffleMusic = shuffle(Musiclist)\n",
    "    TLength = len(ShuffleMusic)\n",
    "    RLength = int(m.floor(TLength/2))"
   ]
  },
  {
   "cell_type": "markdown",
   "metadata": {},
   "source": [
    "## Tournament-2"
   ]
  },
  {
   "cell_type": "code",
   "execution_count": 31,
   "metadata": {
    "collapsed": true
   },
   "outputs": [],
   "source": [
    "Templist2 = open(\"MusicTournament-9.txt\",'r')\n",
    "Musiclist2 = [line.strip() for line in Templist2]"
   ]
  },
  {
   "cell_type": "code",
   "execution_count": 32,
   "metadata": {
    "collapsed": false
   },
   "outputs": [
    {
     "data": {
      "text/plain": [
       "2"
      ]
     },
     "execution_count": 32,
     "metadata": {},
     "output_type": "execute_result"
    }
   ],
   "source": [
    "ShuffleMusic2 = shuffle(Musiclist2)\n",
    "TLength2 = len(ShuffleMusic2)\n",
    "TLength2"
   ]
  },
  {
   "cell_type": "code",
   "execution_count": 28,
   "metadata": {
    "collapsed": false
   },
   "outputs": [
    {
     "data": {
      "text/plain": [
       "'Necrofantasia (Xi-on).mp3'"
      ]
     },
     "execution_count": 28,
     "metadata": {},
     "output_type": "execute_result"
    }
   ],
   "source": [
    "ShuffleMusic2[3]"
   ]
  },
  {
   "cell_type": "code",
   "execution_count": 33,
   "metadata": {
    "collapsed": false
   },
   "outputs": [
    {
     "data": {
      "text/plain": [
       "1"
      ]
     },
     "execution_count": 33,
     "metadata": {},
     "output_type": "execute_result"
    }
   ],
   "source": [
    "RLength2 = int(m.floor(TLength2/2))\n",
    "RLength2"
   ]
  },
  {
   "cell_type": "code",
   "execution_count": 34,
   "metadata": {
    "collapsed": false
   },
   "outputs": [
    {
     "name": "stdout",
     "output_type": "stream",
     "text": [
      "0.Choose one: 1.Necrofantasia (Xi-on).mp3   vs   2.BewhY (비와이)-11-The Time Goes On-Time Travel-320.mp31\n",
      "Saved Completely!\n"
     ]
    }
   ],
   "source": [
    "Text = open(\"MusicTournament-10.txt\",\"w\")\n",
    "for i in range(0,RLength2+1):\n",
    "    if TLength2 % 2 == 0 :\n",
    "        if i<RLength2:\n",
    "            x = ShuffleMusic2[2*i]\n",
    "            y = ShuffleMusic2[2*i+1]\n",
    "            while True:\n",
    "                c = input(str(i)+\".Choose one: \" + \"1.\" + x + \"   vs   \" + \"2.\" + y)\n",
    "                if c not in (1,2,3,4):\n",
    "                    print(\"Please input 1 or 2.\")\n",
    "                    continue\n",
    "                else:\n",
    "                    break\n",
    "            if c == 1:\n",
    "                Text.write(x+\"\\n\")\n",
    "            elif c == 2:\n",
    "                Text.write(y+\"\\n\")\n",
    "            elif c == 3:\n",
    "                Text.write(x+\"\\n\")\n",
    "                Text.write(y+\"\\n\")\n",
    "            else:\n",
    "                print(\"Skip\")\n",
    "    else:\n",
    "        if i<RLength2:\n",
    "            x = ShuffleMusic2[2*i]\n",
    "            y = ShuffleMusic2[2*i+1]\n",
    "            while True:\n",
    "                c = input(str(i)+\".Choose one: \" + \"1.\" + x + \"   vs   \" + \"2.\" + y)\n",
    "                if c not in (1,2,3,4):\n",
    "                    print(\"Please input 1 or 2.\")\n",
    "                    continue\n",
    "                else:\n",
    "                    break\n",
    "            if c == 1:\n",
    "                Text.write(x+\"\\n\")\n",
    "            elif c == 2:\n",
    "                Text.write(y+\"\\n\")\n",
    "            elif c == 3:\n",
    "                Text.write(x+\"\\n\")\n",
    "                Text.write(y+\"\\n\")\n",
    "            else:\n",
    "                print(\"Skip\")\n",
    "        else:\n",
    "            Text.write(ShuffleMusic2[2*RLength2])\n",
    "Text.close()\n",
    "print(\"Saved Completely!\")"
   ]
  },
  {
   "cell_type": "code",
   "execution_count": null,
   "metadata": {
    "collapsed": false
   },
   "outputs": [],
   "source": [
    "name = input(\"What's your name? \")\n",
    "print(\"Nice to meet you \" + name + \"!\")\n",
    "age = input(\"Your age? \")\n",
    "print(\"So, you are are already \" + str(age) + \" years old, \" + name + \"!\")"
   ]
  },
  {
   "cell_type": "markdown",
   "metadata": {},
   "source": [
    "## Move First Tournament"
   ]
  },
  {
   "cell_type": "code",
   "execution_count": 19,
   "metadata": {
    "collapsed": true
   },
   "outputs": [],
   "source": [
    "Text = open(\"MusicTournament-0.txt\",\"r\")\n",
    "Finallist = [line.strip() for line in Text]"
   ]
  },
  {
   "cell_type": "code",
   "execution_count": 20,
   "metadata": {
    "collapsed": true
   },
   "outputs": [],
   "source": [
    "newpath = r'/home/axect/Music/Top 750/'\n",
    "if not exists(newpath):\n",
    "    os.makedirs(newpath)"
   ]
  },
  {
   "cell_type": "code",
   "execution_count": 21,
   "metadata": {
    "collapsed": false
   },
   "outputs": [
    {
     "data": {
      "text/plain": [
       "['/home/axect/Music/Top 750/', '/home/axect/Music/1504/']"
      ]
     },
     "execution_count": 21,
     "metadata": {},
     "output_type": "execute_result"
    }
   ],
   "source": [
    "MusicFolderPaths"
   ]
  },
  {
   "cell_type": "code",
   "execution_count": 23,
   "metadata": {
    "collapsed": false
   },
   "outputs": [
    {
     "data": {
      "text/plain": [
       "'/home/axect/Music/Top 750/My Chemical Romance-09-Mama-The Black Parade (Deluxe Ver.)-320.mp3'"
      ]
     },
     "execution_count": 23,
     "metadata": {},
     "output_type": "execute_result"
    }
   ],
   "source": [
    "join(MusicFolderPaths[0],Finallist[0])"
   ]
  },
  {
   "cell_type": "code",
   "execution_count": 11,
   "metadata": {
    "collapsed": false
   },
   "outputs": [
    {
     "data": {
      "text/plain": [
       "'/home/axect/Music/Top 750/Border of Life.mp3'"
      ]
     },
     "execution_count": 11,
     "metadata": {},
     "output_type": "execute_result"
    }
   ],
   "source": [
    "join(newpath,Finallist[0])"
   ]
  },
  {
   "cell_type": "code",
   "execution_count": 24,
   "metadata": {
    "collapsed": false
   },
   "outputs": [],
   "source": [
    "for j in range(0,len(Finallist)):\n",
    "    for files in listdir(MusicFolderPaths[1]):\n",
    "        if files == Finallist[j]:\n",
    "            Mdir = join(MusicFolderPaths[1],files)\n",
    "            Ndir = join(newpath,files)\n",
    "            os.rename(Mdir,Ndir)"
   ]
  },
  {
   "cell_type": "markdown",
   "metadata": {},
   "source": [
    "## Copy 2nd Tournament"
   ]
  },
  {
   "cell_type": "code",
   "execution_count": 73,
   "metadata": {
    "collapsed": true
   },
   "outputs": [],
   "source": [
    "Text = open(\"MusicTournament-1.txt\",\"r\")\n",
    "Finallist2 = [line.strip() for line in Text]"
   ]
  },
  {
   "cell_type": "code",
   "execution_count": null,
   "metadata": {
    "collapsed": true
   },
   "outputs": [],
   "source": []
  }
 ],
 "metadata": {
  "kernelspec": {
   "display_name": "Python 2",
   "language": "python",
   "name": "python2"
  },
  "language_info": {
   "codemirror_mode": {
    "name": "ipython",
    "version": 2
   },
   "file_extension": ".py",
   "mimetype": "text/x-python",
   "name": "python",
   "nbconvert_exporter": "python",
   "pygments_lexer": "ipython2",
   "version": "2.7.13"
  }
 },
 "nbformat": 4,
 "nbformat_minor": 0
}
