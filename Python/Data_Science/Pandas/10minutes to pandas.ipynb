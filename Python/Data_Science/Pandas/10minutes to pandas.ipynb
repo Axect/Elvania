{
 "cells": [
  {
   "cell_type": "markdown",
   "metadata": {},
   "source": [
    "<div style=\"text-align:center\"><h1>10 Minutes to Pandas</h1></div>\n",
    "<div style=\"text-align:right\"><b>Axect</b></div>\n",
    "*****"
   ]
  },
  {
   "cell_type": "code",
   "execution_count": 2,
   "metadata": {},
   "outputs": [],
   "source": [
    "import pandas as pd\n",
    "import numpy as np\n",
    "import matplotlib.pyplot as plt"
   ]
  },
  {
   "cell_type": "code",
   "execution_count": 3,
   "metadata": {},
   "outputs": [
    {
     "data": {
      "text/plain": [
       "0    1.0\n",
       "1    3.0\n",
       "2    5.0\n",
       "3    NaN\n",
       "4    6.0\n",
       "5    8.0\n",
       "dtype: float64"
      ]
     },
     "execution_count": 3,
     "metadata": {},
     "output_type": "execute_result"
    }
   ],
   "source": [
    "s = pd.Series([1,3,5,np.nan,6,8]);\n",
    "s"
   ]
  },
  {
   "cell_type": "code",
   "execution_count": 5,
   "metadata": {},
   "outputs": [],
   "source": [
    "dates = pd.date_range(\"20130101\", periods=6)"
   ]
  },
  {
   "cell_type": "code",
   "execution_count": 6,
   "metadata": {},
   "outputs": [
    {
     "data": {
      "text/plain": [
       "DatetimeIndex(['2013-01-01', '2013-01-02', '2013-01-03', '2013-01-04',\n",
       "               '2013-01-05', '2013-01-06'],\n",
       "              dtype='datetime64[ns]', freq='D')"
      ]
     },
     "execution_count": 6,
     "metadata": {},
     "output_type": "execute_result"
    }
   ],
   "source": [
    "dates"
   ]
  },
  {
   "cell_type": "code",
   "execution_count": 7,
   "metadata": {},
   "outputs": [
    {
     "data": {
      "text/html": [
       "<div>\n",
       "<table border=\"1\" class=\"dataframe\">\n",
       "  <thead>\n",
       "    <tr style=\"text-align: right;\">\n",
       "      <th></th>\n",
       "      <th>A</th>\n",
       "      <th>B</th>\n",
       "      <th>C</th>\n",
       "      <th>D</th>\n",
       "    </tr>\n",
       "  </thead>\n",
       "  <tbody>\n",
       "    <tr>\n",
       "      <th>2013-01-01</th>\n",
       "      <td>1.465437</td>\n",
       "      <td>-0.248809</td>\n",
       "      <td>1.118560</td>\n",
       "      <td>1.216941</td>\n",
       "    </tr>\n",
       "    <tr>\n",
       "      <th>2013-01-02</th>\n",
       "      <td>-2.276907</td>\n",
       "      <td>-0.108219</td>\n",
       "      <td>1.456425</td>\n",
       "      <td>0.493136</td>\n",
       "    </tr>\n",
       "    <tr>\n",
       "      <th>2013-01-03</th>\n",
       "      <td>1.275808</td>\n",
       "      <td>1.454298</td>\n",
       "      <td>1.030111</td>\n",
       "      <td>0.133473</td>\n",
       "    </tr>\n",
       "    <tr>\n",
       "      <th>2013-01-04</th>\n",
       "      <td>1.043595</td>\n",
       "      <td>0.208142</td>\n",
       "      <td>-1.287898</td>\n",
       "      <td>0.649778</td>\n",
       "    </tr>\n",
       "    <tr>\n",
       "      <th>2013-01-05</th>\n",
       "      <td>0.550658</td>\n",
       "      <td>-0.149012</td>\n",
       "      <td>-0.939186</td>\n",
       "      <td>0.478197</td>\n",
       "    </tr>\n",
       "    <tr>\n",
       "      <th>2013-01-06</th>\n",
       "      <td>-0.696666</td>\n",
       "      <td>-0.616860</td>\n",
       "      <td>0.848131</td>\n",
       "      <td>-0.140148</td>\n",
       "    </tr>\n",
       "  </tbody>\n",
       "</table>\n",
       "</div>"
      ],
      "text/plain": [
       "                   A         B         C         D\n",
       "2013-01-01  1.465437 -0.248809  1.118560  1.216941\n",
       "2013-01-02 -2.276907 -0.108219  1.456425  0.493136\n",
       "2013-01-03  1.275808  1.454298  1.030111  0.133473\n",
       "2013-01-04  1.043595  0.208142 -1.287898  0.649778\n",
       "2013-01-05  0.550658 -0.149012 -0.939186  0.478197\n",
       "2013-01-06 -0.696666 -0.616860  0.848131 -0.140148"
      ]
     },
     "execution_count": 7,
     "metadata": {},
     "output_type": "execute_result"
    }
   ],
   "source": [
    "df = pd.DataFrame(np.random.randn(6,4), index=dates, columns=list('ABCD'));\n",
    "df"
   ]
  },
  {
   "cell_type": "code",
   "execution_count": 8,
   "metadata": {
    "collapsed": true
   },
   "outputs": [],
   "source": [
    "df2 = pd.DataFrame({'A' : 1,\n",
    "                   'B' : pd.Timestamp('20130202'),\n",
    "                   'C' : pd.Series(1, index=list(range(4)), dtype='float64'),\n",
    "                   'D' : np.array([3] * 4, dtype='int64'),\n",
    "                   'E' : pd.Categorical([\"test\", \"train\", \"test\", \"train\"]),\n",
    "                   'F' : 'foo'})"
   ]
  },
  {
   "cell_type": "code",
   "execution_count": 9,
   "metadata": {},
   "outputs": [
    {
     "data": {
      "text/html": [
       "<div>\n",
       "<table border=\"1\" class=\"dataframe\">\n",
       "  <thead>\n",
       "    <tr style=\"text-align: right;\">\n",
       "      <th></th>\n",
       "      <th>A</th>\n",
       "      <th>B</th>\n",
       "      <th>C</th>\n",
       "      <th>D</th>\n",
       "      <th>E</th>\n",
       "      <th>F</th>\n",
       "    </tr>\n",
       "  </thead>\n",
       "  <tbody>\n",
       "    <tr>\n",
       "      <th>0</th>\n",
       "      <td>1</td>\n",
       "      <td>2013-02-02</td>\n",
       "      <td>1.0</td>\n",
       "      <td>3</td>\n",
       "      <td>test</td>\n",
       "      <td>foo</td>\n",
       "    </tr>\n",
       "    <tr>\n",
       "      <th>1</th>\n",
       "      <td>1</td>\n",
       "      <td>2013-02-02</td>\n",
       "      <td>1.0</td>\n",
       "      <td>3</td>\n",
       "      <td>train</td>\n",
       "      <td>foo</td>\n",
       "    </tr>\n",
       "    <tr>\n",
       "      <th>2</th>\n",
       "      <td>1</td>\n",
       "      <td>2013-02-02</td>\n",
       "      <td>1.0</td>\n",
       "      <td>3</td>\n",
       "      <td>test</td>\n",
       "      <td>foo</td>\n",
       "    </tr>\n",
       "    <tr>\n",
       "      <th>3</th>\n",
       "      <td>1</td>\n",
       "      <td>2013-02-02</td>\n",
       "      <td>1.0</td>\n",
       "      <td>3</td>\n",
       "      <td>train</td>\n",
       "      <td>foo</td>\n",
       "    </tr>\n",
       "  </tbody>\n",
       "</table>\n",
       "</div>"
      ],
      "text/plain": [
       "   A          B    C  D      E    F\n",
       "0  1 2013-02-02  1.0  3   test  foo\n",
       "1  1 2013-02-02  1.0  3  train  foo\n",
       "2  1 2013-02-02  1.0  3   test  foo\n",
       "3  1 2013-02-02  1.0  3  train  foo"
      ]
     },
     "execution_count": 9,
     "metadata": {},
     "output_type": "execute_result"
    }
   ],
   "source": [
    "df2"
   ]
  },
  {
   "cell_type": "code",
   "execution_count": 10,
   "metadata": {},
   "outputs": [
    {
     "data": {
      "text/plain": [
       "A             int64\n",
       "B    datetime64[ns]\n",
       "C           float64\n",
       "D             int64\n",
       "E          category\n",
       "F            object\n",
       "dtype: object"
      ]
     },
     "execution_count": 10,
     "metadata": {},
     "output_type": "execute_result"
    }
   ],
   "source": [
    "df2.dtypes"
   ]
  },
  {
   "cell_type": "code",
   "execution_count": 12,
   "metadata": {},
   "outputs": [
    {
     "data": {
      "text/html": [
       "<div>\n",
       "<table border=\"1\" class=\"dataframe\">\n",
       "  <thead>\n",
       "    <tr style=\"text-align: right;\">\n",
       "      <th></th>\n",
       "      <th>A</th>\n",
       "      <th>B</th>\n",
       "      <th>C</th>\n",
       "      <th>D</th>\n",
       "    </tr>\n",
       "  </thead>\n",
       "  <tbody>\n",
       "    <tr>\n",
       "      <th>2013-01-01</th>\n",
       "      <td>1.465437</td>\n",
       "      <td>-0.248809</td>\n",
       "      <td>1.118560</td>\n",
       "      <td>1.216941</td>\n",
       "    </tr>\n",
       "    <tr>\n",
       "      <th>2013-01-02</th>\n",
       "      <td>-2.276907</td>\n",
       "      <td>-0.108219</td>\n",
       "      <td>1.456425</td>\n",
       "      <td>0.493136</td>\n",
       "    </tr>\n",
       "    <tr>\n",
       "      <th>2013-01-03</th>\n",
       "      <td>1.275808</td>\n",
       "      <td>1.454298</td>\n",
       "      <td>1.030111</td>\n",
       "      <td>0.133473</td>\n",
       "    </tr>\n",
       "    <tr>\n",
       "      <th>2013-01-04</th>\n",
       "      <td>1.043595</td>\n",
       "      <td>0.208142</td>\n",
       "      <td>-1.287898</td>\n",
       "      <td>0.649778</td>\n",
       "    </tr>\n",
       "    <tr>\n",
       "      <th>2013-01-05</th>\n",
       "      <td>0.550658</td>\n",
       "      <td>-0.149012</td>\n",
       "      <td>-0.939186</td>\n",
       "      <td>0.478197</td>\n",
       "    </tr>\n",
       "  </tbody>\n",
       "</table>\n",
       "</div>"
      ],
      "text/plain": [
       "                   A         B         C         D\n",
       "2013-01-01  1.465437 -0.248809  1.118560  1.216941\n",
       "2013-01-02 -2.276907 -0.108219  1.456425  0.493136\n",
       "2013-01-03  1.275808  1.454298  1.030111  0.133473\n",
       "2013-01-04  1.043595  0.208142 -1.287898  0.649778\n",
       "2013-01-05  0.550658 -0.149012 -0.939186  0.478197"
      ]
     },
     "execution_count": 12,
     "metadata": {},
     "output_type": "execute_result"
    }
   ],
   "source": [
    "df.head()"
   ]
  },
  {
   "cell_type": "code",
   "execution_count": 13,
   "metadata": {},
   "outputs": [
    {
     "data": {
      "text/html": [
       "<div>\n",
       "<table border=\"1\" class=\"dataframe\">\n",
       "  <thead>\n",
       "    <tr style=\"text-align: right;\">\n",
       "      <th></th>\n",
       "      <th>A</th>\n",
       "      <th>B</th>\n",
       "      <th>C</th>\n",
       "      <th>D</th>\n",
       "    </tr>\n",
       "  </thead>\n",
       "  <tbody>\n",
       "    <tr>\n",
       "      <th>2013-01-04</th>\n",
       "      <td>1.043595</td>\n",
       "      <td>0.208142</td>\n",
       "      <td>-1.287898</td>\n",
       "      <td>0.649778</td>\n",
       "    </tr>\n",
       "    <tr>\n",
       "      <th>2013-01-05</th>\n",
       "      <td>0.550658</td>\n",
       "      <td>-0.149012</td>\n",
       "      <td>-0.939186</td>\n",
       "      <td>0.478197</td>\n",
       "    </tr>\n",
       "    <tr>\n",
       "      <th>2013-01-06</th>\n",
       "      <td>-0.696666</td>\n",
       "      <td>-0.616860</td>\n",
       "      <td>0.848131</td>\n",
       "      <td>-0.140148</td>\n",
       "    </tr>\n",
       "  </tbody>\n",
       "</table>\n",
       "</div>"
      ],
      "text/plain": [
       "                   A         B         C         D\n",
       "2013-01-04  1.043595  0.208142 -1.287898  0.649778\n",
       "2013-01-05  0.550658 -0.149012 -0.939186  0.478197\n",
       "2013-01-06 -0.696666 -0.616860  0.848131 -0.140148"
      ]
     },
     "execution_count": 13,
     "metadata": {},
     "output_type": "execute_result"
    }
   ],
   "source": [
    "df.tail(3)"
   ]
  },
  {
   "cell_type": "code",
   "execution_count": 15,
   "metadata": {},
   "outputs": [
    {
     "data": {
      "text/plain": [
       "DatetimeIndex(['2013-01-01', '2013-01-02', '2013-01-03', '2013-01-04',\n",
       "               '2013-01-05', '2013-01-06'],\n",
       "              dtype='datetime64[ns]', freq='D')"
      ]
     },
     "execution_count": 15,
     "metadata": {},
     "output_type": "execute_result"
    }
   ],
   "source": [
    "df.index"
   ]
  },
  {
   "cell_type": "code",
   "execution_count": 16,
   "metadata": {},
   "outputs": [
    {
     "data": {
      "text/plain": [
       "Index(['A', 'B', 'C', 'D'], dtype='object')"
      ]
     },
     "execution_count": 16,
     "metadata": {},
     "output_type": "execute_result"
    }
   ],
   "source": [
    "df.columns"
   ]
  },
  {
   "cell_type": "code",
   "execution_count": 17,
   "metadata": {},
   "outputs": [
    {
     "data": {
      "text/plain": [
       "array([[ 1.46543659, -0.24880851,  1.11855991,  1.21694108],\n",
       "       [-2.27690736, -0.10821944,  1.45642524,  0.49313617],\n",
       "       [ 1.2758083 ,  1.45429751,  1.03011133,  0.13347318],\n",
       "       [ 1.04359505,  0.2081416 , -1.28789814,  0.649778  ],\n",
       "       [ 0.55065775, -0.14901217, -0.93918643,  0.47819739],\n",
       "       [-0.696666  , -0.61685969,  0.84813084, -0.14014837]])"
      ]
     },
     "execution_count": 17,
     "metadata": {},
     "output_type": "execute_result"
    }
   ],
   "source": [
    "df.values"
   ]
  },
  {
   "cell_type": "code",
   "execution_count": 18,
   "metadata": {},
   "outputs": [
    {
     "data": {
      "text/html": [
       "<div>\n",
       "<table border=\"1\" class=\"dataframe\">\n",
       "  <thead>\n",
       "    <tr style=\"text-align: right;\">\n",
       "      <th></th>\n",
       "      <th>A</th>\n",
       "      <th>B</th>\n",
       "      <th>C</th>\n",
       "      <th>D</th>\n",
       "    </tr>\n",
       "  </thead>\n",
       "  <tbody>\n",
       "    <tr>\n",
       "      <th>count</th>\n",
       "      <td>6.000000</td>\n",
       "      <td>6.000000</td>\n",
       "      <td>6.000000</td>\n",
       "      <td>6.000000</td>\n",
       "    </tr>\n",
       "    <tr>\n",
       "      <th>mean</th>\n",
       "      <td>0.226987</td>\n",
       "      <td>0.089923</td>\n",
       "      <td>0.371024</td>\n",
       "      <td>0.471896</td>\n",
       "    </tr>\n",
       "    <tr>\n",
       "      <th>std</th>\n",
       "      <td>1.451070</td>\n",
       "      <td>0.719184</td>\n",
       "      <td>1.171973</td>\n",
       "      <td>0.463973</td>\n",
       "    </tr>\n",
       "    <tr>\n",
       "      <th>min</th>\n",
       "      <td>-2.276907</td>\n",
       "      <td>-0.616860</td>\n",
       "      <td>-1.287898</td>\n",
       "      <td>-0.140148</td>\n",
       "    </tr>\n",
       "    <tr>\n",
       "      <th>25%</th>\n",
       "      <td>-0.384835</td>\n",
       "      <td>-0.223859</td>\n",
       "      <td>-0.492357</td>\n",
       "      <td>0.219654</td>\n",
       "    </tr>\n",
       "    <tr>\n",
       "      <th>50%</th>\n",
       "      <td>0.797126</td>\n",
       "      <td>-0.128616</td>\n",
       "      <td>0.939121</td>\n",
       "      <td>0.485667</td>\n",
       "    </tr>\n",
       "    <tr>\n",
       "      <th>75%</th>\n",
       "      <td>1.217755</td>\n",
       "      <td>0.129051</td>\n",
       "      <td>1.096448</td>\n",
       "      <td>0.610618</td>\n",
       "    </tr>\n",
       "    <tr>\n",
       "      <th>max</th>\n",
       "      <td>1.465437</td>\n",
       "      <td>1.454298</td>\n",
       "      <td>1.456425</td>\n",
       "      <td>1.216941</td>\n",
       "    </tr>\n",
       "  </tbody>\n",
       "</table>\n",
       "</div>"
      ],
      "text/plain": [
       "              A         B         C         D\n",
       "count  6.000000  6.000000  6.000000  6.000000\n",
       "mean   0.226987  0.089923  0.371024  0.471896\n",
       "std    1.451070  0.719184  1.171973  0.463973\n",
       "min   -2.276907 -0.616860 -1.287898 -0.140148\n",
       "25%   -0.384835 -0.223859 -0.492357  0.219654\n",
       "50%    0.797126 -0.128616  0.939121  0.485667\n",
       "75%    1.217755  0.129051  1.096448  0.610618\n",
       "max    1.465437  1.454298  1.456425  1.216941"
      ]
     },
     "execution_count": 18,
     "metadata": {},
     "output_type": "execute_result"
    }
   ],
   "source": [
    "df.describe()"
   ]
  },
  {
   "cell_type": "code",
   "execution_count": 19,
   "metadata": {},
   "outputs": [
    {
     "data": {
      "text/html": [
       "<div>\n",
       "<table border=\"1\" class=\"dataframe\">\n",
       "  <thead>\n",
       "    <tr style=\"text-align: right;\">\n",
       "      <th></th>\n",
       "      <th>2013-01-01 00:00:00</th>\n",
       "      <th>2013-01-02 00:00:00</th>\n",
       "      <th>2013-01-03 00:00:00</th>\n",
       "      <th>2013-01-04 00:00:00</th>\n",
       "      <th>2013-01-05 00:00:00</th>\n",
       "      <th>2013-01-06 00:00:00</th>\n",
       "    </tr>\n",
       "  </thead>\n",
       "  <tbody>\n",
       "    <tr>\n",
       "      <th>A</th>\n",
       "      <td>1.465437</td>\n",
       "      <td>-2.276907</td>\n",
       "      <td>1.275808</td>\n",
       "      <td>1.043595</td>\n",
       "      <td>0.550658</td>\n",
       "      <td>-0.696666</td>\n",
       "    </tr>\n",
       "    <tr>\n",
       "      <th>B</th>\n",
       "      <td>-0.248809</td>\n",
       "      <td>-0.108219</td>\n",
       "      <td>1.454298</td>\n",
       "      <td>0.208142</td>\n",
       "      <td>-0.149012</td>\n",
       "      <td>-0.616860</td>\n",
       "    </tr>\n",
       "    <tr>\n",
       "      <th>C</th>\n",
       "      <td>1.118560</td>\n",
       "      <td>1.456425</td>\n",
       "      <td>1.030111</td>\n",
       "      <td>-1.287898</td>\n",
       "      <td>-0.939186</td>\n",
       "      <td>0.848131</td>\n",
       "    </tr>\n",
       "    <tr>\n",
       "      <th>D</th>\n",
       "      <td>1.216941</td>\n",
       "      <td>0.493136</td>\n",
       "      <td>0.133473</td>\n",
       "      <td>0.649778</td>\n",
       "      <td>0.478197</td>\n",
       "      <td>-0.140148</td>\n",
       "    </tr>\n",
       "  </tbody>\n",
       "</table>\n",
       "</div>"
      ],
      "text/plain": [
       "   2013-01-01  2013-01-02  2013-01-03  2013-01-04  2013-01-05  2013-01-06\n",
       "A    1.465437   -2.276907    1.275808    1.043595    0.550658   -0.696666\n",
       "B   -0.248809   -0.108219    1.454298    0.208142   -0.149012   -0.616860\n",
       "C    1.118560    1.456425    1.030111   -1.287898   -0.939186    0.848131\n",
       "D    1.216941    0.493136    0.133473    0.649778    0.478197   -0.140148"
      ]
     },
     "execution_count": 19,
     "metadata": {},
     "output_type": "execute_result"
    }
   ],
   "source": [
    "df.T"
   ]
  },
  {
   "cell_type": "code",
   "execution_count": 20,
   "metadata": {},
   "outputs": [
    {
     "data": {
      "text/html": [
       "<div>\n",
       "<table border=\"1\" class=\"dataframe\">\n",
       "  <thead>\n",
       "    <tr style=\"text-align: right;\">\n",
       "      <th></th>\n",
       "      <th>D</th>\n",
       "      <th>C</th>\n",
       "      <th>B</th>\n",
       "      <th>A</th>\n",
       "    </tr>\n",
       "  </thead>\n",
       "  <tbody>\n",
       "    <tr>\n",
       "      <th>2013-01-01</th>\n",
       "      <td>1.216941</td>\n",
       "      <td>1.118560</td>\n",
       "      <td>-0.248809</td>\n",
       "      <td>1.465437</td>\n",
       "    </tr>\n",
       "    <tr>\n",
       "      <th>2013-01-02</th>\n",
       "      <td>0.493136</td>\n",
       "      <td>1.456425</td>\n",
       "      <td>-0.108219</td>\n",
       "      <td>-2.276907</td>\n",
       "    </tr>\n",
       "    <tr>\n",
       "      <th>2013-01-03</th>\n",
       "      <td>0.133473</td>\n",
       "      <td>1.030111</td>\n",
       "      <td>1.454298</td>\n",
       "      <td>1.275808</td>\n",
       "    </tr>\n",
       "    <tr>\n",
       "      <th>2013-01-04</th>\n",
       "      <td>0.649778</td>\n",
       "      <td>-1.287898</td>\n",
       "      <td>0.208142</td>\n",
       "      <td>1.043595</td>\n",
       "    </tr>\n",
       "    <tr>\n",
       "      <th>2013-01-05</th>\n",
       "      <td>0.478197</td>\n",
       "      <td>-0.939186</td>\n",
       "      <td>-0.149012</td>\n",
       "      <td>0.550658</td>\n",
       "    </tr>\n",
       "    <tr>\n",
       "      <th>2013-01-06</th>\n",
       "      <td>-0.140148</td>\n",
       "      <td>0.848131</td>\n",
       "      <td>-0.616860</td>\n",
       "      <td>-0.696666</td>\n",
       "    </tr>\n",
       "  </tbody>\n",
       "</table>\n",
       "</div>"
      ],
      "text/plain": [
       "                   D         C         B         A\n",
       "2013-01-01  1.216941  1.118560 -0.248809  1.465437\n",
       "2013-01-02  0.493136  1.456425 -0.108219 -2.276907\n",
       "2013-01-03  0.133473  1.030111  1.454298  1.275808\n",
       "2013-01-04  0.649778 -1.287898  0.208142  1.043595\n",
       "2013-01-05  0.478197 -0.939186 -0.149012  0.550658\n",
       "2013-01-06 -0.140148  0.848131 -0.616860 -0.696666"
      ]
     },
     "execution_count": 20,
     "metadata": {},
     "output_type": "execute_result"
    }
   ],
   "source": [
    "df.sort_index(axis=1, ascending=False)"
   ]
  },
  {
   "cell_type": "code",
   "execution_count": 21,
   "metadata": {},
   "outputs": [
    {
     "data": {
      "text/html": [
       "<div>\n",
       "<table border=\"1\" class=\"dataframe\">\n",
       "  <thead>\n",
       "    <tr style=\"text-align: right;\">\n",
       "      <th></th>\n",
       "      <th>A</th>\n",
       "      <th>B</th>\n",
       "      <th>C</th>\n",
       "      <th>D</th>\n",
       "    </tr>\n",
       "  </thead>\n",
       "  <tbody>\n",
       "    <tr>\n",
       "      <th>2013-01-06</th>\n",
       "      <td>-0.696666</td>\n",
       "      <td>-0.616860</td>\n",
       "      <td>0.848131</td>\n",
       "      <td>-0.140148</td>\n",
       "    </tr>\n",
       "    <tr>\n",
       "      <th>2013-01-01</th>\n",
       "      <td>1.465437</td>\n",
       "      <td>-0.248809</td>\n",
       "      <td>1.118560</td>\n",
       "      <td>1.216941</td>\n",
       "    </tr>\n",
       "    <tr>\n",
       "      <th>2013-01-05</th>\n",
       "      <td>0.550658</td>\n",
       "      <td>-0.149012</td>\n",
       "      <td>-0.939186</td>\n",
       "      <td>0.478197</td>\n",
       "    </tr>\n",
       "    <tr>\n",
       "      <th>2013-01-02</th>\n",
       "      <td>-2.276907</td>\n",
       "      <td>-0.108219</td>\n",
       "      <td>1.456425</td>\n",
       "      <td>0.493136</td>\n",
       "    </tr>\n",
       "    <tr>\n",
       "      <th>2013-01-04</th>\n",
       "      <td>1.043595</td>\n",
       "      <td>0.208142</td>\n",
       "      <td>-1.287898</td>\n",
       "      <td>0.649778</td>\n",
       "    </tr>\n",
       "    <tr>\n",
       "      <th>2013-01-03</th>\n",
       "      <td>1.275808</td>\n",
       "      <td>1.454298</td>\n",
       "      <td>1.030111</td>\n",
       "      <td>0.133473</td>\n",
       "    </tr>\n",
       "  </tbody>\n",
       "</table>\n",
       "</div>"
      ],
      "text/plain": [
       "                   A         B         C         D\n",
       "2013-01-06 -0.696666 -0.616860  0.848131 -0.140148\n",
       "2013-01-01  1.465437 -0.248809  1.118560  1.216941\n",
       "2013-01-05  0.550658 -0.149012 -0.939186  0.478197\n",
       "2013-01-02 -2.276907 -0.108219  1.456425  0.493136\n",
       "2013-01-04  1.043595  0.208142 -1.287898  0.649778\n",
       "2013-01-03  1.275808  1.454298  1.030111  0.133473"
      ]
     },
     "execution_count": 21,
     "metadata": {},
     "output_type": "execute_result"
    }
   ],
   "source": [
    "df.sort_values(by='B')"
   ]
  },
  {
   "cell_type": "code",
   "execution_count": 22,
   "metadata": {},
   "outputs": [
    {
     "data": {
      "text/plain": [
       "2013-01-01    1.465437\n",
       "2013-01-02   -2.276907\n",
       "2013-01-03    1.275808\n",
       "2013-01-04    1.043595\n",
       "2013-01-05    0.550658\n",
       "2013-01-06   -0.696666\n",
       "Freq: D, Name: A, dtype: float64"
      ]
     },
     "execution_count": 22,
     "metadata": {},
     "output_type": "execute_result"
    }
   ],
   "source": [
    "df['A']"
   ]
  },
  {
   "cell_type": "code",
   "execution_count": 23,
   "metadata": {},
   "outputs": [
    {
     "data": {
      "text/html": [
       "<div>\n",
       "<table border=\"1\" class=\"dataframe\">\n",
       "  <thead>\n",
       "    <tr style=\"text-align: right;\">\n",
       "      <th></th>\n",
       "      <th>A</th>\n",
       "      <th>B</th>\n",
       "      <th>C</th>\n",
       "      <th>D</th>\n",
       "    </tr>\n",
       "  </thead>\n",
       "  <tbody>\n",
       "    <tr>\n",
       "      <th>2013-01-01</th>\n",
       "      <td>1.465437</td>\n",
       "      <td>-0.248809</td>\n",
       "      <td>1.118560</td>\n",
       "      <td>1.216941</td>\n",
       "    </tr>\n",
       "    <tr>\n",
       "      <th>2013-01-02</th>\n",
       "      <td>-2.276907</td>\n",
       "      <td>-0.108219</td>\n",
       "      <td>1.456425</td>\n",
       "      <td>0.493136</td>\n",
       "    </tr>\n",
       "    <tr>\n",
       "      <th>2013-01-03</th>\n",
       "      <td>1.275808</td>\n",
       "      <td>1.454298</td>\n",
       "      <td>1.030111</td>\n",
       "      <td>0.133473</td>\n",
       "    </tr>\n",
       "  </tbody>\n",
       "</table>\n",
       "</div>"
      ],
      "text/plain": [
       "                   A         B         C         D\n",
       "2013-01-01  1.465437 -0.248809  1.118560  1.216941\n",
       "2013-01-02 -2.276907 -0.108219  1.456425  0.493136\n",
       "2013-01-03  1.275808  1.454298  1.030111  0.133473"
      ]
     },
     "execution_count": 23,
     "metadata": {},
     "output_type": "execute_result"
    }
   ],
   "source": [
    "df[0:3]"
   ]
  },
  {
   "cell_type": "code",
   "execution_count": 24,
   "metadata": {},
   "outputs": [
    {
     "data": {
      "text/html": [
       "<div>\n",
       "<table border=\"1\" class=\"dataframe\">\n",
       "  <thead>\n",
       "    <tr style=\"text-align: right;\">\n",
       "      <th></th>\n",
       "      <th>A</th>\n",
       "      <th>B</th>\n",
       "      <th>C</th>\n",
       "      <th>D</th>\n",
       "    </tr>\n",
       "  </thead>\n",
       "  <tbody>\n",
       "    <tr>\n",
       "      <th>2013-01-01</th>\n",
       "      <td>1.465437</td>\n",
       "      <td>-0.248809</td>\n",
       "      <td>1.118560</td>\n",
       "      <td>1.216941</td>\n",
       "    </tr>\n",
       "    <tr>\n",
       "      <th>2013-01-03</th>\n",
       "      <td>1.275808</td>\n",
       "      <td>1.454298</td>\n",
       "      <td>1.030111</td>\n",
       "      <td>0.133473</td>\n",
       "    </tr>\n",
       "    <tr>\n",
       "      <th>2013-01-04</th>\n",
       "      <td>1.043595</td>\n",
       "      <td>0.208142</td>\n",
       "      <td>-1.287898</td>\n",
       "      <td>0.649778</td>\n",
       "    </tr>\n",
       "    <tr>\n",
       "      <th>2013-01-05</th>\n",
       "      <td>0.550658</td>\n",
       "      <td>-0.149012</td>\n",
       "      <td>-0.939186</td>\n",
       "      <td>0.478197</td>\n",
       "    </tr>\n",
       "  </tbody>\n",
       "</table>\n",
       "</div>"
      ],
      "text/plain": [
       "                   A         B         C         D\n",
       "2013-01-01  1.465437 -0.248809  1.118560  1.216941\n",
       "2013-01-03  1.275808  1.454298  1.030111  0.133473\n",
       "2013-01-04  1.043595  0.208142 -1.287898  0.649778\n",
       "2013-01-05  0.550658 -0.149012 -0.939186  0.478197"
      ]
     },
     "execution_count": 24,
     "metadata": {},
     "output_type": "execute_result"
    }
   ],
   "source": [
    "df[df.A > 0]"
   ]
  },
  {
   "cell_type": "code",
   "execution_count": 25,
   "metadata": {},
   "outputs": [
    {
     "data": {
      "text/html": [
       "<div>\n",
       "<table border=\"1\" class=\"dataframe\">\n",
       "  <thead>\n",
       "    <tr style=\"text-align: right;\">\n",
       "      <th></th>\n",
       "      <th>A</th>\n",
       "      <th>B</th>\n",
       "      <th>C</th>\n",
       "      <th>D</th>\n",
       "    </tr>\n",
       "  </thead>\n",
       "  <tbody>\n",
       "    <tr>\n",
       "      <th>2013-01-01</th>\n",
       "      <td>1.465437</td>\n",
       "      <td>NaN</td>\n",
       "      <td>1.118560</td>\n",
       "      <td>1.216941</td>\n",
       "    </tr>\n",
       "    <tr>\n",
       "      <th>2013-01-02</th>\n",
       "      <td>NaN</td>\n",
       "      <td>NaN</td>\n",
       "      <td>1.456425</td>\n",
       "      <td>0.493136</td>\n",
       "    </tr>\n",
       "    <tr>\n",
       "      <th>2013-01-03</th>\n",
       "      <td>1.275808</td>\n",
       "      <td>1.454298</td>\n",
       "      <td>1.030111</td>\n",
       "      <td>0.133473</td>\n",
       "    </tr>\n",
       "    <tr>\n",
       "      <th>2013-01-04</th>\n",
       "      <td>1.043595</td>\n",
       "      <td>0.208142</td>\n",
       "      <td>NaN</td>\n",
       "      <td>0.649778</td>\n",
       "    </tr>\n",
       "    <tr>\n",
       "      <th>2013-01-05</th>\n",
       "      <td>0.550658</td>\n",
       "      <td>NaN</td>\n",
       "      <td>NaN</td>\n",
       "      <td>0.478197</td>\n",
       "    </tr>\n",
       "    <tr>\n",
       "      <th>2013-01-06</th>\n",
       "      <td>NaN</td>\n",
       "      <td>NaN</td>\n",
       "      <td>0.848131</td>\n",
       "      <td>NaN</td>\n",
       "    </tr>\n",
       "  </tbody>\n",
       "</table>\n",
       "</div>"
      ],
      "text/plain": [
       "                   A         B         C         D\n",
       "2013-01-01  1.465437       NaN  1.118560  1.216941\n",
       "2013-01-02       NaN       NaN  1.456425  0.493136\n",
       "2013-01-03  1.275808  1.454298  1.030111  0.133473\n",
       "2013-01-04  1.043595  0.208142       NaN  0.649778\n",
       "2013-01-05  0.550658       NaN       NaN  0.478197\n",
       "2013-01-06       NaN       NaN  0.848131       NaN"
      ]
     },
     "execution_count": 25,
     "metadata": {},
     "output_type": "execute_result"
    }
   ],
   "source": [
    "df[df > 0]"
   ]
  },
  {
   "cell_type": "code",
   "execution_count": 26,
   "metadata": {},
   "outputs": [
    {
     "data": {
      "text/plain": [
       "A    0.226987\n",
       "B    0.089923\n",
       "C    0.371024\n",
       "D    0.471896\n",
       "dtype: float64"
      ]
     },
     "execution_count": 26,
     "metadata": {},
     "output_type": "execute_result"
    }
   ],
   "source": [
    "df.mean()"
   ]
  },
  {
   "cell_type": "code",
   "execution_count": 27,
   "metadata": {},
   "outputs": [
    {
     "data": {
      "text/plain": [
       "2013-01-01    0.888032\n",
       "2013-01-02   -0.108891\n",
       "2013-01-03    0.973423\n",
       "2013-01-04    0.153404\n",
       "2013-01-05   -0.014836\n",
       "2013-01-06   -0.151386\n",
       "Freq: D, dtype: float64"
      ]
     },
     "execution_count": 27,
     "metadata": {},
     "output_type": "execute_result"
    }
   ],
   "source": [
    "df.mean(1)"
   ]
  },
  {
   "cell_type": "code",
   "execution_count": null,
   "metadata": {
    "collapsed": true
   },
   "outputs": [],
   "source": []
  }
 ],
 "metadata": {
  "kernelspec": {
   "display_name": "Python 3",
   "language": "python",
   "name": "python3"
  },
  "language_info": {
   "codemirror_mode": {
    "name": "ipython",
    "version": 3
   },
   "file_extension": ".py",
   "mimetype": "text/x-python",
   "name": "python",
   "nbconvert_exporter": "python",
   "pygments_lexer": "ipython3",
   "version": "3.6.0"
  }
 },
 "nbformat": 4,
 "nbformat_minor": 2
}
