{
 "cells": [
  {
   "cell_type": "markdown",
   "metadata": {},
   "source": [
    "# Call"
   ]
  },
  {
   "cell_type": "markdown",
   "metadata": {},
   "source": [
    "## Differentiate"
   ]
  },
  {
   "cell_type": "code",
   "execution_count": 1,
   "metadata": {
    "collapsed": true
   },
   "outputs": [],
   "source": [
    "class Derivative(object):\n",
    "    \n",
    "    def __init__(self,f,h=1E-5):\n",
    "        self.f = f\n",
    "        self.h = h\n",
    "    \n",
    "    def __call__(self,x):\n",
    "        return (self.f(x + self.h) - self.f(x)) / self.h"
   ]
  },
  {
   "cell_type": "code",
   "execution_count": 2,
   "metadata": {
    "collapsed": false
   },
   "outputs": [],
   "source": [
    "def f(x):\n",
    "    return x ** 2 + x"
   ]
  },
  {
   "cell_type": "code",
   "execution_count": 3,
   "metadata": {
    "collapsed": true
   },
   "outputs": [],
   "source": [
    "g = Derivative(f)"
   ]
  },
  {
   "cell_type": "code",
   "execution_count": 4,
   "metadata": {
    "collapsed": false
   },
   "outputs": [
    {
     "data": {
      "text/plain": [
       "3.0000100000204806"
      ]
     },
     "execution_count": 4,
     "metadata": {},
     "output_type": "execute_result"
    }
   ],
   "source": [
    "g(1)"
   ]
  },
  {
   "cell_type": "code",
   "execution_count": 5,
   "metadata": {
    "collapsed": false
   },
   "outputs": [
    {
     "data": {
      "text/plain": [
       "1.00001"
      ]
     },
     "execution_count": 5,
     "metadata": {},
     "output_type": "execute_result"
    }
   ],
   "source": [
    "g(0)"
   ]
  },
  {
   "cell_type": "code",
   "execution_count": 6,
   "metadata": {
    "collapsed": false
   },
   "outputs": [
    {
     "name": "stdout",
     "output_type": "stream",
     "text": [
      "<__main__.Derivative object at 0x000000000499F0F0>\n"
     ]
    }
   ],
   "source": [
    "print g"
   ]
  },
  {
   "cell_type": "markdown",
   "metadata": {},
   "source": [
    "## Linearize "
   ]
  },
  {
   "cell_type": "code",
   "execution_count": 7,
   "metadata": {
    "collapsed": true
   },
   "outputs": [],
   "source": [
    "class Derivative(object):\n",
    "    self.a = 1\n",
    "    def __init__(self,f,h=1E-5):\n",
    "        self.f = f\n",
    "        self.h = h\n",
    "    \n",
    "    def __call__(self,x):\n",
    "        return (self.f(x + self.h) - self.f(x)) / self.h\n",
    "    \n",
    "    \n",
    "class Linearize(Derivative):\n",
    "    \n",
    "    def __init__(self,f,x0,h=1E-5):\n",
    "        self.a = super(Linearize, self).self.a\n",
    "        super(Linearize, self).__init__(f, h)\n",
    "        self.x0 = x0\n",
    "        self.L = Derivative(self.f)\n",
    "        self.tan = self.L(self.x0)\n",
    "        \n",
    "    def __call__(self,x):\n",
    "        return self.tan * (x - self.x0) + self.f(self.x0)\n",
    "    \n",
    "    def __str__(self):\n",
    "        return '%dx+%d' % (self.tan, self.f(self.x0)) "
   ]
  },
  {
   "cell_type": "code",
   "execution_count": 8,
   "metadata": {
    "collapsed": true
   },
   "outputs": [],
   "source": [
    "def f(x):\n",
    "    return x ** 3"
   ]
  },
  {
   "cell_type": "code",
   "execution_count": 9,
   "metadata": {
    "collapsed": false
   },
   "outputs": [],
   "source": [
    "L = Linearize(f, 1)"
   ]
  },
  {
   "cell_type": "code",
   "execution_count": 10,
   "metadata": {
    "collapsed": false
   },
   "outputs": [
    {
     "data": {
      "text/plain": [
       "1.0"
      ]
     },
     "execution_count": 10,
     "metadata": {},
     "output_type": "execute_result"
    }
   ],
   "source": [
    "L(1)"
   ]
  },
  {
   "cell_type": "code",
   "execution_count": 11,
   "metadata": {
    "collapsed": false
   },
   "outputs": [
    {
     "data": {
      "text/plain": [
       "4.000030000110954"
      ]
     },
     "execution_count": 11,
     "metadata": {},
     "output_type": "execute_result"
    }
   ],
   "source": [
    "L(2)"
   ]
  },
  {
   "cell_type": "code",
   "execution_count": 12,
   "metadata": {
    "collapsed": false
   },
   "outputs": [
    {
     "data": {
      "text/plain": [
       "4"
      ]
     },
     "execution_count": 12,
     "metadata": {},
     "output_type": "execute_result"
    }
   ],
   "source": [
    "3 * 1 * (2 - 1) + 1"
   ]
  },
  {
   "cell_type": "code",
   "execution_count": 13,
   "metadata": {
    "collapsed": false
   },
   "outputs": [
    {
     "name": "stdout",
     "output_type": "stream",
     "text": [
      "3x+1\n"
     ]
    }
   ],
   "source": [
    "print L"
   ]
  },
  {
   "cell_type": "markdown",
   "metadata": {},
   "source": [
    "## Quadratic "
   ]
  },
  {
   "cell_type": "code",
   "execution_count": 14,
   "metadata": {
    "collapsed": true
   },
   "outputs": [],
   "source": [
    "from math import sqrt\n",
    "\n",
    "class Quadratic(object):\n",
    "    \n",
    "    def __init__(self, a, b, c):\n",
    "        self.a = a\n",
    "        self.b = b\n",
    "        self.c = c\n",
    "        \n",
    "    def __call__(self, x):\n",
    "        return self.a * x ** 2 + self.b * x + self.c\n",
    "    \n",
    "    def __str__(self):\n",
    "        if self.b > 0:\n",
    "            return \"%dx^2+%dx+%d\" % (self.a, self.b, self.c)\n",
    "        elif self.b < 0:\n",
    "            return \"%dx^2%dx+%d\" % (self.a, self.b, self.c)\n",
    "        else:\n",
    "            return \"%dx^2+%d\" % (self.a, self.c)\n",
    "    \n",
    "    def Det(self):\n",
    "        return self.b ** 2 - 4 * self.a * self.c\n",
    "    \n",
    "    def roots(self):\n",
    "        if self.Det() >= 0:\n",
    "            return ((-self.b + sqrt(self.Det())) / (2 * self.a), (-self.b - sqrt(self.Det())) / (2 * self.a))\n",
    "        else:\n",
    "            return ((-self.b + complex(0,sqrt(-self.Det()))) / \n",
    "                    (2 * self.a), (-self.b - complex(0,sqrt(-self.Det()))) / (2 * self.a))"
   ]
  },
  {
   "cell_type": "code",
   "execution_count": 15,
   "metadata": {
    "collapsed": false
   },
   "outputs": [
    {
     "name": "stdout",
     "output_type": "stream",
     "text": [
      "1x^2-2x+1\n",
      "1\n",
      "0\n"
     ]
    },
    {
     "data": {
      "text/plain": [
       "(1.0, 1.0)"
      ]
     },
     "execution_count": 15,
     "metadata": {},
     "output_type": "execute_result"
    }
   ],
   "source": [
    "Q = Quadratic(1, -2, 1)\n",
    "print Q\n",
    "print Q(2)\n",
    "print Q.Det()\n",
    "Q.roots()"
   ]
  },
  {
   "cell_type": "code",
   "execution_count": 16,
   "metadata": {
    "collapsed": false
   },
   "outputs": [
    {
     "name": "stdout",
     "output_type": "stream",
     "text": [
      "1x^2+1x+1\n",
      "7\n",
      "-3\n"
     ]
    },
    {
     "data": {
      "text/plain": [
       "((-0.5+0.8660254037844386j), (-0.5-0.8660254037844386j))"
      ]
     },
     "execution_count": 16,
     "metadata": {},
     "output_type": "execute_result"
    }
   ],
   "source": [
    "P = Quadratic(1,1,1)\n",
    "print P\n",
    "print P(2)\n",
    "print P.Det()\n",
    "P.roots()"
   ]
  },
  {
   "cell_type": "code",
   "execution_count": 17,
   "metadata": {
    "collapsed": false
   },
   "outputs": [
    {
     "data": {
      "text/plain": [
       "0.8660254037844386"
      ]
     },
     "execution_count": 17,
     "metadata": {},
     "output_type": "execute_result"
    }
   ],
   "source": [
    "sqrt(0.75)"
   ]
  },
  {
   "cell_type": "code",
   "execution_count": 18,
   "metadata": {
    "collapsed": false
   },
   "outputs": [
    {
     "data": {
      "text/plain": [
       "1"
      ]
     },
     "execution_count": 18,
     "metadata": {},
     "output_type": "execute_result"
    }
   ],
   "source": [
    "2 ** 0"
   ]
  },
  {
   "cell_type": "markdown",
   "metadata": {},
   "source": [
    "## Polynomial"
   ]
  },
  {
   "cell_type": "code",
   "execution_count": 19,
   "metadata": {
    "collapsed": true
   },
   "outputs": [],
   "source": [
    "class Polynomial(object):\n",
    "    \n",
    "    def __init__(self, *a):\n",
    "        self.a = list(a)\n",
    "        self.l = len(self.a)\n",
    "    \n",
    "    def __call__(self, x):\n",
    "        self.s = 0\n",
    "        for i in range(0, self.l):\n",
    "            self.s += self.a[i] * x ** (self.l - i - 1)\n",
    "        return self.s\n",
    "    \n",
    "    def __str__(self):\n",
    "        self.r = ''\n",
    "        for i in range(0, self.l):\n",
    "            if i < self.l - 1:\n",
    "                self.r += '%dx^%d+' % (self.a[i], self.l - i -1)\n",
    "            else:\n",
    "                self.r += '%d' % (self.a[i])\n",
    "        return self.r"
   ]
  },
  {
   "cell_type": "code",
   "execution_count": 20,
   "metadata": {
    "collapsed": true
   },
   "outputs": [],
   "source": [
    "y = Polynomial(1, 1, 2)"
   ]
  },
  {
   "cell_type": "code",
   "execution_count": 21,
   "metadata": {
    "collapsed": false
   },
   "outputs": [
    {
     "data": {
      "text/plain": [
       "4"
      ]
     },
     "execution_count": 21,
     "metadata": {},
     "output_type": "execute_result"
    }
   ],
   "source": [
    "y(1)"
   ]
  },
  {
   "cell_type": "code",
   "execution_count": 22,
   "metadata": {
    "collapsed": false
   },
   "outputs": [
    {
     "data": {
      "text/plain": [
       "8"
      ]
     },
     "execution_count": 22,
     "metadata": {},
     "output_type": "execute_result"
    }
   ],
   "source": [
    "y(2)"
   ]
  },
  {
   "cell_type": "code",
   "execution_count": 23,
   "metadata": {
    "collapsed": false
   },
   "outputs": [
    {
     "name": "stdout",
     "output_type": "stream",
     "text": [
      "1x^2+1x^1+2\n"
     ]
    }
   ],
   "source": [
    "print y"
   ]
  },
  {
   "cell_type": "code",
   "execution_count": 24,
   "metadata": {
    "collapsed": true
   },
   "outputs": [],
   "source": [
    "u = Derivative(y)"
   ]
  },
  {
   "cell_type": "code",
   "execution_count": 25,
   "metadata": {
    "collapsed": false
   },
   "outputs": [
    {
     "data": {
      "text/plain": [
       "3.0000100000648895"
      ]
     },
     "execution_count": 25,
     "metadata": {},
     "output_type": "execute_result"
    }
   ],
   "source": [
    "u(1)"
   ]
  },
  {
   "cell_type": "code",
   "execution_count": 26,
   "metadata": {
    "collapsed": true
   },
   "outputs": [],
   "source": [
    "v = Derivative(y,1E-6)"
   ]
  },
  {
   "cell_type": "code",
   "execution_count": 27,
   "metadata": {
    "collapsed": false
   },
   "outputs": [
    {
     "data": {
      "text/plain": [
       "3.000000999620056"
      ]
     },
     "execution_count": 27,
     "metadata": {},
     "output_type": "execute_result"
    }
   ],
   "source": [
    "v(1)"
   ]
  },
  {
   "cell_type": "markdown",
   "metadata": {},
   "source": [
    "## Newton - Raphson Method"
   ]
  },
  {
   "cell_type": "code",
   "execution_count": 28,
   "metadata": {
    "collapsed": true
   },
   "outputs": [],
   "source": [
    "from math import sqrt\n",
    "\n",
    "class Newton(Linearize):\n",
    "    \n",
    "    def __init__(self, f, x0, h=1E-6, n=100):\n",
    "        super(Newton, self).__init__(f, x0, h)\n",
    "        self.n = n\n",
    "        self.x = x0\n",
    "        print \"Calculation Complete!\"\n",
    "    \n",
    "    def __call__(self, eps):\n",
    "        for i in range(0,self.n):\n",
    "            self.x = self.x - self.f(self.x) / self.L(self.x)\n",
    "            self.err = abs(sqrt(3) - self.x)\n",
    "            if self.err <= eps:\n",
    "                self.R = self.x\n",
    "                self.t = i+1\n",
    "                break\n",
    "        return (self.R, self.t)"
   ]
  },
  {
   "cell_type": "code",
   "execution_count": 29,
   "metadata": {
    "collapsed": true
   },
   "outputs": [],
   "source": [
    "def f(x):\n",
    "    return x ** 2 - 3"
   ]
  },
  {
   "cell_type": "code",
   "execution_count": 30,
   "metadata": {
    "collapsed": false
   },
   "outputs": [
    {
     "name": "stdout",
     "output_type": "stream",
     "text": [
      "Calculation Complete!\n"
     ]
    }
   ],
   "source": [
    "N = Newton(f, 2)"
   ]
  },
  {
   "cell_type": "code",
   "execution_count": 31,
   "metadata": {
    "collapsed": false
   },
   "outputs": [
    {
     "data": {
      "text/plain": [
       "(1.7320508075688852, 4)"
      ]
     },
     "execution_count": 31,
     "metadata": {},
     "output_type": "execute_result"
    }
   ],
   "source": [
    "N(1E-10)"
   ]
  },
  {
   "cell_type": "code",
   "execution_count": 32,
   "metadata": {
    "collapsed": true
   },
   "outputs": [],
   "source": [
    "from numpy import roots"
   ]
  },
  {
   "cell_type": "code",
   "execution_count": 33,
   "metadata": {
    "collapsed": false
   },
   "outputs": [],
   "source": [
    "co = [1, 0, -3]"
   ]
  },
  {
   "cell_type": "code",
   "execution_count": 34,
   "metadata": {
    "collapsed": false
   },
   "outputs": [
    {
     "data": {
      "text/plain": [
       "1.7320508075688776"
      ]
     },
     "execution_count": 34,
     "metadata": {},
     "output_type": "execute_result"
    }
   ],
   "source": [
    "roots(co)[1]"
   ]
  },
  {
   "cell_type": "markdown",
   "metadata": {},
   "source": [
    "## Total"
   ]
  },
  {
   "cell_type": "code",
   "execution_count": 3,
   "metadata": {
    "collapsed": false
   },
   "outputs": [
    {
     "name": "stdout",
     "output_type": "stream",
     "text": [
      "Overwriting SC.py\n"
     ]
    }
   ],
   "source": [
    "%%writefile SC.py\n",
    "\n",
    "from math import sqrt\n",
    "\n",
    "class Quadratic(object):\n",
    "    \n",
    "    def __init__(self, a, b, c):\n",
    "        self.a = a\n",
    "        self.b = b\n",
    "        self.c = c\n",
    "        \n",
    "    def __call__(self, x):\n",
    "        return self.a * x ** 2 + self.b * x + self.c\n",
    "    \n",
    "    def __str__(self):\n",
    "        if self.b > 0:\n",
    "            return \"%dx^2+%dx+%d\" % (self.a, self.b, self.c)\n",
    "        elif self.b < 0:\n",
    "            return \"%dx^2%dx+%d\" % (self.a, self.b, self.c)\n",
    "        else:\n",
    "            return \"%dx^2+%d\" % (self.a, self.c)\n",
    "    \n",
    "    def Det(self):\n",
    "        return self.b ** 2 - 4 * self.a * self.c\n",
    "    \n",
    "    def roots(self):\n",
    "        if self.Det() >= 0:\n",
    "            return ((-self.b + sqrt(self.Det())) / (2 * self.a), (-self.b - sqrt(self.Det())) / (2 * self.a))\n",
    "        else:\n",
    "            return ((-self.b + complex(0,sqrt(-self.Det()))) / \n",
    "                    (2 * self.a), (-self.b - complex(0,sqrt(-self.Det()))) / (2 * self.a))\n",
    "    \n",
    "    \n",
    "class Polynomial(object):\n",
    "    \n",
    "    def __init__(self, a):\n",
    "        self.a = a\n",
    "        self.l = len(self.a)\n",
    "    \n",
    "    def __call__(self, x):\n",
    "        self.s = 0\n",
    "        for i in range(0, self.l):\n",
    "            self.s = self.s + self.a[i] * x ** (self.l - i - 1)\n",
    "        return self.s\n",
    "    \n",
    "    def __str__(self):\n",
    "        self.r = ''\n",
    "        for i in range(0, self.l):\n",
    "            if i < self.l - 1:\n",
    "                self.r = self.r + '%dx^%d+' % (self.a[i], self.l - i -1)\n",
    "            else:\n",
    "                self.r = self.r + '%d' % (self.a[i])\n",
    "        return self.r\n",
    "\n",
    "    \n",
    "class Derivative(object):\n",
    "    \n",
    "    def __init__(self, f, h=1E-5):\n",
    "        self.f = f\n",
    "        self.h = h\n",
    "    \n",
    "    def __call__(self,x):\n",
    "        return (self.f(x + self.h) - self.f(x)) / self.h\n",
    "    \n",
    "    \n",
    "class Linearize(Derivative):\n",
    "    \n",
    "    def __init__(self,f,x0,h=1E-5):\n",
    "        super(Linearize, self).__init__(f, h)\n",
    "        self.x0 = x0\n",
    "        self.L = Derivative(self.f)\n",
    "        self.tan = self.L(self.x0)\n",
    "        \n",
    "    def __call__(self,x):\n",
    "        return self.tan * (x - self.x0) + self.f(self.x0)\n",
    "    \n",
    "    def __str__(self):\n",
    "        return '%dx+%d' % (self.tan, self.f(self.x0)) \n",
    "\n",
    "    \n",
    "class Newton(Linearize):\n",
    "    \n",
    "    def __init__(self, f, x0, h=1E-6, n=100):\n",
    "        super(Newton, self).__init__(f, x0, h)\n",
    "        self.n = n\n",
    "        self.x = x0\n",
    "        print \"Calculation Complete!\"\n",
    "    \n",
    "    def __call__(self, R, eps):\n",
    "        self.R = R\n",
    "        self.eps = eps\n",
    "        for i in range(0,self.n):\n",
    "            self.x = self.x - self.f(self.x) / self.L(self.x)\n",
    "            self.err = abs(self.R - self.x)\n",
    "            if self.err <= self.eps:\n",
    "                self.r = self.x\n",
    "                self.t = i+1\n",
    "                break\n",
    "            else:\n",
    "                continue\n",
    "        return (self.r, self.t)\n",
    "    \n",
    "def FRpoly(x0, eps, a): # Finding roots of Polynomial by Newton-Raphson Method\n",
    "    \"\"\"\n",
    "    x0 = initial point\n",
    "    eps = Determine error\n",
    "    etc = Input coefficient of polynomial    \n",
    "    \"\"\"\n",
    "    import numpy as np\n",
    "    \n",
    "    if len(a) == 3:\n",
    "        f = Quadratic(a[0], a[1], a[2])\n",
    "        r = f.roots()[0] # Can control\n",
    "    else:\n",
    "        f = Polynomial(a)\n",
    "        r =float(np.roots(a)[2]) # Can control\n",
    "        \n",
    "    N = Newton(f, x0)\n",
    "    results = N(r, eps)\n",
    "    return results"
   ]
  },
  {
   "cell_type": "code",
   "execution_count": 2,
   "metadata": {
    "collapsed": true
   },
   "outputs": [],
   "source": [
    "from SC import *\n",
    "import numpy as np"
   ]
  },
  {
   "cell_type": "code",
   "execution_count": 14,
   "metadata": {
    "collapsed": false
   },
   "outputs": [
    {
     "name": "stdout",
     "output_type": "stream",
     "text": [
      "1x^3+-3x^2+3x^1+-1\n"
     ]
    }
   ],
   "source": [
    "P = Polynomial([1, -3, 3, -1])\n",
    "print P"
   ]
  },
  {
   "cell_type": "code",
   "execution_count": 17,
   "metadata": {
    "collapsed": false
   },
   "outputs": [
    {
     "name": "stdout",
     "output_type": "stream",
     "text": [
      "[-0.5+1.93649167j -0.5-1.93649167j  1.0+0.j        ]\n"
     ]
    },
    {
     "name": "stderr",
     "output_type": "stream",
     "text": [
      "c:\\python27\\lib\\site-packages\\ipykernel\\__main__.py:3: ComplexWarning: Casting complex values to real discards the imaginary part\n",
      "  app.launch_new_instance()\n"
     ]
    },
    {
     "data": {
      "text/plain": [
       "1.0"
      ]
     },
     "execution_count": 17,
     "metadata": {},
     "output_type": "execute_result"
    }
   ],
   "source": [
    "r = np.roots([1,0,3,-4])\n",
    "print r\n",
    "float(r[2])"
   ]
  },
  {
   "cell_type": "code",
   "execution_count": 39,
   "metadata": {
    "collapsed": false
   },
   "outputs": [
    {
     "name": "stdout",
     "output_type": "stream",
     "text": [
      "Help on function FRpoly in module SC:\n",
      "\n",
      "FRpoly(x0, eps, a)\n",
      "    x0 = initial point\n",
      "    eps = Determine error\n",
      "    etc = Input coefficient of polynomial\n",
      "\n"
     ]
    }
   ],
   "source": [
    "help(FRpoly)"
   ]
  },
  {
   "cell_type": "code",
   "execution_count": 44,
   "metadata": {
    "collapsed": false
   },
   "outputs": [
    {
     "name": "stdout",
     "output_type": "stream",
     "text": [
      "Overwriting Execute.py\n"
     ]
    }
   ],
   "source": [
    "%%writefile Execute.py\n",
    "\n",
    "from SC import *\n",
    "from sys import argv\n",
    "\n",
    "print \"Input initial point\"\n",
    "a = raw_input('>')\n",
    "a = float(a)\n",
    "print \"Input allow error\"\n",
    "b = raw_input('>')\n",
    "b = float(b)\n",
    "print \"Input polynomial coefficients :ex) 1 -1 1\"\n",
    "c = raw_input('>')\n",
    "c = c.split(' ')\n",
    "d = []\n",
    "for i in range(0, len(c)):\n",
    "    d.append(float(c[i]))\n",
    "\n",
    "print FRpoly(a,b,d)"
   ]
  },
  {
   "cell_type": "code",
   "execution_count": 45,
   "metadata": {
    "collapsed": false
   },
   "outputs": [
    {
     "name": "stdout",
     "output_type": "stream",
     "text": [
      "Input initial point\n",
      ">2\n",
      "Input allow error\n",
      ">1E-10\n",
      "Input polynomial coefficients :ex) 1 -1 1\n",
      ">1 0 -3\n",
      "Calculation Complete!\n",
      "(1.7320508075688852, 4)\n"
     ]
    }
   ],
   "source": [
    "%run Execute.py"
   ]
  }
 ],
 "metadata": {
  "kernelspec": {
   "display_name": "Python 2",
   "language": "python",
   "name": "python2"
  },
  "language_info": {
   "codemirror_mode": {
    "name": "ipython",
    "version": 2
   },
   "file_extension": ".py",
   "mimetype": "text/x-python",
   "name": "python",
   "nbconvert_exporter": "python",
   "pygments_lexer": "ipython2",
   "version": "2.7.12"
  }
 },
 "nbformat": 4,
 "nbformat_minor": 1
}
