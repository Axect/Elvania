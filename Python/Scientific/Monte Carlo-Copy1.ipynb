{
 "cells": [
  {
   "cell_type": "markdown",
   "metadata": {},
   "source": [
    "# 20161112"
   ]
  },
  {
   "cell_type": "code",
   "execution_count": 13,
   "metadata": {
    "collapsed": true
   },
   "outputs": [],
   "source": [
    "from montecarlo import montecarlo\n",
    "from random import randint\n",
    "import random\n",
    "from math import pi\n",
    "from __future__ import division"
   ]
  },
  {
   "cell_type": "code",
   "execution_count": 14,
   "metadata": {
    "collapsed": true
   },
   "outputs": [],
   "source": [
    "def Pi(n):\n",
    "    p = 0\n",
    "    for i in range(0,n):\n",
    "        x = random.uniform(0,1)\n",
    "        y = random.uniform(0,1)\n",
    "        R = x**2 + y**2\n",
    "        if R<=1:\n",
    "            p += 1\n",
    "    return p/n * 4"
   ]
  },
  {
   "cell_type": "code",
   "execution_count": 15,
   "metadata": {
    "collapsed": true
   },
   "outputs": [],
   "source": [
    "def Ispi2(g):\n",
    "    return abs(Pi(100000) - pi)<1E-2"
   ]
  },
  {
   "cell_type": "code",
   "execution_count": 18,
   "metadata": {
    "collapsed": true
   },
   "outputs": [],
   "source": [
    "mc = montecarlo(Ispi2)"
   ]
  },
  {
   "cell_type": "code",
   "execution_count": 19,
   "metadata": {
    "collapsed": false
   },
   "outputs": [
    {
     "name": "stdout",
     "output_type": "stream",
     "text": [
      "Iteration #10000: 0.9484\n",
      "======================\n",
      "======= FINAL ========\n",
      "======================\n",
      "Iteration #10000: 0.9484\n"
     ]
    },
    {
     "data": {
      "text/plain": [
       "0.9484"
      ]
     },
     "execution_count": 19,
     "metadata": {},
     "output_type": "execute_result"
    }
   ],
   "source": [
    "mc.run(10000)"
   ]
  },
  {
   "cell_type": "code",
   "execution_count": 22,
   "metadata": {
    "collapsed": false
   },
   "outputs": [],
   "source": [
    "def Ispi3(g):\n",
    "    return abs(Pi(1000000)-pi)<1E-3"
   ]
  },
  {
   "cell_type": "code",
   "execution_count": 24,
   "metadata": {
    "collapsed": false
   },
   "outputs": [
    {
     "name": "stdout",
     "output_type": "stream",
     "text": [
      "Iteration #10000: 0.9426\n",
      "Iteration #20000: 0.94285\n",
      "Iteration #30000: 0.9426\n",
      "Iteration #40000: 0.94335\n",
      "Iteration #50000: 0.94424\n",
      "Iteration #60000: 0.944933333333\n",
      "Iteration #70000: 0.944914285714\n",
      "Iteration #80000: 0.9450375\n",
      "Iteration #90000: 0.944888888889\n",
      "Iteration #100000: 0.94493\n",
      "======================\n",
      "======= FINAL ========\n",
      "======================\n",
      "Iteration #100000: 0.94493\n"
     ]
    },
    {
     "data": {
      "text/plain": [
       "0.94493"
      ]
     },
     "execution_count": 24,
     "metadata": {},
     "output_type": "execute_result"
    }
   ],
   "source": [
    "mc.run(100000)"
   ]
  },
  {
   "cell_type": "code",
   "execution_count": null,
   "metadata": {
    "collapsed": true
   },
   "outputs": [],
   "source": []
  }
 ],
 "metadata": {
  "kernelspec": {
   "display_name": "Python 2",
   "language": "python",
   "name": "python2"
  },
  "language_info": {
   "codemirror_mode": {
    "name": "ipython",
    "version": 2
   },
   "file_extension": ".py",
   "mimetype": "text/x-python",
   "name": "python",
   "nbconvert_exporter": "python",
   "pygments_lexer": "ipython2",
   "version": "2.7.12"
  }
 },
 "nbformat": 4,
 "nbformat_minor": 1
}
