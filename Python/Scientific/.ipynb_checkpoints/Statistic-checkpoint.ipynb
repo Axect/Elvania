{
 "cells": [
  {
   "cell_type": "markdown",
   "metadata": {},
   "source": [
    "# Probability & Statistic"
   ]
  },
  {
   "cell_type": "code",
   "execution_count": 1,
   "metadata": {
    "collapsed": true
   },
   "outputs": [],
   "source": [
    "import random\n",
    "random.seed(42)\n",
    "N = 500\n",
    "x = range(N)\n",
    "y = [random.uniform(-1,1) for i in x]"
   ]
  },
  {
   "cell_type": "code",
   "execution_count": 2,
   "metadata": {
    "collapsed": false
   },
   "outputs": [],
   "source": [
    "import matplotlib.pyplot as plt"
   ]
  },
  {
   "cell_type": "code",
   "execution_count": 3,
   "metadata": {
    "collapsed": false
   },
   "outputs": [
    {
     "data": {
      "image/png": "[encoded data removed]",
      "text/plain": [
       "<matplotlib.figure.Figure at 0x7f9e88b39110>"
      ]
     },
     "metadata": {},
     "output_type": "display_data"
    }
   ],
   "source": [
    "plt.plot(x, y, '+')\n",
    "plt.axis([0,N-1,-1.2,1.2])\n",
    "plt.show()"
   ]
  },
  {
   "cell_type": "code",
   "execution_count": 4,
   "metadata": {
    "collapsed": false
   },
   "outputs": [
    {
     "data": {
      "image/png": "[encoded data removed]",
      "text/plain": [
       "<matplotlib.figure.Figure at 0x7f9e88b20e90>"
      ]
     },
     "metadata": {},
     "output_type": "display_data"
    }
   ],
   "source": [
    "samples = [random.random() for i in range(100000)]\n",
    "plt.hist(samples, bins=20)\n",
    "plt.show()"
   ]
  },
  {
   "cell_type": "code",
   "execution_count": 5,
   "metadata": {
    "collapsed": false
   },
   "outputs": [
    {
     "name": "stdout",
     "output_type": "stream",
     "text": [
      "Overwriting Statistic.py\n"
     ]
    }
   ],
   "source": [
    "%%writefile Statistic.py\n",
    "\n",
    "# -*- coding: utf-8 -*-\n",
    "import random\n",
    "import math\n",
    "\n",
    "class AxectList(object): # Y = a*X + b 를 구현하기 위한 클래스.\n",
    "    \n",
    "    def __init__(self, X):\n",
    "        self.X = X\n",
    "    \n",
    "    def __len__(self):\n",
    "        return len(self.X)\n",
    "        \n",
    "    def __add__(self, other): # T = X + b\n",
    "        T = []\n",
    "        for x in self.X:\n",
    "            T.append(x + other)\n",
    "        return AxectList(T)\n",
    "    \n",
    "    def __mul__(self, other): # T = X * a\n",
    "        T = []\n",
    "        for x in self.X:\n",
    "            T.append(x*other)\n",
    "        return AxectList(T)\n",
    "    \n",
    "    def __rmul__(self, other): # T = a * X\n",
    "        T = []\n",
    "        for x in self.X:\n",
    "            T.append(x*other)\n",
    "        return AxectList(T)\n",
    "   \n",
    "    def __setitem__(self, key, value):\n",
    "        self.X[key] = value\n",
    "        \n",
    "    def __getitem__(self, key):\n",
    "        return self.X[key]\n",
    "    \n",
    "#-----------------------------------------------------------------------------------------------    \n",
    "class NotEqualLenError(Exception): # Make Error\n",
    "    pass\n",
    "\n",
    "class UnNormalizeError(Exception):\n",
    "    pass\n",
    "\n",
    "class ScaleError(Exception):\n",
    "    pass\n",
    "\n",
    "def Putlist(x,p):\n",
    "    \n",
    "    if len(x) == len(p):\n",
    "        return x, p\n",
    "    else:\n",
    "        raise NotEqualLenError()\n",
    "\n",
    "def PutProb(p):\n",
    "    \n",
    "    if p <= 1:\n",
    "        return p\n",
    "    else:\n",
    "        raise UnNormalizeError()\n",
    "        \n",
    "def Interval(a, n):\n",
    "    if len(a) == n:\n",
    "        return a\n",
    "    else:\n",
    "        raise ScaleError()\n",
    "#-----------------------------------------------------------------------------------------------        \n",
    "        \n",
    "class Statistic(object):\n",
    "    \n",
    "    def __init__(self, X, P):\n",
    "        try:\n",
    "            # Normalize Probability First\n",
    "            q = 0\n",
    "            T = []\n",
    "            for p in P:\n",
    "                q += p\n",
    "            for i in range(0,len(P)):\n",
    "                T.append(P[i]/q)\n",
    "            # Take variable & probability by putlist because of error\n",
    "            self.X, self.P = Putlist(X, T)\n",
    "            self.N = len(self.X)\n",
    "        except NotEqualLenError:\n",
    "            print \"Fit lengths of X and P\"\n",
    "   \n",
    "    def mean(self):\n",
    "        s = 0\n",
    "        for i in range(0,self.N):\n",
    "            s += self.X[i] * self.P[i]\n",
    "        return s\n",
    "    \n",
    "    def deviation(self):\n",
    "        T_x = []\n",
    "        for x in self.X:\n",
    "            T_x.append((x - self.mean()) ** 2)\n",
    "        t = Statistic(T_x, self.P)\n",
    "        return t.mean()\n",
    "    \n",
    "    def std(self):\n",
    "        q = self.deviation()\n",
    "        return (q) ** 0.5\n",
    "#-----------------------------------------------------------------------------------------------\n",
    "def Permutation(n,r):\n",
    "    n_f = 1\n",
    "    nr_f = 1\n",
    "    for i in range(1,n+1):\n",
    "        n_f *= i\n",
    "    for j in range(1,n-r+1):\n",
    "        nr_f *= j\n",
    "    return n_f / nr_f\n",
    "\n",
    "def Combination(n,r):\n",
    "    r_f = 1\n",
    "    for i in range(1,r+1):\n",
    "        r_f *= i\n",
    "    return Permutation(n,r) / r_f\n",
    "#-----------------------------------------------------------------------------------------------\n",
    "\n",
    "class BinaryDist(Statistic): # 이항분포\n",
    "    \n",
    "    def __init__(self, n, p):\n",
    "        try:\n",
    "            self.n = n\n",
    "            self.p = PutProb(p) # Normalize p\n",
    "            self.q = 1 - self.p\n",
    "            self.X = []\n",
    "            self.P = []\n",
    "            for r in range(0,self.n + 1):\n",
    "                self.X.append(r)\n",
    "                self.P.append(Combination(self.n, r) * self.p ** r * self.q ** (n-r))\n",
    "            self.N = len(self.X)\n",
    "        except UnNormalizeError:\n",
    "            print \"Input proper probability\"\n",
    "            \n",
    "    def __str__(self):\n",
    "        return \"B(%d, %.2f)\" % (self.n, self.p)\n",
    "\n",
    "#------------------------------------------------------------------------------------------------\n",
    "def MC_int(f, a, N=1000000):\n",
    "    try:\n",
    "        a = Interval(a, 2)\n",
    "        x_min = a[0]\n",
    "        x_max = a[1]\n",
    "        y_min = f(x_min)\n",
    "        y_max = f(x_max)\n",
    "        for i in range(N):\n",
    "            x = x_min + (x_max - x_min) * float(i) / N\n",
    "            y = f(x)\n",
    "            if y < y_min:\n",
    "                y_min = y\n",
    "            if y > y_max:\n",
    "                y_max = y\n",
    "        Area = (x_max - x_min) * (y_max - y_min)\n",
    "        count = 0\n",
    "        for j in range(N):\n",
    "            x = x_min + (x_max - x_min) * random.uniform(0,1)\n",
    "            y = y_min + (y_max - y_min) * random.uniform(0,1)\n",
    "            if math.fabs(y) <= math.fabs(f(x)):\n",
    "                if f(x) > 0 and y > 0 and y <= f(x): # Over x-axis\n",
    "                    count += 1\n",
    "                if f(x) < 0 and y < 0 and y >= f(x): # Under x-axis\n",
    "                    count -= 1\n",
    "        return Area * float(count) / N\n",
    "    except ScaleError:\n",
    "        print \"Incompatible Length of Interval\"\n",
    "        \n",
    "def Nintegration(f, x): # Apply Simpson's Rule\n",
    "    try:\n",
    "        x = Interval(x, 2)\n",
    "        a = float(x[0])\n",
    "        b = float(x[1])\n",
    "        N = 100000\n",
    "        h = (b - a) / N\n",
    "        s = f(a) + f(b)\n",
    "\n",
    "        for i in range(1, N, 2):\n",
    "            s += 4 * f(a + i * h)\n",
    "        for i in range(2, N-1, 2):\n",
    "            s += 2 * f(a + i * h)\n",
    "        return s * h / 3\n",
    "    except ScaleError:\n",
    "        print \"Input proper interval\"\n",
    "#-----------------------------------------------------------------------------------------------\n",
    "\n",
    "class NormalStatic(object): # 연속확률변수\n",
    "    \n",
    "    def __init__(self, f, x):\n",
    "        try:\n",
    "            x = Interval(x, 2) # dim 2 vector is only allowed\n",
    "            self.x = x\n",
    "            self.a = self.x[0]\n",
    "            self.b = self.x[1]\n",
    "            N = MC_int(f, self.x)\n",
    "            def h(x):\n",
    "                return float(f(x) / N)\n",
    "            self.f = h\n",
    "        except ScaleError:\n",
    "            print \"Input proper interval\"\n",
    "            \n",
    "    def mean(self):\n",
    "        def g(x):\n",
    "            return self.f(x) * x\n",
    "        return MC_int(g, self.x)\n",
    "    \n",
    "    def deviation(self):\n",
    "        m = self.mean()\n",
    "        def g(x):\n",
    "            return self.f(x) * x ** 2\n",
    "        return abs(MC_int(g, self.x) - m ** 2) # More simple method\n",
    "        \n",
    "    def std(self):\n",
    "        return (self.deviation()) ** 0.5\n",
    "    \n",
    "    def __str__(self):\n",
    "        return \"N(%.2f, %.2f^2)\" % (self.mean(), self.std())"
   ]
  },
  {
   "cell_type": "code",
   "execution_count": 6,
   "metadata": {
    "collapsed": false
   },
   "outputs": [],
   "source": [
    "from Statistic import *"
   ]
  },
  {
   "cell_type": "code",
   "execution_count": 7,
   "metadata": {
    "collapsed": false
   },
   "outputs": [],
   "source": [
    "X = [1, 2, 3, 4]\n",
    "P = [0.01, 0.02, 0.03, 0.04]"
   ]
  },
  {
   "cell_type": "code",
   "execution_count": 8,
   "metadata": {
    "collapsed": true
   },
   "outputs": [],
   "source": [
    "X = AxectList(X)\n",
    "P = AxectList(P)"
   ]
  },
  {
   "cell_type": "code",
   "execution_count": 9,
   "metadata": {
    "collapsed": false
   },
   "outputs": [
    {
     "name": "stdout",
     "output_type": "stream",
     "text": [
      "3.0 1.0 1.0\n"
     ]
    }
   ],
   "source": [
    "S = Statistic(X,P)\n",
    "print S.mean(), S.deviation(), S.std()"
   ]
  },
  {
   "cell_type": "code",
   "execution_count": 10,
   "metadata": {
    "collapsed": false
   },
   "outputs": [
    {
     "name": "stdout",
     "output_type": "stream",
     "text": [
      "[5, 7, 9, 11]\n",
      "9.0 4.0 2.0\n"
     ]
    }
   ],
   "source": [
    "Y = 2*X + 3\n",
    "print Y[:]\n",
    "S = Statistic(Y,P)\n",
    "print S.mean(), S.deviation(), S.std()"
   ]
  },
  {
   "cell_type": "code",
   "execution_count": 11,
   "metadata": {
    "collapsed": true
   },
   "outputs": [],
   "source": [
    "T = BinaryDist(100, 0.5)"
   ]
  },
  {
   "cell_type": "code",
   "execution_count": 12,
   "metadata": {
    "collapsed": false
   },
   "outputs": [
    {
     "name": "stdout",
     "output_type": "stream",
     "text": [
      "B(100, 0.50) 50.0 25.0 5.0\n"
     ]
    }
   ],
   "source": [
    "print T, T.mean(), T.deviation(), T.std()"
   ]
  },
  {
   "cell_type": "code",
   "execution_count": 13,
   "metadata": {
    "collapsed": true
   },
   "outputs": [],
   "source": [
    "def f(x):\n",
    "    return 2*x**2 + 3"
   ]
  },
  {
   "cell_type": "code",
   "execution_count": 14,
   "metadata": {
    "collapsed": false
   },
   "outputs": [],
   "source": [
    "N = NormalStatic(f, [0,3])"
   ]
  },
  {
   "cell_type": "code",
   "execution_count": 15,
   "metadata": {
    "collapsed": false
   },
   "outputs": [
    {
     "name": "stdout",
     "output_type": "stream",
     "text": [
      "N(3.00, 1.45^2)\n"
     ]
    }
   ],
   "source": [
    "print N"
   ]
  },
  {
   "cell_type": "code",
   "execution_count": 16,
   "metadata": {
    "collapsed": true
   },
   "outputs": [],
   "source": [
    "from math import exp, pi, sqrt"
   ]
  },
  {
   "cell_type": "code",
   "execution_count": 17,
   "metadata": {
    "collapsed": false
   },
   "outputs": [],
   "source": [
    "def S(x):\n",
    "    return 1.0 / ((2*pi) ** 0.5 ) * exp(- x ** 2 / 2)"
   ]
  },
  {
   "cell_type": "code",
   "execution_count": 18,
   "metadata": {
    "collapsed": false
   },
   "outputs": [],
   "source": [
    "P = NormalStatic(S,[-100000, 100000])"
   ]
  },
  {
   "cell_type": "code",
   "execution_count": 19,
   "metadata": {
    "collapsed": false
   },
   "outputs": [
    {
     "name": "stdout",
     "output_type": "stream",
     "text": [
      "N(-0.19, 1.17^2)\n"
     ]
    }
   ],
   "source": [
    "print P"
   ]
  },
  {
   "cell_type": "code",
   "execution_count": 20,
   "metadata": {
    "collapsed": false
   },
   "outputs": [
    {
     "data": {
      "text/plain": [
       "1.090088381339966"
      ]
     },
     "execution_count": 20,
     "metadata": {},
     "output_type": "execute_result"
    }
   ],
   "source": [
    "P.std()"
   ]
  },
  {
   "cell_type": "code",
   "execution_count": null,
   "metadata": {
    "collapsed": true
   },
   "outputs": [],
   "source": []
  }
 ],
 "metadata": {
  "kernelspec": {
   "display_name": "Python 2",
   "language": "python",
   "name": "python2"
  },
  "language_info": {
   "codemirror_mode": {
    "name": "ipython",
    "version": 2
   },
   "file_extension": ".py",
   "mimetype": "text/x-python",
   "name": "python",
   "nbconvert_exporter": "python",
   "pygments_lexer": "ipython2",
   "version": "2.7.12"
  }
 },
 "nbformat": 4,
 "nbformat_minor": 1
}
