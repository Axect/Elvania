{
 "cells": [
  {
   "cell_type": "markdown",
   "metadata": {},
   "source": [
    "# Test"
   ]
  },
  {
   "cell_type": "code",
   "execution_count": 1,
   "metadata": {
    "collapsed": true
   },
   "outputs": [],
   "source": [
    "from sympy import *\n",
    "from gravipy import *"
   ]
  },
  {
   "cell_type": "code",
   "execution_count": 2,
   "metadata": {
    "collapsed": true
   },
   "outputs": [],
   "source": [
    "x,y,z = symbols('x y z')\n",
    "t, r, theta, phi = symbols('t r \\\\theta \\phi')"
   ]
  },
  {
   "cell_type": "code",
   "execution_count": 3,
   "metadata": {
    "collapsed": true
   },
   "outputs": [],
   "source": [
    "x = Coordinates('\\chi', [t,r,theta,phi])"
   ]
  },
  {
   "cell_type": "code",
   "execution_count": 4,
   "metadata": {
    "collapsed": false
   },
   "outputs": [
    {
     "data": {
      "text/plain": [
       "<gravipy.tensorial.Coordinates at 0x7f4c24e4b310>"
      ]
     },
     "execution_count": 4,
     "metadata": {},
     "output_type": "execute_result"
    }
   ],
   "source": [
    "x"
   ]
  },
  {
   "cell_type": "code",
   "execution_count": 5,
   "metadata": {
    "collapsed": false
   },
   "outputs": [
    {
     "data": {
      "text/plain": [
       "t"
      ]
     },
     "execution_count": 5,
     "metadata": {},
     "output_type": "execute_result"
    }
   ],
   "source": [
    "x(-1)"
   ]
  },
  {
   "cell_type": "code",
   "execution_count": 6,
   "metadata": {
    "collapsed": false
   },
   "outputs": [
    {
     "data": {
      "text/plain": [
       "Matrix([[t, r, \\theta, \\phi]])"
      ]
     },
     "execution_count": 6,
     "metadata": {},
     "output_type": "execute_result"
    }
   ],
   "source": [
    "x(-All)"
   ]
  },
  {
   "cell_type": "code",
   "execution_count": 7,
   "metadata": {
    "collapsed": false
   },
   "outputs": [
    {
     "data": {
      "text/plain": [
       "r"
      ]
     },
     "execution_count": 7,
     "metadata": {},
     "output_type": "execute_result"
    }
   ],
   "source": [
    "x(-2)"
   ]
  },
  {
   "cell_type": "code",
   "execution_count": 8,
   "metadata": {
    "collapsed": true
   },
   "outputs": [],
   "source": [
    "M = Symbol('M')"
   ]
  },
  {
   "cell_type": "code",
   "execution_count": 9,
   "metadata": {
    "collapsed": false
   },
   "outputs": [],
   "source": [
    "Metric = diag(-(1-2*M/r), 1/(1-2*M/r),r**2,r**2*sin(theta)**2)"
   ]
  },
  {
   "cell_type": "code",
   "execution_count": 10,
   "metadata": {
    "collapsed": true
   },
   "outputs": [],
   "source": [
    "g = MetricTensor('g', x, Metric)"
   ]
  },
  {
   "cell_type": "code",
   "execution_count": 11,
   "metadata": {
    "collapsed": false
   },
   "outputs": [
    {
     "data": {
      "text/plain": [
       "2*M/r - 1"
      ]
     },
     "execution_count": 11,
     "metadata": {},
     "output_type": "execute_result"
    }
   ],
   "source": [
    "g(1,1)"
   ]
  },
  {
   "cell_type": "code",
   "execution_count": 12,
   "metadata": {
    "collapsed": false
   },
   "outputs": [
    {
     "data": {
      "text/plain": [
       "Matrix([[t*(2*M/r - 1), r/(-2*M/r + 1), \\theta*r**2, \\phi*r**2*sin(\\theta)**2]])"
      ]
     },
     "execution_count": 12,
     "metadata": {},
     "output_type": "execute_result"
    }
   ],
   "source": [
    "x(--All)"
   ]
  },
  {
   "cell_type": "code",
   "execution_count": 13,
   "metadata": {
    "collapsed": false
   },
   "outputs": [
    {
     "data": {
      "text/plain": [
       "Matrix([\n",
       "[2*M/r - 1,              0,    0,                   0],\n",
       "[        0, 1/(-2*M/r + 1),    0,                   0],\n",
       "[        0,              0, r**2,                   0],\n",
       "[        0,              0,    0, r**2*sin(\\theta)**2]])"
      ]
     },
     "execution_count": 13,
     "metadata": {},
     "output_type": "execute_result"
    }
   ],
   "source": [
    "g(All,All)"
   ]
  },
  {
   "cell_type": "code",
   "execution_count": 14,
   "metadata": {
    "collapsed": true
   },
   "outputs": [],
   "source": [
    "Ga = Christoffel('Ga', g)"
   ]
  },
  {
   "cell_type": "code",
   "execution_count": 17,
   "metadata": {
    "collapsed": false
   },
   "outputs": [],
   "source": [
    "Ri = ('Ri', g)"
   ]
  },
  {
   "cell_type": "code",
   "execution_count": 19,
   "metadata": {
    "collapsed": false
   },
   "outputs": [
    {
     "data": {
      "text/plain": [
       "{}"
      ]
     },
     "execution_count": 19,
     "metadata": {},
     "output_type": "execute_result"
    }
   ],
   "source": [
    "Ga.components"
   ]
  },
  {
   "cell_type": "code",
   "execution_count": 20,
   "metadata": {
    "collapsed": true
   },
   "outputs": [],
   "source": [
    "Rm = Riemann('Rm', g)"
   ]
  },
  {
   "cell_type": "code",
   "execution_count": 21,
   "metadata": {
    "collapsed": true
   },
   "outputs": [],
   "source": [
    "ricci = sum([Rm(i, All, k, All)*g(-i, -k) for i, k in list(variations(range(1, 5), 2, True))], zeros(4))"
   ]
  },
  {
   "cell_type": "code",
   "execution_count": 22,
   "metadata": {
    "collapsed": true
   },
   "outputs": [],
   "source": [
    "ricci.simplify()"
   ]
  },
  {
   "cell_type": "code",
   "execution_count": 23,
   "metadata": {
    "collapsed": false
   },
   "outputs": [
    {
     "data": {
      "text/plain": [
       "Matrix([\n",
       "[0, 0, 0, 0],\n",
       "[0, 0, 0, 0],\n",
       "[0, 0, 0, 0],\n",
       "[0, 0, 0, 0]])"
      ]
     },
     "execution_count": 23,
     "metadata": {},
     "output_type": "execute_result"
    }
   ],
   "source": [
    "ricci"
   ]
  },
  {
   "cell_type": "code",
   "execution_count": 25,
   "metadata": {
    "collapsed": false
   },
   "outputs": [
    {
     "data": {
      "text/plain": [
       "Matrix([\n",
       "[                                                                                                                                                                                                                                                            Matrix([\n",
       "[0, 0, 0, 0],\n",
       "[0, 0, 0, 0],\n",
       "[0, 0, 0, 0],\n",
       "[0, 0, 0, 0]]),                                                                                                                                                 Matrix([\n",
       "[       0, -2*M/r**3, 0, 0],\n",
       "[2*M/r**3,         0, 0, 0],\n",
       "[       0,         0, 0, 0],\n",
       "[       0,         0, 0, 0]]),                         Matrix([\n",
       "[                 0, 0, M*(-2*M + r)/r**2, 0],\n",
       "[                 0, 0,                 0, 0],\n",
       "[-M*(-2*M + r)/r**2, 0,                 0, 0],\n",
       "[                 0, 0,                 0, 0]]), Matrix([\n",
       "[                                0, 0, 0, M*(-2*M + r)*sin(\\theta)**2/r**2],\n",
       "[                                0, 0, 0,                                0],\n",
       "[                                0, 0, 0,                                0],\n",
       "[-M*(-2*M + r)*sin(\\theta)**2/r**2, 0, 0,                                0]])],\n",
       "[                                                                                                                                                                                                Matrix([\n",
       "[        0, 2*M/r**3, 0, 0],\n",
       "[-2*M/r**3,        0, 0, 0],\n",
       "[        0,        0, 0, 0],\n",
       "[        0,        0, 0, 0]]),                                                                                                                                                                                                             Matrix([\n",
       "[0, 0, 0, 0],\n",
       "[0, 0, 0, 0],\n",
       "[0, 0, 0, 0],\n",
       "[0, 0, 0, 0]]),                                                                         Matrix([\n",
       "[0,            0,           0, 0],\n",
       "[0,            0, M/(2*M - r), 0],\n",
       "[0, -M/(2*M - r),           0, 0],\n",
       "[0,            0,           0, 0]]),                                                 Matrix([\n",
       "[0,                           0, 0,                          0],\n",
       "[0,                           0, 0, M*sin(\\theta)**2/(2*M - r)],\n",
       "[0,                           0, 0,                          0],\n",
       "[0, -M*sin(\\theta)**2/(2*M - r), 0,                          0]])],\n",
       "[                                                                                                                        Matrix([\n",
       "[                0, 0, -M*(-2*M + r)/r**2, 0],\n",
       "[                0, 0,                  0, 0],\n",
       "[M*(-2*M + r)/r**2, 0,                  0, 0],\n",
       "[                0, 0,                  0, 0]]),                                                                                                                         Matrix([\n",
       "[0,           0,            0, 0],\n",
       "[0,           0, -M/(2*M - r), 0],\n",
       "[0, M/(2*M - r),            0, 0],\n",
       "[0,           0,            0, 0]]),                                                                                                                                                             Matrix([\n",
       "[0, 0, 0, 0],\n",
       "[0, 0, 0, 0],\n",
       "[0, 0, 0, 0],\n",
       "[0, 0, 0, 0]]),                                                                                                 Matrix([\n",
       "[0, 0,                     0,                    0],\n",
       "[0, 0,                     0,                    0],\n",
       "[0, 0,                     0, 2*M*r*sin(\\theta)**2],\n",
       "[0, 0, -2*M*r*sin(\\theta)**2,                    0]])],\n",
       "[Matrix([\n",
       "[                               0, 0, 0, -M*(-2*M + r)*sin(\\theta)**2/r**2],\n",
       "[                               0, 0, 0,                                 0],\n",
       "[                               0, 0, 0,                                 0],\n",
       "[M*(-2*M + r)*sin(\\theta)**2/r**2, 0, 0,                                 0]]), Matrix([\n",
       "[0,                          0, 0,                           0],\n",
       "[0,                          0, 0, -M*sin(\\theta)**2/(2*M - r)],\n",
       "[0,                          0, 0,                           0],\n",
       "[0, M*sin(\\theta)**2/(2*M - r), 0,                           0]]), Matrix([\n",
       "[0, 0,                    0,                     0],\n",
       "[0, 0,                    0,                     0],\n",
       "[0, 0,                    0, -2*M*r*sin(\\theta)**2],\n",
       "[0, 0, 2*M*r*sin(\\theta)**2,                     0]]),                                                                                                                                                                                                                                                             Matrix([\n",
       "[0, 0, 0, 0],\n",
       "[0, 0, 0, 0],\n",
       "[0, 0, 0, 0],\n",
       "[0, 0, 0, 0]])]])"
      ]
     },
     "execution_count": 25,
     "metadata": {},
     "output_type": "execute_result"
    }
   ],
   "source": [
    "Rm(All, All, All, All)"
   ]
  },
  {
   "cell_type": "code",
   "execution_count": null,
   "metadata": {
    "collapsed": true
   },
   "outputs": [],
   "source": []
  }
 ],
 "metadata": {
  "kernelspec": {
   "display_name": "Python 2",
   "language": "python",
   "name": "python2"
  },
  "language_info": {
   "codemirror_mode": {
    "name": "ipython",
    "version": 2
   },
   "file_extension": ".py",
   "mimetype": "text/x-python",
   "name": "python",
   "nbconvert_exporter": "python",
   "pygments_lexer": "ipython2",
   "version": "2.7.12"
  }
 },
 "nbformat": 4,
 "nbformat_minor": 1
}
