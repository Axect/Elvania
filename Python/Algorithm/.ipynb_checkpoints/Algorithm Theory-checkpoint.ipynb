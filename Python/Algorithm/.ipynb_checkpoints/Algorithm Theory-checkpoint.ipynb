{
 "cells": [
  {
   "cell_type": "markdown",
   "metadata": {},
   "source": [
    "# Sort"
   ]
  },
  {
   "cell_type": "markdown",
   "metadata": {},
   "source": [
    "## Insertion Sort "
   ]
  },
  {
   "cell_type": "markdown",
   "metadata": {},
   "source": [
    "* Not fast, but simple & Don't need additional memory"
   ]
  },
  {
   "cell_type": "code",
   "execution_count": 1,
   "metadata": {
    "collapsed": true
   },
   "outputs": [],
   "source": [
    "def insertion_sort(A):\n",
    "    for i in xrange(1, len(A)):\n",
    "        for j in xrange(i, 0, -1):\n",
    "            if A[j] < A[j-1]:\n",
    "                A[j], A[j-1] = A[j-1], A[j]\n",
    "            else:\n",
    "                break"
   ]
  },
  {
   "cell_type": "code",
   "execution_count": 2,
   "metadata": {
    "collapsed": true
   },
   "outputs": [],
   "source": [
    "import random\n",
    "a = [random.randint(0,100) for k in xrange(20)]"
   ]
  },
  {
   "cell_type": "code",
   "execution_count": 3,
   "metadata": {
    "collapsed": true
   },
   "outputs": [],
   "source": [
    "insertion_sort(a)"
   ]
  },
  {
   "cell_type": "code",
   "execution_count": 4,
   "metadata": {
    "collapsed": false
   },
   "outputs": [
    {
     "name": "stdout",
     "output_type": "stream",
     "text": [
      "[0, 4, 14, 20, 22, 24, 31, 47, 59, 61, 62, 67, 70, 74, 78, 85, 87, 89, 96, 98]\n"
     ]
    }
   ],
   "source": [
    "print a"
   ]
  },
  {
   "cell_type": "markdown",
   "metadata": {},
   "source": [
    "## Merge Sort "
   ]
  },
  {
   "cell_type": "markdown",
   "metadata": {},
   "source": [
    "* Fast (invented by von Neumann)"
   ]
  },
  {
   "cell_type": "code",
   "execution_count": 5,
   "metadata": {
    "collapsed": true
   },
   "outputs": [],
   "source": [
    "def mergesort(A, p = 0, r = None):\n",
    "    \n",
    "    if r is None:\n",
    "        r = len(A)\n",
    "    \n",
    "    if p < r - 1:\n",
    "        q = int((p + r) / 2)\n",
    "        mergesort(A, p, q)\n",
    "        mergesort(A, q, r)\n",
    "        merge(A, p, q, r)\n",
    "        \n",
    "def merge(A, p, q, r):\n",
    "    B, i, j = [], p, q\n",
    "    while True:\n",
    "        if A[i] <= A[j]:\n",
    "            B.append(A[i])\n",
    "            i = i + 1\n",
    "        else:\n",
    "            B.append(A[j])\n",
    "            j = j + 1\n",
    "        if i == q:\n",
    "            while j < r:\n",
    "                B.append(A[j])\n",
    "                j = j + 1\n",
    "            break\n",
    "        if j == r:\n",
    "            while i < q:\n",
    "                B.append(A[i])\n",
    "                i = i + 1\n",
    "            break\n",
    "    A[p:r] = B"
   ]
  },
  {
   "cell_type": "code",
   "execution_count": 8,
   "metadata": {
    "collapsed": true
   },
   "outputs": [],
   "source": [
    "a = [random.randint(0,100) for k in xrange(20)]"
   ]
  },
  {
   "cell_type": "code",
   "execution_count": 9,
   "metadata": {
    "collapsed": true
   },
   "outputs": [],
   "source": [
    "mergesort(a)"
   ]
  },
  {
   "cell_type": "code",
   "execution_count": 10,
   "metadata": {
    "collapsed": false
   },
   "outputs": [
    {
     "name": "stdout",
     "output_type": "stream",
     "text": [
      "[7, 18, 23, 29, 40, 48, 50, 50, 52, 60, 62, 62, 65, 66, 69, 71, 74, 84, 88, 100]\n"
     ]
    }
   ],
   "source": [
    "print a"
   ]
  },
  {
   "cell_type": "markdown",
   "metadata": {},
   "source": [
    "# Memoization"
   ]
  },
  {
   "cell_type": "markdown",
   "metadata": {},
   "source": [
    "## Divide & Conquer (분할정복)"
   ]
  },
  {
   "cell_type": "markdown",
   "metadata": {},
   "source": [
    "* 문제를 작게 나누고, 독립적으로 푼 후 합쳐서 최종해를 얻는다. (Merge sort가 대표적인 예) \n",
    "* Memoization을 사용하면 분할 정복 접근법으로 알고리즘을 작성할 수 있다."
   ]
  },
  {
   "cell_type": "markdown",
   "metadata": {},
   "source": [
    "### Fibonacci Example"
   ]
  },
  {
   "cell_type": "code",
   "execution_count": 17,
   "metadata": {
    "collapsed": true
   },
   "outputs": [],
   "source": [
    "def fib(n):\n",
    "    return n if n < 2 else fib(n-1) + fib(n-2)"
   ]
  },
  {
   "cell_type": "code",
   "execution_count": 18,
   "metadata": {
    "collapsed": false
   },
   "outputs": [
    {
     "data": {
      "text/plain": [
       "55"
      ]
     },
     "execution_count": 18,
     "metadata": {},
     "output_type": "execute_result"
    }
   ],
   "source": [
    "fib(10)"
   ]
  },
  {
   "cell_type": "code",
   "execution_count": 13,
   "metadata": {
    "collapsed": true
   },
   "outputs": [],
   "source": [
    "class memoize(object):\n",
    "    \n",
    "    def __init__(self, f):\n",
    "        self.f = f\n",
    "        self.storage = {}\n",
    "    \n",
    "    def __call__(self, *args, **kwargs):\n",
    "        key = str((self.f.__name__, args, kwargs))\n",
    "        try:\n",
    "            value = self.storage[key]\n",
    "        except KeyError:\n",
    "            value = self.f(*args, **kwargs)\n",
    "            self.storage[key] = value\n",
    "        return value"
   ]
  },
  {
   "cell_type": "code",
   "execution_count": 16,
   "metadata": {
    "collapsed": true
   },
   "outputs": [],
   "source": [
    "@memoize # decorator (memoize의 __call__로 fib함수를 대체)\n",
    "def fib(n):\n",
    "    return n if n < 2 else fib(n-1) + fib(n-2)"
   ]
  },
  {
   "cell_type": "code",
   "execution_count": 15,
   "metadata": {
    "collapsed": false
   },
   "outputs": [
    {
     "name": "stdout",
     "output_type": "stream",
     "text": [
      "89\n"
     ]
    }
   ],
   "source": [
    "print fib(11)"
   ]
  },
  {
   "cell_type": "code",
   "execution_count": 19,
   "metadata": {
    "collapsed": true
   },
   "outputs": [],
   "source": [
    "def timef(f, ns = 1000, dt = 60):\n",
    "    import time\n",
    "    t = t0 = time.time()\n",
    "    for k in xrange(1, ns):\n",
    "        f()\n",
    "        t = time.time()\n",
    "        if t - t0 > dt:\n",
    "            break\n",
    "    return (t - t0) / k"
   ]
  },
  {
   "cell_type": "code",
   "execution_count": 20,
   "metadata": {
    "collapsed": false
   },
   "outputs": [
    {
     "name": "stdout",
     "output_type": "stream",
     "text": [
      "15 0.000264921942511\n",
      "16 0.000304831876172\n",
      "17 0.000487222089185\n",
      "18 0.000751625668179\n",
      "19 0.00122352548548\n"
     ]
    }
   ],
   "source": [
    "def fib(n):\n",
    "    return n if n < 2 else fib(n-1) + fib(n-2)\n",
    "for k in range(15, 20):\n",
    "    print k, timef(lambda: fib(k))"
   ]
  },
  {
   "cell_type": "code",
   "execution_count": 22,
   "metadata": {
    "collapsed": false
   },
   "outputs": [
    {
     "name": "stdout",
     "output_type": "stream",
     "text": [
      " 15 3.13022831181e-06\n",
      "16 2.26032268536e-06\n",
      "17 2.26724374521e-06\n",
      "18 2.25912939917e-06\n",
      "19 2.67558627658e-06\n"
     ]
    }
   ],
   "source": [
    "@memoize\n",
    "def fib(n):\n",
    "    return n if n < 2 else fib(n-1) + fib(n-2)\n",
    "for k in range(15, 20):\n",
    "    print k, timef(lambda: fib(k))"
   ]
  },
  {
   "cell_type": "markdown",
   "metadata": {},
   "source": [
    "# 유전 알고리즘 "
   ]
  },
  {
   "cell_type": "code",
   "execution_count": 23,
   "metadata": {
    "collapsed": true
   },
   "outputs": [],
   "source": [
    "from random import randint, choice\n",
    "\n",
    "class Chromosome:\n",
    "    alphabet = 'ATGC'\n",
    "    size = 32\n",
    "    mutations = 2\n",
    "    \n",
    "    def __init__(self, father = None, mother = None):\n",
    "        if not father or not mother:\n",
    "            self.dna = [choice(self.alphabet) for i in xrange(self.size)]\n",
    "        else:\n",
    "            self.dna = father.dna[:self.size / 2] + mother.dna[self.size / 2:]\n",
    "            for mutation in xrange(self.mutations):\n",
    "                self.dna[randint(0, self.size - 1)] = choice(self.alphabet)\n",
    "    \n",
    "    def fitness(self, target):\n",
    "        return sum(1 for i, c in enumerate(self.dna) if c == target.dna[i])"
   ]
  },
  {
   "cell_type": "code",
   "execution_count": null,
   "metadata": {
    "collapsed": true
   },
   "outputs": [],
   "source": []
  }
 ],
 "metadata": {
  "kernelspec": {
   "display_name": "Python 2",
   "language": "python",
   "name": "python2"
  },
  "language_info": {
   "codemirror_mode": {
    "name": "ipython",
    "version": 2
   },
   "file_extension": ".py",
   "mimetype": "text/x-python",
   "name": "python",
   "nbconvert_exporter": "python",
   "pygments_lexer": "ipython2",
   "version": "2.7.10"
  }
 },
 "nbformat": 4,
 "nbformat_minor": 0
}
