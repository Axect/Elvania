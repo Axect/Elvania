{
 "cells": [
  {
   "cell_type": "markdown",
   "metadata": {},
   "source": [
    "# Special Method & Overload "
   ]
  },
  {
   "cell_type": "code",
   "execution_count": 1,
   "metadata": {
    "collapsed": true
   },
   "outputs": [],
   "source": [
    "class Mylist(object):\n",
    "    \n",
    "    def __init__(self, *a): # extra input -> make list\n",
    "        self.a = list(a)\n",
    "    \n",
    "    def __len__(self): # Take length of list\n",
    "        return len(self.a)\n",
    "    \n",
    "    def __setitem__(self, key, value): # instance[key] = value then save instance.a[key] = 2 * value\n",
    "        self.a[key] = 2*value\n",
    "        \n",
    "    def __getitem__(self, key): # instance[key] = 2 * self.a[key]\n",
    "        return 3 * self.a[key]"
   ]
  },
  {
   "cell_type": "code",
   "execution_count": 2,
   "metadata": {
    "collapsed": false
   },
   "outputs": [
    {
     "name": "stdout",
     "output_type": "stream",
     "text": [
      "[1, 2, 3, 4]\n",
      "2\n",
      "6\n"
     ]
    }
   ],
   "source": [
    "b = Mylist(1, 2, 3, 4)\n",
    "print b.a\n",
    "print b.a[1]\n",
    "print b[1]"
   ]
  },
  {
   "cell_type": "code",
   "execution_count": 35,
   "metadata": {
    "collapsed": false
   },
   "outputs": [
    {
     "name": "stdout",
     "output_type": "stream",
     "text": [
      "[1, 7, 3, 4]\n",
      "7\n",
      "14\n"
     ]
    }
   ],
   "source": [
    "b.a[1] = 7\n",
    "print b.a\n",
    "print b.a[1]\n",
    "print b[1]"
   ]
  },
  {
   "cell_type": "code",
   "execution_count": 3,
   "metadata": {
    "collapsed": false
   },
   "outputs": [
    {
     "name": "stdout",
     "output_type": "stream",
     "text": [
      "[4, 2, 3, 4]\n",
      "4\n",
      "12\n"
     ]
    }
   ],
   "source": [
    "b[0] = 2\n",
    "print b.a\n",
    "print b.a[0]\n",
    "print b[0]"
   ]
  },
  {
   "cell_type": "markdown",
   "metadata": {},
   "source": [
    "# Financial Transaction "
   ]
  },
  {
   "cell_type": "code",
   "execution_count": 76,
   "metadata": {
    "collapsed": true
   },
   "outputs": [],
   "source": [
    "from datetime import date\n",
    "from math import exp\n",
    "\n",
    "today = date.today()\n",
    "r_free = 0.05 / 365.0\n",
    "\n",
    "class FinancialTransaction(object):\n",
    "    \n",
    "    def __init__(self, t, a, description = ''):\n",
    "        self.t = t\n",
    "        self.a = a\n",
    "        self.description = description\n",
    "    \n",
    "    def pv(self, t0 = today, r = r_free):\n",
    "        # date 생성자는 연도, 월, 날짜를 갖고있음. days는 일수를 불러옴.\n",
    "        # t일 후에 발생하는 거래에서 self.a의 현재 매입 가치. t가 크면 클수록 줄어듬\n",
    "        return self.a * exp(r * (t0 - self.t).days) "
   ]
  },
  {
   "cell_type": "code",
   "execution_count": 77,
   "metadata": {
    "collapsed": true
   },
   "outputs": [],
   "source": [
    "class CashFlow(object):\n",
    "    \n",
    "    def __init__(self):\n",
    "        self.transactions = []\n",
    "        \n",
    "    def add(self, transaction):\n",
    "        self.transactions.append(transaction) # 이때, transaction은 FinancialTransaction이 instance를 넣을 것임.\n",
    "    \n",
    "    def pv(self, t0, r = r_free):\n",
    "        # self.transactions에 들어있는 모든 transaction의 현재매입가치를 합산한다.\n",
    "        return sum(x.pv(t0, r) for x in self.transactions) # x는 FinancialTransaction의 instance.\n",
    "    \n",
    "    def __getitem__(self, key):\n",
    "        return self.transactions[key]"
   ]
  },
  {
   "cell_type": "code",
   "execution_count": 78,
   "metadata": {
    "collapsed": true
   },
   "outputs": [],
   "source": [
    "bond = CashFlow()\n",
    "today = date(2012, 1, 1)"
   ]
  },
  {
   "cell_type": "code",
   "execution_count": 79,
   "metadata": {
    "collapsed": false
   },
   "outputs": [
    {
     "name": "stdout",
     "output_type": "stream",
     "text": [
      "22827.0\n"
     ]
    }
   ],
   "source": [
    "for year in range(2012, 2014):\n",
    "    for month in range(1, 13):\n",
    "        coupon = FinancialTransaction(date(year, month, 20), 1000) # 매월 20일 1000달러 지급 채권.\n",
    "        bond.add(coupon) # 매월마다 나오는 채권을 bond에 추가.\n",
    "\n",
    "print round(bond.pv(today, r = 0.05 / 365), 0) # 즉, 2년간 매월 20일 발행되는 채권들의 현재 매입 가치."
   ]
  },
  {
   "cell_type": "markdown",
   "metadata": {},
   "source": [
    "* 따라서 1000달러씩 24개월은 원래 24000원이지만 연이율 5%이므로 현재 매입가치는 22827원이 된다. "
   ]
  },
  {
   "cell_type": "markdown",
   "metadata": {},
   "source": [
    "# URLlib & JSON"
   ]
  },
  {
   "cell_type": "code",
   "execution_count": 80,
   "metadata": {
    "collapsed": true
   },
   "outputs": [],
   "source": [
    "import urllib\n",
    "page = urllib.urlopen('http://www.google.com')\n",
    "html = page.read()"
   ]
  },
  {
   "cell_type": "code",
   "execution_count": 81,
   "metadata": {
    "collapsed": false
   },
   "outputs": [
    {
     "data": {
      "text/plain": [
       "'<!doctype html><html itemscope=\"\" itemtype=\"http://schema.org/WebPage\" lang=\"ko\"><head><meta content=\"text/html; charset=UTF-8\" http-equiv=\"Content-Type\"><meta content=\"/images/branding/googleg/1x/googleg_standard_color_128dp.png\" itemprop=\"image\"><title>Google</title><script>(function(){window.google={kEI:\\'8wG9V6SNBIbK0gTwyIKABw\\',kEXPI:\\'1351569,3700321,3700389,4029815,4031109,4032677,4036509,4036527,4038012,4039268,4041303,4043492,4045841,4048347,4052304,4061155,4062706,4063879,4064815,4065787,4065793,4066654,4066708,4067175,4067342,4068471,4068550,4068816,4068844,4069838,4069841,4069906,4070060,4070127,4070142,4070316,4070329,4070454,4070598,4070816,4071231,4071577,4071604,4071842,4072000,4072213,4072289,4072364,4072377,4072624,4072654,4072682,4072776,4073114,4073229,4073405,4073409,4073452,4073889,4073945,4073959,4073978,4074349,4074801,4075121,4075781,4075860,4075966,4075974,4076018,4076096,4076116,4076743,4077221,4077280,8300272,8502184,8503585,8504845,8504930,8505127,8505150,8505152,8505585,8505677,8506544,10200083,10201956\\',authuser:0,kscs:\\'c9c918f0_24\\'};google.kHL=\\'ko\\';})();(function(){google.lc=[];google.li=0;google.getEI=function(a){for(var b;a&&(!a.getAttribute||!(b=a.getAttribute(\"eid\")));)a=a.parentNode;return b||google.kEI};google.getLEI=function(a){for(var b=null;a&&(!a.getAttribute||!(b=a.getAttribute(\"leid\")));)a=a.parentNode;return b};google.https=function(){return\"https:\"==window.location.protocol};google.ml=function(){return null};google.wl=function(a,b){try{google.ml(Error(a),!1,b)}catch(c){}};google.time=function(){return(new Date).getTime()};google.log=function(a,b,c,e,g){a=google.logUrl(a,b,c,e,g);if(\"\"!=a){b=new Image;var d=google.lc,f=google.li;d[f]=b;b.onerror=b.onload=b.onabort=function(){delete d[f]};window.google&&window.google.vel&&window.google.vel.lu&&window.google.vel.lu(a);b.src=a;google.li=f+1}};google.logUrl=function(a,b,c,e,g){var d=\"\",f=google.ls||\"\";if(!c&&-1==b.search(\"&ei=\")){var h=google.getEI(e),d=\"&ei=\"+h;-1==b.search(\"&lei=\")&&((e=google.getLEI(e))?d+=\"&lei=\"+e:h!=google.kEI&&(d+=\"&lei=\"+google.kEI))}a=c||\"/\"+(g||\"gen_204\")+\"?atyp=i&ct=\"+a+\"&cad=\"+b+d+f+\"&zx=\"+google.time();/^http:/i.test(a)&&google.https()&&(google.ml(Error(\"a\"),!1,{src:a,glmm:1}),a=\"\");return a};google.y={};google.x=function(a,b){google.y[a.id]=[a,b];return!1};google.load=function(a,b,c){google.x({id:a+k++},function(){google.load(a,b,c)})};var k=0;})();var _gjwl=location;function _gjuc(){var a=_gjwl.href.indexOf(\"#\");if(0<=a&&(a=_gjwl.href.substring(a),0<a.indexOf(\"&q=\")||0<=a.indexOf(\"#q=\"))&&(a=a.substring(1),-1==a.indexOf(\"#\"))){for(var d=0;d<a.length;){var b=d;\"&\"==a.charAt(b)&&++b;var c=a.indexOf(\"&\",b);-1==c&&(c=a.length);b=a.substring(b,c);if(0==b.indexOf(\"fp=\"))a=a.substring(0,d)+a.substring(c,a.length),c=d;else if(\"cad=h\"==b)return 0;d=c}_gjwl.href=\"/search?\"+a+\"&cad=h\";return 1}return 0}\\nfunction _gjh(){!_gjuc()&&window.google&&google.x&&google.x({id:\"GJH\"},function(){google.nav&&google.nav.gjh&&google.nav.gjh()})};window._gjh&&_gjh();</script><style>#gbar,#guser{font-size:13px;padding-top:1px !important;}#gbar{height:22px}#guser{padding-bottom:7px !important;text-align:right}.gbh,.gbd{border-top:1px solid #c9d7f1;font-size:1px}.gbh{height:0;position:absolute;top:24px;width:100%}@media all{.gb1{height:22px;margin-right:.5em;vertical-align:top}#gbar{float:left}}a.gb1,a.gb4{text-decoration:underline !important}a.gb1,a.gb4{color:#00c !important}.gbi .gb4{color:#dd8e27 !important}.gbf .gb4{color:#900 !important}\\n</style><style>body,td,a,p,.h{font-family:\\xb1\\xbc\\xb8\\xb2,\\xb5\\xb8\\xbf\\xf2,arial,sans-serif}.ko{font-size:9pt}body{margin:0;overflow-y:scroll}#gog{padding:3px 8px 0}td{line-height:.8em}.gac_m td{line-height:17px}form{margin-bottom:20px}.h{color:#36c}.q{color:#00c}.ts td{padding:0}.ts{border-collapse:collapse}em{font-weight:bold;font-style:normal}.lst{height:25px;width:496px}.gsfi,.lst{font:18px arial,sans-serif}.gsfs{font:17px arial,sans-serif}.ds{display:inline-box;display:inline-block;margin:3px 0 4px;margin-left:4px}input{font-family:inherit}a.gb1,a.gb2,a.gb3,a.gb4{color:#11c !important}body{background:#fff;color:black}a{color:#11c;text-decoration:none}a:hover,a:active{text-decoration:underline}.fl a{color:#36c}a:visited{color:#551a8b}a.gb1,a.gb4{text-decoration:underline}a.gb3:hover{text-decoration:none}#ghead a.gb2:hover{color:#fff !important}.sblc{padding-top:5px}.sblc a{display:block;margin:2px 0;margin-left:13px;font-size:11px}.lsbb{background:#eee;border:solid 1px;border-color:#ccc #999 #999 #ccc;height:30px}.lsbb{display:block}.ftl,#fll a{display:inline-block;margin:0 12px}.lsb{background:url(/images/nav_logo229.png) 0 -261px repeat-x;border:none;color:#000;cursor:pointer;height:30px;margin:0;outline:0;font:15px arial,sans-serif;vertical-align:top}.lsb:active{background:#ccc}.lst:focus{outline:none}.tiah{width:458px}</style><script></script><link href=\"/images/branding/product/ico/googleg_lodp.ico\" rel=\"shortcut icon\"></head><body bgcolor=\"#fff\"><script>(function(){var src=\\'/images/nav_logo229.png\\';var iesg=false;document.body.onload = function(){window.n && window.n();if (document.images){new Image().src=src;}\\nif (!iesg){document.f&&document.f.q.focus();document.gbqf&&document.gbqf.q.focus();}\\n}\\n})();</script><div id=\"mngb\">    <div id=gbar><nobr><b class=gb1>\\xb0\\xcb\\xbb\\xf6</b> <a class=gb1 href=\"http://www.google.co.kr/imghp?hl=ko&tab=wi\">\\xc0\\xcc\\xb9\\xcc\\xc1\\xf6</a> <a class=gb1 href=\"http://maps.google.co.kr/maps?hl=ko&tab=wl\">\\xc1\\xf6\\xb5\\xb5</a> <a class=gb1 href=\"https://play.google.com/?hl=ko&tab=w8\">Play</a> <a class=gb1 href=\"http://www.youtube.com/?gl=KR&tab=w1\">YouTube</a> <a class=gb1 href=\"http://news.google.co.kr/nwshp?hl=ko&tab=wn\">\\xb4\\xba\\xbd\\xba</a> <a class=gb1 href=\"https://mail.google.com/mail/?tab=wm\">Gmail</a> <a class=gb1 href=\"https://drive.google.com/?tab=wo\">\\xb5\\xe5\\xb6\\xf3\\xc0\\xcc\\xba\\xea</a> <a class=gb1 style=\"text-decoration:none\" href=\"https://www.google.co.kr/intl/ko/options/\"><u>\\xb4\\xf5\\xba\\xb8\\xb1\\xe2</u> &raquo;</a></nobr></div><div id=guser width=100%><nobr><span id=gbn class=gbi></span><span id=gbf class=gbf></span><span id=gbe></span><a href=\"http://www.google.co.kr/history/optout?hl=ko\" class=gb4>\\xc0\\xa5 \\xb1\\xe2\\xb7\\xcf</a> | <a  href=\"/preferences?hl=ko\" class=gb4>\\xbc\\xb3\\xc1\\xa4</a> | <a target=_top id=gb_70 href=\"https://accounts.google.com/ServiceLogin?hl=ko&passive=true&continue=http://www.google.co.kr/%3Fgfe_rd%3Dcr%26ei%3D8gG9V8jJM-Pd8Aeli6XADQ\" class=gb4>\\xb7\\xce\\xb1\\xd7\\xc0\\xce</a></nobr></div><div class=gbh style=left:0></div><div class=gbh style=right:0></div>    </div><center><br clear=\"all\" id=\"lgpd\"><div id=\"lga\"><div style=\"padding:28px 0 3px\"><div style=\"height:110px;width:276px;background:url(/images/branding/googlelogo/1x/googlelogo_white_background_color_272x92dp.png) no-repeat\" title=\"Google\" align=\"left\" id=\"hplogo\" onload=\"window.lol&&lol()\"><div style=\"color:#777;font-size:16px;font-weight:bold;position:relative;top:70px;left:218px\" nowrap=\"\">\\xc7\\xd1\\xb1\\xb9\\r\\n</div></div></div><br></div><form action=\"/search\" name=\"f\"><table cellpadding=\"0\" cellspacing=\"0\"><tr valign=\"top\"><td width=\"25%\">&nbsp;</td><td align=\"center\" nowrap=\"\"><input name=\"ie\" value=\"EUC-KR\" type=\"hidden\"><input value=\"ko\" name=\"hl\" type=\"hidden\"><input name=\"source\" type=\"hidden\" value=\"hp\"><input name=\"biw\" type=\"hidden\"><input name=\"bih\" type=\"hidden\"><div class=\"ds\" style=\"height:32px;margin:4px 0\"><div style=\"position:relative;zoom:1\"><input style=\"color:#000;margin:0;padding:5px 8px 0 6px;vertical-align:top;padding-right:38px\" autocomplete=\"off\" class=\"lst tiah\" value=\"\" title=\"Google \\xb0\\xcb\\xbb\\xf6\" maxlength=\"2048\" name=\"q\" size=\"57\"><img src=\"/textinputassistant/tia.png\" style=\"position:absolute;cursor:pointer;right:5px;top:4px;z-index:300\" onclick=\"(function(){var src=\\'/textinputassistant/11/ko_tia.js\\';var s=document.createElement(\\'script\\');s.src=src;google.dom.append(s);})();\" alt=\"\" height=\"23\" width=\"27\"></div></div><br style=\"line-height:0\"><span class=\"ds\"><span class=\"lsbb\"><input class=\"lsb\" value=\"Google \\xb0\\xcb\\xbb\\xf6\" name=\"btnG\" type=\"submit\"></span></span><span class=\"ds\"><span class=\"lsbb\"><input class=\"lsb\" value=\"I\\xa1\\xafm Feeling Lucky\" name=\"btnI\" onclick=\"if(this.form.q.value)this.checked=1; else top.location=\\'/doodles/\\'\" type=\"submit\"></span></span></td><td class=\"fl sblc\" align=\"left\" nowrap=\"\" width=\"25%\"><a href=\"/advanced_search?hl=ko&amp;authuser=0\">\\xb0\\xed\\xb1\\xde\\xb0\\xcb\\xbb\\xf6</a><a href=\"/language_tools?hl=ko&amp;authuser=0\">\\xbe\\xf0\\xbe\\xee\\xb5\\xb5\\xb1\\xb8</a></td></tr></table><input id=\"gbv\" name=\"gbv\" type=\"hidden\" value=\"1\"></form><div id=\"gac_scont\"></div><div style=\"font-size:83%;min-height:3.5em\"><br><div id=\"prm\"><style>.szppmdbYutt__middle-slot-promo{font-size:small;margin-bottom:32px}.szppmdbYutt__middle-slot-promo a._uFi{display:inline-block;text-decoration:none}.szppmdbYutt__middle-slot-promo img{border:none;margin-right:5px;vertical-align:middle}.szppmdbYutt__middle-slot-promo ._vFi{color:red}</style><div class=\"szppmdbYutt__middle-slot-promo r-iB95YElmxfco\" jsl=\"$t t-Gza07Ho9En4;$x 0;\" data-ved=\"0ahUKEwjk0vy3_NjOAhUGpZQKHXCkAHAQnIcBCAQ\"><span class=\"_vFi\"></span>Google \\xb9\\xf8\\xbf\\xaa \\xbf\\xc0\\xc7\\xc1\\xb6\\xf3\\xc0\\xce \\xb8\\xf0\\xb5\\xe5\\xb0\\xa1 \\xb4\\xf5\\xbf\\xed \\xb0\\xa3\\xc6\\xed\\xc7\\xd8\\xc1\\xb3\\xbd\\xc0\\xb4\\xcf\\xb4\\xd9. <a class=\"_XIi\" href=\"https://www.google.com/url?q=https://play.google.com/store/apps/details%3Fid%3Dcom.google.android.apps.translate%26hl%3Dko%26referrer%3Dutm_source%253Dgoogle%2526utm_campaign%253Doffline%2526utm_name%253Dko&amp;source=hpp&amp;id=5085228&amp;ct=8&amp;usg=AFQjCNHXQPBSO8RN5RfyyxauRxtLUj91-A&amp;sa=X&amp;ved=0ahUKEwjk0vy3_NjOAhUGpZQKHXCkAHAQ8IcBCAU\" rel=\"nofollow\">Android</a>\\xb3\\xaa <span class=\"_vFi\"></span><a class=\"_XIi\" href=\"https://www.google.com/url?q=https://itunes.apple.com/kr/app/google-translate/id414706506%3Fpt%3D9008%26ct%3Dko-mobile-offline-hpp%26mt%3D8&amp;source=hpp&amp;id=5085228&amp;ct=8&amp;usg=AFQjCNEj0_LT7OvaBn95d34LWXW6445oog&amp;sa=X&amp;ved=0ahUKEwjk0vy3_NjOAhUGpZQKHXCkAHAQ8IcBCAY\" rel=\"nofollow\">iOS</a>\\xbf\\xa1\\xbc\\xad \\xb4\\xd9\\xbf\\xee\\xb7\\xce\\xb5\\xe5\\xc7\\xcf\\xbc\\xbc\\xbf\\xe4</div></div></div><span id=\"footer\"><div style=\"font-size:10pt\"><div style=\"margin:19px auto;text-align:center\" id=\"fll\"><a href=\"/intl/ko/ads/\">\\xb1\\xa4\\xb0\\xed \\xc7\\xc1\\xb7\\xce\\xb1\\xd7\\xb7\\xa5</a><a href=\"http://www.google.co.kr/intl/ko/services/\">\\xba\\xf1\\xc1\\xee\\xb4\\xcf\\xbd\\xba \\xbc\\xd6\\xb7\\xe7\\xbc\\xc7</a><a href=\"https://plus.google.com/102197601262446632410\" rel=\"publisher\">+Google</a><a href=\"/intl/ko/about.html\">Google \\xc1\\xa4\\xba\\xb8</a><a href=\"http://www.google.co.kr/setprefdomain?prefdom=US&amp;sig=__e5FaylXbYF123FxmQSOIW31zT40%3D\" id=\"fehl\">Google.com</a></div></div><p style=\"color:#767676;font-size:8pt\">&copy; 2016 - <a href=\"/intl/ko/policies/privacy/\">\\xb0\\xb3\\xc0\\xce\\xc1\\xa4\\xba\\xb8\\xc3\\xeb\\xb1\\xde\\xb9\\xe6\\xc4\\xa7</a> - <a href=\"/intl/ko/policies/terms/\">\\xbe\\xe0\\xb0\\xfc</a></p></span></center><script>(function(){window.google.cdo={height:0,width:0};(function(){var a=window.innerWidth,b=window.innerHeight;if(!a||!b)var c=window.document,d=\"CSS1Compat\"==c.compatMode?c.documentElement:c.body,a=d.clientWidth,b=d.clientHeight;a&&b&&(a!=google.cdo.width||b!=google.cdo.height)&&google.log(\"\",\"\",\"/client_204?&atyp=i&biw=\"+a+\"&bih=\"+b+\"&ei=\"+google.kEI);})();})();</script><div id=\"xjsd\"></div><div id=\"xjsi\"><script>(function(){function c(b){window.setTimeout(function(){var a=document.createElement(\"script\");a.src=b;document.getElementById(\"xjsd\").appendChild(a)},0)}google.dljp=function(b,a){google.xjsu=b;c(a)};google.dlj=c;})();(function(){window.google.xjsrm=[\\'mids\\'];})();if(google.y)google.y.first=[];if(!google.xjs){window._=window._||{};window._._DumpException=function(e){throw e};if(google.timers&&google.timers.load.t){google.timers.load.t.xjsls=new Date().getTime();}google.dljp(\\'/xjs/_/js/k\\\\x3dxjs.hp.en_US.eTq7Yqbxgvk.O/m\\\\x3dsb_he,d/rt\\\\x3dj/d\\\\x3d1/t\\\\x3dzcms/rs\\\\x3dACT90oF-3qtoiuclcJNqDkudJ6b-I_QYWA\\',\\'/xjs/_/js/k\\\\x3dxjs.hp.en_US.eTq7Yqbxgvk.O/m\\\\x3dsb_he,d/rt\\\\x3dj/d\\\\x3d1/t\\\\x3dzcms/rs\\\\x3dACT90oF-3qtoiuclcJNqDkudJ6b-I_QYWA\\');google.xjs=1;}google.pmc={\"sb_he\":{\"agen\":true,\"cgen\":true,\"client\":\"heirloom-hp\",\"dh\":true,\"dhqt\":true,\"ds\":\"\",\"fl\":true,\"host\":\"google.co.kr\",\"isbh\":28,\"jam\":0,\"jsonp\":true,\"msgs\":{\"cibl\":\"\\xb0\\xcb\\xbb\\xf6\\xbe\\xee \\xc1\\xf6\\xbf\\xec\\xb1\\xe2\",\"dym\":\"\\xc0\\xcc\\xb0\\xcd\\xc0\\xbb \\xc3\\xa3\\xc0\\xb8\\xbc\\xcc\\xb3\\xaa\\xbf\\xe4?\",\"lcky\":\"I\\xa1\\xafm Feeling Lucky\",\"lml\":\"\\xc0\\xda\\xbc\\xbc\\xc8\\xf7 \\xbe\\xcb\\xbe\\xc6\\xba\\xb8\\xb1\\xe2\",\"oskt\":\"\\xc0\\xd4\\xb7\\xc2 \\xb5\\xb5\\xb1\\xb8\",\"psrc\":\"\\xb0\\xcb\\xbb\\xf6\\xbe\\xee\\xb0\\xa1 \\\\u003Ca href=\\\\\"/history\\\\\"\\\\u003E\\xc0\\xa5 \\xb1\\xe2\\xb7\\xcf\\\\u003C/a\\\\u003E\\xbf\\xa1\\xbc\\xad \\xbb\\xe8\\xc1\\xa6\\xb5\\xc7\\xbe\\xfa\\xbd\\xc0\\xb4\\xcf\\xb4\\xd9.\",\"psrl\":\"\\xbb\\xe8\\xc1\\xa6\",\"sbit\":\"\\xc0\\xcc\\xb9\\xcc\\xc1\\xf6\\xb7\\xce \\xb0\\xcb\\xbb\\xf6\",\"srch\":\"Google \\xb0\\xcb\\xbb\\xf6\"},\"nds\":true,\"ovr\":{},\"pq\":\"\",\"refpd\":true,\"refspre\":true,\"rfs\":[],\"scd\":10,\"sce\":5,\"stok\":\"nv-XHGjfBLcH4z4gZ_tjP5kqDqA\"},\"d\":{}};google.y.first.push(function(){if(google.med){google.med(\\'init\\');google.initHistory();google.med(\\'history\\');}});if(google.j&&google.j.en&&google.j.xi){window.setTimeout(google.j.xi,0);}\\n</script></div></body></html>'"
      ]
     },
     "execution_count": 81,
     "metadata": {},
     "output_type": "execute_result"
    }
   ],
   "source": [
    "html"
   ]
  },
  {
   "cell_type": "code",
   "execution_count": 82,
   "metadata": {
    "collapsed": true
   },
   "outputs": [],
   "source": [
    "class MyClass(object):\n",
    "    pass\n",
    "\n",
    "myinstance = MyClass()\n",
    "myinstance.x = 'something'\n",
    "a = [1, 2, {'hello': 'world'}, [3, 4, [myinstance]]]"
   ]
  },
  {
   "cell_type": "code",
   "execution_count": 83,
   "metadata": {
    "collapsed": true
   },
   "outputs": [],
   "source": [
    "import cPickle as pickle\n",
    "b = pickle.dumps(a)\n",
    "c = pickle.loads(b)"
   ]
  },
  {
   "cell_type": "code",
   "execution_count": 86,
   "metadata": {
    "collapsed": false
   },
   "outputs": [
    {
     "name": "stdout",
     "output_type": "stream",
     "text": [
      "(lp1\n",
      "I1\n",
      "aI2\n",
      "a(dp2\n",
      "S'hello'\n",
      "p3\n",
      "S'world'\n",
      "p4\n",
      "sa(lp5\n",
      "I3\n",
      "aI4\n",
      "a(lp6\n",
      "ccopy_reg\n",
      "_reconstructor\n",
      "p7\n",
      "(c__main__\n",
      "MyClass\n",
      "p8\n",
      "c__builtin__\n",
      "object\n",
      "p9\n",
      "NtRp10\n",
      "(dp11\n",
      "S'x'\n",
      "S'something'\n",
      "p12\n",
      "sbaaa.\n"
     ]
    }
   ],
   "source": [
    "print b"
   ]
  },
  {
   "cell_type": "code",
   "execution_count": 87,
   "metadata": {
    "collapsed": false
   },
   "outputs": [
    {
     "name": "stdout",
     "output_type": "stream",
     "text": [
      "[1, 2, {'hello': 'world'}, [3, 4, [<__main__.MyClass object at 0x7fd9cc2522d0>]]]\n"
     ]
    }
   ],
   "source": [
    "print c"
   ]
  },
  {
   "cell_type": "markdown",
   "metadata": {},
   "source": [
    "# SQLite "
   ]
  },
  {
   "cell_type": "markdown",
   "metadata": {},
   "source": [
    "* 사전 자료형은 RAM에 일시적으로 저장되기 때문에 지속성이 결여.\n",
    "* shelve 모듈은 Disk에 저장되지만 잠금 불가.\n",
    "* 데이터베이스 사용이 적절한 대책 -> 파이썬에서는 SQLite라는 내장된 SQL데이터 베이스 존재."
   ]
  },
  {
   "cell_type": "code",
   "execution_count": 90,
   "metadata": {
    "collapsed": false
   },
   "outputs": [],
   "source": [
    "import sqlite3"
   ]
  },
  {
   "cell_type": "code",
   "execution_count": 91,
   "metadata": {
    "collapsed": false
   },
   "outputs": [
    {
     "data": {
      "text/plain": [
       "'2.6.0'"
      ]
     },
     "execution_count": 91,
     "metadata": {},
     "output_type": "execute_result"
    }
   ],
   "source": [
    "sqlite3.version"
   ]
  },
  {
   "cell_type": "code",
   "execution_count": 92,
   "metadata": {
    "collapsed": false
   },
   "outputs": [
    {
     "data": {
      "text/plain": [
       "'3.8.11.1'"
      ]
     },
     "execution_count": 92,
     "metadata": {},
     "output_type": "execute_result"
    }
   ],
   "source": [
    "sqlite3.sqlite_version"
   ]
  },
  {
   "cell_type": "markdown",
   "metadata": {},
   "source": [
    "## Connect to DB"
   ]
  },
  {
   "cell_type": "code",
   "execution_count": 93,
   "metadata": {
    "collapsed": false
   },
   "outputs": [
    {
     "data": {
      "text/plain": [
       "sqlite3.Connection"
      ]
     },
     "execution_count": 93,
     "metadata": {},
     "output_type": "execute_result"
    }
   ],
   "source": [
    "con = sqlite3.connect(\"kospi.db\")\n",
    "type(con)"
   ]
  },
  {
   "cell_type": "markdown",
   "metadata": {},
   "source": [
    "## Input data to DB"
   ]
  },
  {
   "cell_type": "markdown",
   "metadata": {},
   "source": [
    "1. sqlite3.connect 메소드를 이용해서 DB 파일에 연결한 후 'Connection' 객체를 생성한다.\n",
    "2. Connection객체를 통해 Cursor 객체를 생성한다.\n",
    "3. 'Cursor' 객체의execute 메소드를 통해서 query를 실행한다.\n",
    "4. 'Connection' 객체의 commit를 이용하여 변경된 내용을 commit한다.\n",
    "5. DB와의 연결을 닫는다.\n"
   ]
  },
  {
   "cell_type": "code",
   "execution_count": 95,
   "metadata": {
    "collapsed": true
   },
   "outputs": [],
   "source": [
    "cursor = con.cursor() # cursor object"
   ]
  },
  {
   "cell_type": "markdown",
   "metadata": {},
   "source": [
    "* Before input data, should make table!"
   ]
  },
  {
   "cell_type": "code",
   "execution_count": 100,
   "metadata": {
    "collapsed": false
   },
   "outputs": [
    {
     "ename": "ProgrammingError",
     "evalue": "Cannot operate on a closed database.",
     "output_type": "error",
     "traceback": [
      "\u001b[0;31m---------------------------------------------------------------------------\u001b[0m",
      "\u001b[0;31mProgrammingError\u001b[0m                          Traceback (most recent call last)",
      "\u001b[0;32m<ipython-input-100-5c8472d083bb>\u001b[0m in \u001b[0;36m<module>\u001b[0;34m()\u001b[0m\n\u001b[0;32m----> 1\u001b[0;31m \u001b[0mcursor\u001b[0m\u001b[0;34m.\u001b[0m\u001b[0mexecute\u001b[0m\u001b[0;34m(\u001b[0m\u001b[0;34m\"CREATE TABLE kospi(Name text, ClosingPrice int)\"\u001b[0m\u001b[0;34m)\u001b[0m\u001b[0;34m\u001b[0m\u001b[0m\n\u001b[0m",
      "\u001b[0;31mProgrammingError\u001b[0m: Cannot operate on a closed database."
     ]
    }
   ],
   "source": [
    "cursor.execute(\"CREATE TABLE kospi(Name text, ClosingPrice int)\")"
   ]
  },
  {
   "cell_type": "markdown",
   "metadata": {},
   "source": [
    "* Input Data "
   ]
  },
  {
   "cell_type": "code",
   "execution_count": 98,
   "metadata": {
    "collapsed": false
   },
   "outputs": [
    {
     "data": {
      "text/plain": [
       "<sqlite3.Cursor at 0x7fd9cc238ea0>"
      ]
     },
     "execution_count": 98,
     "metadata": {},
     "output_type": "execute_result"
    }
   ],
   "source": [
    "cursor.execute(\"INSERT INTO kospi VALUES('LG전자', 74500)\")\n",
    "cursor.execute(\"INSERT INTO kospi VALUES('네이버', 774000)\")\n",
    "cursor.execute(\"INSERT INTO kospi VALUES('다음', 169100)\")"
   ]
  },
  {
   "cell_type": "code",
   "execution_count": 99,
   "metadata": {
    "collapsed": true
   },
   "outputs": [],
   "source": [
    "con.commit()\n",
    "con.close()"
   ]
  },
  {
   "cell_type": "markdown",
   "metadata": {},
   "source": [
    "## From DB read Data"
   ]
  },
  {
   "cell_type": "code",
   "execution_count": 107,
   "metadata": {
    "collapsed": true
   },
   "outputs": [],
   "source": [
    "con = sqlite3.connect(\"kospi.db\")\n",
    "cursor = con.cursor()"
   ]
  },
  {
   "cell_type": "code",
   "execution_count": 108,
   "metadata": {
    "collapsed": false
   },
   "outputs": [
    {
     "data": {
      "text/plain": [
       "<sqlite3.Cursor at 0x7fd9cc238f10>"
      ]
     },
     "execution_count": 108,
     "metadata": {},
     "output_type": "execute_result"
    }
   ],
   "source": [
    "cursor.execute(\"SELECT * FROM kospi\") # kospi 테이블로부터 모든것(*)을 선택"
   ]
  },
  {
   "cell_type": "code",
   "execution_count": 110,
   "metadata": {
    "collapsed": false
   },
   "outputs": [
    {
     "name": "stdout",
     "output_type": "stream",
     "text": [
      "(u'\\ub124\\uc774\\ubc84', 774000)\n",
      "(u'\\ub2e4\\uc74c', 169100)\n"
     ]
    }
   ],
   "source": [
    "for row in cursor:\n",
    "    print row"
   ]
  },
  {
   "cell_type": "code",
   "execution_count": 111,
   "metadata": {
    "collapsed": false
   },
   "outputs": [
    {
     "data": {
      "text/plain": [
       "(u'LG\\uc804\\uc790', 74500)"
      ]
     },
     "execution_count": 111,
     "metadata": {},
     "output_type": "execute_result"
    }
   ],
   "source": [
    "cursor.execute(\"SELECT * FROM kospi\")\n",
    "cursor.fetchone()"
   ]
  },
  {
   "cell_type": "code",
   "execution_count": 112,
   "metadata": {
    "collapsed": false
   },
   "outputs": [
    {
     "data": {
      "text/plain": [
       "(u'\\ub124\\uc774\\ubc84', 774000)"
      ]
     },
     "execution_count": 112,
     "metadata": {},
     "output_type": "execute_result"
    }
   ],
   "source": [
    "cursor.fetchone()"
   ]
  },
  {
   "cell_type": "code",
   "execution_count": 113,
   "metadata": {
    "collapsed": false
   },
   "outputs": [
    {
     "data": {
      "text/plain": [
       "(u'\\ub2e4\\uc74c', 169100)"
      ]
     },
     "execution_count": 113,
     "metadata": {},
     "output_type": "execute_result"
    }
   ],
   "source": [
    "cursor.fetchone()"
   ]
  },
  {
   "cell_type": "code",
   "execution_count": 114,
   "metadata": {
    "collapsed": true
   },
   "outputs": [],
   "source": [
    "cursor.fetchone()"
   ]
  },
  {
   "cell_type": "code",
   "execution_count": 115,
   "metadata": {
    "collapsed": false
   },
   "outputs": [
    {
     "data": {
      "text/plain": [
       "<sqlite3.Cursor at 0x7fd9cc238f10>"
      ]
     },
     "execution_count": 115,
     "metadata": {},
     "output_type": "execute_result"
    }
   ],
   "source": [
    "cursor.execute(\"SELECT * FROM kospi\")"
   ]
  },
  {
   "cell_type": "code",
   "execution_count": 116,
   "metadata": {
    "collapsed": false
   },
   "outputs": [
    {
     "data": {
      "text/plain": [
       "[(u'LG\\uc804\\uc790', 74500),\n",
       " (u'\\ub124\\uc774\\ubc84', 774000),\n",
       " (u'\\ub2e4\\uc74c', 169100)]"
      ]
     },
     "execution_count": 116,
     "metadata": {},
     "output_type": "execute_result"
    }
   ],
   "source": [
    "cursor.fetchall()"
   ]
  }
 ],
 "metadata": {
  "kernelspec": {
   "display_name": "Python 2",
   "language": "python",
   "name": "python2"
  },
  "language_info": {
   "codemirror_mode": {
    "name": "ipython",
    "version": 2
   },
   "file_extension": ".py",
   "mimetype": "text/x-python",
   "name": "python",
   "nbconvert_exporter": "python",
   "pygments_lexer": "ipython2",
   "version": "2.7.13"
  }
 },
 "nbformat": 4,
 "nbformat_minor": 0
}
